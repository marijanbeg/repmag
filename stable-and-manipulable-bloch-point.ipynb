{
 "cells": [
  {
   "cell_type": "markdown",
   "metadata": {},
   "source": [
    "# Example: Stable and manipulable Bloch point\n",
    "\n",
    "This notebook serves as an example of using Ubermag (with OOMMF as a computational backend) for reproducing a figure in a publication. More precisely, in this notebook, we are going to reproduce Figure 3 from published in\n",
    "\n",
    "[Beg *et al.* Stable and manipulable Bloch point. *Scientific Reports*, **9**, 7959 (2019)](https://doi.org/10.1038/s41598-019-44462-2).\n",
    "\n",
    "We need to simulate hysteretic behaviour of a $150 \\,\\text{nm}$ disk, which consists of two layers with different sign of Dzyaloshinkii-Moriya constant $D$. The bottom layer with $D<0$ has $20 \\,\\text{nm}$ thickness, whereas the top layer with $D>0$ has $10 \\,\\text{nm}$ thickness. We start by importing the necessary modules and creating the mesh with two regions."
   ]
  },
  {
   "cell_type": "code",
   "execution_count": 1,
   "metadata": {},
   "outputs": [],
   "source": [
    "import oommfc as oc\n",
    "import discretisedfield as df\n",
    "%matplotlib inline\n",
    "\n",
    "d = 150e-9\n",
    "hb = 20e-9\n",
    "ht = 10e-9\n",
    "cell = (5e-9, 5e-9, 2.5e-9)\n",
    "regions = {'r1': df.Region(p1=(-d/2, -d/2, -hb), p2=(d/2, d/2, 0)),\n",
    "           'r2': df.Region(p1=(-d/2, -d/2, 0), p2=(d/2, d/2, ht))}\n",
    "p1 = (-d/2, -d/2, -hb)\n",
    "p2 = (d/2, d/2, ht)\n",
    "mesh = oc.Mesh(p1=p1, p2=p2, cell=cell, regions=regions)"
   ]
  },
  {
   "cell_type": "markdown",
   "metadata": {},
   "source": [
    "The mesh domain and the discretisation cells are:"
   ]
  },
  {
   "cell_type": "code",
   "execution_count": 2,
   "metadata": {},
   "outputs": [
    {
     "data": {
      "application/vnd.jupyter.widget-view+json": {
       "model_id": "45084d1772a44c73a96374ec45b0459f",
       "version_major": 2,
       "version_minor": 0
      },
      "text/plain": [
       "Output()"
      ]
     },
     "metadata": {},
     "output_type": "display_data"
    }
   ],
   "source": [
    "mesh.k3d()"
   ]
  },
  {
   "cell_type": "markdown",
   "metadata": {},
   "source": [
    "and the two regions we defined are:"
   ]
  },
  {
   "cell_type": "code",
   "execution_count": 3,
   "metadata": {},
   "outputs": [
    {
     "data": {
      "application/vnd.jupyter.widget-view+json": {
       "model_id": "c7c0afe90f2f45aeb5baf09a6b2a8bd8",
       "version_major": 2,
       "version_minor": 0
      },
      "text/plain": [
       "Output()"
      ]
     },
     "metadata": {},
     "output_type": "display_data"
    }
   ],
   "source": [
    "mesh.k3d_regions()"
   ]
  },
  {
   "cell_type": "markdown",
   "metadata": {},
   "source": [
    "Now, we need to define the system object, and by setting magnetisation saturation, set the geometry to be a disk."
   ]
  },
  {
   "cell_type": "code",
   "execution_count": 4,
   "metadata": {},
   "outputs": [],
   "source": [
    "D = {'r1': 1.58e-3, 'r2': -1.58e-3, 'r1:r2': 1.58e-9}\n",
    "Ms = 3.84e5\n",
    "A = 8.78e-12\n",
    "\n",
    "def Ms_fun(pos):\n",
    "    x, y, z = pos\n",
    "    if x**2 + y**2 <= (d/2)**2:\n",
    "        return Ms\n",
    "    else:\n",
    "        return 0\n",
    "\n",
    "system = oc.System(name='bloch-point')\n",
    "system.hamiltonian = oc.Exchange(A=A) + oc.DMI(D=D, crystalclass='T') + oc.Demag()\n",
    "system.m = df.Field(mesh, dim=3, value=(0, 0, 1), norm=Ms_fun)"
   ]
  },
  {
   "cell_type": "markdown",
   "metadata": {},
   "source": [
    "Our sample is now:"
   ]
  },
  {
   "cell_type": "code",
   "execution_count": 5,
   "metadata": {},
   "outputs": [
    {
     "data": {
      "application/vnd.jupyter.widget-view+json": {
       "model_id": "3f0343c4d3064cedbf132822171a941b",
       "version_major": 2,
       "version_minor": 0
      },
      "text/plain": [
       "Output()"
      ]
     },
     "metadata": {},
     "output_type": "display_data"
    }
   ],
   "source": [
    "system.m.norm.k3d_nonzero()"
   ]
  },
  {
   "cell_type": "markdown",
   "metadata": {},
   "source": [
    "The magnetisation in the horizontal cross-section is:"
   ]
  },
  {
   "cell_type": "code",
   "execution_count": 6,
   "metadata": {},
   "outputs": [
    {
     "data": {
      "application/vnd.jupyter.widget-view+json": {
       "model_id": "391d8394c366451795c87e710c83a5f7",
       "version_major": 2,
       "version_minor": 0
      },
      "text/plain": [
       "Output()"
      ]
     },
     "metadata": {},
     "output_type": "display_data"
    }
   ],
   "source": [
    "system.m.plane('z').k3d_vectors(head_size=30)"
   ]
  },
  {
   "cell_type": "markdown",
   "metadata": {},
   "source": [
    "Now, we can minimise the system's energy by using `MinDriver`."
   ]
  },
  {
   "cell_type": "code",
   "execution_count": 7,
   "metadata": {},
   "outputs": [
    {
     "name": "stdout",
     "output_type": "stream",
     "text": [
      "2019/11/13 13:35: Running OOMMF (bloch-point.mif) ... (1.6 s)\n"
     ]
    }
   ],
   "source": [
    "md = oc.MinDriver()\n",
    "md.drive(system, overwrite=True)"
   ]
  },
  {
   "cell_type": "markdown",
   "metadata": {},
   "source": [
    "The out-of-plane magnetisation component ($m_{z}$) is now:"
   ]
  },
  {
   "cell_type": "code",
   "execution_count": 8,
   "metadata": {},
   "outputs": [
    {
     "data": {
      "application/vnd.jupyter.widget-view+json": {
       "model_id": "4d55ac1bc2444dcf9d3fc695f16b08bf",
       "version_major": 2,
       "version_minor": 0
      },
      "text/plain": [
       "Output()"
      ]
     },
     "metadata": {},
     "output_type": "display_data"
    }
   ],
   "source": [
    "system.m.z.k3d_voxels(norm_field=system.m.norm)"
   ]
  },
  {
   "cell_type": "markdown",
   "metadata": {},
   "source": [
    "We can see that two vortices with different orientation emerged. We can inspect this closer by plotting two layers of magnetisation in two different layers:"
   ]
  },
  {
   "cell_type": "code",
   "execution_count": 9,
   "metadata": {},
   "outputs": [
    {
     "data": {
      "application/vnd.jupyter.widget-view+json": {
       "model_id": "ee4b1f0375ae47cf81acaf49585dac8e",
       "version_major": 2,
       "version_minor": 0
      },
      "text/plain": [
       "Output()"
      ]
     },
     "metadata": {},
     "output_type": "display_data"
    }
   ],
   "source": [
    "import k3d\n",
    "plot = k3d.plot()\n",
    "system.m.plane(z=-10e-9, n=(20, 20)).k3d_vectors(plot=plot, color_field=system.m.z, head_size=30)\n",
    "system.m.plane(z=5e-9, n=(20, 20)).k3d_vectors(plot=plot,color_field=system.m.z, head_size=30)\n",
    "plot.display()"
   ]
  },
  {
   "cell_type": "markdown",
   "metadata": {},
   "source": [
    "We can now plot another cross section and see that the Bloch point emerged."
   ]
  },
  {
   "cell_type": "code",
   "execution_count": 10,
   "metadata": {},
   "outputs": [
    {
     "data": {
      "application/vnd.jupyter.widget-view+json": {
       "model_id": "7688fd6c90b8452e9f115343db6ae9e1",
       "version_major": 2,
       "version_minor": 0
      },
      "text/plain": [
       "Output()"
      ]
     },
     "metadata": {},
     "output_type": "display_data"
    }
   ],
   "source": [
    "system.m.plane('y').k3d_vectors(color_field=system.m.z, head_size=20)"
   ]
  },
  {
   "cell_type": "code",
   "execution_count": 11,
   "metadata": {},
   "outputs": [
    {
     "data": {
      "application/vnd.jupyter.widget-view+json": {
       "model_id": "b3c5e11aa20f4c1da7e4cd261f7e1a84",
       "version_major": 2,
       "version_minor": 0
      },
      "text/plain": [
       "Output()"
      ]
     },
     "metadata": {},
     "output_type": "display_data"
    }
   ],
   "source": [
    "system.m.z.plane('y').k3d_voxels(color_field=system.m.z)"
   ]
  },
  {
   "cell_type": "markdown",
   "metadata": {},
   "source": [
    "Finally, we can simulate the hysteresis loop."
   ]
  },
  {
   "cell_type": "code",
   "execution_count": 12,
   "metadata": {},
   "outputs": [
    {
     "name": "stdout",
     "output_type": "stream",
     "text": [
      "2019/11/13 13:36: Running OOMMF (bloch-point.mif) ... (1.3 s)\n",
      "2019/11/13 13:36: Running OOMMF (bloch-point.mif) ... (1.2 s)\n",
      "2019/11/13 13:36: Running OOMMF (bloch-point.mif) ... (1.2 s)\n",
      "2019/11/13 13:36: Running OOMMF (bloch-point.mif) ... (1.3 s)\n",
      "2019/11/13 13:36: Running OOMMF (bloch-point.mif) ... (1.3 s)\n",
      "2019/11/13 13:36: Running OOMMF (bloch-point.mif) ... (1.4 s)\n",
      "2019/11/13 13:36: Running OOMMF (bloch-point.mif) ... (1.4 s)\n",
      "2019/11/13 13:36: Running OOMMF (bloch-point.mif) ... (1.3 s)\n",
      "2019/11/13 13:36: Running OOMMF (bloch-point.mif) ... (1.3 s)\n",
      "2019/11/13 13:36: Running OOMMF (bloch-point.mif) ... (1.2 s)\n",
      "2019/11/13 13:36: Running OOMMF (bloch-point.mif) ... (1.2 s)\n",
      "2019/11/13 13:36: Running OOMMF (bloch-point.mif) ... (1.3 s)\n",
      "2019/11/13 13:36: Running OOMMF (bloch-point.mif) ... (1.3 s)\n",
      "2019/11/13 13:36: Running OOMMF (bloch-point.mif) ... (1.4 s)\n",
      "2019/11/13 13:36: Running OOMMF (bloch-point.mif) ... (1.7 s)\n",
      "2019/11/13 13:36: Running OOMMF (bloch-point.mif) ... (1.8 s)\n",
      "2019/11/13 13:36: Running OOMMF (bloch-point.mif) ... (1.7 s)\n",
      "2019/11/13 13:36: Running OOMMF (bloch-point.mif) ... (1.3 s)\n",
      "2019/11/13 13:36: Running OOMMF (bloch-point.mif) ... (1.2 s)\n",
      "2019/11/13 13:36: Running OOMMF (bloch-point.mif) ... (1.2 s)\n",
      "2019/11/13 13:36: Running OOMMF (bloch-point.mif) ... (1.2 s)\n",
      "2019/11/13 13:36: Running OOMMF (bloch-point.mif) ... (1.2 s)\n",
      "2019/11/13 13:36: Running OOMMF (bloch-point.mif) ... (1.2 s)\n",
      "2019/11/13 13:36: Running OOMMF (bloch-point.mif) ... (1.3 s)\n",
      "2019/11/13 13:36: Running OOMMF (bloch-point.mif) ... (1.4 s)\n",
      "2019/11/13 13:36: Running OOMMF (bloch-point.mif) ... (1.5 s)\n",
      "2019/11/13 13:36: Running OOMMF (bloch-point.mif) ... (1.3 s)\n",
      "2019/11/13 13:36: Running OOMMF (bloch-point.mif) ... (1.3 s)\n",
      "2019/11/13 13:36: Running OOMMF (bloch-point.mif) ... (1.4 s)\n",
      "2019/11/13 13:36: Running OOMMF (bloch-point.mif) ... (1.3 s)\n",
      "2019/11/13 13:36: Running OOMMF (bloch-point.mif) ... (1.3 s)\n",
      "2019/11/13 13:36: Running OOMMF (bloch-point.mif) ... (1.3 s)\n",
      "2019/11/13 13:36: Running OOMMF (bloch-point.mif) ... (1.3 s)\n",
      "2019/11/13 13:36: Running OOMMF (bloch-point.mif) ... (1.4 s)\n",
      "2019/11/13 13:36: Running OOMMF (bloch-point.mif) ... (1.7 s)\n",
      "2019/11/13 13:36: Running OOMMF (bloch-point.mif) ... (1.8 s)\n",
      "2019/11/13 13:36: Running OOMMF (bloch-point.mif) ... (1.7 s)\n",
      "2019/11/13 13:36: Running OOMMF (bloch-point.mif) ... (1.3 s)\n",
      "2019/11/13 13:36: Running OOMMF (bloch-point.mif) ... (1.2 s)\n",
      "2019/11/13 13:36: Running OOMMF (bloch-point.mif) ... (1.2 s)\n",
      "2019/11/13 13:37: Running OOMMF (bloch-point.mif) ... (1.2 s)\n"
     ]
    }
   ],
   "source": [
    "import numpy as np\n",
    "\n",
    "# Create an array of external fields for which the system is relaxed.\n",
    "Bmax = 1  # maximum field in hysteresis (T)\n",
    "dB = 0.1  # field step (T)\n",
    "B_array = np.concatenate([np.arange(Bmax, -Bmax, -dB),\n",
    "                          np.arange(-Bmax, Bmax+1e-12, dB)])\n",
    "\n",
    "system.hamiltonian += oc.Zeeman(H=(0, 0, 0))\n",
    "system.m = df.Field(mesh, dim=3, value=(0, 0, 1), norm=Ms_fun)\n",
    "mz = []\n",
    "for B in B_array:\n",
    "    system.hamiltonian.zeeman.H = (0, 0, B/oc.consts.mu0)\n",
    "    md.drive(system, overwrite=True)\n",
    "    mz.append(system.m.average[2])"
   ]
  },
  {
   "cell_type": "code",
   "execution_count": 18,
   "metadata": {},
   "outputs": [
    {
     "data": {
      "image/png": "[encoded data removed]",
      "text/plain": [
       "<Figure size 576x288 with 1 Axes>"
      ]
     },
     "metadata": {
      "needs_background": "light"
     },
     "output_type": "display_data"
    }
   ],
   "source": [
    "import matplotlib.pyplot as plt\n",
    "from mpl_toolkits.axes_grid1.inset_locator import zoomed_inset_axes\n",
    "from mpl_toolkits.axes_grid1.inset_locator import mark_inset\n",
    "\n",
    "mz = np.array(mz)/Ms\n",
    "\n",
    "fig, ax = plt.subplots(figsize=(8, 4))\n",
    "ax.plot(B_array, mz, 'o-', label=r\"$\\langle m_{z} \\rangle$\")\n",
    "ax.plot(0, mz[10], 'o', label='head-to-head BP')\n",
    "ax.plot(0, mz[30], 'o', label='tail-to-tail BP')\n",
    "plt.xlabel(r\"$\\mu_{0}H$ (T)\")\n",
    "plt.ylabel(r\"$\\langle m_{z} \\rangle$\")\n",
    "plt.legend(loc=4)\n",
    "plt.grid()"
   ]
  },
  {
   "cell_type": "code",
   "execution_count": 19,
   "metadata": {},
   "outputs": [],
   "source": [
    "system.delete()"
   ]
  },
  {
   "cell_type": "markdown",
   "metadata": {},
   "source": [
    "## Other\n",
    "\n",
    "More details on various functionality can be found in the [API Reference](https://oommfc.readthedocs.io/en/latest/)."
   ]
  }
 ],
 "metadata": {
  "kernelspec": {
   "display_name": "Python 3",
   "language": "python",
   "name": "python3"
  },
  "language_info": {
   "codemirror_mode": {
    "name": "ipython",
    "version": 3
   },
   "file_extension": ".py",
   "mimetype": "text/x-python",
   "name": "python",
   "nbconvert_exporter": "python",
   "pygments_lexer": "ipython3",
   "version": "3.7.5"
  },
  "widgets": {
   "application/vnd.jupyter.widget-state+json": {
    "state": {
     "0001275c15424f5c8b982a81bdfea271": {
      "model_module": "@jupyter-widgets/base",
      "model_module_version": "1.2.0",
      "model_name": "LayoutModel",
      "state": {}
     },
     "00aa324241b5402f815228b717ea82e6": {
      "model_module": "@jupyter-widgets/base",
      "model_module_version": "1.2.0",
      "model_name": "LayoutModel",
      "state": {}
     },
     "013d6584c71145f4b9ff3633025aad3a": {
      "model_module": "@jupyter-widgets/output",
      "model_module_version": "1.0.0",
      "model_name": "OutputModel",
      "state": {
       "layout": "IPY_MODEL_855b44b232cb4007a021450f0bcf0202",
       "outputs": [
        {
         "data": {
          "application/vnd.jupyter.widget-view+json": {
           "model_id": "3a6d7d82defc48f9ba6e2ae319f851d8",
           "version_major": 2,
           "version_minor": 0
          },
          "text/plain": "Plot(antialias=3, axes=['x', 'y', 'z'], axes_helper=1.0, background_color=16777215, camera=[4.5, 4.5, 4.5, 0.0…"
         },
         "metadata": {},
         "output_type": "display_data"
        }
       ]
      }
     },
     "020174d629bf4f2aae954dd21d898489": {
      "model_module": "@jupyter-widgets/output",
      "model_module_version": "1.0.0",
      "model_name": "OutputModel",
      "state": {
       "layout": "IPY_MODEL_0834a3433d4f464a8a855a5fef919a7e",
       "outputs": [
        {
         "data": {
          "application/vnd.jupyter.widget-view+json": {
           "model_id": "194cab85b49e43f6b53d7f0d6b876db0",
           "version_major": 2,
           "version_minor": 0
          },
          "text/plain": "Plot(antialias=3, axes=['x', 'y', 'z'], axes_helper=1.0, background_color=16777215, camera=[4.5, 4.5, 4.5, 0.0…"
         },
         "metadata": {},
         "output_type": "display_data"
        }
       ]
      }
     },
     "02997ade33814bb6b76184160a66cbcf": {
      "buffers": [
       {
        "data": "eNoDAAAAAAE=",
        "encoding": "base64",
        "path": [
         "colors",
         "compressed_buffer"
        ]
       },
       {
        "data": "eNpjYGiwZ8AAxIsBAF7EAv0=",
        "encoding": "base64",
        "path": [
         "model_matrix",
         "compressed_buffer"
        ]
       },
       {
        "data": "eNpN2LFt5DAUBFBDRTBmzCIIShFjFsEi2IASJtsLC/C5DhWhEu4WPtkvMHYCw555gb/Bj4/55+Pj9fXx8fn58VHJ9+dvjubC95Dr/psnefv3ef7P15/fvMiTXMnvDicdTjqcdDjpcNLh53eRL/J2/Obw73PQedB50HnQedB50HnQedB50HnQedB50HnQedD5yYGc/332/zmRA3kjv3d1dnV2dXZ1dnV2dXZ1dnV2dXZ1dnV2dXZ1dv1sIWdy+/r+erY3tje2N7Y3tje2N7Y3tje2N7Y3tje2N7Y3tje2N7Y3tje2N7Y3tj+5kd8eGZOMScYkY5IxyZhkTDImGZOMScYkY5IxyZhkTDImGZOMScYkY5IxyZg8uZu/vvc/PgmfhE/CJ+GT8En4JHwSPgmfhE/CJ+GT8En4JHwSPgmfhE/CJ+GT8En4PPn99yNgFbAKWAWsAlYBq4BVwCpgFbAKWAWsAlYBq4BVwCpgFbAKWAWsAlYBq4BVwOrJg/y+GxuGG4YbhhuGG4YbhhuGG4YbhhuGG4YbhhuGG4YbhhuGG4YbhhuGG4YbhhuGG4YbhhuGG4ZPPs1f35sfzyd3ciNnciIH8kZ+fz55kSe5ku/P3xzNhe8hvz1/fiZ5kS/y2/OnMzmRM7mRO3mQT/PX987Hc+G58Fx4LjwXngvPhefCc+G58Fx4LjwXngvPhefCc+G58Fx4LjwXngvPhefCc+G58Hzy+//Zie3EdmI7sZ3YTmwnthPbie3EdmI7sZ3YTmwnthPbie3EdmI7sZ3YTmwnthPbie3EdmI7sX3yy/z1ve1xrjhXnCvOFeeKc8W54lxxrjhXnCvOFeeKc8W54lxxrjhXnCvOFeeKc8W54lxxrjhXnCvOFeeK83vP4/zkQe7kRs7kRA7kjfx2fvIiT3Il35+/OZoL30N+O//8TPIiX+S3809nciJnciN38iCf5Jf563vD4xxxjjhHnCPOEeeIc8Q54hxxjjhHnCPOEeeIc8Q54hxxjjhHnCPOEeeIc8Q54hxxjjhHnCPOUeeCc8G54FxwLjgXnAvOBeeCc8G54FxwLjgXnAvOBeeCc8G54FxwLjgXnAvOBeeCc8G54FxwLjgX/m7gfON843zjfON843zjfON843zjfON843zjfON843zjfON843zjfON843zjfON843zjfON843zjfON84/zu93MHd+7gzh3cuYM7d3DnDu7cwZ07uHMHd+7gzh3cuYM7d3DnDu7cwZ07uHMHd+7gzh3cuYM7d3DnDu7cwZ07uHMHd+7gzh3cuYM7d3Dn/zqcJ84T54nzxHniPHGeOE+cJ84T54nzxHniPHGeOE+cJ84T54nzxHniPHGeOE+cJ84T54nzxFnbhe3CdmG7sF3YLmwXtgvbhe3CdmG7sF3YLmwXtgvbhe3CdmG7sF3YLmwXtgvbhe3CdmG78LzwvPC88LzwvPC88LzwvPC88LzwvPC88LzwvPC88LzwvPC88LzwvPC88LzwvPC88LzwvPC88LzwfP+On/ecg/ecg/ecg/ecg/ecg/ecg/ecg/ecg/ecg/ecg/ecg/ecg/ecg/ecg/ecg/ecg/ecg/ecg/ecg/ecg/ecg/ecg/ecg/ecg/ecg/ecg/ccDAOGAcOAYcAwYBgwDBgGDAOGAcOAYcAwYBgwDBgGDAOGAcOAYcAwYBgwDBgGDAOGWiWsElYJq4RVwiphlbBKWCWsElYJq4RVwiphlbBKWCWsElYJq4RVwiphlbBK+GR8Mj4Zn4xPxifjk/HJ+GR8Mj4Zn4xPxifjk/HJ+GR8Mj4Zn4xPxifjk/HRpGHSMGmYNEwaJg2ThknDpGHSMGmYNEwaJg2ThknDpGHSMGmYNEwaJm7vbO9s72zvbO9s72zvbO9s72zvbO9s72zvbO9s72zvbO9s72zvbHfXYNdg12DXYNdg12DXYNdg12DXYNdg12DXYNdg12CXnU86n3Q+6XzS+aTzSeeTziedTzqfdD7pfNL5pLMdXnR40eFFhxcdXnR40eFFh+/8F8qgUvA=",
        "encoding": "base64",
        "path": [
         "origins",
         "compressed_buffer"
        ]
       },
       {
        "data": "eNrtxiEBAAAIwLBHo38qHAWwm1qdyd3d3d3d3d3d3d3d3d3d3d3fXypnswE=",
        "encoding": "base64",
        "path": [
         "vectors",
         "compressed_buffer"
        ]
       }
      ],
      "model_module": "k3d",
      "model_module_version": "2.7.0",
      "model_name": "ObjectModel",
      "state": {
       "_view_count": null,
       "_view_module": null,
       "_view_module_version": "",
       "_view_name": null,
       "colors": {
        "dtype": "uint32",
        "shape": [
         0
        ]
       },
       "compression_level": 0,
       "head_color": 255,
       "head_size": 10,
       "id": 140589154150992,
       "label_size": 1,
       "labels": [],
       "line_width": 0.01,
       "model_matrix": {
        "dtype": "float32",
        "shape": [
         4,
         4
        ]
       },
       "name": null,
       "origin_color": 255,
       "origins": {
        "dtype": "float32",
        "shape": [
         716,
         3
        ]
       },
       "type": "Vectors",
       "use_head": true,
       "vectors": {
        "dtype": "float32",
        "shape": [
         716,
         3
        ]
       },
       "visible": true
      }
     },
     "02f2c9aa1c87461bb9bfb7b82ab52827": {
      "model_module": "@jupyter-widgets/base",
      "model_module_version": "1.2.0",
      "model_name": "LayoutModel",
      "state": {}
     },
     "0357190b8b2e418cb1c26dd7f58da6df": {
      "model_module": "@jupyter-widgets/output",
      "model_module_version": "1.0.0",
      "model_name": "OutputModel",
      "state": {
       "layout": "IPY_MODEL_a0dc80dc0864476ba680f60c1df9479c",
       "outputs": [
        {
         "data": {
          "application/vnd.jupyter.widget-view+json": {
           "model_id": "e3d61839997f47ba811a15c216c0e48e",
           "version_major": 2,
           "version_minor": 0
          },
          "text/plain": "Plot(antialias=3, axes=['x', 'y', 'z'], axes_helper=1.0, background_color=16777215, camera=[4.5, 4.5, 4.5, 0.0…"
         },
         "metadata": {},
         "output_type": "display_data"
        }
       ]
      }
     },
     "03854ef240344e9b9b7be93146ff38b7": {
      "buffers": [
       {
        "data": "eNqtljsvg1EYx/kYHaTp4BIRoiFsRJDYDGJhb1gEg1ujMdTQwc7OIJEQ1CWIQQyiI4OIpHH7ChaJ+Of8mrxPc5xUO/yG97znfZ//ea4n9vZeF/vl9Uk0FAsiXrwTrCc+vsTIw7qYKEyJmethMXfZH2H+ok/wzL7J+5QYetwQjZ/fouXlXEzfjIrZqwGxcNYrFk97/oR9fMd/ks+7AjuQuh0X7F866a4pnBs72EUP79Fdtc18VwTrD/yL3/FP2fee/y7nk2LluDMC6xDSiV3yiHwoi4PV456xmz5sF6sHbSKz3ypYTx91CO+5HNgln8lz8tUXH86LnbW9JpHdSYjcVjxCdjsh2Mc5fPqwi46YqVPyh/z36nP+wH5uMy42Ms0RWEc/3/niil10oIu+Qf379HF+4oaf0DNWPxihpNPtI+4lPwb00dcg5D/+i51K9XGukD78ZPttxfEl70LxdXnw3/iSh6H6sPVaqg/y0NaH088+6sqnz9YHdUsdB/u604cd/EHciDvr3no1z9ilr9HnyvqtB9tPff021K9tv6XvMwfsfLXzo9p5xH/JHzuHmYu8r/X85Xx2/to5XOv7Bv7FDn4nH+x9yd6T7H2JfCaPyHPbb+lrtk5/AIdTk74=",
        "encoding": "base64",
        "path": [
         "colors",
         "compressed_buffer"
        ]
       },
       {
        "data": "eNpjYGiwZ8AAxIsBAF7EAv0=",
        "encoding": "base64",
        "path": [
         "model_matrix",
         "compressed_buffer"
        ]
       },
       {
        "data": "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",
        "encoding": "base64",
        "path": [
         "origins",
         "compressed_buffer"
        ]
       },
       {
        "data": "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",
        "encoding": "base64",
        "path": [
         "vectors",
         "compressed_buffer"
        ]
       }
      ],
      "model_module": "k3d",
      "model_module_version": "2.7.0",
      "model_name": "ObjectModel",
      "state": {
       "_view_count": null,
       "_view_module": null,
       "_view_module_version": "",
       "_view_name": null,
       "colors": {
        "dtype": "uint32",
        "shape": [
         316,
         2
        ]
       },
       "compression_level": 0,
       "head_color": 255,
       "head_size": 30,
       "id": 140588994900624,
       "label_size": 1,
       "labels": [],
       "line_width": 0.01,
       "model_matrix": {
        "dtype": "float32",
        "shape": [
         4,
         4
        ]
       },
       "name": null,
       "origin_color": 255,
       "origins": {
        "dtype": "float32",
        "shape": [
         316,
         3
        ]
       },
       "type": "Vectors",
       "use_head": true,
       "vectors": {
        "dtype": "float32",
        "shape": [
         316,
         3
        ]
       },
       "visible": true
      }
     },
     "03c66f475b1e40c6a1a7badd14ae5dcd": {
      "buffers": [
       {
        "data": "eNq7PcOEwcbnOUPCOnUG/iMfGda69DF8/PCGAQB5NApc",
        "encoding": "base64",
        "path": [
         "color_map",
         "compressed_buffer"
        ]
       },
       {
        "data": "eNpjYBBzZsAA2MQ+ODIwLDiAKtZgDwBXFgQD",
        "encoding": "base64",
        "path": [
         "model_matrix",
         "compressed_buffer"
        ]
       },
       {
        "data": "eNrtwTERAAAIAKF7+4e2gu5APU0AAAAAAAAAAAAAAAAAAAAAAAAAAAAAAAAAAAAAAAAAAAAAAAAcLbjhkn4=",
        "encoding": "base64",
        "path": [
         "voxels",
         "compressed_buffer"
        ]
       }
      ],
      "model_module": "k3d",
      "model_module_version": "2.7.0",
      "model_name": "ObjectModel",
      "state": {
       "_view_count": null,
       "_view_module": null,
       "_view_module_version": "",
       "_view_name": null,
       "color_map": {
        "dtype": "uint32",
        "shape": [
         6
        ]
       },
       "compression_level": 0,
       "id": 139916191463888,
       "model_matrix": {
        "dtype": "float32",
        "shape": [
         4,
         4
        ]
       },
       "name": null,
       "opacity": 1,
       "outlines": false,
       "outlines_color": 0,
       "type": "Voxels",
       "visible": true,
       "voxels": {
        "dtype": "uint8",
        "shape": [
         15,
         50,
         50
        ]
       },
       "wireframe": false
      }
     },
     "058168a20dd848b7847219c680e83a86": {
      "model_module": "@jupyter-widgets/base",
      "model_module_version": "1.2.0",
      "model_name": "LayoutModel",
      "state": {}
     },
     "05c75eee92c14f28a0e38c2602b74086": {
      "model_module": "@jupyter-widgets/base",
      "model_module_version": "1.2.0",
      "model_name": "LayoutModel",
      "state": {}
     },
     "07750d8e14464e60b7af1b10ace02c62": {
      "model_module": "k3d",
      "model_module_version": "2.7.0",
      "model_name": "PlotModel",
      "state": {
       "_backend_version": "2.7.0",
       "_dom_classes": [],
       "_view_count": null,
       "antialias": 3,
       "axes": [
        "x",
        "y",
        "z"
       ],
       "axes_helper": 1,
       "background_color": 16777215,
       "camera": [
        125.99191897664832,
        -188.96131100586604,
        7.571066420827783,
        0.017711639404296875,
        0,
        -5.0263543128967285,
        0,
        0,
        1
       ],
       "camera_auto_fit": true,
       "camera_fov": 60,
       "camera_no_pan": false,
       "camera_no_rotate": false,
       "camera_no_zoom": false,
       "clipping_planes": [],
       "colorbar_object_id": -1,
       "fps_meter": false,
       "grid": [
        -1,
        -1,
        -1,
        1,
        1,
        1
       ],
       "grid_auto_fit": true,
       "grid_visible": true,
       "height": 512,
       "layout": "IPY_MODEL_3d02c68ebc924b28ab91f61978aec614",
       "lighting": 1.5,
       "menu_visibility": true,
       "name": null,
       "object_ids": [
        139916095286608,
        139916630771728
       ],
       "rendering_steps": 1,
       "screenshot": "",
       "screenshot_scale": 2,
       "time": 0,
       "voxel_paint_color": 0
      }
     },
     "0834a3433d4f464a8a855a5fef919a7e": {
      "model_module": "@jupyter-widgets/base",
      "model_module_version": "1.2.0",
      "model_name": "LayoutModel",
      "state": {}
     },
     "08f21fcef47c4706ac299db766c2998d": {
      "model_module": "k3d",
      "model_module_version": "2.7.0",
      "model_name": "PlotModel",
      "state": {
       "_backend_version": "2.7.0",
       "_dom_classes": [],
       "_view_count": null,
       "antialias": 3,
       "axes": [
        "x",
        "y",
        "z"
       ],
       "axes_helper": 1,
       "background_color": 16777215,
       "camera": [
        -1.7574341942245666,
        -64.99686971146707,
        -7.995838735194912,
        0.045989990234375,
        0,
        -5.040502548217773,
        -0.012306105981809356,
        -0.10035782976782058,
        0.9948753016131513
       ],
       "camera_auto_fit": true,
       "camera_fov": 60,
       "camera_no_pan": false,
       "camera_no_rotate": false,
       "camera_no_zoom": false,
       "clipping_planes": [],
       "colorbar_object_id": -1,
       "fps_meter": false,
       "grid": [
        -1,
        -1,
        -1,
        1,
        1,
        1
       ],
       "grid_auto_fit": true,
       "grid_visible": true,
       "height": 512,
       "layout": "IPY_MODEL_2877edbde0e140f0bdbc861142deebf3",
       "lighting": 1.5,
       "menu_visibility": true,
       "name": null,
       "object_ids": [
        140589028952208,
        140589028951760
       ],
       "rendering_steps": 1,
       "screenshot": "",
       "screenshot_scale": 2,
       "time": 0,
       "voxel_paint_color": 0
      }
     },
     "0ab49ed311cc494788ebd5b823264d91": {
      "model_module": "k3d",
      "model_module_version": "2.7.0",
      "model_name": "PlotModel",
      "state": {
       "_backend_version": "2.7.0",
       "_dom_classes": [],
       "_view_count": null,
       "antialias": 3,
       "axes": [
        "x",
        "y",
        "z"
       ],
       "axes_helper": 1,
       "background_color": 16777215,
       "camera": [
        172.43023571363796,
        -258.56604219960735,
        6.599859318129084,
        0.02210235595703125,
        0.0461578369140625,
        -10.64095401763916,
        0,
        0,
        1
       ],
       "camera_auto_fit": true,
       "camera_fov": 60,
       "camera_no_pan": false,
       "camera_no_rotate": false,
       "camera_no_zoom": false,
       "clipping_planes": [],
       "colorbar_object_id": -1,
       "fps_meter": false,
       "grid": [
        -1,
        -1,
        -1,
        1,
        1,
        1
       ],
       "grid_auto_fit": true,
       "grid_visible": true,
       "height": 512,
       "layout": "IPY_MODEL_8cb176998c71420b859f7bf346c4c68c",
       "lighting": 1.5,
       "menu_visibility": true,
       "name": null,
       "object_ids": [
        139917027764496,
        139917028190864
       ],
       "rendering_steps": 1,
       "screenshot": "",
       "screenshot_scale": 2,
       "time": 0,
       "voxel_paint_color": 0
      }
     },
     "0cf2c147c2164f3bb490c1517d1affcf": {
      "buffers": [
       {
        "data": "eNq7PcOEAQAFoAGo",
        "encoding": "base64",
        "path": [
         "color_map",
         "compressed_buffer"
        ]
       },
       {
        "data": "eNpjYBBzZsAA2MQ+ODIwLDiAKtZgDwBXFgQD",
        "encoding": "base64",
        "path": [
         "model_matrix",
         "compressed_buffer"
        ]
       },
       {
        "data": "eNrt0zEOwCAMBEHu/59OEyGhILtAVJlrtwPPGHN5N77LsjKuOZuVceakymVNipxU+aDmZ7v3ks0PHt1Gc3XNxTbX3klplDHIIIMMMsgggwwyyCCDDDLIIIMMMsgggwwyyCCDDDLIIIMMMsgggwwyyCCDDDLI4C2DD1n0IZE=",
        "encoding": "base64",
        "path": [
         "voxels",
         "compressed_buffer"
        ]
       }
      ],
      "model_module": "k3d",
      "model_module_version": "2.7.0",
      "model_name": "ObjectModel",
      "state": {
       "_view_count": null,
       "_view_module": null,
       "_view_module_version": "",
       "_view_name": null,
       "color_map": {
        "dtype": "uint32",
        "shape": []
       },
       "compression_level": 0,
       "id": 140588994928336,
       "model_matrix": {
        "dtype": "float32",
        "shape": [
         4,
         4
        ]
       },
       "name": null,
       "opacity": 1,
       "outlines": false,
       "outlines_color": 0,
       "type": "Voxels",
       "visible": true,
       "voxels": {
        "dtype": "uint8",
        "shape": [
         12,
         30,
         30
        ]
       },
       "wireframe": false
      }
     },
     "0d3775855a0f44b38917e07a839cfd60": {
      "model_module": "k3d",
      "model_module_version": "2.7.0",
      "model_name": "PlotModel",
      "state": {
       "_backend_version": "2.7.0",
       "_dom_classes": [],
       "_view_count": null,
       "antialias": 3,
       "axes": [
        "x",
        "y",
        "z"
       ],
       "axes_helper": 1,
       "background_color": 16777215,
       "camera": [
        88.21824198014316,
        -76.05595381459808,
        59.675310378267795,
        0,
        -0.02387237548828125,
        -5,
        -0.28875320071630894,
        0.331841416062166,
        0.8980550448953257
       ],
       "camera_auto_fit": true,
       "camera_fov": 60,
       "camera_no_pan": false,
       "camera_no_rotate": false,
       "camera_no_zoom": false,
       "clipping_planes": [],
       "colorbar_object_id": -1,
       "fps_meter": false,
       "grid": [
        -1,
        -1,
        -1,
        1,
        1,
        1
       ],
       "grid_auto_fit": true,
       "grid_visible": true,
       "height": 512,
       "layout": "IPY_MODEL_5bf470ee5e6d4581963ea62d7c437981",
       "lighting": 1.5,
       "menu_visibility": true,
       "name": null,
       "object_ids": [
        140589154150992,
        140590021517584
       ],
       "rendering_steps": 1,
       "screenshot": "",
       "screenshot_scale": 2,
       "time": 0,
       "voxel_paint_color": 0
      }
     },
     "0d9836224e4d4077b2979da1aad85d3d": {
      "model_module": "@jupyter-widgets/base",
      "model_module_version": "1.2.0",
      "model_name": "LayoutModel",
      "state": {}
     },
     "0dd38aeddebd40948824e944736c3a14": {
      "model_module": "@jupyter-widgets/output",
      "model_module_version": "1.0.0",
      "model_name": "OutputModel",
      "state": {
       "layout": "IPY_MODEL_9b4f4b26c6624735b60be7e291a34cd2",
       "outputs": [
        {
         "data": {
          "application/vnd.jupyter.widget-view+json": {
           "model_id": "91c7c0d038144071aed76b42389f27c6",
           "version_major": 2,
           "version_minor": 0
          },
          "text/plain": "Plot(antialias=3, axes=['x', 'y', 'z'], axes_helper=1.0, background_color=16777215, camera=[4.5, 4.5, 4.5, 0.0…"
         },
         "metadata": {},
         "output_type": "display_data"
        }
       ]
      }
     },
     "108226dbc2be4b228597ae74a048e0c1": {
      "buffers": [
       {
        "data": "eNoDAAAAAAE=",
        "encoding": "base64",
        "path": [
         "colors",
         "compressed_buffer"
        ]
       },
       {
        "data": "eNpjYGiwZ8AAxIsBAF7EAv0=",
        "encoding": "base64",
        "path": [
         "model_matrix",
         "compressed_buffer"
        ]
       },
       {
        "data": "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",
        "encoding": "base64",
        "path": [
         "positions",
         "compressed_buffer"
        ]
       }
      ],
      "model_module": "k3d",
      "model_module_version": "2.7.0",
      "model_name": "ObjectModel",
      "state": {
       "_view_count": null,
       "_view_module": null,
       "_view_module_version": "",
       "_view_name": null,
       "color": 10075135,
       "colors": {
        "dtype": "uint32",
        "shape": [
         0
        ]
       },
       "compression_level": 0,
       "id": 140590021502800,
       "mesh_detail": 2,
       "model_matrix": {
        "dtype": "float32",
        "shape": [
         4,
         4
        ]
       },
       "name": null,
       "opacity": 1,
       "point_size": 0.1,
       "positions": {
        "dtype": "float32",
        "shape": [
         716,
         3
        ]
       },
       "shader": "3dSpecular",
       "type": "Points",
       "visible": true
      }
     },
     "109ca240f73f49bab76b9935848e68bb": {
      "model_module": "@jupyter-widgets/base",
      "model_module_version": "1.2.0",
      "model_name": "LayoutModel",
      "state": {}
     },
     "11e90551d9cb4b6ca51e0c35bb3469b0": {
      "model_module": "@jupyter-widgets/base",
      "model_module_version": "1.2.0",
      "model_name": "LayoutModel",
      "state": {}
     },
     "12204ccdb6c94afaad043d080b44ac5e": {
      "buffers": [
       {
        "data": "eNoDAAAAAAE=",
        "encoding": "base64",
        "path": [
         "colors",
         "compressed_buffer"
        ]
       },
       {
        "data": "eNpjYGiwZ8AAxIsBAF7EAv0=",
        "encoding": "base64",
        "path": [
         "model_matrix",
         "compressed_buffer"
        ]
       },
       {
        "data": "eNpN2CGLc8sBx+EX6pbqVaOiVsVcF4bu3CuiqqJWDJFXxBaiagJhonZYWNUS+iliRt33VoxKv0Wori2saJOTvPNEPeIcDpz84H/O+fbt85/f/v/79dd//P7t2zs+4B3e4g1e4xVe4gWe4xl+xk/46/fhCz7jEz7iPX7DL/g/34c/8Pff8CvHJM7FLz9zLbzHR3zCZ3zBX/jpF+4VnuE5XuAlXuE13uAt3uEDfsef+v7fVbqqdFXpqtJVpatKV5WuKl1Vuqp0Vemq0lWlq0pXla4qXVW6qnRV6arSVaWrSleVripdVbqqdFXpqtJVpatKV5WuKl1Vuqp0Vemq0lWlq0pXla4qXVW6qnRV6arSVaWrSleVripdVbqqP7r61/mvP7qafMA7vMUbvMYrvMQLPMcz/Iyf8NTV5As+4xM+4j1+wy946mryB566uvuVYxLn4qmr+7XwHh/xCZ/xBX/hqav7vcIzPMcLvMQrvMYbvMU7fMDv+FPf/7tMV5muMl1lusp0lekq01Wmq0xXma4yXWW6ynSV6SrTVaarTFeZrjJdZbrKdJXpKtNVpqtMV5muMl1lusp0lekq01Wmq0xXma4yXWW6ynSV6SrTVaarTFeZrjJdZbrKdJXpKtNVpqtMV5muIl1Fuop0Fekq0lWkq0hXka4iXUW6inQV6SrSVaSrSFeRriJdRbqKdBXpKtJVpKtIV5GuIl1Fuop0Fekq0lWkq0hXka4iXUW6inQV6SrSVaSrSFeRriJdRbqKdBXpKtJVpKtIV5GuIl1Fugp0Fegq0FWgq0BXga4CXQW6CnQV6CrQVaCrQFeBrgJdBboKdBXoKtBVoKtAV4GuAl0Fugp0Fegq0FWgq0BXga4CXQW6CnQV6CrQVaCrQFeBrgJdBboKdBXoKtBVoKtAV4GuAl0Fugp0FX509fe//ff7o6vJB7zDW7zBa7zCS7zAczzDz/gJT11NvuAzPuEj3uM3/IKnriZ/4Kmru185JnEunrq6Xwvv8RGf8Blf8BeeurrfKzzDc7zAS7zCa7zBW7zDB/yOP/X9v2t01eiq0VWjq0ZXja4aXTW6anTV6KrRVaOrRleNrhpdNbpqdNXoqtFVo6tGV42uGl01ump01eiq0VWjq0ZXja4aXTW6anTV6KrRVaOrRleNrhpdNbpqdNXoqtFVo6tGV42uGl01ump01X509dNPf/nR1eQD3uEt3uA1XuElXuA5nuFn/ISnriZf8Bmf8BHv8Rt+wVNXkz/w1NXdrxyTOBdPXd2vhff4iE/4jC/4C09d3e8VnuE5XuAlXuE13uAt3uEDfsef+v6N6N+/je9XVx/wDm/xBq/xCi/xAs/xDD/jJ/z4fnX1BZ/xCR/xHr/hF/z4fnX1B358v7r5lWMS5+LH96vbtfAeH/EJn/EFf+HH96vbvcIzPMcLvMQrvMYbvMU7fMDv+FPfn43//Kfx3H71Ae/wFm/wGq/wEi/wHM/wM37Cj+f2qy/4jE/4iPf4Db/gx3P71R/48dx+8yvHJM7Fj+f227XwHh/xCZ/xBX/hx3P77V7hGZ7jBV7iFV7jDd7iHT7gd/yp7//dH9Po6uoD3uEt3uA1XuElXuA5nuFn/IQfXV19wWd8wke8x2/4BT+6uvoDP7q6+ZVjEufiR1e3a+E9PuITPuML/sKPrm73Cs/wHC/wEq/wGm/wFu/wAb/jT33fmpLGDpY0drCksYMljR0saexgSWMHSxo7WNLYwZLGDpY0drCksYMljR0saexgSWMHSxo7WNLYwZLGDpY0drCksYMljR0saexgSWMHSxo7WNLYwZLGDpY0drCksYMljR0saexgSWMHSxo7WNLYwZLGDpY0drCksYMljR0saexgSWMHSxo7WNLYwZLGDpY0drCksYMljR0saexgSWMHSxo7WNLYwZLGDha66nTV6arTVaerTledrjpddbrqdNXpqtNVp6tOV52uOl11uup01emq01Wnq05Xna46XXW66nTV6arTVaerTledrjpddbrqdNXpqtNVp6tOV52uOl11uup01emq01Wnq05Xna46XXW66nTV03gf/MPP433w6gPe4S3e4DVe4SVe4Dme4Wf8hB/vg1df8Bmf8BHv8Rt+wY/3was/8ON98OZXjkmcix/vg7dr4T0+4hM+4wv+wo/3wdu9wjM8xwu8xCu8xhu8xTt8wO/484f/B6oEPh4=",
        "encoding": "base64",
        "path": [
         "origins",
         "compressed_buffer"
        ]
       },
       {
        "data": "eNrtxjENAAAIA7A5w38CnjhwQdqryZnuiru7u7u7u7u7u7u7u7u7u7v70y9jvrzi",
        "encoding": "base64",
        "path": [
         "vectors",
         "compressed_buffer"
        ]
       }
      ],
      "model_module": "k3d",
      "model_module_version": "2.7.0",
      "model_name": "ObjectModel",
      "state": {
       "_view_count": null,
       "_view_module": null,
       "_view_module_version": "",
       "_view_name": null,
       "colors": {
        "dtype": "uint32",
        "shape": [
         0
        ]
       },
       "compression_level": 0,
       "head_color": 255,
       "head_size": 10,
       "id": 140278422411280,
       "label_size": 1,
       "labels": [],
       "line_width": 0.01,
       "model_matrix": {
        "dtype": "float32",
        "shape": [
         4,
         4
        ]
       },
       "name": null,
       "origin_color": 255,
       "origins": {
        "dtype": "float32",
        "shape": [
         750,
         3
        ]
       },
       "type": "Vectors",
       "use_head": true,
       "vectors": {
        "dtype": "float32",
        "shape": [
         750,
         3
        ]
       },
       "visible": true
      }
     },
     "122b58d9f61545168148ba86aa872762": {
      "model_module": "@jupyter-widgets/base",
      "model_module_version": "1.2.0",
      "model_name": "LayoutModel",
      "state": {}
     },
     "12549243051b4afda3a7027f279ea63a": {
      "buffers": [
       {
        "data": "eNq7PcOEwcbnOUPCOnUG/iMfGda69DF8/PCGAQB5NApc",
        "encoding": "base64",
        "path": [
         "color_map",
         "compressed_buffer"
        ]
       },
       {
        "data": "eNpjYBBzZsAA2MQ+ODIwLDiAKtZgDwBXFgQD",
        "encoding": "base64",
        "path": [
         "model_matrix",
         "compressed_buffer"
        ]
       },
       {
        "data": "eNrtwUERAAAMAqDT/qGNsceABAAAAAAAAAAAAAAAAAAAAAAAAAAAAAAA4IcCAAAAAAAAAAAAAAAcGJygw1E=",
        "encoding": "base64",
        "path": [
         "voxels",
         "compressed_buffer"
        ]
       }
      ],
      "model_module": "k3d",
      "model_module_version": "2.7.0",
      "model_name": "ObjectModel",
      "state": {
       "_view_count": null,
       "_view_module": null,
       "_view_module_version": "",
       "_view_name": null,
       "color_map": {
        "dtype": "uint32",
        "shape": [
         6
        ]
       },
       "compression_level": 0,
       "id": 139917027766096,
       "model_matrix": {
        "dtype": "float32",
        "shape": [
         4,
         4
        ]
       },
       "name": null,
       "opacity": 1,
       "outlines": false,
       "outlines_color": 0,
       "type": "Voxels",
       "visible": true,
       "voxels": {
        "dtype": "uint8",
        "shape": [
         15,
         50,
         50
        ]
       },
       "wireframe": false
      }
     },
     "12bb74cb32ff461897567db987e1d26f": {
      "buffers": [
       {
        "data": "eNq9lk0rhGEUhillZ2NhZ3xnUD6TFCuMhJVSEwsixEIhhoWvfMzwIgspRdnYWfoB/oIf4VcoOudcp57Hwsosrs30vuc573nu+z6TLR8pyf6wWJkR1lOjAStVylxFRjjqGxbyY4NCMt8tXC11KqvtISsdykKXUJgYEI77h4TpsmFhty0jJDO9gtfbbFW2W5RcWtk1dlqUrVZluVNIZnuFXHpUmCodCric6hf8nL20ctiknDYo5/VCUgi5yhtnDQrvUcfqcg7fST9+7kabctSkWL0kqVOua5WbCH6357wP6lDXzmG+zJ35eL/2HvUub2uEi/uUUHioFvKPqQB+5zne877ox87hftEReuDefI72Pd7HXUo4f1LOnpWTl7oAfuc53qPOr/uy+aBndI5eXVfRvfC9nHPw2izk3nqEtffxAH7nOe/P6vi80J3pHn9lzaf40X2F/k2P6IJ7YR5xX5Mf+wFxn7xHHeriB/ejzS/OD/e/+dS9Y/pFP9xb3Ffj51dA3CfvUcd9gT/JCesjzjXvz54ren/kV9Qfc/R8YM7k0H/fL7mGrkxn6A4deu6Tz6bbf/cH/sWX5lN8i499fsXOE8sxco2c871W7Ly1nCf32QPF3j/sPfbgn/uXeuRavH/JIfLyj/0b73/68T3I/kFX6B+fkif4Ed3bOdwv8+U7mbvvOfYK+R3/X6Ke+Qs9oyN0jh/jXCM/8Ok3MyHrlw==",
        "encoding": "base64",
        "path": [
         "colors",
         "compressed_buffer"
        ]
       },
       {
        "data": "eNpjYGiwZ8AAxIsBAF7EAv0=",
        "encoding": "base64",
        "path": [
         "model_matrix",
         "compressed_buffer"
        ]
       },
       {
        "data": "eNodl3901XUdxokwEgQGWDA2uNvdtU2Ew85Bmy3y3s87R7hDLZVF8WuDyRacIwjGhJS5iXLw5FigB2zZoY5QyEjS4zEE3b3vjzNAOywlwUNJQErHKEyxIgTted2/dse+9/v9fN/v53k9D73zOvz6tzbGR06M8c/2XumfFnTFf/xorF96vyPbv35jfKal0J9b0p95vXxjnLms0NMNC8Ky7Z3xO2+M9V++tSvcf7Qz3hDGenz/gv/glY74mZoiX/npfh/yWEesOlDsP52w1hMvtMdD/RP8k+8P8oLQHu/LJHzAgEx2g7fF1m0J39t9LDP91Np4eUfCw5ZFYUrivniiKeE1L+wOVVPvja/+e4IXDP9b+PveNbHzdLFvKhxp312zJv5mVZHf/a/q+PJtLbH1V2P8xdHF8ZbDLXFf3Tj/2r0XvLOiOaaqJ3jR8/v95TsXx6HTEt41da337GqKex4o8ePrBnnfnkXR+ku8e2XIDso2xqqrSr111rHMrN81xAUjS/0vNy4Ks/8wP/7pTIlvbd8dzr45LxY8UeKjLp8Jz1bOjbW3J/zgiJG2YPOc+M5tE/wb10+21Yu/FzdNGefrH6y16klz4vDWMc5P/Z7/POra6rj3bG1cvnW8t3QXxb679e83J/zq2f/ze4bdEv9TWeofb3jRB1bPiD3PlXpjQ5u3102PS+qT/kHLFd5TVRNjR9Jz9bXZ105abN2Z9C3FRzNjnw6xuifpx69eGKw+HUdvTPqybE94ZtpN8XBT0tf0vxtOzp4WT/eW+paFBXa+66vxxNRSv71hss1cWh1/VqVdnK01zsfZNFdjvsyWd9K75d+La/Wd/PWHPyqK6b9OiqvWlvhTxRd95Kbr4r4PS31f1Uu+pHdi/LAh6XU33u8VL1XEb53T+Qd+zsd1lcfnC8t8YbYuW/HfVDxrZb6+8c3MxW1l8bWby/yHcxvDI0NL463JMr8q9IRtJxPx4QtJPz3k3XDne+Pj7uakz/lghH2+ZHz8/Uelrucb5+AMmqUxU+YpLRiaQA/oRbrJa4ZdaWf5fTEDzSI/B+6n++bv2fz1Sx4ODI9LLyZ9U1nWz308LN66sMxXnWz3/UeGxhUFKT/458HedteQeGhWym11Y/aJSYPjq9tSfqTwSKZyxRUx+fOUf7lkQai6aWC02Sn/pO+pUP7egHhsdMqX//N0ON972WuayniO8TyepfkZc2SG0oKhCfQgLRuaRs/ymeE3vIYn5A3HF+hRunQ0yZ61b2fXzEyzc+bGM/Xs/HMPrMt5bukpbzta5ove6fBzw972yb9N+Yy7rvS5o477K4XX+Pye5dlf73rDvfMabxr9embw9sO+Qp9vmDEvdDcf8PO6ZvhPdoahP+7zyr0p7he4L/fUzIzZMTdpwdAEepCuDX2jbfnS8CfeFDMMdsANuCK+OGyBAWKBwwH8Jx86HkTX0rejbTQirTg6YcaatTNnzqXz5c/2dNtDfn7ndv/izC/5Hc+O8Mfv+YX/cWK5t9d3Z588s9X3LK7w1d88mMkkNnvXHRU+/aH6UP/oBt9xbTnfC3yf72pOgXkxK2nB0AR6kMYNraNz+dXwLZ4VbwzuwByx0GAiPBR3rVf8hb0wVWx1uAr/xEGHgbBHDHL4g6flbcfX+EM+cTyCvqQzR2PsRLvJ74Wz6x3y53+y7ws+rLnOV66o8Le/HbPzL3/FT62b6LmO3szm3df5gw9M5O+B67hGswnMiPlICwFNoAfp3dA9mpePDT/jZTHJYBNcElMNtsJV8d7gPsxXthgZQ76QJ8qVHJkC+5UBOfgPd8XfHOyFZ+JaDqbBBjEiBx/wljyWw1/oUbrMoUn2pv3l2B3vpHfL8V6XTtTkHj/UmdtROcX1M8PvfNYMArNgDtp/QAdoQHoP6B7Ny9OGt/G1WGUwC16JuwZ/Ya9yw8gPskOZZmQbuab8NHKUDCVL9TnNZ3JP16S5hszRd9N8F5brnmnuCRf1rDTPgis6Q5oz4EWdLc3Z0KzOnObM7FPvkuZdeFe9Y4Z35CfvzGfNJLBvZqJZBbTOrDTDgLeZoWZr8IvZauYGl5m5dmFkDLvQjoyMZEfanZHf7E47NboCO6VHaNeBXZP50kBAA+SttBHQBjkmzQQ0QyZISwEtwVRpLKAxOCTtBbSHX6XJgCbRsrQa0Cp75t14L2bAXvM71d/RNNfICwE/4wV5JMAvPCLvGIzGO/KUkT14Sl4zchSvyYNGD8CD8qbRUfCmPGv0ITxLh5KXA16m78jjAY/TNeT9gPfJcDEhwATyUKwIsII8EUMCDIHBYkuALbBKzAkwBx/zDpwfjbM/dsf+0S4aYDb4lvnwPZjFd8XAAKNhoNho5BBsFDONfIWZYqnRFWCpGGt0HRgr9ho9DPaKyUbng8n0O7E6wGq6lRgeYDidRWwPsJ38F/MDzCc/lQWBLCBzlBGBjIDNnI+zwS12w17wNLpEk+gdT6J5tACP0ANzgsXMivuRPdxTGRfIVzJO2Wf0BrJPmWh0IDJRWWl0OLJSGWr0SzKUDqtsDWQr/VGZG8hcepmyOJDFdBxldCCj6QjK7kB2k6s8m+eSP8yaOcNmdIbG4BYew194Gr7ga/QOW9E8WiBX0AMzI0eZG8+hK/AsdRWjA9FV1GGMPkeHUbcx+ijdRp3H6Mp0HnqxupDRheib6khGR6K7qTsZ3Ynuw325J32B2TE3chWtoBMyB5/gEXgMI+ADrIKP8Aofkw14GY2Ti+gcLdAD0APzo+swQ55Ph+MM6pZGH6VbqnMafZrOScdXFzW6KN1ZHdXoqPRQvsP19DhmwRzoPuybXdMR0DfaJj/xNr4mW+AaTIO7MB32wiTyDC7hV7Icz6JrugvaRgv0M/TALOmdzJNz0aE5mzq/8X8AOj/dn9/5TI/m3Xgveig7Y190N3SJJuk4+BAPkv8wCP6QjfAX9pIbZA/ZAVPJXbgKb+gcMAdf0rHwJlqmR6JntEA/Rg/Mla7PbOnI6AbN0CvxBr6gf8ECOEA3gYMwkNwmA+A/mUb+kWvwnuyH+bCQ3gMPYQY9D27gM7osXqPrwRfYQg+CrXCVjkCukCnkJ5lKhpIt9AnyBe7SpWDv/wEY+hoy",
        "encoding": "base64",
        "path": [
         "origins",
         "compressed_buffer"
        ]
       },
       {
        "data": "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",
        "encoding": "base64",
        "path": [
         "vectors",
         "compressed_buffer"
        ]
       }
      ],
      "model_module": "k3d",
      "model_module_version": "2.7.0",
      "model_name": "ObjectModel",
      "state": {
       "_view_count": null,
       "_view_module": null,
       "_view_module_version": "",
       "_view_name": null,
       "colors": {
        "dtype": "uint32",
        "shape": [
         316,
         2
        ]
       },
       "compression_level": 0,
       "head_color": 255,
       "head_size": 30,
       "id": 140200609455760,
       "label_size": 1,
       "labels": [],
       "line_width": 0.01,
       "model_matrix": {
        "dtype": "float32",
        "shape": [
         4,
         4
        ]
       },
       "name": null,
       "origin_color": 255,
       "origins": {
        "dtype": "float32",
        "shape": [
         316,
         3
        ]
       },
       "type": "Vectors",
       "use_head": true,
       "vectors": {
        "dtype": "float32",
        "shape": [
         316,
         3
        ]
       },
       "visible": true
      }
     },
     "1333d27072de48a28d5dd9a6c474ed5c": {
      "buffers": [
       {
        "data": "eNq7PcOEwcbnOUPCOnUG/iMfGda69DF8/PCGAQB5NApc",
        "encoding": "base64",
        "path": [
         "color_map",
         "compressed_buffer"
        ]
       },
       {
        "data": "eNpjYBBzZsAA2MQ+ODIwLDiAKtZgDwBXFgQD",
        "encoding": "base64",
        "path": [
         "model_matrix",
         "compressed_buffer"
        ]
       },
       {
        "data": "eNrtwTERAAAIAKF7+4e2gu5APU0AAAAAAAAAAAAAAAAAAAAAAAAAAAAAAAAAAAAAAAAAAAAAAAAcLbjhkn4=",
        "encoding": "base64",
        "path": [
         "voxels",
         "compressed_buffer"
        ]
       }
      ],
      "model_module": "k3d",
      "model_module_version": "2.7.0",
      "model_name": "ObjectModel",
      "state": {
       "_view_count": null,
       "_view_module": null,
       "_view_module_version": "",
       "_view_name": null,
       "color_map": {
        "dtype": "uint32",
        "shape": [
         6
        ]
       },
       "compression_level": 0,
       "id": 140278294940688,
       "model_matrix": {
        "dtype": "float32",
        "shape": [
         4,
         4
        ]
       },
       "name": null,
       "opacity": 1,
       "outlines": false,
       "outlines_color": 0,
       "type": "Voxels",
       "visible": true,
       "voxels": {
        "dtype": "uint8",
        "shape": [
         15,
         50,
         50
        ]
       },
       "wireframe": false
      }
     },
     "152c8a1c93484368ab0363e3ec50c67a": {
      "model_module": "@jupyter-widgets/base",
      "model_module_version": "1.2.0",
      "model_name": "LayoutModel",
      "state": {}
     },
     "154befb9bb11468c8a86ba61c5331ab2": {
      "model_module": "k3d",
      "model_module_version": "2.7.0",
      "model_name": "PlotModel",
      "state": {
       "_backend_version": "2.7.0",
       "_dom_classes": [],
       "_view_count": null,
       "antialias": 3,
       "axes": [
        "x",
        "y",
        "z"
       ],
       "axes_helper": 1,
       "background_color": 16777215,
       "camera": [
        169.50263629444788,
        -254.25395444167185,
        22.73942113924871,
        0,
        0,
        5.789157509803772,
        0,
        0,
        1
       ],
       "camera_auto_fit": true,
       "camera_fov": 60,
       "camera_no_pan": false,
       "camera_no_rotate": false,
       "camera_no_zoom": false,
       "clipping_planes": [],
       "colorbar_object_id": -1,
       "fps_meter": false,
       "grid": [
        -1,
        -1,
        -1,
        1,
        1,
        1
       ],
       "grid_auto_fit": true,
       "grid_visible": true,
       "height": 512,
       "layout": "IPY_MODEL_afc2641933c649fd8666cfb872a13574",
       "lighting": 1.5,
       "menu_visibility": true,
       "name": null,
       "object_ids": [
        140588994900048,
        140588994900816
       ],
       "rendering_steps": 1,
       "screenshot": "",
       "screenshot_scale": 2,
       "time": 0,
       "voxel_paint_color": 0
      }
     },
     "18a32a1ec2f34378828597168eac020d": {
      "model_module": "k3d",
      "model_module_version": "2.7.0",
      "model_name": "PlotModel",
      "state": {
       "_backend_version": "2.7.0",
       "_dom_classes": [],
       "_view_count": null,
       "antialias": 3,
       "axes": [
        "x",
        "y",
        "z"
       ],
       "axes_helper": 1,
       "background_color": 16777215,
       "camera": [
        178.34799599823646,
        -268.14699363413894,
        12.7347995741193,
        -0.24999985471367836,
        -0.24999985471367836,
        -5.125000011175871,
        0,
        0,
        1
       ],
       "camera_auto_fit": true,
       "camera_fov": 60,
       "camera_no_pan": false,
       "camera_no_rotate": false,
       "camera_no_zoom": false,
       "clipping_planes": [],
       "colorbar_object_id": -1,
       "fps_meter": false,
       "grid": [
        -1,
        -1,
        -1,
        1,
        1,
        1
       ],
       "grid_auto_fit": true,
       "grid_visible": true,
       "height": 512,
       "layout": "IPY_MODEL_00aa324241b5402f815228b717ea82e6",
       "lighting": 1.5,
       "menu_visibility": true,
       "name": null,
       "object_ids": [
        140605281424336
       ],
       "rendering_steps": 1,
       "screenshot": "",
       "screenshot_scale": 2,
       "time": 0,
       "voxel_paint_color": 0
      }
     },
     "194cab85b49e43f6b53d7f0d6b876db0": {
      "model_module": "k3d",
      "model_module_version": "2.7.0",
      "model_name": "PlotModel",
      "state": {
       "_backend_version": "2.7.0",
       "_dom_classes": [],
       "_view_count": null,
       "antialias": 3,
       "axes": [
        "x",
        "y",
        "z"
       ],
       "axes_helper": 1,
       "background_color": 16777215,
       "camera": [
        178.34799599823646,
        -268.14699363413894,
        12.7347995741193,
        -0.24999985471367836,
        -0.24999985471367836,
        -5.125000011175871,
        0,
        0,
        1
       ],
       "camera_auto_fit": true,
       "camera_fov": 60,
       "camera_no_pan": false,
       "camera_no_rotate": false,
       "camera_no_zoom": false,
       "clipping_planes": [],
       "colorbar_object_id": -1,
       "fps_meter": false,
       "grid": [
        -1,
        -1,
        -1,
        1,
        1,
        1
       ],
       "grid_auto_fit": true,
       "grid_visible": true,
       "height": 512,
       "layout": "IPY_MODEL_bbe895b66b1e45c6b0ae1ccfd41744ff",
       "lighting": 1.5,
       "menu_visibility": true,
       "name": null,
       "object_ids": [
        140606012431760
       ],
       "rendering_steps": 1,
       "screenshot": "",
       "screenshot_scale": 2,
       "time": 0,
       "voxel_paint_color": 0
      }
     },
     "1a144fd8c2d345fd90f9e4eb7fdb39b6": {
      "model_module": "k3d",
      "model_module_version": "2.7.0",
      "model_name": "PlotModel",
      "state": {
       "_backend_version": "2.7.0",
       "_dom_classes": [],
       "_view_count": null,
       "antialias": 3,
       "axes": [
        "x",
        "y",
        "z"
       ],
       "axes_helper": 1,
       "background_color": 16777215,
       "camera": [
        227.54250862432835,
        -227.34352246029965,
        17.76868714014317,
        -0.24999985471367836,
        -0.24999985471367836,
        -5.125000011175871,
        0.026170443269200875,
        0.04826551789322121,
        0.9984916362602105
       ],
       "camera_auto_fit": true,
       "camera_fov": 60,
       "camera_no_pan": false,
       "camera_no_rotate": false,
       "camera_no_zoom": false,
       "clipping_planes": [],
       "colorbar_object_id": -1,
       "fps_meter": false,
       "grid": [
        -1,
        -1,
        -1,
        1,
        1,
        1
       ],
       "grid_auto_fit": true,
       "grid_visible": true,
       "height": 512,
       "layout": "IPY_MODEL_ca2eb4c33cca44d5918e92d9c2873f04",
       "lighting": 1.5,
       "menu_visibility": true,
       "name": null,
       "object_ids": [
        140588994928336
       ],
       "rendering_steps": 1,
       "screenshot": "",
       "screenshot_scale": 2,
       "time": 0,
       "voxel_paint_color": 0
      }
     },
     "1b5913cc51b048c9988a3f98b8f92d05": {
      "buffers": [
       {
        "data": "eNot0vlP1gUcwPF3rVar1Wq14vR5Hh4eBOSSQy45fZ7v96spoRIiIqJAHCKH3Pf9cD7fLLMss8yyzLLM0sy01KJIo1BDEQUEfWBrba2ttbbW1sfVD6//4JV2l5X0u62su8fG+nttZN6nkHW/wsYHFLIfVMh5SGXzwyq5j6jkPaqS/5hKweMahU9oFD2pUeyiUeKmsc1do9RDo8xTo9ygUWHUqDRpVJk1qr01aiwatT4adb4a9X4aDf4qDQEqjYEqTUEqzcEqLSEKLaEKrWEKbeEK7RE22iNtdETZ6Iy20hljpStWxC2jO14kJGNPFEnJ9CQn0WNNoteWSK8i1AT6NLE8nr4V8fSvFKvi6E8RTy9lIFWsjmVgjVgbw2CaeCaawXSREcXgepEZiWODyFqCY6PIjsCxSeSE49gstoThyA1DzwtFzxfPLkYvEIWiKAS9WGwNRi8R24LQS0WZKA9Er7gjAH27qBRVi9CrRY0/eq2oE/V+6A2iUTT5ojeLloXoraJNtPugd/yv04LeJbqF3Ru9R/Sa0fvMOPrFgBeOQeEQugnHc2KHicHnxQvG/+wULxoY2CVeEi+L3Qb6XxGvij0L6HtN7BWvG+h9Q+wTbxrouWO/AftbRuxvG+k+YKL7HfGuF10Hveh8z0znIW863rfQ8YGF9sM+YiFtH/rS+pEfrUf8afk4gOajgTR9EkTTp8E0HltMw/FQ6o+HU/9ZBHUnIqn9PIqakzFUfxFL1ak4Kk8lsP10IhVfJlP+lZWyMwqlZ+Xj2RWUnFvJ1q9TKP4mlaKhNRQOpVHwbTr532WQN5xJ7nAWW77PJud8Dpsu5JJ9IZ+sHwrYMFJE5kgJGT+Wsu6nctJHK0kbrWbtxVpWX2wg9VITKZdbWXW5nad+7mL5mB1trA/lygC2KzrLru4g6epOEsd3ET++m6XX9hB7bS/RE/uInNjPkusHCL9+kNAbhwi5cZjgySMETh5l0dQx/KZO4Dt1Ep/p01imz2CePofp5hDGm8MYZs7jOTOCx8wo7rOXcJsdw3V2HNdbE7jcmhTTuNyexfW2U8zj5vwFd+eveDh/w9P5Owvm/sA49yemub8wz/+NZf4f/gXLh0p6",
        "encoding": "base64",
        "path": [
         "color_map",
         "compressed_buffer"
        ]
       },
       {
        "data": "eNpjYBBzZsAA2MQ+ODIwLDiAKtZgDwBXFgQD",
        "encoding": "base64",
        "path": [
         "model_matrix",
         "compressed_buffer"
        ]
       },
       {
        "data": "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",
        "encoding": "base64",
        "path": [
         "voxels",
         "compressed_buffer"
        ]
       }
      ],
      "model_module": "k3d",
      "model_module_version": "2.7.0",
      "model_name": "ObjectModel",
      "state": {
       "_view_count": null,
       "_view_module": null,
       "_view_module_version": "",
       "_view_name": null,
       "color_map": {
        "dtype": "uint32",
        "shape": [
         256
        ]
       },
       "compression_level": 0,
       "id": 140589028786320,
       "model_matrix": {
        "dtype": "float32",
        "shape": [
         4,
         4
        ]
       },
       "name": null,
       "opacity": 1,
       "outlines": false,
       "outlines_color": 0,
       "type": "Voxels",
       "visible": true,
       "voxels": {
        "dtype": "uint8",
        "shape": [
         12,
         30,
         30
        ]
       },
       "wireframe": false
      }
     },
     "1bf7c8672c8142578a43fde6e1fe3e59": {
      "buffers": [
       {
        "data": "eNq9lk0rhGEUhillZ2NhZ3xnUD6TFCuMhJVSEwsixEIhhoWvfMzwIgspRdnYWfoB/oIf4VcoOudcp57Hwsosrs30vuc573nu+z6TLR8pyf6wWJkR1lOjAStVylxFRjjqGxbyY4NCMt8tXC11KqvtISsdykKXUJgYEI77h4TpsmFhty0jJDO9gtfbbFW2W5RcWtk1dlqUrVZluVNIZnuFXHpUmCodCric6hf8nL20ctiknDYo5/VCUgi5yhtnDQrvUcfqcg7fST9+7kabctSkWL0kqVOua5WbCH6357wP6lDXzmG+zJ35eL/2HvUub2uEi/uUUHioFvKPqQB+5zne877ox87hftEReuDefI72Pd7HXUo4f1LOnpWTl7oAfuc53qPOr/uy+aBndI5eXVfRvfC9nHPw2izk3nqEtffxAH7nOe/P6vi80J3pHn9lzaf40X2F/k2P6IJ7YR5xX5Mf+wFxn7xHHeriB/ejzS/OD/e/+dS9Y/pFP9xb3Ffj51dA3CfvUcd9gT/JCesjzjXvz54ren/kV9Qfc/R8YM7k0H/fL7mGrkxn6A4deu6Tz6bbf/cH/sWX5lN8i499fsXOE8sxco2c871W7Ly1nCf32QPF3j/sPfbgn/uXeuRavH/JIfLyj/0b73/68T3I/kFX6B+fkif4Ed3bOdwv8+U7mbvvOfYK+R3/X6Ke+Qs9oyN0jh/jXCM/8Ok3MyHrlw==",
        "encoding": "base64",
        "path": [
         "colors",
         "compressed_buffer"
        ]
       },
       {
        "data": "eNpjYGiwZ8AAxIsBAF7EAv0=",
        "encoding": "base64",
        "path": [
         "model_matrix",
         "compressed_buffer"
        ]
       },
       {
        "data": "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",
        "encoding": "base64",
        "path": [
         "origins",
         "compressed_buffer"
        ]
       },
       {
        "data": "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",
        "encoding": "base64",
        "path": [
         "vectors",
         "compressed_buffer"
        ]
       }
      ],
      "model_module": "k3d",
      "model_module_version": "2.7.0",
      "model_name": "ObjectModel",
      "state": {
       "_view_count": null,
       "_view_module": null,
       "_view_module_version": "",
       "_view_name": null,
       "colors": {
        "dtype": "uint32",
        "shape": [
         316,
         2
        ]
       },
       "compression_level": 0,
       "head_color": 255,
       "head_size": 30,
       "id": 140589732862096,
       "label_size": 1,
       "labels": [],
       "line_width": 0.01,
       "model_matrix": {
        "dtype": "float32",
        "shape": [
         4,
         4
        ]
       },
       "name": null,
       "origin_color": 255,
       "origins": {
        "dtype": "float32",
        "shape": [
         316,
         3
        ]
       },
       "type": "Vectors",
       "use_head": true,
       "vectors": {
        "dtype": "float32",
        "shape": [
         316,
         3
        ]
       },
       "visible": true
      }
     },
     "1d2b6942ffb1453aa16a490d0a00e2eb": {
      "model_module": "@jupyter-widgets/base",
      "model_module_version": "1.2.0",
      "model_name": "LayoutModel",
      "state": {}
     },
     "1e6407c753a24a9a89f3e4f9e223a199": {
      "model_module": "@jupyter-widgets/output",
      "model_module_version": "1.0.0",
      "model_name": "OutputModel",
      "state": {
       "layout": "IPY_MODEL_6b746f987c2e46e7b1af9601e3d73e4b",
       "outputs": [
        {
         "data": {
          "application/vnd.jupyter.widget-view+json": {
           "model_id": "c6cd653249054622a191d860b5e755c6",
           "version_major": 2,
           "version_minor": 0
          },
          "text/plain": "Plot(antialias=3, axes=['x', 'y', 'z'], axes_helper=1.0, background_color=16777215, camera=[4.5, 4.5, 4.5, 0.0…"
         },
         "metadata": {},
         "output_type": "display_data"
        }
       ]
      }
     },
     "2291ffad0d4e4933b4b6c2544e6c681b": {
      "model_module": "@jupyter-widgets/output",
      "model_module_version": "1.0.0",
      "model_name": "OutputModel",
      "state": {
       "layout": "IPY_MODEL_058168a20dd848b7847219c680e83a86",
       "outputs": [
        {
         "data": {
          "application/vnd.jupyter.widget-view+json": {
           "model_id": "b1632d900a35457b9648c4febc0a400a",
           "version_major": 2,
           "version_minor": 0
          },
          "text/plain": "Plot(antialias=3, axes=['x', 'y', 'z'], axes_helper=1.0, background_color=16777215, camera=[4.5, 4.5, 4.5, 0.0…"
         },
         "metadata": {},
         "output_type": "display_data"
        }
       ]
      }
     },
     "2337a006445b433eb273fb464ba3f217": {
      "buffers": [
       {
        "data": "eNq7PcOEwcbnOUPCOnUG/iMfGda69DF8/PCGAQB5NApc",
        "encoding": "base64",
        "path": [
         "color_map",
         "compressed_buffer"
        ]
       },
       {
        "data": "eNpjYBBzZsAA2MQ+ODIwLDiAKtZgDwBXFgQD",
        "encoding": "base64",
        "path": [
         "model_matrix",
         "compressed_buffer"
        ]
       },
       {
        "data": "eNrtwUEJAAAIADHO/qFt4F/YVocJAAAAAAAAAAAAgOcWggEqMg==",
        "encoding": "base64",
        "path": [
         "voxels",
         "compressed_buffer"
        ]
       }
      ],
      "model_module": "k3d",
      "model_module_version": "2.7.0",
      "model_name": "ObjectModel",
      "state": {
       "_view_count": null,
       "_view_module": null,
       "_view_module_version": "",
       "_view_name": null,
       "color_map": {
        "dtype": "uint32",
        "shape": [
         6
        ]
       },
       "compression_level": 0,
       "id": 140589028804048,
       "model_matrix": {
        "dtype": "float32",
        "shape": [
         4,
         4
        ]
       },
       "name": null,
       "opacity": 1,
       "outlines": false,
       "outlines_color": 0,
       "type": "Voxels",
       "visible": true,
       "voxels": {
        "dtype": "uint8",
        "shape": [
         12,
         30,
         30
        ]
       },
       "wireframe": false
      }
     },
     "23d3f4db9cae440e9e510c4fc7f4d46f": {
      "model_module": "k3d",
      "model_module_version": "2.7.0",
      "model_name": "PlotModel",
      "state": {
       "_backend_version": "2.7.0",
       "_dom_classes": [],
       "_view_count": null,
       "antialias": 3,
       "axes": [
        "x",
        "y",
        "z"
       ],
       "axes_helper": 1,
       "background_color": 16777215,
       "camera": [
        178.20951271487635,
        -267.6892675272504,
        12.735951223096272,
        -0.14999938197433949,
        -0.14999938197433949,
        -5.099999986588955,
        0,
        0,
        1
       ],
       "camera_auto_fit": true,
       "camera_fov": 60,
       "camera_no_pan": false,
       "camera_no_rotate": false,
       "camera_no_zoom": false,
       "clipping_planes": [],
       "colorbar_object_id": -1,
       "fps_meter": false,
       "grid": [
        -1,
        -1,
        -1,
        1,
        1,
        1
       ],
       "grid_auto_fit": true,
       "grid_visible": true,
       "height": 512,
       "layout": "IPY_MODEL_80501a90f1e14b579a32d822b9a0b8f6",
       "lighting": 1.5,
       "menu_visibility": true,
       "name": null,
       "object_ids": [
        139916191463888
       ],
       "rendering_steps": 1,
       "screenshot": "",
       "screenshot_scale": 2,
       "time": 0,
       "voxel_paint_color": 0
      }
     },
     "2506e25699404c28be8e6f7cf031ecb9": {
      "model_module": "@jupyter-widgets/base",
      "model_module_version": "1.2.0",
      "model_name": "LayoutModel",
      "state": {}
     },
     "26a27cea21524498a42c743f3ef62793": {
      "model_module": "@jupyter-widgets/output",
      "model_module_version": "1.0.0",
      "model_name": "OutputModel",
      "state": {
       "layout": "IPY_MODEL_2ccba8f27dfe4e7583900861ffa85321",
       "outputs": [
        {
         "data": {
          "application/vnd.jupyter.widget-view+json": {
           "model_id": "0d3775855a0f44b38917e07a839cfd60",
           "version_major": 2,
           "version_minor": 0
          },
          "text/plain": "Plot(antialias=3, axes=['x', 'y', 'z'], axes_helper=1.0, background_color=16777215, camera=[4.5, 4.5, 4.5, 0.0…"
         },
         "metadata": {},
         "output_type": "display_data"
        }
       ]
      }
     },
     "26e6ecc1114841cea2f6e2f6cee62aee": {
      "buffers": [
       {
        "data": "eNrFmNlv1FUUx9VH/4Ki2Ok23SiVpY2BspnUUlEIhKYhiGAoilSpiJSlgKUr02lnXHCJIgquuBtUJAgR4oYLRkSjYKCRppL4Ykx8Myaa7z2fm8ydTGYIBB4+L7/e5Zzv995z7jQ+d/pV8f9JLJ8skuvGObpLRSJZKAafioiB5/JFbE9E9L9cIPpeKxI9b5SIrrdLRed7lWLL+9Vi00e1Yt2h6aLtaKO4+8tF4o7jq8RtP/aKKad3i+jwEZE3ckbk//63iJ7/NwW+M455rMO67MO+xEFcxEnc5EFe5Ene6IAu6IRu6Iiu6IzucfMhfvsMkWiZLJLt4xw9UXG5/Fj5RbNAp7knuwQ6lg4fFhfqB/NYh3XZh30vmx+mKzqjOz5k9eORQnGl/Kg7tUug65iR0yKbH4xjHutcMT9Mx1z9SK6Y5Fhf6eiNiov2490K4f3YXyPaP64TDxxpEPd+3iSWfLtSzDvZKaad2inKzx4UY879Im4Y/UuEfvCdccxjHdZlH/YlDuIiTu+H5XHRfpiuXmfT3XthdSt5z0THxkpHX1Rk9GN3RPS/VCD6Xi0UPa8Xi+63omLbO+Vi677xomP/JLH+4FSx5pN60frZfLHsmxax8MQGcfPPO8T4M/vE9ed+EGNH/xShH3xnHPNYh3XZh32Jg7iIk7jJg7zIk7zRAV0y+mG6ep1Nd3wYXFAnkqsmODoqHP0lwvvxZETEd+aL2AsRsX2PI+e69cGNgnrw0KGZYvXROWLFscVi0Xdt4taf+kXNr3tF5LevxXWjf4jQD74zjnmsw7rsw77E4euUxZlrnUIHdEEndPN+mK5eZ9N9cP40MdQ8RSRXVzu2lju2l4jEo4XC+/GMY2BXvuA8bH/R0fdKoSNHXzYeuEmsPTxL3PfpPLH8q6Wi6ft2wfmuOHtA5I0Mi+Lz/6TAd8Yxj3VYl33Ylzhy9YE8ydvfC9MFndL8MF2TW8odpjs+JJbViuTaKse2MkesWLDO0I4CMfh0RMSfdaT5Et6XLHUs7Cv0U85ty7ElgjpDH+D807+B74xjHuuwru/bQZ/ItS75+xD6YLqgE7p5P0xXr7Pp7n1oneDg/tD/B4oF77ShxwscT0SE98XOAffT+2P31vd9+oydq969RaL7zagI+ww6UUeo84uP3y/Qm3cU8J33E/N8PbJ10/qCxUFcxOn7guVBXl5/y9vfB3wwndDNv3dNV/87ZFOFI/SBv9M34sWORJGDe/KYEfpjfSvNJ+6R9beB5yMi9Ct7vSsTnGPqzIITHSnwnXHMy1pvQr0tTuImj1B38g71Ryd08zqarr6PoLv54P0bLBLeP+4HvtjfE0NG4BN9Js2vELu/Pv5MMI68bD//PrH3InXX98ENlQ7ehzbPx3Wh+2fKg7gs7zTd0Qnd8CHU1/7OutRBX+fImzmxDIR+hb6F/oVkijM8N/Q96qz9fyHWMEu0jW1MITZ7pvC/b+mLrBPUgaznLlPcQfxpeWTTjXNiunNP6VvcR+836/Me6L9EcL75XYQ+9Dd04/eSvT8Sd9WIgTkzREfVbHHntQ0p8J1xzPPvR9ZlH/YlDuIizkuVN+9VvDOd0Z13HH2NeplWv/Aj1DEbPQHkG+r/sEEf4/81bdWCcz64cKrorasXayKNovma+hT4zjjm+fti6/p92Jc4Qn8gzCdXHdANP4L6hO74sPnDiYJ+ltGPXHXORJfRWebgd87mCgd1/8Eqh703EktrBb9fu2pvEa15jaLp6voU+M445rGOf8ewD/sSB3HhC3Hnmmcm30I/rE6hOz78B4/8xgI=",
        "encoding": "base64",
        "path": [
         "colors",
         "compressed_buffer"
        ]
       },
       {
        "data": "eNpjYGiwZ8AAxIsBAF7EAv0=",
        "encoding": "base64",
        "path": [
         "model_matrix",
         "compressed_buffer"
        ]
       },
       {
        "data": "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",
        "encoding": "base64",
        "path": [
         "origins",
         "compressed_buffer"
        ]
       },
       {
        "data": "eNodl3lYTs0bxyvte0/b82QnS0SyhOqZeyQUr30vsvdmbZFsIUuklbQKpVVKSOtbZ+4JKUSLklBJyhoV2elXv7++n891zZzrnDP3OffMf92FsMsoD7zHLkbzEg4jF9aA3HQRhkwrBv+vL8FoRwbT0bwLhwxeg2F9fzZyYBlQu1YIPDS9sDzkIXhtaoaKPyiN3lwBor+N8GLmOPI7uRIuP34OmcbbSbR1FbRMewpBhcFkxIAqUFr2BD7+k0CMoRIUVWuhZHEOMT9dDsXTH8OyXXfJStkHEFlfA29EDeSx512YnFwD+tu6yKzi2xC3qgZyHJVBv5CB9aVqcI8SwxX1XFis8Qjq1U3hxNwroNZQDkcWTAf9jjh4bnIP5B85wXyb0xByncOVuIOQ8HQfXG67DhdkT0P+DHs4CufA6lgCrH2oDv0rvSFWOxvGjAkkK8+Mg8NDb8HYou+FmocyiLfOfehJ1uu9POrHYNy/+Q47aXwLbkk2oJ3FBIzXy4ZntoG47dJOXBeYAO/mXsQM/VC8qHEawvdfx4WbErBVOAj9ygUcNe0qOnU6gbd5CXoMyUUH1+lQ6/AQA2YUopOJKbhWPcIRFxBDr4vhzLdabGksQpG7MtxRe4afA2+hQ0gXmWhVj6byxbjBrIGoJzTgjMA7KB94l5gua8TjjqVYsymHpK9tRNlz9zDRMYFcvteAWVsf4JC7wcTxbD1Oqq1AeavtpK76GR66X41nVowj27zr8PL3J7hIkUsL/B/jzJjnWL9wRmHX6yr8ObABkyYNYJHbH2J37FM8cy2DWZrfRfueazZaiPBp+W3M2HYNnxkvwpAp0RBeWQOZ7UswweksXPzYCXamOjil4xz83SBDfd3T2JqSWLDKlaPHJkjYJ794kEmRo+dHGRR6KCbBtCBZmhhzU1ptkAI+w2Sod8g4MiHyErwL/wPTnm8ji7enguasX5C0P5jInkiFbvcfEKWWQOxqL0GD+nd4NCiHNC5KgSF/vkLpkrsk90MiDO73FUxkGsjt0Iuw3aIL/By7yJNR52G20he4N0cZrEIi4ei4TijZJQYP/1PgOfYTaN0fDfpVJ+CQ3TtobLYBA7l9EHfoJUyZ6ATmI9aA9PBjmFp1AF49lsLe9NtwP+AUxJbrgbZtGtiJEqDS9w4588EP3uRnwX+HhpObvy1h5beboHknXRB80oiZ0n3oSdbrvUw8dXD5xB9s4/ebEFZni4vCl+EjIQvEUTvQ80wIiowSYPOlE2ikkYZGkafgqF0Y8laGe9oOgKXcBZx6pwytFjrBsZNJeGr6Y5wsMx1iN6bhl2vPUbVlNDh2XEUNnSZ0DxRD444beG7wKyxyUoZoxRyM3tqKxvu6yPeqXJy06A3KiRvIuFd5GDbgHeY63yU3pudjl9IHrBmTQ4y+5eHsKR/xul4CqZfLw7aydsw8HEwmbM/BQVWfsfDlNlJJs3C6xTc8ETSOVAVfx6yMn/h3501p7o4MXH3sD0pyJYV3f1/GvVZ/UemShJWvScFI3Z84vyiNxfxKwAuBH3B7T81smByPzqfL8bbBEoyftBHkrD6A8v5lOCR4A5Rtk6fHLmvh72ObwHSmGpXbnsL8qlxAfFuDpr8XMZvKbTBBQZPejckq0Glzg9d2GrSholj69Lwn+E9Wp4F8HDnutRsGDVajCou2keGj9oJkuCrdahRMfE/shUnzVKhmXjy56rYHpGHK9MWnbNKvahfMe69EbWbfJQNi3MGPKlGNnv9VVe5W2LtPkRp7dhFN9Y2Q76VAvXrqascOB2hRkKfOS8SwNH4eZLbI0nHuo6F0PgUrjz8wwdIG9n4fC1f/foZSk9VQ9l4CiuJWiHH2hrPTZMBIqwo+3AiBLw1FhKnkQN3UeOjruo14HjwF7lpZsE9puzTZ1AYqz9+E+DnKLPNVMqntuAc9yXq9lzcvlUHFrSLsuHATHsUPw4QfO9FeNwtqntrg0lEXUXdaPGwdshJnPGWow0LAuu8W1NtVjccPeoP5lN14tKQZ62xWQ+0tHyw8+BGXL7KBMfXHsOprF3YeHw3yA/zwjMUv7HAWQ1qSPy7+8xfdHJRho28gWryT4V3+XaS2OAgdteT4oCENxH9LMJqJ+vDxPd+mg2cwntCQ58u/ZBNsDkInfQWemBtPVhUE4p7JitxFP5hY9gnAjL1KvFq6jXiV+WF0tTJvPj+O3Jp4HK+OUOXjHYqlZi5HsXuwGn+/uKggNtYHs8VqfEuwLtsq9cblJcp8XXUK8w3cg2bKcrwGtfDNt92o4/Maz7YuxWdTdOHttN/Q6bcUqw5qw+UfavT7CXXUWqUFIQEiqrbyIvMs14JqVX36OU2VNQTqAPro0w2DXvwnkdODGi19ujDojrTqlAEsnK1HB+ePJeOyxPDMQ5dGN7uQUHUjGJggomfUA0n4KiOY8kKHzgmKI/4+Eggx1qHVt24Q302GILdRm04bVEI+yerBn0AtWlz3jGgv0ILEE5o0W/0zUZutAkcmaNAjbxRhe6ssJGxQo4cSDaBtRCd5+USZdi0yga2b6omapQL9GATwQruY/FCRod+erQS++hLJtOyAosN7wPmPL2kf9RzUI4LA3GgK+VjHQDoxDrSzL0qpYyR8PpQJw9PNhCGX7GFUWREULZjKStMTyL94D3qS9Xov79vzghnVjsCgB0XwV1cJT5WewGdHMyHppwGaCNfwoWUcqD4bjMXbyvH6hSDIPGWCoRktuDx8D0z61wwDArqw49NKyO87EbM2yPBrcQAnlabg0bXy3HGDCbjZW6FEqsSfXDcA8lKK15eqcO9ORdhXDHjzvSq/L/lMJr2k+H2MOh/94hm5PmIaahINbtvzDg/4Ubw3UZPnCjeI8IfgBmMtPuhwHMkNsEYHiTbv+hFABtpNxQ0SHd6S4ULur5uEoweKuIHrWPJ2hDmu0tblRXnFUif1MaiYqsvLBIMC1bMmmLREl2f7qrFTK0fgxDZtXld/kVnlDMcjm1R5WG5PzViNxEq9H2huuxT/0TtCVPb3oQuuLEAw9SC3TmrTq3cV0UdpHTnjb0DlraKYvcUysqxCTG+96RZeOy8i7XMltL/NO8sBhYtJpKKEWkXdlFakLSeCp5i2N40kBu2OJLLMkN4PXUuSHjsRx0GG9ObQE2T4tDVE28OAWpnFkCd+q0h0gT6doptBfq1eRh526NG7A4tITfo/REdBj27xqCHcH4jDCxFt1vlANEeZEZl/dWimbB+YU9mXDHPXoo2mIphcoUDs7qjT/wYYQ79HT6Ur9VWoh+dUqLZLkia+7UN1SxaBY9Viqe3UH/DGzw1afcKtG4NfwdPVJ2H2lsLCg94lcHzCOah+cl64vC4W/ltzFV6PErOAsCXwvB+Ha1ruTNYkkfyz5B70JOv1Xp596iZzL6RYPYCDum4lm1IXgaUbrsKxidXsjx3HYVPPwfGUSrbPvQEPbzwJs3Y/YP4fP+OgSDfQKLjLRKGyXL5mEVSMLmFXvilylcNT4Z+bxWxwjSofYGIMqUOK2ccEDX54oghCntxmXnlaHBT7gJ7nbeYyV4eH6H0gUeG3mFKgiJ/ZUUOGdBaxmtO6fIN+EXm1FNkCTz1uJJdBpl4qYDbT9fl7gxjyuzOH5akY8Al9TpCb26+z7Q8MuIZ0LeEBaSwpwJDbu40kyUrJTMdczE2ci6Tw8iL7fELMJ8QcsfQhceyjrpg/UJBlob8vsqfl+nxlYxQrV0xhmqVa3NZACaNzrjDzK3J8ubAAMSVU8A1QpN+vz8QIm1tCnoOIxoz/xey9/gh62w1pyfIA5vRMn8VNlFAyr0UYedKY1ftKqOHlIKuBA01ZJUjosGu5UqJjxlxuiWlHWX9ikWXGvk8SU9vMhUS5xozpxBvSzzXe5E36OLZL0ZA+OHmazP86nrmsMqDZqQlkr/Jk1hitT7s7s0nQR2t29boe3bbhLpm325ZFhurST609PVE6l9kPE9GOLd/I+yvLmI29Nn31VQUsVNayJ+UadEGxETjtcmEHPFXpGxwLpkNcWXSFAvUNmwkjLuxkL07/hbCP60HRy4vltLyHi0OOwCfjfazpTQXcGBcOlm2HmVJbKry+nAq3+gQxg7ebYHRdIbj2u8DG+l0mS7zuQk+yXu/lbzaJzOvTOlR4XgjGx4PZE5tUDM9IhQOdG9kY20pcNjEczAaMZdEvP6D98CNgf/mvMPFFN/7sWg+PHmUJpb6KPCBmJgz13yd8GaHGG4vHwlY9E2HPXk0ecLfnWaY8K7zdos2ffVcBWfsjhXOzRPzs5m8k4fPHgqX6evxxYwOp2DVt6ohR+nzCsrtkgX+71RJVAz69MZuc++JmrVxiwF8FJ5DovXnW+tsNeYfzadK2+Jf1JwUxf+HtTex3D5DujxRzV7qQxIdbSisHS/jbqf2JJHOO9EOUhKNZjtTezV7KayR8iccqq7Xto6QluyQ8ufK1kDf1sfW2aEP+TBLIXkwItlq3Q8SbFX8zt7S9haNOKnJ9ySzcv7icJboo0ffmFni8pp7lr9OhWS4vWFj/DlY/WJ8+z/dkb2tkcNNoA6ry8o4wpUwRTw82oNpl0VZLU1XRP1efdnTFS9f/VseZE/RpQJcaubFEE4PS9Oi0dEsSZ6yF2UP16HPD9WReoRZuj9SlHrlHiOFcbXTuFtGm4DPk1UdtLFokooEBiaQxUQeVTujQRN8cErVWhLNDtGmM3T0S2kcXQx20aGTCCxK/RhfnV2rQ2Xt+ki4LXYRKNdq5UR2WS0XoOVyFxjoPgPj+2jj7kAIt+T0BIv3U8fsyGVqgMg9Clyph4oUOqA7cDrWCDKbVP4V3V0/CthmfWbBPLvjG9pxRYloZWPnA6oM54LSzjnUcyicJgSXQk6zXe3lo6QEW1u6H73xy4GJah5CSz7G4Z+7AU3GW24xfYUrGSUgf90DaEvkTnfy3w+g1FuRtqDxfrTwP+jrsJKtdVbhpz73Znz9FckvV+e9NA2DC7Yvk00gtvnuDOjRdzCD0lTZf4PGTSLfkkTgzEY+IfkFU1TjxGKPLH0y9R/ZNukNavujyde45JNL5PpkVoceHuieSgA/l5EZ/fb51+xlS/foRSQ7T52eDjpD5drWkWc6AL7i6jkTdqSPbdhjwyJGWpOHZU6L0tIfnqhFXoY5EU0PeZHtRusalhnifNOQl1dutQp6UkbU99amdeFdYn4Tk6lQD7rHFi8V7XiXyC0T8lXsTMy6PJ6WTlTlrs8DT6YAxZT17Euv+uNxiFk600aADGwtYcvdCvLlGi8qZz2Efbjiiz1EtKksvCR0jNqCerBadv2OXZaKrC7qs0KSrYn2k+d1bsTVLg7qQZqnGsh14dJAGTWmSkE3PXDEqSp2W77cmU5+74RoDdara4EiaT7qjcagapa17yay/7jhOXo3O1gwkc8ADr2xUpcltMcR5mgfKpKnQ1klXyJc37phepkz3hnASpeqOQQVKtD3zMRm61RVfr1ekK/a0k1bchqJ4eXrFSwmmXXfBrTZyVLVQAi0v1+OCO3/ggtI4mKTsiKXnP4O0ZA7M11iIXtJmsFB0hXzbGej+4g4c0AuG64WT0elNKBgFpoJk4xBke6sJuX4TepL1ei8vTVFhZ/elo+2xVJjWVCH1uVqPdxSDIVPlFGkN/YY32nZA89Rqsum1HL+fPQdsNveBp5pKXOm3GQwGA3C4qML7ZknAYakxPJivxv3clCCibSwM363O67e1k9ovFpA2W4PPSX5MhhlJQeeNBrfx4USrYRocXqfJNYZeIRbnZ0DNTU0+63EM0Y20g2N6WvxARwB52TEbFqzW4pGxe8mQwn9gYYIWtzvhSPQ+zAW/D1rcV9uaPFw9D5qJNl/oKCHfKuYCjdXm5m+bpHfezAFrTR2u8uiA9NEEO3hzSIe/cNLIj7CzgYwSnZ4+mCaM1bOEMf/q8Ckf/mHJceNAU6TFNysJ7FqtCQzYrcSvkAE4rDsQV6nK0ujMDibX/xROXK1AQ8oDWZh1OO64qUA3pvZjF4ecRVtZBar9LEQIHnABX3f3oY75AwvpwIs4Qa0PPVtlKE2zT8AbU+RobEy0dPzDRFQ5KUtbLJ9Jw58k4fEuGXp/ryqp9U/Ge7tkqE+HMfH6nYzvZGVo0QxCLKxScNrwbvD2X07m/pOCB2f9hU/57sRtTArGrv4DZk3HyY2aZKxz+g269hHE0iIZ98Mv6HMmhShbJeGhjz9g//wCMrMsAcXzv0PixCryoeIiho3+Cjts20jixFhcKf4MZepKYNYVgxvGfgThVl8YSKPw0OIW+OoxGWLiw/DlkEfgZbkGlpw8jesjL8Hj0CB4+Po4zh3wi7iG3YCeZL3eyxE7AqWnXjXgrSVBYDCqmtxv+Y3l1U4Q4jsYVGL78EGTJ8PFopkQu0WB74/vCxX914HjVwVe8EMR/J094a+SIq8ybSO6zochvE2BGxpXkaVPjsP0EgVePK2AbJQNAKt4BR7pm0K+TgyGjKMK3N4ygtzIOAXB2xX4s/Lj5GpUKNxdq8Dnn3Inelph4OGkwJVXLCcjhoTDWhcFPleZkH614RB1WIEbJxsTi5ERcCBDgW/qp0p2y0dA1hcFPmLBU2no/HBwdFDk7m5R0lnNZ6ChWZEPrdSTPg47DaeClXj8cLNCiW0wdE1X5rZzQoVCWX9IzlfmSeMHsMztvuCoq8wlLUHsQsQR2BrThze+/syycvLxqEw7GBE/pmVbgFuNO+FJzEhWtQHxml47FGXUC9F3buEHgzbQdDshuEWU4NmR78A19U8hxt7De+deg2zjnfxTbWX4+VgLDD7w1PrLhYc4/Ukz7HNYILWqKcfGYy+htV+49Gt6BVbvboLcJCZNtarEM3Ev4JNMq/RMSCXadzbCAHNFMuNaJfbb2AhVXhISFVuJD9ob4MGyMeSFQyV2hzeAygwbsvF5BaotboC3cStIVP8K1BzRAOOz3UiOUTmCRgMcWutLNtc9QMeuesgIOEO8vcpQK7MeBlslkJIZ9/H+/eewwjObyI+4j9d/1oGG4QOitfshzpldCWlHO0mT4jMsV8iC1qCB8Bo+4klvBUj7uRN6Enu9l++tryXCZjVepd/Tc3ERmM5X4daTOsg5x2OQ2rOOWZFl5IdFOGhPkuOe07JJW0McPDbqRvNhCWTsulR43PoTdxw+Q47cuQqmUd/wo4MvGZOaBSEyXfg63Y2kb8uD8p+d+CdyBVm+tADUt3Sg81Qb4nZGgLgp7agwawzJsUNYtPwTZq+TkNkBHIoLP6KXviIx/bcIRm/6iAH5LdJPDUWguegjimcz6Y/3RaDq/xFFKWHS6oNFMFD8CVeazJeO8uGgodqO5etqrdMfMSjc1oHLuzf+57amEB7afkYnV1mhqV8+LD7Uhee0TwrjIBtqy7/hlsuNgl7QdZiw6Ad6fjZhJuOvweAvX/FD6UnWPiQP97l+hYPPR0nnTM/HfSFdoKEvFb4NFjDcoROU08OEcN8iPFbzEUy7o4Vqv2JcGvseMsf7CbUvSrHmzZue+lkuZPjeR8vcVljubyB4+T/AMX9fQeqry4W+quXondYMF5xYwf5BFViX/hLqG/tYz3tZgdmdTbBiY6r1zzWVGODeBK41faQ+CZVIhzSB5oex0svXK/GrbBO4j10mXR5QiTt0mkBl4F7pKrNKfL64CVZqBEi3na/AF2VNsKE1TFrwtByveL+Ef6dGSi1+PsRhK5pB0yVImmz6EPUnvwLzE2uld1se4JGUV3C7tdL6Oy3HZVua4cbRlsK/5jU4/exzMLsrw2z9XuNrWgRmlgnsymF57jpaDAlWFtiT2Ou9PD7/CZE5qcfjDC6wc+eWQmONFreI+iY8POELn8+qcnPb6sKrMhHgsViRy0qfWps4XISKt3J8S8N6aWlyKjhOkOEmI4KlNW+vwmPxbzTHSGlkThYMuv4dp8wOl/psyYOTcl9R1jFASmcUQNnbz/jy7F5p2E4B+vzTibNCl0nd9BCu6Xeg1NpMGm3FYZBlO9rpyUs/dHLozvyE53mqtb5VEcj7fMJ/F8pbD1UvAu/knjocyAp2LeNwYFw7HlFMK2ySR1g+ugPP5RkIs2QFSE/sxOyU5cJL6X8wMekLftvoJ9iU5EDN8G84w+ys8PF1JgR0/8Cc7DDh2a6r0HTpNx5rshLWHc+A2Yv+4JbE8dJ3iseReijTis4DZP4sP/xarUITVfdLRfcCceo9Zdqq+LXQh5/GN8uU6GDtM0LU2ghs/aVAB2dmCnUrzuKcWnnK2rKFfmHnMft9H7p7VJoQ2zcOSyf0oe5xZ4UShXgcekmOpr72E35sTcBT0+Ro2js3QW5TIn77IUst9JcKrnJJeLNMlnokgpAzPwl/5MhS+zhzwXdREmrlytIPnqZChVoSbuwZYx0zXkjam4j2X2Wp7Qo7oSo6AceMl6NLcz2Fuu3xqLhHjn7wuig8kLmI3zLl6BbLl0K6WywaXpejUUbDWHD3eTz9W5b+s2Y3OzLlPE5+8xdMUgqZrsUFzBveDiZqIjxnE4/lf4thY/4GnLEzDoe79Ie+8im9+X/v5Xmzi6w9qAxfcmk9nsgsJXFZGrzYQgfXL+sHN6K1uW1GATP4ReHVDG2eYe3Fpj93gH2/NHnzBmO2U2UH9PPR4HNpk5CY4A3cSJ3bsDhhx5ejIGpW5UU9xbNzkR+IGlT4+H9nCXHXA+CMigofec9cUJseDGPXKfP8vNFC/MhTcPyFEg/sGCc8330aNh9T4kZ/iTDBKhQWzFHilTuXCP12hkL8JCXePcdNGGYYCnkzlPi3KD/hruFpSD2kxMMXnhU614VA/RslfrDusmDZEggjTihz7/BsYf2Fk1DrpMKzZ2YKESm+4L5dlV/ZEyqULTwMjZFq3FGrs7A+bR+sdVbnZ5Yfkmqke8GBV6p882kfsth4KLoyLTrn/S0yrO9IbHPSpYNX6pJdQ8yx0UGX9lmubq22xAoN3UV03JrDwh/TGfh9pw6d+7VU+Nw6F02jtemh4FYhb9xSlH2rRX1+tAm3ZRzxc8+eX775nXBn5xoc8V2Tquu8Emyy1+OPNE06Yn29UNe+EeO8NOl0rTrBarYzzl2iSdMPPhH+q3NGORtNWlL7XPiT5ozDpJr0wO7Xwtdbm3rWW5PuXP1TqBqwEU3natJzi9WZwn/rcMUiTVoROZS1xjjhEmtNuiJnJrNrdMDL9Ro0bdl+tvbmMlSrVafeXxOZQ/4i9FmtSidsb2R9j87Hqzny9NojIxw2cB6u7d8OR4QVOOzgPBy/NQ++9A/HyR9m4oh5mtBtU9ib//detn20j0X19PJ+v8JwQUKzVXF+T79zWYGP9KeTBjlN7hBihHn7k4lujIg/UGlkbw4+JRKix29cSWTjlslCZZgeT3i9jy0S6YDiGj2+c/VM9nFXf/jUc74zmTuUpYwfAZsP6XJtkTorKx0LEh1dntryQ5gSMRFGZ4r4GMXXwqb6KSDvLOIem58Lj0qtYNRYEc/XfiIYbpfCfTURL4p9Ity7J4VgGRG/+Om5cLTSGv5qivj8s83C9E2WkGsp4ued3wkDXCxghZ+IX/VsE+zvjQO5PyK++FeLoBVvAjrndDmzKxWmzxkMRk56fKWPj3ApQAyrtPW5+zoD6z23tKG2Va9nrh555a4OQ011uMfkYrJqqwszOyOikxa2kRsWXmxxqyHtUzSH3LH2Z6KnYhq4UyK9s+w8czompjb7VwsLuq+xH52G9OScKuGD0S1W7WpId3nJsqvnq1i5kiHVe6LGVo1vZJBnQIdN12Jj294wVW8DevepFtPXbWfJ8wzoEw1tlv3lC9toakBPL9RhNnXf2DCRAY04p8dqv3xnL37r09pCI/bF+Tt7+0aflp01ZgvhK2MV+vTN7gnsgl8ne3RZn8pNtGfjHdqY5yZ9apfkwvI7W1lBgx6VKAUwmcZG5l2tS5Ofp7Gh4+qY/S0d2rzsGSu7Wc3ex2vQ2SVa+Ny/hqmsV6BRxYB/TjSyqaJ30FV4CLXTupi6Yjpk903CjAnKmBqpCNE/bvbm/72XgxfVswWDM3CufhLmHz7PLu5uw/4Jh3DIY2AbfJW4xSXABtNUIVZJm+emaeGm9utWW2fp8enDn7GMw3HS+rUG3CozjTUHaZBbGwx5UpM/a14L5PETQ35hnQub5Pwv+a0g5qZddizg2FFySUvMX1lNYJK8EGKjIubf1xiziMIosuaPIX912IiFPb1AVDoN+YG1ekw8MZ5ovDfkx3V1WPWdeLK4h2c/0GLhHnEko8uQz4vUYrGKMWSPhpjP/63JyleGEvnJYq4SpMb6eBwnQbvF3HKYLLu835UcrRLzyLBKYUvBPFJmLeF6JY7CnZqx5LirhN9L6Cs11jYgJuvEfEPAP6Rrohqx6hbxv91tZHTIZDLrsg4tjZAB0blJ5PlLQzrwiwtZ5zCQHNoloVoajtKWPT+kZ6Ml1PTaDEEie0W6xkNC6/6tEbbE2Ek75kqogrUy675/xtp1soQGzTNgV1o/FewdJaGf9vRjR+vqCy8PltAbtgNZUNYoYZJEQkc7D2ZX8xYLAZoS6nPUmI2Ysk040i2miXkmTO3rLuHwWzE98NmcpZp5CFGlYvrQirDiynXCyAgxPdI1nyl/miGcmCmmUSabWdvJQULEbUN6wO04e3f1faHxWwPq+CCWpe8+V3h6sz41/XSLlU/ZVFibJaJfN3xjk08kFrIMDZr7ZyBGDJwhjJkkT4fyhTjo/Wuh8vcrWJzrhwomW9lJ62QY7ZeGDg9LmPG/KlBiVow9+X/v5Vp/CS5eGYFjesbc3GKASaVPsDTLD13blTHxQDcOyl6ImRGfWN9Dqvzzx4EYLf+AaXhp82PTv7HiBVfYiCe6/PzDWywi9TT7W6XPn1yJZUbnPZm1giE3X3ScbRw2j0XfMuRVH13YDqkZO2Ut5lEF81mWiSFz9hdzQZaw0NkKzKFQzFfkmbMc505h3zMxT95vwsq3tAj/tIm5vq0xcy9qFpy7xPzb0MFsaEebcPqrmJ/uHsCslsux8s9iXjOuH2ufosfcOsR8Rh8Dtm2DKWM949M/KLFNsfbssqKEBxRWC37dLiy6r4Q3mdkKlSeOsDNvxdzlwSqp8Mifpcw35IU7NxPrOf4sQE+Hv70sA/8DcyTqiA==",
        "encoding": "base64",
        "path": [
         "vectors",
         "compressed_buffer"
        ]
       }
      ],
      "model_module": "k3d",
      "model_module_version": "2.7.0",
      "model_name": "ObjectModel",
      "state": {
       "_view_count": null,
       "_view_module": null,
       "_view_module_version": "",
       "_view_name": null,
       "colors": {
        "dtype": "uint32",
        "shape": [
         750,
         2
        ]
       },
       "compression_level": 0,
       "head_color": 255,
       "head_size": 10,
       "id": 139916095286608,
       "label_size": 1,
       "labels": [],
       "line_width": 0.01,
       "model_matrix": {
        "dtype": "float32",
        "shape": [
         4,
         4
        ]
       },
       "name": null,
       "origin_color": 255,
       "origins": {
        "dtype": "float32",
        "shape": [
         750,
         3
        ]
       },
       "type": "Vectors",
       "use_head": true,
       "vectors": {
        "dtype": "float32",
        "shape": [
         750,
         3
        ]
       },
       "visible": true
      }
     },
     "27f640a73f0c4ec5bb72e1f6008d3a2b": {
      "model_module": "@jupyter-widgets/base",
      "model_module_version": "1.2.0",
      "model_name": "LayoutModel",
      "state": {}
     },
     "2877edbde0e140f0bdbc861142deebf3": {
      "model_module": "@jupyter-widgets/base",
      "model_module_version": "1.2.0",
      "model_name": "LayoutModel",
      "state": {}
     },
     "2919df00ac374f9a975836b8f024a7fe": {
      "buffers": [
       {
        "data": "eNoDAAAAAAE=",
        "encoding": "base64",
        "path": [
         "colors",
         "compressed_buffer"
        ]
       },
       {
        "data": "eNpjYGiwZ8AAxIsBAF7EAv0=",
        "encoding": "base64",
        "path": [
         "model_matrix",
         "compressed_buffer"
        ]
       },
       {
        "data": "eNpN17Fx4zAURVFlqAQdoAAAvxJ04A64FWz44y1FVgmoaE3JlE6kF4j2PTMYDXi75fftz9/H7fbvfrs19ted3fnO+Oxkl5/P43fv789OdmP//P3P7nxn8Cx7s8v87Pj5XL+7sgv77Fn0LHoWPYueRc+iZ9Gz6Hk3sIN9fgbNQXPQHDQHzUFz0Bw0B81Bc9AcNAfNQfO1l/vxar36K/2V/kp/pb/SX+mv9Ff6K/2V/kp/pb/SX+m/9nleCpaCpWApWAqWgqVgKVgKloKlYClYCpaCpWApWK59uB+vvst17WBXdmGfn9dOdmN/3dmd7wyeZW/26Xo3sIO92MdnP39X8vtjTIyJMTEmxsSYGBNjYkyMiTExJsbEmBgTY2JMjHkZ3Y9X0+VteBvehrfhbXgb3oa34W14G96Gt+FteBvehrfhbXgb3ob37Li8117sYFd2YZ/eaye7sb/u7M53Bs+yN/v0vhvYwV7s47Of3vd+vP7329vxdrwdb8fb8Xa8HW/H2/F2vB1vx9vxdrwdb8fb8Xa8nfM8OM+D8zw4z4PzPDjPg/M8OM+D8zw4z4PzPDjPg/M8OM+D8zw4z4PzPDjPg/M8OM+D3yu8iTfxJt7Em3gTb+JNvIk38SbexJt4E2/iTbyJN/Fq3Bg3xo1xY9wYN8aNcWPcGDfGjXFj3Bg3xo1xY9wYN67z+fc9YXJPmNwTJveEyT1hck+Y3BMm94TJPWFyT5jcEyb3hMk9YXJPmNwTJveEyT0BS8VSsVQsFUvFUrFULBVLxVKxVCwVS8VSsVQslf6gP+gP+oP+oD/oD/qD/qA/6A/6g/6gP+gP+m1eNC+aF82L5kXzonnRvGheNC+aF82L5kWzPQc9Bz0HPQc9Bz0HPQc9Bz0HPfz95+/L+z108h46eQ+dvIdO3kOf+z84AO2e",
        "encoding": "base64",
        "path": [
         "positions",
         "compressed_buffer"
        ]
       }
      ],
      "model_module": "k3d",
      "model_module_version": "2.7.0",
      "model_name": "ObjectModel",
      "state": {
       "_view_count": null,
       "_view_module": null,
       "_view_module_version": "",
       "_view_name": null,
       "color": 10075135,
       "colors": {
        "dtype": "uint32",
        "shape": [
         0
        ]
       },
       "compression_level": 0,
       "id": 140588995134224,
       "mesh_detail": 2,
       "model_matrix": {
        "dtype": "float32",
        "shape": [
         4,
         4
        ]
       },
       "name": null,
       "opacity": 1,
       "point_size": 0.1,
       "positions": {
        "dtype": "float32",
        "shape": [
         316,
         3
        ]
       },
       "shader": "3dSpecular",
       "type": "Points",
       "visible": true
      }
     },
     "2afafdbce42b453fad62ebdb74c45a04": {
      "buffers": [
       {
        "data": "eNoDAAAAAAE=",
        "encoding": "base64",
        "path": [
         "colors",
         "compressed_buffer"
        ]
       },
       {
        "data": "eNpjYGiwZ8AAxIsBAF7EAv0=",
        "encoding": "base64",
        "path": [
         "model_matrix",
         "compressed_buffer"
        ]
       },
       {
        "data": "eNpN1iFyG0EQhlGVcGNjY+HBmp4gYeHBwoMFh5iYmATnEOJxguYQPkSOkJLKW3pCH9ja2nrgV+92H393j9/PP7vdG32lL/SZPtIH+oXe019/nn2j3+kT/e/z2a928gx9aryTvtFf9P4H30wf6CN9pi/0lX6jP+xvh4nzxHniPHGeOE+cJ84T54nzxHniPHGeOE+cJ84T54nzxHniPHGeOE+cJ84T54nzxHniPHGeOE+cO84d545zx7nj3HHuOHecO84d545zx7nj3HHuOHecO84d545zx7nj3HHuOHecO84d545zx7nj3HEuOBecC84F54JzwbngXHAuOBecC84F54JzwbngXHAuOBecC84F54JzwbngXHAuOBecC84F54JzwTlwDpwD58A5cA6cA+fAOXAOnAPnwDlwDpwD58A5cA6cA+fAOXAOnAPnwDlwDpwD58A5cA6c1+fT+d5X+kKf6SN9oF/oPb053/tGv9MnenO+96udPENvzo930jf6i96cH99MH+gjfaYv9JV+oz/sb4eB88B54DxwHjgPnAfOA+eB88B54DxwHjgPnAfOA+eB88B54DxwHjgPnAfOA+eB88B54DxwHjgPnH/9fjrf+0pf6DN9pA/0C72nN+d73+h3+kRvzvd+tZNn6M358U76Rn/Rm/Pjm+kDfaTP9IW+0m/0h705VJwrzhXninPFueJcca44V5wrzhXninPFueJcca44V5wrzhXninPFueJcca44V5wrzhXninPFubIbyW4ku5HsRrIbyW4ku5HsRrIbyW4ku5HsRrIbyW4ku5HsRrIbyW4ku5HsRrIbyW4ku5HsRrIbyW4ku5HsRrIbyW4k/4M4L5wXzgvnhfPCeeG8cF44L5wXzgvnhfPCeeG8cF44L5wXzgvnhfPCeeG8cF44L5wXzgvnhfPCORp3XeOua9x1jbuucdc17rrGXde46xp3XeOua9x1jbuucdc17rrGXde46xp3XeOua9x1jbuucdc17rrGXde46xp3XeOua9x1jbuucde1/0zhwZc=",
        "encoding": "base64",
        "path": [
         "positions",
         "compressed_buffer"
        ]
       }
      ],
      "model_module": "k3d",
      "model_module_version": "2.7.0",
      "model_name": "ObjectModel",
      "state": {
       "_view_count": null,
       "_view_module": null,
       "_view_module_version": "",
       "_view_name": null,
       "color": 10075135,
       "colors": {
        "dtype": "uint32",
        "shape": [
         0
        ]
       },
       "compression_level": 0,
       "id": 140589028951760,
       "mesh_detail": 2,
       "model_matrix": {
        "dtype": "float32",
        "shape": [
         4,
         4
        ]
       },
       "name": null,
       "opacity": 1,
       "point_size": 0.1,
       "positions": {
        "dtype": "float32",
        "shape": [
         360,
         3
        ]
       },
       "shader": "3dSpecular",
       "type": "Points",
       "visible": true
      }
     },
     "2c3d865a8d9040d0ac2cfea14c920271": {
      "model_module": "@jupyter-widgets/base",
      "model_module_version": "1.2.0",
      "model_name": "LayoutModel",
      "state": {}
     },
     "2c48935875a0477c8903e40eff0a93ee": {
      "buffers": [
       {
        "data": "eNoDAAAAAAE=",
        "encoding": "base64",
        "path": [
         "colors",
         "compressed_buffer"
        ]
       },
       {
        "data": "eNpjYGiwZ8AAxIsBAF7EAv0=",
        "encoding": "base64",
        "path": [
         "model_matrix",
         "compressed_buffer"
        ]
       },
       {
        "data": "eNpN18Fx6jAUhlF2qkQdqABJtxJ1kA78KnjLWw+hBFWUGGI4K/4FTr4zo2Hk2y2/b//+P263+/12a+yvO7vznfHZyS6/n8ff3t+fnezG/v37n935zuBZ9maX+dnx+7n+dmUX9tmz6Fn0LHoWPYueRc+iZ9HzbmAH+/wMmoPmoDloDpqD5qA5aA6ag+agOWgOmoPmay/349V69Vf6K/2V/kp/pb/SX+mv9Ff6K/2V/kp/pb/Sf+3zvBQsBUvBUrAULAVLwVKwFCwFS8FSsBQsBUvBUrBc+3A/Xn2X69rBruzCPj+vnezG/rqzO98ZPMve7NP1bmAHe7GPz37+ruT3x5gYE2NiTIyJMTEmxsSYGBNjYkyMiTExJsbEmBjzMrofr6bL2/A2vA1vw9vwNrwNb8Pb8Da8DW/D2/A2vA1vw9vwNrwN79lxea+92MGu7MI+vddOdmN/3dmd7wyeZW/26X03sIO92MdnP73v/Xj977e34+14O96Ot+PteDvejrfj7Xg73o634+14O96Ot+PteDvneXCeB+d5cJ4H53lwngfneXCeB+d5cJ4H53lwngfneXCeB+d5cJ4H53lwngfneXCeB79XeBNv4k28iTfxJt7Em3gTb+JNvIk38SbexJt4E2/i1bgxbowb48a4MW6MG+PGuDFujBvjxrgxbowb48a4MW5c5/Pve8LknjC5J0zuCZN7wuSeMLknTO4Jk3vC5J4wuSdM7gmTe8LknjC5J0zuCZN7ApaKpWKpWCqWiqViqVgqloqlYqlYKpaKpWKpWCr9QX/QH/QH/UF/0B/0B/1Bf9Af9Af9QX/QH/TbvGheNC+aF82L5kXzonnRvGheNC+aF82LZnsOeg56DnoOeg56DnoOeg56Dnr4+8/fl/d76OQ9dPIeOnkPnbyHPvcPNxwVLQ==",
        "encoding": "base64",
        "path": [
         "origins",
         "compressed_buffer"
        ]
       },
       {
        "data": "eNrtxjENAAAIwLBJw78qPjyQtFfrTO7u7u7u7u5Pvr35TwE=",
        "encoding": "base64",
        "path": [
         "vectors",
         "compressed_buffer"
        ]
       }
      ],
      "model_module": "k3d",
      "model_module_version": "2.7.0",
      "model_name": "ObjectModel",
      "state": {
       "_view_count": null,
       "_view_module": null,
       "_view_module_version": "",
       "_view_name": null,
       "colors": {
        "dtype": "uint32",
        "shape": [
         0
        ]
       },
       "compression_level": 0,
       "head_color": 255,
       "head_size": 10,
       "id": 140590021504912,
       "label_size": 1,
       "labels": [],
       "line_width": 0.01,
       "model_matrix": {
        "dtype": "float32",
        "shape": [
         4,
         4
        ]
       },
       "name": null,
       "origin_color": 255,
       "origins": {
        "dtype": "float32",
        "shape": [
         316,
         3
        ]
       },
       "type": "Vectors",
       "use_head": true,
       "vectors": {
        "dtype": "float32",
        "shape": [
         316,
         3
        ]
       },
       "visible": true
      }
     },
     "2ccba8f27dfe4e7583900861ffa85321": {
      "model_module": "@jupyter-widgets/base",
      "model_module_version": "1.2.0",
      "model_name": "LayoutModel",
      "state": {}
     },
     "2ce6e26310b34c179df2ad51a354eb3d": {
      "model_module": "@jupyter-widgets/base",
      "model_module_version": "1.2.0",
      "model_name": "LayoutModel",
      "state": {}
     },
     "2d52eaa1374442ed89ad783383b0f903": {
      "model_module": "@jupyter-widgets/output",
      "model_module_version": "1.0.0",
      "model_name": "OutputModel",
      "state": {
       "layout": "IPY_MODEL_dbc59137c5e8481ab75ae80969ef7893",
       "outputs": [
        {
         "data": {
          "application/vnd.jupyter.widget-view+json": {
           "model_id": "18a32a1ec2f34378828597168eac020d",
           "version_major": 2,
           "version_minor": 0
          },
          "text/plain": "Plot(antialias=3, axes=['x', 'y', 'z'], axes_helper=1.0, background_color=16777215, camera=[4.5, 4.5, 4.5, 0.0…"
         },
         "metadata": {},
         "output_type": "display_data"
        }
       ]
      }
     },
     "2f91add7958949c8aa299474defe0b45": {
      "model_module": "@jupyter-widgets/base",
      "model_module_version": "1.2.0",
      "model_name": "LayoutModel",
      "state": {}
     },
     "2fa797dce8e741bab663b129dfd12a56": {
      "model_module": "@jupyter-widgets/output",
      "model_module_version": "1.0.0",
      "model_name": "OutputModel",
      "state": {
       "layout": "IPY_MODEL_6b151f388d9e4c779e3d5dc5d1517a04",
       "outputs": [
        {
         "data": {
          "application/vnd.jupyter.widget-view+json": {
           "model_id": "ffbd1ab6b7ff4b17a5f585d163310695",
           "version_major": 2,
           "version_minor": 0
          },
          "text/plain": "Plot(antialias=3, axes=['x', 'y', 'z'], axes_helper=1.0, background_color=16777215, camera=[4.5, 4.5, 4.5, 0.0…"
         },
         "metadata": {},
         "output_type": "display_data"
        }
       ]
      }
     },
     "2fee0cba57d143d99ad91dff1774a425": {
      "model_module": "k3d",
      "model_module_version": "2.7.0",
      "model_name": "PlotModel",
      "state": {
       "_backend_version": "2.7.0",
       "_dom_classes": [],
       "_view_count": null,
       "antialias": 3,
       "axes": [
        "x",
        "y",
        "z"
       ],
       "axes_helper": 1,
       "background_color": 16777215,
       "camera": [
        58.73230057726462,
        -89.22526996890718,
        13.472322365530065,
        0.0156402587890625,
        0.040035247802734375,
        -3.082554578781128,
        -0.05479158407340524,
        0.08143732830189387,
        0.9951712635892267
       ],
       "camera_auto_fit": true,
       "camera_fov": 60,
       "camera_no_pan": false,
       "camera_no_rotate": false,
       "camera_no_zoom": false,
       "clipping_planes": [],
       "colorbar_object_id": -1,
       "fps_meter": false,
       "grid": [
        -1,
        -1,
        -1,
        1,
        1,
        1
       ],
       "grid_auto_fit": true,
       "grid_visible": true,
       "height": 512,
       "layout": "IPY_MODEL_4bd46b41b3704664894fa53b80db0caf",
       "lighting": 1.5,
       "menu_visibility": true,
       "name": null,
       "object_ids": [
        140589732862096,
        140588994926672,
        140588994900624,
        140588994927952
       ],
       "rendering_steps": 1,
       "screenshot": "",
       "screenshot_scale": 2,
       "time": 0,
       "voxel_paint_color": 0
      }
     },
     "30079b4cbc9646368b772d8c4d506aa6": {
      "model_module": "@jupyter-widgets/output",
      "model_module_version": "1.0.0",
      "model_name": "OutputModel",
      "state": {
       "layout": "IPY_MODEL_f37f6410958f4ea89d4ba523db51053b",
       "outputs": [
        {
         "data": {
          "application/vnd.jupyter.widget-view+json": {
           "model_id": "dab00b7b1cb24575a6d20bd0a9962c64",
           "version_major": 2,
           "version_minor": 0
          },
          "text/plain": "Plot(antialias=3, axes=['x', 'y', 'z'], axes_helper=1.0, background_color=16777215, camera=[4.5, 4.5, 4.5, 0.0…"
         },
         "metadata": {},
         "output_type": "display_data"
        }
       ]
      }
     },
     "31bc432935414116b504db6dfed097e3": {
      "model_module": "@jupyter-widgets/base",
      "model_module_version": "1.2.0",
      "model_name": "LayoutModel",
      "state": {}
     },
     "32371403e56e42058c12a7150ed2885a": {
      "buffers": [
       {
        "data": "eNoDAAAAAAE=",
        "encoding": "base64",
        "path": [
         "colors",
         "compressed_buffer"
        ]
       },
       {
        "data": "eNpjYGiwZ8AAxIsBAF7EAv0=",
        "encoding": "base64",
        "path": [
         "model_matrix",
         "compressed_buffer"
        ]
       },
       {
        "data": "eNpN18Fx2zoUhlHt0EY26AAFALiVoIN0wFSQ5a3nSSWgomfaIXlW+hei/Z0ZjAZ8vfL9+vP383r9er9ejf37P3bnO+PZyS5fn8e/vd/PTnZjf/39Z3e+M3iWvdllPju+Pte/XdmFffYsehY9i55Fz6Jn0bPoWfTcDexgn59Bc9AcNAfNQXPQHDQHzUFz0Bw0B81Bc9B87eX+/LRe/ZX+Sn+lv9Jf6a/0V/or/ZX+Sn+lv9Jf6a/0X/s8LwVLwVKwFCwFS8FSsBQsBUvBUrAULAVLwVKwFCzXPtyfn77Lde1gV3Zh7/ezk93Yp+vene8MnmVv9um6G9jBXuzj2d+/K/l+jIkxMSbGxJgYE2NiTIyJMTEmxsSYGBNjYkyMiTEvo/vz03R5G96Gt+FteBvehrfhbXgb3oa34W14G96Gt+FteBvehrfhPTsu77UXO9iVXdj7/exkN/b5ee/OdwbPsjf79N4N7GAv9vHsb++9Pz//+/Z2vB1vx9vxdrwdb8fb8Xa8HW/H2/F2vB1vx9vxdrwdb+c8D87z4DwPzvPgPA/O8+A8D87z4DwPzvPgPA/O8+A8D87z4DwPzvPgPA/O8+A8D87z4PcKb+JNvIk38SbexJt4E2/iTbyJN/Em3sSbeBNv4k28GjfGjXFj3Bg3xo1xY9wYN8aNcWPcGDfGjXFj3Bg3xo3rfP6+J0zuCZN7wuSeMLknTO4Jk3vC5J4wuSdM7gmTe8LknjC5J0zuCZN7wuSeMLknYKlYKpaKpWKpWCqWiqViqVgqloqlYqlYKpaKpdIf9Af9QX/QH/QH/UF/0B/0B/1Bf9Af9Af9Qb/Ni+ZF86J50bxoXjQvmhfNi+ZF86J50bxotueg56DnoOeg56DnoOeg56DnoIe///37cr+HTt5DJ++hk/fQyXvo9/4fWktQ2g==",
        "encoding": "base64",
        "path": [
         "positions",
         "compressed_buffer"
        ]
       }
      ],
      "model_module": "k3d",
      "model_module_version": "2.7.0",
      "model_name": "ObjectModel",
      "state": {
       "_view_count": null,
       "_view_module": null,
       "_view_module_version": "",
       "_view_name": null,
       "color": 10075135,
       "colors": {
        "dtype": "uint32",
        "shape": [
         0
        ]
       },
       "compression_level": 0,
       "id": 140200946469520,
       "mesh_detail": 2,
       "model_matrix": {
        "dtype": "float32",
        "shape": [
         4,
         4
        ]
       },
       "name": null,
       "opacity": 1,
       "point_size": 0.1,
       "positions": {
        "dtype": "float32",
        "shape": [
         316,
         3
        ]
       },
       "shader": "3dSpecular",
       "type": "Points",
       "visible": true
      }
     },
     "32a58d0a781f4421adc90149c2a8275c": {
      "buffers": [
       {
        "data": "eNoDAAAAAAE=",
        "encoding": "base64",
        "path": [
         "colors",
         "compressed_buffer"
        ]
       },
       {
        "data": "eNpjYGiwZ8AAxIsBAF7EAv0=",
        "encoding": "base64",
        "path": [
         "model_matrix",
         "compressed_buffer"
        ]
       },
       {
        "data": "eNpN17FtIzEURVFlrIQdMF2A5K+EHbiDcQUOfz22Ym/CitZj7GhO9mBooHsAyuA8Hvvr8f7x/Pv9/efxSHZjv32yO58ZPMve7PJ8PI7r71/3TnZj/3zXvTufGTzL3uwy7x0/37v+78ou7LNn0bPoWfQsehY9i55Fz6Ln1cAO9nqerXdz0Bw0B81Bc9AcNAfNQXPQHDQHzUFz0Hzt5X6erXd/pb/SX+mv9Ff6K/2V/kp/pb/SX+mv9Ff6K/3XPp5n320pWAqWgqVgKVgKloKlYClYCpaCpWApWAqWguXax71/fn9n32289mIHu7IL+zReO9mNfRpfu/OZwbPszT6NrwZ2sBf7uPf7h/t59t3exJt4E2/iTbyJN/Em3sSbeBNv4k28iTfxJt7Em3gTb8Pb8Da8DW/D2/A2vA1vw9vwNrwNb8Pb8Da8DW/D2/A2vA3v2+ftvfZiB7uyC/v0XjvZjX16X7vzmcGz7M0+va8GdrAX+7j3r/e1z+aOt+PteDvejrfj7Xg73o634+14O96Ot+PteDvejrfj7Xg753lwngfneXCeB+d5cJ4H53lwngfneXCeB+d5cJ4H53lwngfneXCeB+d5cJ4H53lwngf/r/Am3sSbeBNv4k28iTfxJt7Em3gTb+JNvIk38SbexJt4N96Nd+PdeDfejXfj3Xg33o134914N96Nd+PdeDfejXfj1Vgm94rJvWJyr5jcKyb3ism9YnKvmNwrJveKyb1icq+Y3Csm94rJvWJyr5jcKyb3CiwVS8VSsVQsFUvFUrFULBVLxVKxVCwVS8VSsVT6g/6gP+gP+oP+oD/oD/qD/qA/6A/6g/6gP+i3edG8aF40L5oXzYvmRfOiedG8aF40L5oXzfYc9Bz0HPQc9Bz0HPQc9Bz0HPTwXT+/Q95nJ++zk/fZyfvs5H128j47eZ/93f8ACZinXA==",
        "encoding": "base64",
        "path": [
         "positions",
         "compressed_buffer"
        ]
       }
      ],
      "model_module": "k3d",
      "model_module_version": "2.7.0",
      "model_name": "ObjectModel",
      "state": {
       "_view_count": null,
       "_view_module": null,
       "_view_module_version": "",
       "_view_name": null,
       "color": 10075135,
       "colors": {
        "dtype": "uint32",
        "shape": [
         0
        ]
       },
       "compression_level": 0,
       "id": 139916630772112,
       "mesh_detail": 2,
       "model_matrix": {
        "dtype": "float32",
        "shape": [
         4,
         4
        ]
       },
       "name": null,
       "opacity": 1,
       "point_size": 0.1,
       "positions": {
        "dtype": "float32",
        "shape": [
         324,
         3
        ]
       },
       "shader": "3dSpecular",
       "type": "Points",
       "visible": true
      }
     },
     "3348077157db4c2a92e663f6551430e9": {
      "model_module": "k3d",
      "model_module_version": "2.7.0",
      "model_name": "PlotModel",
      "state": {
       "_backend_version": "2.7.0",
       "_dom_classes": [],
       "_view_count": null,
       "antialias": 3,
       "axes": [
        "x",
        "y",
        "z"
       ],
       "axes_helper": 1,
       "background_color": 16777215,
       "camera": [
        33.576333745321826,
        -107.08590275529077,
        1.3696042765039893,
        0.10673904418945312,
        -0.017965316772460938,
        -5.433172702789307,
        -0.02344284239301824,
        -0.0019433476216346311,
        0.9997232899860634
       ],
       "camera_auto_fit": true,
       "camera_fov": 60,
       "camera_no_pan": false,
       "camera_no_rotate": false,
       "camera_no_zoom": false,
       "clipping_planes": [],
       "colorbar_object_id": -1,
       "fps_meter": false,
       "grid": [
        -1,
        -1,
        -1,
        1,
        1,
        1
       ],
       "grid_auto_fit": true,
       "grid_visible": true,
       "height": 512,
       "layout": "IPY_MODEL_52b4ac1e6f254c3e9675d34538688eee",
       "lighting": 1.5,
       "menu_visibility": true,
       "name": null,
       "object_ids": [
        140588994710672,
        140588994885392
       ],
       "rendering_steps": 1,
       "screenshot": "",
       "screenshot_scale": 2,
       "time": 0,
       "voxel_paint_color": 0
      }
     },
     "3537c655ef584804aed3755bb599dd97": {
      "model_module": "k3d",
      "model_module_version": "2.7.0",
      "model_name": "PlotModel",
      "state": {
       "_backend_version": "2.7.0",
       "_dom_classes": [],
       "_view_count": null,
       "antialias": 3,
       "axes": [
        "x",
        "y",
        "z"
       ],
       "axes_helper": 1,
       "background_color": 16777215,
       "camera": [
        178.34799599823646,
        -268.14699363413894,
        12.7347995741193,
        -0.24999985471367836,
        -0.24999985471367836,
        -5.125000011175871,
        0,
        0,
        1
       ],
       "camera_auto_fit": true,
       "camera_fov": 60,
       "camera_no_pan": false,
       "camera_no_rotate": false,
       "camera_no_zoom": false,
       "clipping_planes": [],
       "colorbar_object_id": -1,
       "fps_meter": false,
       "grid": [
        -1,
        -1,
        -1,
        1,
        1,
        1
       ],
       "grid_auto_fit": true,
       "grid_visible": true,
       "height": 512,
       "layout": "IPY_MODEL_5424704ed15e42869303cf70359a8b15",
       "lighting": 1.5,
       "menu_visibility": true,
       "name": null,
       "object_ids": [
        140200476560848
       ],
       "rendering_steps": 1,
       "screenshot": "",
       "screenshot_scale": 2,
       "time": 0,
       "voxel_paint_color": 0
      }
     },
     "3607670cec1d4274b34ad786924a3791": {
      "buffers": [
       {
        "data": "eNot0vlP1gUcwPF3rVar1Wq14vR5Hh4eBOSSQy45fZ7v96spoRIiIqJAHCKH3Pf9cD7fLLMss8yyzLLM0sy01KJIo1BDEQUEfWBrba2ttbbW1sfVD6//4JV2l5X0u62su8fG+nttZN6nkHW/wsYHFLIfVMh5SGXzwyq5j6jkPaqS/5hKweMahU9oFD2pUeyiUeKmsc1do9RDo8xTo9ygUWHUqDRpVJk1qr01aiwatT4adb4a9X4aDf4qDQEqjYEqTUEqzcEqLSEKLaEKrWEKbeEK7RE22iNtdETZ6Iy20hljpStWxC2jO14kJGNPFEnJ9CQn0WNNoteWSK8i1AT6NLE8nr4V8fSvFKvi6E8RTy9lIFWsjmVgjVgbw2CaeCaawXSREcXgepEZiWODyFqCY6PIjsCxSeSE49gstoThyA1DzwtFzxfPLkYvEIWiKAS9WGwNRi8R24LQS0WZKA9Er7gjAH27qBRVi9CrRY0/eq2oE/V+6A2iUTT5ojeLloXoraJNtPugd/yv04LeJbqF3Ru9R/Sa0fvMOPrFgBeOQeEQugnHc2KHicHnxQvG/+wULxoY2CVeEi+L3Qb6XxGvij0L6HtN7BWvG+h9Q+wTbxrouWO/AftbRuxvG+k+YKL7HfGuF10Hveh8z0znIW863rfQ8YGF9sM+YiFtH/rS+pEfrUf8afk4gOajgTR9EkTTp8E0HltMw/FQ6o+HU/9ZBHUnIqn9PIqakzFUfxFL1ak4Kk8lsP10IhVfJlP+lZWyMwqlZ+Xj2RWUnFvJ1q9TKP4mlaKhNRQOpVHwbTr532WQN5xJ7nAWW77PJud8Dpsu5JJ9IZ+sHwrYMFJE5kgJGT+Wsu6nctJHK0kbrWbtxVpWX2wg9VITKZdbWXW5nad+7mL5mB1trA/lygC2KzrLru4g6epOEsd3ET++m6XX9hB7bS/RE/uInNjPkusHCL9+kNAbhwi5cZjgySMETh5l0dQx/KZO4Dt1Ep/p01imz2CePofp5hDGm8MYZs7jOTOCx8wo7rOXcJsdw3V2HNdbE7jcmhTTuNyexfW2U8zj5vwFd+eveDh/w9P5Owvm/sA49yemub8wz/+NZf4f/gXLh0p6",
        "encoding": "base64",
        "path": [
         "color_map",
         "compressed_buffer"
        ]
       },
       {
        "data": "eNpjYBBzZsAACxwwxT44AsUPoIo12AMAbT8Eig==",
        "encoding": "base64",
        "path": [
         "model_matrix",
         "compressed_buffer"
        ]
       },
       {
        "data": "eNqzjS1t6Zsya8HyDXvO3P/0//+n+2f2bFi+YNaUvpbSWDvbuDKQ7PxlG/acvgeSvXcaLhtnaxsPkp05f9n63afufvz//+PdU7vXL5s/c0pvS1m8rX1ieUvv5Bnzlq7defzWu3//3t06vnPt0nkzJve2lCfaOyeXt3RPnDZn0aoth668/PPn5ZVDW1YtmjNtYndzebKTV3pFU2ff5Olzl6zdefLB9+8PTu5cu2Tu9Ml9nU0V6Z6hORUNrZ29E6fOXrR6x9lXr87uWL1o9tSJvZ2tDRXZIamF5TUNzW0d3f1Ay1cePLhi3vTJ/d0dbc31NeUFqbWlJWUVVTW1dfX1tRVZfn45FbX19XW1NVUVZSWldX1VxUXFJSWlJcUFmdGOkpJOMZkFxUBuSXFRSVXf9LrignwgyM1OjfHSYWfX8YpJy87Lzy8oKCiumzGnoTg/Lzc3JystIdRRiZFRyTE0IS0rJzc3L7+kYQ4A4DTE8Q==",
        "encoding": "base64",
        "path": [
         "voxels",
         "compressed_buffer"
        ]
       }
      ],
      "model_module": "k3d",
      "model_module_version": "2.7.0",
      "model_name": "ObjectModel",
      "state": {
       "_view_count": null,
       "_view_module": null,
       "_view_module_version": "",
       "_view_name": null,
       "color_map": {
        "dtype": "uint32",
        "shape": [
         256
        ]
       },
       "compression_level": 0,
       "id": 140589028909264,
       "model_matrix": {
        "dtype": "float32",
        "shape": [
         4,
         4
        ]
       },
       "name": null,
       "opacity": 1,
       "outlines": false,
       "outlines_color": 0,
       "type": "Voxels",
       "visible": true,
       "voxels": {
        "dtype": "uint8",
        "shape": [
         12,
         1,
         30
        ]
       },
       "wireframe": false
      }
     },
     "361b38a11bcb456a8f03ce01c6ccb980": {
      "model_module": "@jupyter-widgets/output",
      "model_module_version": "1.0.0",
      "model_name": "OutputModel",
      "state": {
       "layout": "IPY_MODEL_2f91add7958949c8aa299474defe0b45",
       "outputs": [
        {
         "data": {
          "application/vnd.jupyter.widget-view+json": {
           "model_id": "6f385f1d21c742078aaa62f0781d2cb8",
           "version_major": 2,
           "version_minor": 0
          },
          "text/plain": "Plot(antialias=3, axes=['x', 'y', 'z'], axes_helper=1.0, background_color=16777215, camera=[4.5, 4.5, 4.5, 0.0…"
         },
         "metadata": {},
         "output_type": "display_data"
        }
       ]
      }
     },
     "36d03f9bce584b0ba37e332526ff0a2a": {
      "model_module": "@jupyter-widgets/base",
      "model_module_version": "1.2.0",
      "model_name": "LayoutModel",
      "state": {}
     },
     "375b3c7a502642c09ef687d3934fc6ea": {
      "model_module": "k3d",
      "model_module_version": "2.7.0",
      "model_name": "PlotModel",
      "state": {
       "_backend_version": "2.7.0",
       "_dom_classes": [],
       "_view_count": null,
       "antialias": 3,
       "axes": [
        "x",
        "y",
        "z"
       ],
       "axes_helper": 1,
       "background_color": 16777215,
       "camera": [
        178.20951271487635,
        -267.6892675272504,
        12.735951223096272,
        -0.14999938197433949,
        -0.14999938197433949,
        -5.099999986588955,
        0,
        0,
        1
       ],
       "camera_auto_fit": true,
       "camera_fov": 60,
       "camera_no_pan": false,
       "camera_no_rotate": false,
       "camera_no_zoom": false,
       "clipping_planes": [],
       "colorbar_object_id": -1,
       "fps_meter": false,
       "grid": [
        -1,
        -1,
        -1,
        1,
        1,
        1
       ],
       "grid_auto_fit": true,
       "grid_visible": true,
       "height": 512,
       "layout": "IPY_MODEL_5b9d214576f34441a8eec4c21b9489e6",
       "lighting": 1.5,
       "menu_visibility": true,
       "name": null,
       "object_ids": [
        139917027766096
       ],
       "rendering_steps": 1,
       "screenshot": "",
       "screenshot_scale": 2,
       "time": 0,
       "voxel_paint_color": 0
      }
     },
     "3773feef62df4f7786d67b253cfdf2fa": {
      "model_module": "k3d",
      "model_module_version": "2.7.0",
      "model_name": "PlotModel",
      "state": {
       "_backend_version": "2.7.0",
       "_dom_classes": [],
       "_view_count": null,
       "antialias": 3,
       "axes": [
        "x",
        "y",
        "z"
       ],
       "axes_helper": 1,
       "background_color": 16777215,
       "camera": [
        126.18768083952199,
        -135.3713455781555,
        118.90821922772653,
        0,
        -0.07161712646484375,
        -7,
        -0.30073259975440847,
        0.42323962592617975,
        0.8546508775463962
       ],
       "camera_auto_fit": true,
       "camera_fov": 60,
       "camera_no_pan": false,
       "camera_no_rotate": false,
       "camera_no_zoom": false,
       "clipping_planes": [],
       "colorbar_object_id": -1,
       "fps_meter": false,
       "grid": [
        -1,
        -1,
        -1,
        1,
        1,
        1
       ],
       "grid_auto_fit": true,
       "grid_visible": true,
       "height": 512,
       "layout": "IPY_MODEL_5cf9a737454f46e68905b0025293cd1e",
       "lighting": 1.5,
       "menu_visibility": true,
       "name": null,
       "object_ids": [
        140588994710992,
        140588994728272
       ],
       "rendering_steps": 1,
       "screenshot": "",
       "screenshot_scale": 2,
       "time": 0,
       "voxel_paint_color": 0
      }
     },
     "391d8394c366451795c87e710c83a5f7": {
      "model_module": "@jupyter-widgets/output",
      "model_module_version": "1.0.0",
      "model_name": "OutputModel",
      "state": {
       "layout": "IPY_MODEL_3ffa39fd3a5c41b4b59887c47a24debe",
       "outputs": [
        {
         "data": {
          "application/vnd.jupyter.widget-view+json": {
           "model_id": "f4098c39f5a945c8820082e5fdb92bfa",
           "version_major": 2,
           "version_minor": 0
          },
          "text/plain": "Plot(antialias=3, axes=['x', 'y', 'z'], axes_helper=1.0, background_color=16777215, camera=[4.5, 4.5, 4.5, 0.0…"
         },
         "metadata": {},
         "output_type": "display_data"
        }
       ]
      }
     },
     "3a28877db75d4790b6fac176826dbc79": {
      "buffers": [
       {
        "data": "eNq7PcOEwcbnOUPCOnUG/iMfGda69DF8/PCGAQB5NApc",
        "encoding": "base64",
        "path": [
         "color_map",
         "compressed_buffer"
        ]
       },
       {
        "data": "eNpjYBBzZsAA2MQ+ODIwLDiAKtZgDwBXFgQD",
        "encoding": "base64",
        "path": [
         "model_matrix",
         "compressed_buffer"
        ]
       },
       {
        "data": "eNrtwQEJAAAAAiDq/+iGpCYAAAAAAADAiwIAAHBpRUM4QQ==",
        "encoding": "base64",
        "path": [
         "voxels",
         "compressed_buffer"
        ]
       }
      ],
      "model_module": "k3d",
      "model_module_version": "2.7.0",
      "model_name": "ObjectModel",
      "state": {
       "_view_count": null,
       "_view_module": null,
       "_view_module_version": "",
       "_view_name": null,
       "color_map": {
        "dtype": "uint32",
        "shape": [
         6
        ]
       },
       "compression_level": 0,
       "id": 140588994925840,
       "model_matrix": {
        "dtype": "float32",
        "shape": [
         4,
         4
        ]
       },
       "name": null,
       "opacity": 1,
       "outlines": false,
       "outlines_color": 0,
       "type": "Voxels",
       "visible": true,
       "voxels": {
        "dtype": "uint8",
        "shape": [
         12,
         30,
         30
        ]
       },
       "wireframe": false
      }
     },
     "3a6d7d82defc48f9ba6e2ae319f851d8": {
      "model_module": "k3d",
      "model_module_version": "2.7.0",
      "model_name": "PlotModel",
      "state": {
       "_backend_version": "2.7.0",
       "_dom_classes": [],
       "_view_count": null,
       "antialias": 3,
       "axes": [
        "x",
        "y",
        "z"
       ],
       "axes_helper": 1,
       "background_color": 16777215,
       "camera": [
        172.35731503871418,
        -258.5359725580713,
        17.491223446038852,
        0,
        0,
        0.2554919421672821,
        0,
        0,
        1
       ],
       "camera_auto_fit": true,
       "camera_fov": 60,
       "camera_no_pan": false,
       "camera_no_rotate": false,
       "camera_no_zoom": false,
       "clipping_planes": [],
       "colorbar_object_id": -1,
       "fps_meter": false,
       "grid": [
        -1,
        -1,
        -1,
        1,
        1,
        1
       ],
       "grid_auto_fit": true,
       "grid_visible": true,
       "height": 512,
       "layout": "IPY_MODEL_9b4cc62d3b8e460cae8fae0ae08f9888",
       "lighting": 1.5,
       "menu_visibility": true,
       "name": null,
       "object_ids": [
        140589986348880,
        140589028910288
       ],
       "rendering_steps": 1,
       "screenshot": "",
       "screenshot_scale": 2,
       "time": 0,
       "voxel_paint_color": 0
      }
     },
     "3d02c68ebc924b28ab91f61978aec614": {
      "model_module": "@jupyter-widgets/base",
      "model_module_version": "1.2.0",
      "model_name": "LayoutModel",
      "state": {}
     },
     "3dcbf881d9144714b844ee6393bf612d": {
      "model_module": "@jupyter-widgets/output",
      "model_module_version": "1.0.0",
      "model_name": "OutputModel",
      "state": {
       "layout": "IPY_MODEL_8713bc91c88342859dffc6dc66a81a19",
       "outputs": [
        {
         "data": {
          "application/vnd.jupyter.widget-view+json": {
           "model_id": "375b3c7a502642c09ef687d3934fc6ea",
           "version_major": 2,
           "version_minor": 0
          },
          "text/plain": "Plot(antialias=3, axes=['x', 'y', 'z'], axes_helper=1.0, background_color=16777215, camera=[4.5, 4.5, 4.5, 0.0…"
         },
         "metadata": {},
         "output_type": "display_data"
        }
       ]
      }
     },
     "3e43996d279d4e48b6b93e6b00bae1db": {
      "model_module": "@jupyter-widgets/output",
      "model_module_version": "1.0.0",
      "model_name": "OutputModel",
      "state": {
       "layout": "IPY_MODEL_31bc432935414116b504db6dfed097e3",
       "outputs": [
        {
         "data": {
          "application/vnd.jupyter.widget-view+json": {
           "model_id": "d68357b2376740578843b74ff726baec",
           "version_major": 2,
           "version_minor": 0
          },
          "text/plain": "Plot(antialias=3, axes=['x', 'y', 'z'], axes_helper=1.0, background_color=16777215, camera=[4.5, 4.5, 4.5, 0.0…"
         },
         "metadata": {},
         "output_type": "display_data"
        }
       ]
      }
     },
     "3ebcd28854be4367952122b0cfe9ce65": {
      "buffers": [
       {
        "data": "eNoDAAAAAAE=",
        "encoding": "base64",
        "path": [
         "colors",
         "compressed_buffer"
        ]
       },
       {
        "data": "eNpjYGiwZ8AAxIsBAF7EAv0=",
        "encoding": "base64",
        "path": [
         "model_matrix",
         "compressed_buffer"
        ]
       },
       {
        "data": "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",
        "encoding": "base64",
        "path": [
         "positions",
         "compressed_buffer"
        ]
       }
      ],
      "model_module": "k3d",
      "model_module_version": "2.7.0",
      "model_name": "ObjectModel",
      "state": {
       "_view_count": null,
       "_view_module": null,
       "_view_module_version": "",
       "_view_name": null,
       "color": 10075135,
       "colors": {
        "dtype": "uint32",
        "shape": [
         0
        ]
       },
       "compression_level": 0,
       "id": 140590021517584,
       "mesh_detail": 2,
       "model_matrix": {
        "dtype": "float32",
        "shape": [
         4,
         4
        ]
       },
       "name": null,
       "opacity": 1,
       "point_size": 0.1,
       "positions": {
        "dtype": "float32",
        "shape": [
         716,
         3
        ]
       },
       "shader": "3dSpecular",
       "type": "Points",
       "visible": true
      }
     },
     "3ebfad80d67a4677a6fc6291c75043e6": {
      "model_module": "k3d",
      "model_module_version": "2.7.0",
      "model_name": "PlotModel",
      "state": {
       "_backend_version": "2.7.0",
       "_dom_classes": [],
       "_view_count": null,
       "antialias": 3,
       "axes": [
        "x",
        "y",
        "z"
       ],
       "axes_helper": 1,
       "background_color": 16777215,
       "camera": [
        178.20951271487635,
        -267.6892675272504,
        12.735951223096272,
        -0.14999938197433949,
        -0.14999938197433949,
        -5.099999986588955,
        0,
        0,
        1
       ],
       "camera_auto_fit": true,
       "camera_fov": 60,
       "camera_no_pan": false,
       "camera_no_rotate": false,
       "camera_no_zoom": false,
       "clipping_planes": [],
       "colorbar_object_id": -1,
       "fps_meter": false,
       "grid": [
        -1,
        -1,
        -1,
        1,
        1,
        1
       ],
       "grid_auto_fit": true,
       "grid_visible": true,
       "height": 512,
       "layout": "IPY_MODEL_1d2b6942ffb1453aa16a490d0a00e2eb",
       "lighting": 1.5,
       "menu_visibility": true,
       "name": null,
       "object_ids": [
        140278294938064
       ],
       "rendering_steps": 1,
       "screenshot": "",
       "screenshot_scale": 2,
       "time": 0,
       "voxel_paint_color": 0
      }
     },
     "3f0343c4d3064cedbf132822171a941b": {
      "model_module": "@jupyter-widgets/output",
      "model_module_version": "1.0.0",
      "model_name": "OutputModel",
      "state": {
       "layout": "IPY_MODEL_4c5f02eef45d402ca8ec3af19e433fb9",
       "outputs": [
        {
         "data": {
          "application/vnd.jupyter.widget-view+json": {
           "model_id": "f45c1fe42e3f4faca89bc9c7f90cb3f2",
           "version_major": 2,
           "version_minor": 0
          },
          "text/plain": "Plot(antialias=3, axes=['x', 'y', 'z'], axes_helper=1.0, background_color=16777215, camera=[4.5, 4.5, 4.5, 0.0…"
         },
         "metadata": {},
         "output_type": "display_data"
        }
       ]
      }
     },
     "3ffa39fd3a5c41b4b59887c47a24debe": {
      "model_module": "@jupyter-widgets/base",
      "model_module_version": "1.2.0",
      "model_name": "LayoutModel",
      "state": {}
     },
     "40a0f68ff4b54405b4fc72d127a805f3": {
      "buffers": [
       {
        "data": "eNoDAAAAAAE=",
        "encoding": "base64",
        "path": [
         "colors",
         "compressed_buffer"
        ]
       },
       {
        "data": "eNpjYGiwZ8AAxIsBAF7EAv0=",
        "encoding": "base64",
        "path": [
         "model_matrix",
         "compressed_buffer"
        ]
       },
       {
        "data": "eNpN0tFtwzAMQEGPwlWkL46jQTwER2kzEUdo1UbOGQjyYBjyheF19fd13a/rqq/fDx30vp77g+fppuP3e537358uOuh9Lc5fnL84/3lmfjrt1//nGBJDYkgMiSExJIbEkBgSw+ltCTyBJ/AEnsATeAJP4Ak8gSfwnF70/n/2u4/zdNJB7+/TRQe9r+f+4Hm66e183ksv+m+PcBbOwlk4C2fhLJyFs3AWzsJZOAtn4QycgTNwBs7AGTgDZ+AMnIEzcAbOwHn6tl/vWbzNp5MOeptPFx30uY75eZ5uepuf99KLvu3X+z87cx7MeTDnwZwHcx7MeTDnwZwHcx7MeTDnwZwHcx7MebDDmAtzYS7MhbkwF+bCXJgLc2EuzIW5MBfmxtyYG3NjbsyNuTE35sbcmBtzY27M2v5+29mByQ5MdmCyA5MdmOzAZAcmOzDZgckOTHZgsgPzY0tsiS2xJbbEltgSW2JLbIktsSU2DQvDwrAwLAwLw8KwMCwMC4Nn3px5c+bNmf/9A4qiN3k=",
        "encoding": "base64",
        "path": [
         "positions",
         "compressed_buffer"
        ]
       }
      ],
      "model_module": "k3d",
      "model_module_version": "2.7.0",
      "model_name": "ObjectModel",
      "state": {
       "_view_count": null,
       "_view_module": null,
       "_view_module_version": "",
       "_view_name": null,
       "color": 10075135,
       "colors": {
        "dtype": "uint32",
        "shape": [
         0
        ]
       },
       "compression_level": 0,
       "id": 140588994728272,
       "mesh_detail": 2,
       "model_matrix": {
        "dtype": "float32",
        "shape": [
         4,
         4
        ]
       },
       "name": null,
       "opacity": 1,
       "point_size": 0.1,
       "positions": {
        "dtype": "float32",
        "shape": [
         183,
         3
        ]
       },
       "shader": "3dSpecular",
       "type": "Points",
       "visible": true
      }
     },
     "42b0ddf117b5496ea131de7afcde4868": {
      "model_module": "@jupyter-widgets/output",
      "model_module_version": "1.0.0",
      "model_name": "OutputModel",
      "state": {
       "layout": "IPY_MODEL_0d9836224e4d4077b2979da1aad85d3d",
       "outputs": [
        {
         "data": {
          "application/vnd.jupyter.widget-view+json": {
           "model_id": "c9f0dd2806b44361a762017815e92f49",
           "version_major": 2,
           "version_minor": 0
          },
          "text/plain": "Plot(antialias=3, axes=['x', 'y', 'z'], axes_helper=1.0, background_color=16777215, camera=[4.5, 4.5, 4.5, 0.0…"
         },
         "metadata": {},
         "output_type": "display_data"
        }
       ]
      }
     },
     "4327cae31de045188d30267176159678": {
      "model_module": "@jupyter-widgets/output",
      "model_module_version": "1.0.0",
      "model_name": "OutputModel",
      "state": {
       "layout": "IPY_MODEL_f9b0b86d427a4591aa6985a64f233b02",
       "outputs": [
        {
         "data": {
          "application/vnd.jupyter.widget-view+json": {
           "model_id": "de672d91042848588ec73ac4945c55d0",
           "version_major": 2,
           "version_minor": 0
          },
          "text/plain": "Plot(antialias=3, axes=['x', 'y', 'z'], axes_helper=1.0, background_color=16777215, camera=[4.5, 4.5, 4.5, 0.0…"
         },
         "metadata": {},
         "output_type": "display_data"
        }
       ]
      }
     },
     "4493fe60917c41909a1a961138274544": {
      "buffers": [
       {
        "data": "eNoDAAAAAAE=",
        "encoding": "base64",
        "path": [
         "colors",
         "compressed_buffer"
        ]
       },
       {
        "data": "eNpjYGiwZ8AAxIsBAF7EAv0=",
        "encoding": "base64",
        "path": [
         "model_matrix",
         "compressed_buffer"
        ]
       },
       {
        "data": "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",
        "encoding": "base64",
        "path": [
         "origins",
         "compressed_buffer"
        ]
       },
       {
        "data": "eNrtxiEBAAAIwLBHo38qHAWwm1qdyd3d3d3d3d3d3d3d3d3d3d3fXypnswE=",
        "encoding": "base64",
        "path": [
         "vectors",
         "compressed_buffer"
        ]
       }
      ],
      "model_module": "k3d",
      "model_module_version": "2.7.0",
      "model_name": "ObjectModel",
      "state": {
       "_view_count": null,
       "_view_module": null,
       "_view_module_version": "",
       "_view_name": null,
       "colors": {
        "dtype": "uint32",
        "shape": [
         0
        ]
       },
       "compression_level": 0,
       "head_color": 255,
       "head_size": 10,
       "id": 140588994885648,
       "label_size": 1,
       "labels": [],
       "line_width": 0.01,
       "model_matrix": {
        "dtype": "float32",
        "shape": [
         4,
         4
        ]
       },
       "name": null,
       "origin_color": 255,
       "origins": {
        "dtype": "float32",
        "shape": [
         716,
         3
        ]
       },
       "type": "Vectors",
       "use_head": true,
       "vectors": {
        "dtype": "float32",
        "shape": [
         716,
         3
        ]
       },
       "visible": true
      }
     },
     "44d9de7b827248cb92865cf72941d68f": {
      "model_module": "@jupyter-widgets/output",
      "model_module_version": "1.0.0",
      "model_name": "OutputModel",
      "state": {
       "layout": "IPY_MODEL_b6216633d746495699777dbe04da4c2a",
       "outputs": [
        {
         "data": {
          "application/vnd.jupyter.widget-view+json": {
           "model_id": "6dd4a66ca05e4a29b64ce97335ade08d",
           "version_major": 2,
           "version_minor": 0
          },
          "text/plain": "Plot(antialias=3, axes=['x', 'y', 'z'], axes_helper=1.0, background_color=16777215, camera=[4.5, 4.5, 4.5, 0.0…"
         },
         "metadata": {},
         "output_type": "display_data"
        }
       ]
      }
     },
     "45084d1772a44c73a96374ec45b0459f": {
      "model_module": "@jupyter-widgets/output",
      "model_module_version": "1.0.0",
      "model_name": "OutputModel",
      "state": {
       "layout": "IPY_MODEL_02f2c9aa1c87461bb9bfb7b82ab52827",
       "outputs": [
        {
         "data": {
          "application/vnd.jupyter.widget-view+json": {
           "model_id": "820b139d8bd840ccbaa7be6890a7b9e2",
           "version_major": 2,
           "version_minor": 0
          },
          "text/plain": "Plot(antialias=3, axes=['x', 'y', 'z'], axes_helper=1.0, background_color=16777215, camera=[4.5, 4.5, 4.5, 0.0…"
         },
         "metadata": {},
         "output_type": "display_data"
        }
       ]
      }
     },
     "4576331ba1034363930cf98cdceaca39": {
      "buffers": [
       {
        "data": "eNoDAAAAAAE=",
        "encoding": "base64",
        "path": [
         "colors",
         "compressed_buffer"
        ]
       },
       {
        "data": "eNpjYGiwZ8AAxIsBAF7EAv0=",
        "encoding": "base64",
        "path": [
         "model_matrix",
         "compressed_buffer"
        ]
       },
       {
        "data": "eNpN18Fx2zoUhlHt0EY26AAFALiVoIN0wFSQ5a3nSSWgomfaIXlW+hei/Z0ZjAZ8vfL9+vP383r9er9ejf37P3bnO+PZyS5fn8e/vd/PTnZjf/39Z3e+M3iWvdllPju+Pte/XdmFffYsehY9i55Fz6Jn0bPoWfTcDexgn59Bc9AcNAfNQXPQHDQHzUFz0Bw0B81Bc9B87eX+/LRe/ZX+Sn+lv9Jf6a/0V/or/ZX+Sn+lv9Jf6a/0X/s8LwVLwVKwFCwFS8FSsBQsBUvBUrAULAVLwVKwFCzXPtyfn77Lde1gV3Zh7/ezk93Yp+vene8MnmVv9um6G9jBXuzj2d+/K/l+jIkxMSbGxJgYE2NiTIyJMTEmxsSYGBNjYkyMiTEvo/vz03R5G96Gt+FteBvehrfhbXgb3oa34W14G96Gt+FteBvehrfhPTsu77UXO9iVXdj7/exkN/b5ee/OdwbPsjf79N4N7GAv9vHsb++9Pz//+/Z2vB1vx9vxdrwdb8fb8Xa8HW/H2/F2vB1vx9vxdrwdb+c8D87z4DwPzvPgPA/O8+A8D87z4DwPzvPgPA/O8+A8D87z4DwPzvPgPA/O8+A8D87z4PcKb+JNvIk38SbexJt4E2/iTbyJN/Em3sSbeBNv4k28GjfGjXFj3Bg3xo1xY9wYN8aNcWPcGDfGjXFj3Bg3xo3rfP6+J0zuCZN7wuSeMLknTO4Jk3vC5J4wuSdM7gmTe8LknjC5J0zuCZN7wuSeMLknYKlYKpaKpWKpWCqWiqViqVgqloqlYqlYKpaKpdIf9Af9QX/QH/QH/UF/0B/0B/1Bf9Af9Af9Qb/Ni+ZF86J50bxoXjQvmhfNi+ZF86J50bxotueg56DnoOeg56DnoOeg56DnoIe///37cr+HTt5DJ++hk/fQyXvo9/4fWktQ2g==",
        "encoding": "base64",
        "path": [
         "positions",
         "compressed_buffer"
        ]
       }
      ],
      "model_module": "k3d",
      "model_module_version": "2.7.0",
      "model_name": "ObjectModel",
      "state": {
       "_view_count": null,
       "_view_module": null,
       "_view_module_version": "",
       "_view_name": null,
       "color": 10075135,
       "colors": {
        "dtype": "uint32",
        "shape": [
         0
        ]
       },
       "compression_level": 0,
       "id": 140588994903120,
       "mesh_detail": 2,
       "model_matrix": {
        "dtype": "float32",
        "shape": [
         4,
         4
        ]
       },
       "name": null,
       "opacity": 1,
       "point_size": 0.1,
       "positions": {
        "dtype": "float32",
        "shape": [
         316,
         3
        ]
       },
       "shader": "3dSpecular",
       "type": "Points",
       "visible": true
      }
     },
     "47448cdc8fac492e91b33d88af203f92": {
      "model_module": "@jupyter-widgets/base",
      "model_module_version": "1.2.0",
      "model_name": "LayoutModel",
      "state": {}
     },
     "47d391c3e4b44c249b34ec53312cb4bb": {
      "model_module": "@jupyter-widgets/base",
      "model_module_version": "1.2.0",
      "model_name": "LayoutModel",
      "state": {}
     },
     "4a53a76c3dbc4b338ffefae948b9cdb2": {
      "model_module": "@jupyter-widgets/base",
      "model_module_version": "1.2.0",
      "model_name": "LayoutModel",
      "state": {}
     },
     "4bd46b41b3704664894fa53b80db0caf": {
      "model_module": "@jupyter-widgets/base",
      "model_module_version": "1.2.0",
      "model_name": "LayoutModel",
      "state": {}
     },
     "4c5f02eef45d402ca8ec3af19e433fb9": {
      "model_module": "@jupyter-widgets/base",
      "model_module_version": "1.2.0",
      "model_name": "LayoutModel",
      "state": {}
     },
     "4d55ac1bc2444dcf9d3fc695f16b08bf": {
      "model_module": "@jupyter-widgets/output",
      "model_module_version": "1.0.0",
      "model_name": "OutputModel",
      "state": {
       "layout": "IPY_MODEL_c01727ea1735475eaabd5615e26dc9fa",
       "outputs": [
        {
         "data": {
          "application/vnd.jupyter.widget-view+json": {
           "model_id": "cbe5cbb99d9d4cf6bc45b7bdaa28e3c6",
           "version_major": 2,
           "version_minor": 0
          },
          "text/plain": "Plot(antialias=3, axes=['x', 'y', 'z'], axes_helper=1.0, background_color=16777215, camera=[4.5, 4.5, 4.5, 0.0…"
         },
         "metadata": {},
         "output_type": "display_data"
        }
       ]
      }
     },
     "4d83e80ee2db41eba643ff1df2160761": {
      "model_module": "@jupyter-widgets/base",
      "model_module_version": "1.2.0",
      "model_name": "LayoutModel",
      "state": {}
     },
     "516ec361eb284d68b388981d48f43bc6": {
      "model_module": "@jupyter-widgets/output",
      "model_module_version": "1.0.0",
      "model_name": "OutputModel",
      "state": {
       "layout": "IPY_MODEL_109ca240f73f49bab76b9935848e68bb",
       "outputs": [
        {
         "data": {
          "application/vnd.jupyter.widget-view+json": {
           "model_id": "8a32ae1c3a9a4cdca0f7f4956627aeec",
           "version_major": 2,
           "version_minor": 0
          },
          "text/plain": "Plot(antialias=3, axes=['x', 'y', 'z'], axes_helper=1.0, background_color=16777215, camera=[4.5, 4.5, 4.5, 0.0…"
         },
         "metadata": {},
         "output_type": "display_data"
        }
       ]
      }
     },
     "52b4ac1e6f254c3e9675d34538688eee": {
      "model_module": "@jupyter-widgets/base",
      "model_module_version": "1.2.0",
      "model_name": "LayoutModel",
      "state": {}
     },
     "5424704ed15e42869303cf70359a8b15": {
      "model_module": "@jupyter-widgets/base",
      "model_module_version": "1.2.0",
      "model_name": "LayoutModel",
      "state": {}
     },
     "5460a195b1594634975e4f0645e8938a": {
      "buffers": [
       {
        "data": "eNoDAAAAAAE=",
        "encoding": "base64",
        "path": [
         "colors",
         "compressed_buffer"
        ]
       },
       {
        "data": "eNpjYGiwZ8AAxIsBAF7EAv0=",
        "encoding": "base64",
        "path": [
         "model_matrix",
         "compressed_buffer"
        ]
       },
       {
        "data": "eNpN17FtIzEQhlFlrIQdMD2A5FTCDtzBXgUXTj22Yl/Cik5r3Gpf9gey/T1gYFCPR349fv95/v3+/vV4NPbHJ7vzmXHvZJfn43H83/vr3slu7Nfvv3fnM4OfZW92mfeO199d/3dlF/bZs+hZ9Cx6Fj2LnkXPomfR825gB3s9z9a7OWgOmoPmoDloDpqD5qA5aA6ag+agOWi+9nI/z9a7v9Jf6a/0V/or/ZX+Sn+lv9Jf6a/0V/or/ZX+ax/Ps++2FCwFS8FSsBQsBUvBUrAULAVLwVKwFCwFS8Fy7cP9PPtu17WDXdmFfbqunezGPl3v3fnM4GfZm3263g3sYC/2ce/X/5Wz6TYmxsSYGBNjYkyMiTExJsbEmBgTY2JMjIkxMSbGvIzu59l0exvehrfhbXgb3oa34W14G96Gt+FteBvehrfhbXgb3oa34f34vL3XXuxgV3Zhn95rJ7uxT+97dz4z+Fn2Zp/edwM72It93PvH+95nc8fb8Xa8HW/H2/F2vB1vx9vxdrwdb8fb8Xa8HW/H2/F2vJ17Htzz4J4H9zy458E9D+55cM+Dex7c8+CeB/c8uOfBPQ/ueXDPg3se3PPgngf3PPh/hTfxJt7Em3gTb+JNvIk38SbexJt4E2/iTbyJN/EmXo0b48a4MW6MG+PGuDFujBvjxrgxbowb48a4MW6MG+PGVSbvhMk7YfJOmLwTJu+EyTth8k6YvBMm74TJO2HyTpi8EybvhMk7YfJOmLwTJu8ELBVLxVKxVCwVS8VSsVQsFUvFUrFULBVLxVKxVPqD/qA/6A/6g/6gP+gP+oP+oD/oD/qD/qA/6Ld50bxoXjQvmhfNi+ZF86J50bxoXjQvmhfN9hz0HPQc9Bz0HPQc9Bz0HPQc9PD7X/9f+B46+R46+R46+R46+R76s/8BBt57NA==",
        "encoding": "base64",
        "path": [
         "positions",
         "compressed_buffer"
        ]
       }
      ],
      "model_module": "k3d",
      "model_module_version": "2.7.0",
      "model_name": "ObjectModel",
      "state": {
       "_view_count": null,
       "_view_module": null,
       "_view_module_version": "",
       "_view_name": null,
       "color": 10075135,
       "colors": {
        "dtype": "uint32",
        "shape": [
         0
        ]
       },
       "compression_level": 0,
       "id": 140589028910288,
       "mesh_detail": 2,
       "model_matrix": {
        "dtype": "float32",
        "shape": [
         4,
         4
        ]
       },
       "name": null,
       "opacity": 1,
       "point_size": 0.1,
       "positions": {
        "dtype": "float32",
        "shape": [
         316,
         3
        ]
       },
       "shader": "3dSpecular",
       "type": "Points",
       "visible": true
      }
     },
     "5472128ddbd845779de175a4c0bc075b": {
      "buffers": [
       {
        "data": "eNoDAAAAAAE=",
        "encoding": "base64",
        "path": [
         "colors",
         "compressed_buffer"
        ]
       },
       {
        "data": "eNpjYGiwZ8AAxIsBAF7EAv0=",
        "encoding": "base64",
        "path": [
         "model_matrix",
         "compressed_buffer"
        ]
       },
       {
        "data": "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",
        "encoding": "base64",
        "path": [
         "origins",
         "compressed_buffer"
        ]
       },
       {
        "data": "eNrtxiEBAAAIwLBHo38qHAWwm1qdyd3d3d3d3d3d3d3d3d3d3d3fXypnswE=",
        "encoding": "base64",
        "path": [
         "vectors",
         "compressed_buffer"
        ]
       }
      ],
      "model_module": "k3d",
      "model_module_version": "2.7.0",
      "model_name": "ObjectModel",
      "state": {
       "_view_count": null,
       "_view_module": null,
       "_view_module_version": "",
       "_view_name": null,
       "colors": {
        "dtype": "uint32",
        "shape": [
         0
        ]
       },
       "compression_level": 0,
       "head_color": 255,
       "head_size": 30,
       "id": 140589028951376,
       "label_size": 1,
       "labels": [],
       "line_width": 0.01,
       "model_matrix": {
        "dtype": "float32",
        "shape": [
         4,
         4
        ]
       },
       "name": null,
       "origin_color": 255,
       "origins": {
        "dtype": "float32",
        "shape": [
         716,
         3
        ]
       },
       "type": "Vectors",
       "use_head": true,
       "vectors": {
        "dtype": "float32",
        "shape": [
         716,
         3
        ]
       },
       "visible": true
      }
     },
     "5629f15937574456849fc901a9482cff": {
      "model_module": "@jupyter-widgets/base",
      "model_module_version": "1.2.0",
      "model_name": "LayoutModel",
      "state": {}
     },
     "578803303f654788b9e18b0b8d44c230": {
      "model_module": "k3d",
      "model_module_version": "2.7.0",
      "model_name": "PlotModel",
      "state": {
       "_backend_version": "2.7.0",
       "_dom_classes": [],
       "_view_count": null,
       "antialias": 3,
       "axes": [
        "x",
        "y",
        "z"
       ],
       "axes_helper": 1,
       "background_color": 16777215,
       "camera": [
        170.91224520682448,
        -256.39224018572503,
        12.091224520682598,
        0,
        -0.02387237548828125,
        -5,
        0,
        0,
        1
       ],
       "camera_auto_fit": true,
       "camera_fov": 60,
       "camera_no_pan": false,
       "camera_no_rotate": false,
       "camera_no_zoom": false,
       "clipping_planes": [],
       "colorbar_object_id": -1,
       "fps_meter": false,
       "grid": [
        -1,
        -1,
        -1,
        1,
        1,
        1
       ],
       "grid_auto_fit": true,
       "grid_visible": true,
       "height": 512,
       "layout": "IPY_MODEL_67605a0619b44b37a870168ab0204038",
       "lighting": 1.5,
       "menu_visibility": true,
       "name": null,
       "object_ids": [
        140588994885648,
        140590021504528
       ],
       "rendering_steps": 1,
       "screenshot": "",
       "screenshot_scale": 2,
       "time": 0,
       "voxel_paint_color": 0
      }
     },
     "5b58f81700b94ab7b2232535bba00216": {
      "buffers": [
       {
        "data": "eNq7PcOEwcbnOUPCOnUG/iMfGda69DF8/PCGAQB5NApc",
        "encoding": "base64",
        "path": [
         "color_map",
         "compressed_buffer"
        ]
       },
       {
        "data": "eNpjYBBzZsAA2MQ+ODIwLDiAKtZgDwBXFgQD",
        "encoding": "base64",
        "path": [
         "model_matrix",
         "compressed_buffer"
        ]
       },
       {
        "data": "eNrtwUEJAAAIADHO/qFt4F/YVocJAAAAAAAAAAAAgOcWggEqMg==",
        "encoding": "base64",
        "path": [
         "voxels",
         "compressed_buffer"
        ]
       }
      ],
      "model_module": "k3d",
      "model_module_version": "2.7.0",
      "model_name": "ObjectModel",
      "state": {
       "_view_count": null,
       "_view_module": null,
       "_view_module_version": "",
       "_view_name": null,
       "color_map": {
        "dtype": "uint32",
        "shape": [
         6
        ]
       },
       "compression_level": 0,
       "id": 140605281424336,
       "model_matrix": {
        "dtype": "float32",
        "shape": [
         4,
         4
        ]
       },
       "name": null,
       "opacity": 1,
       "outlines": false,
       "outlines_color": 0,
       "type": "Voxels",
       "visible": true,
       "voxels": {
        "dtype": "uint8",
        "shape": [
         12,
         30,
         30
        ]
       },
       "wireframe": false
      }
     },
     "5b9d214576f34441a8eec4c21b9489e6": {
      "model_module": "@jupyter-widgets/base",
      "model_module_version": "1.2.0",
      "model_name": "LayoutModel",
      "state": {}
     },
     "5bf470ee5e6d4581963ea62d7c437981": {
      "model_module": "@jupyter-widgets/base",
      "model_module_version": "1.2.0",
      "model_name": "LayoutModel",
      "state": {}
     },
     "5cf9a737454f46e68905b0025293cd1e": {
      "model_module": "@jupyter-widgets/base",
      "model_module_version": "1.2.0",
      "model_name": "LayoutModel",
      "state": {}
     },
     "60e68e3c0194421aaf8b27d405a5e5dd": {
      "model_module": "@jupyter-widgets/output",
      "model_module_version": "1.0.0",
      "model_name": "OutputModel",
      "state": {
       "layout": "IPY_MODEL_4d83e80ee2db41eba643ff1df2160761",
       "outputs": [
        {
         "data": {
          "application/vnd.jupyter.widget-view+json": {
           "model_id": "3ebfad80d67a4677a6fc6291c75043e6",
           "version_major": 2,
           "version_minor": 0
          },
          "text/plain": "Plot(antialias=3, axes=['x', 'y', 'z'], axes_helper=1.0, background_color=16777215, camera=[4.5, 4.5, 4.5, 0.0…"
         },
         "metadata": {},
         "output_type": "display_data"
        }
       ]
      }
     },
     "66619cacf12c4528982aea4521653791": {
      "model_module": "@jupyter-widgets/output",
      "model_module_version": "1.0.0",
      "model_name": "OutputModel",
      "state": {
       "layout": "IPY_MODEL_a1ab53c1842e4296977c8e86074eb862",
       "outputs": [
        {
         "data": {
          "application/vnd.jupyter.widget-view+json": {
           "model_id": "a79babc0fd254e35a3c75debea5c9a32",
           "version_major": 2,
           "version_minor": 0
          },
          "text/plain": "Plot(antialias=3, axes=['x', 'y', 'z'], axes_helper=1.0, background_color=16777215, camera=[4.5, 4.5, 4.5, 0.0…"
         },
         "metadata": {},
         "output_type": "display_data"
        }
       ]
      }
     },
     "66c98a119f5847a68e72f55f897485ee": {
      "buffers": [
       {
        "data": "eNq7PcOEAQAFoAGo",
        "encoding": "base64",
        "path": [
         "color_map",
         "compressed_buffer"
        ]
       },
       {
        "data": "eNpjYBBzZsAA2MQ+ODIwLDiAKtZgDwBXFgQD",
        "encoding": "base64",
        "path": [
         "model_matrix",
         "compressed_buffer"
        ]
       },
       {
        "data": "eNrt0zEOwCAMBEHu/59OEyGhILtAVJlrtwPPGHN5N77LsjKuOZuVceakymVNipxU+aDmZ7v3ks0PHt1Gc3XNxTbX3klplDHIIIMMMsgggwwyyCCDDDLIIIMMMsgggwwyyCCDDDLIIIMMMsgggwwyyCCDDDLI4C2DD1n0IZE=",
        "encoding": "base64",
        "path": [
         "voxels",
         "compressed_buffer"
        ]
       }
      ],
      "model_module": "k3d",
      "model_module_version": "2.7.0",
      "model_name": "ObjectModel",
      "state": {
       "_view_count": null,
       "_view_module": null,
       "_view_module_version": "",
       "_view_name": null,
       "color_map": {
        "dtype": "uint32",
        "shape": []
       },
       "compression_level": 0,
       "id": 140201425806928,
       "model_matrix": {
        "dtype": "float32",
        "shape": [
         4,
         4
        ]
       },
       "name": null,
       "opacity": 1,
       "outlines": false,
       "outlines_color": 0,
       "type": "Voxels",
       "visible": true,
       "voxels": {
        "dtype": "uint8",
        "shape": [
         12,
         30,
         30
        ]
       },
       "wireframe": false
      }
     },
     "6710b5fd96f542488078e1f08db947d3": {
      "model_module": "@jupyter-widgets/base",
      "model_module_version": "1.2.0",
      "model_name": "LayoutModel",
      "state": {}
     },
     "67605a0619b44b37a870168ab0204038": {
      "model_module": "@jupyter-widgets/base",
      "model_module_version": "1.2.0",
      "model_name": "LayoutModel",
      "state": {}
     },
     "68bb2cd83da94701a23831d0a965b4a5": {
      "model_module": "@jupyter-widgets/base",
      "model_module_version": "1.2.0",
      "model_name": "LayoutModel",
      "state": {}
     },
     "6998dfd5d24b4fb6bedd88a24675b8e2": {
      "buffers": [
       {
        "data": "eNq7PcOEAQAFoAGo",
        "encoding": "base64",
        "path": [
         "color_map",
         "compressed_buffer"
        ]
       },
       {
        "data": "eNpjYBBzZsAA2MQ+ODIwLDiAKtZgDwBXFgQD",
        "encoding": "base64",
        "path": [
         "model_matrix",
         "compressed_buffer"
        ]
       },
       {
        "data": "eNrt1jESAjEQA0Hr/58mIzEcaAPXFfTEKDu8vdZenq0vylb7++tN3lYPXk/yoXqwTZJykpSTpJ3Ui6ScJO2kXiTtpF4k7eSWi+jv+pVv98j//Mh7NXhFj7ztg4szuGqDyzm4zgMBTJQxkMxESxORMRzDMRzDieEYjuEYjuEYjuEYjuHEcAzHcAzHcAzHcAzHcGI4hmM4hmM4hmM4hhPDMRzDMRzDMRzDMRzDieEYjuEYjuEYjuEYjuHEcAzHcAzHcAzHcAwnhmM4hmM4hmM4hmM4hhPDMRzDMRzDMRzDMRzDieEYjuEYjuEYjuEYjuEYjuEYjuEYjuEYjuEYTgzHcAzHcAzHcAzHcAwnhmM4hmM4hmM4hmM4hhPDMRzDMRzDMRzDMZwYjuEYjuHua7gHz85zyQ==",
        "encoding": "base64",
        "path": [
         "voxels",
         "compressed_buffer"
        ]
       }
      ],
      "model_module": "k3d",
      "model_module_version": "2.7.0",
      "model_name": "ObjectModel",
      "state": {
       "_view_count": null,
       "_view_module": null,
       "_view_module_version": "",
       "_view_name": null,
       "color_map": {
        "dtype": "uint32",
        "shape": []
       },
       "compression_level": 0,
       "id": 140278294938064,
       "model_matrix": {
        "dtype": "float32",
        "shape": [
         4,
         4
        ]
       },
       "name": null,
       "opacity": 1,
       "outlines": false,
       "outlines_color": 0,
       "type": "Voxels",
       "visible": true,
       "voxels": {
        "dtype": "uint8",
        "shape": [
         15,
         50,
         50
        ]
       },
       "wireframe": false
      }
     },
     "699f8a8d202f4cdb8d6ee467dfc6815d": {
      "model_module": "k3d",
      "model_module_version": "2.7.0",
      "model_name": "PlotModel",
      "state": {
       "_backend_version": "2.7.0",
       "_dom_classes": [],
       "_view_count": null,
       "antialias": 3,
       "axes": [
        "x",
        "y",
        "z"
       ],
       "axes_helper": 1,
       "background_color": 16777215,
       "camera": [
        196.41680799945073,
        -253.94693995487384,
        25.530776702093014,
        -0.24999985471367836,
        -0.24999985471367836,
        -5.099999986588955,
        -0.03359674337749641,
        0.024193960150525464,
        0.9991425879856504
       ],
       "camera_auto_fit": true,
       "camera_fov": 60,
       "camera_no_pan": false,
       "camera_no_rotate": false,
       "camera_no_zoom": false,
       "clipping_planes": [],
       "colorbar_object_id": -1,
       "fps_meter": false,
       "grid": [
        -1,
        -1,
        -1,
        1,
        1,
        1
       ],
       "grid_auto_fit": true,
       "grid_visible": true,
       "height": 512,
       "layout": "IPY_MODEL_ed0e751d5c4b4f0d89aab990bc47d75c",
       "lighting": 1.5,
       "menu_visibility": true,
       "name": null,
       "object_ids": [
        140589161691792
       ],
       "rendering_steps": 1,
       "screenshot": "",
       "screenshot_scale": 2,
       "time": 0,
       "voxel_paint_color": 0
      }
     },
     "6b151f388d9e4c779e3d5dc5d1517a04": {
      "model_module": "@jupyter-widgets/base",
      "model_module_version": "1.2.0",
      "model_name": "LayoutModel",
      "state": {}
     },
     "6b746f987c2e46e7b1af9601e3d73e4b": {
      "model_module": "@jupyter-widgets/base",
      "model_module_version": "1.2.0",
      "model_name": "LayoutModel",
      "state": {}
     },
     "6cb12226492f4daa9437b390928f9db9": {
      "model_module": "@jupyter-widgets/base",
      "model_module_version": "1.2.0",
      "model_name": "LayoutModel",
      "state": {}
     },
     "6dd4a66ca05e4a29b64ce97335ade08d": {
      "model_module": "k3d",
      "model_module_version": "2.7.0",
      "model_name": "PlotModel",
      "state": {
       "_backend_version": "2.7.0",
       "_dom_classes": [],
       "_view_count": null,
       "antialias": 3,
       "axes": [
        "x",
        "y",
        "z"
       ],
       "axes_helper": 1,
       "background_color": 16777215,
       "camera": [
        182.6241661137695,
        -262.16147536590836,
        35.53357714791434,
        -0.14999938197433949,
        -0.14999938197433949,
        -5.099999986588955,
        -0.039097480327362544,
        0.05934426973773177,
        0.9974716260031397
       ],
       "camera_auto_fit": true,
       "camera_fov": 60,
       "camera_no_pan": false,
       "camera_no_rotate": false,
       "camera_no_zoom": false,
       "clipping_planes": [],
       "colorbar_object_id": -1,
       "fps_meter": false,
       "grid": [
        -1,
        -1,
        -1,
        1,
        1,
        1
       ],
       "grid_auto_fit": true,
       "grid_visible": true,
       "height": 512,
       "layout": "IPY_MODEL_862cdaa029e54d919bcad90c4d9fae02",
       "lighting": 1.5,
       "menu_visibility": true,
       "name": null,
       "object_ids": [
        139916095287248
       ],
       "rendering_steps": 1,
       "screenshot": "",
       "screenshot_scale": 2,
       "time": 0,
       "voxel_paint_color": 0
      }
     },
     "6f385f1d21c742078aaa62f0781d2cb8": {
      "model_module": "k3d",
      "model_module_version": "2.7.0",
      "model_name": "PlotModel",
      "state": {
       "_backend_version": "2.7.0",
       "_dom_classes": [],
       "_view_count": null,
       "antialias": 3,
       "axes": [
        "x",
        "y",
        "z"
       ],
       "axes_helper": 1,
       "background_color": 16777215,
       "camera": [
        125.02855940528727,
        -187.5667119826081,
        7.302856608100859,
        0,
        -0.023872874677181244,
        -5.1999993324279785,
        0,
        0,
        1
       ],
       "camera_auto_fit": true,
       "camera_fov": 60,
       "camera_no_pan": false,
       "camera_no_rotate": false,
       "camera_no_zoom": false,
       "clipping_planes": [],
       "colorbar_object_id": -1,
       "fps_meter": false,
       "grid": [
        -1,
        -1,
        -1,
        1,
        1,
        1
       ],
       "grid_auto_fit": true,
       "grid_visible": true,
       "height": 512,
       "layout": "IPY_MODEL_122b58d9f61545168148ba86aa872762",
       "lighting": 1.5,
       "menu_visibility": true,
       "name": null,
       "object_ids": [
        140278422411280,
        140278294939792
       ],
       "rendering_steps": 1,
       "screenshot": "",
       "screenshot_scale": 2,
       "time": 0,
       "voxel_paint_color": 0
      }
     },
     "6f4116288cef4a798110a22716bcc5c0": {
      "model_module": "k3d",
      "model_module_version": "2.7.0",
      "model_name": "PlotModel",
      "state": {
       "_backend_version": "2.7.0",
       "_dom_classes": [],
       "_view_count": null,
       "antialias": 3,
       "axes": [
        "x",
        "y",
        "z"
       ],
       "axes_helper": 1,
       "background_color": 16777215,
       "camera": [
        127.37934418598444,
        -191.4440160610472,
        7.637934392894051,
        -0.24999985471367836,
        0,
        -5.125000011175871,
        0,
        0,
        1
       ],
       "camera_auto_fit": true,
       "camera_fov": 60,
       "camera_no_pan": false,
       "camera_no_rotate": false,
       "camera_no_zoom": false,
       "clipping_planes": [],
       "colorbar_object_id": -1,
       "fps_meter": false,
       "grid": [
        -1,
        -1,
        -1,
        1,
        1,
        1
       ],
       "grid_auto_fit": true,
       "grid_visible": true,
       "height": 512,
       "layout": "IPY_MODEL_d0907662bd854866b64ba886eeb90002",
       "lighting": 1.5,
       "menu_visibility": true,
       "name": null,
       "object_ids": [
        140200476624208
       ],
       "rendering_steps": 1,
       "screenshot": "",
       "screenshot_scale": 2,
       "time": 0,
       "voxel_paint_color": 0
      }
     },
     "72098d532a53446fb2b9b8b276aaa556": {
      "model_module": "@jupyter-widgets/base",
      "model_module_version": "1.2.0",
      "model_name": "LayoutModel",
      "state": {}
     },
     "72ad70d2efd949e48fe0cf305ff82681": {
      "model_module": "@jupyter-widgets/output",
      "model_module_version": "1.0.0",
      "model_name": "OutputModel",
      "state": {
       "layout": "IPY_MODEL_8885a73a9312465cbcd3e67f2866f370",
       "outputs": [
        {
         "data": {
          "application/vnd.jupyter.widget-view+json": {
           "model_id": "b56e1471d69d4bb0a86f5810dafdb035",
           "version_major": 2,
           "version_minor": 0
          },
          "text/plain": "Plot(antialias=3, axes=['x', 'y', 'z'], axes_helper=1.0, background_color=16777215, camera=[4.5, 4.5, 4.5, 0.0…"
         },
         "metadata": {},
         "output_type": "display_data"
        }
       ]
      }
     },
     "73c5e27cefb94ef4836d3b8fcc67eb5c": {
      "buffers": [
       {
        "data": "eNoDAAAAAAE=",
        "encoding": "base64",
        "path": [
         "colors",
         "compressed_buffer"
        ]
       },
       {
        "data": "eNpjYGiwZ8AAxIsBAF7EAv0=",
        "encoding": "base64",
        "path": [
         "model_matrix",
         "compressed_buffer"
        ]
       },
       {
        "data": "eNpN18Fx2zoUhlHt0EY26AAFALiVoIN0wFSQ5a3nSSWgomfaIXlW+hei/Z0ZjAZ8vfL9+vP383r9er9ejf37P3bnO+PZyS5fn8e/vd/PTnZjf/39Z3e+M3iWvdllPju+Pte/XdmFffYsehY9i55Fz6Jn0bPoWfTcDexgn59Bc9AcNAfNQXPQHDQHzUFz0Bw0B81Bc9B87eX+/LRe/ZX+Sn+lv9Jf6a/0V/or/ZX+Sn+lv9Jf6a/0X/s8LwVLwVKwFCwFS8FSsBQsBUvBUrAULAVLwVKwFCzXPtyfn77Lde1gV3Zh7/ezk93Yp+vene8MnmVv9um6G9jBXuzj2d+/K/l+jIkxMSbGxJgYE2NiTIyJMTEmxsSYGBNjYkyMiTEvo/vz03R5G96Gt+FteBvehrfhbXgb3oa34W14G96Gt+FteBvehrfhPTsu77UXO9iVXdj7/exkN/b5ee/OdwbPsjf79N4N7GAv9vHsb++9Pz//+/Z2vB1vx9vxdrwdb8fb8Xa8HW/H2/F2vB1vx9vxdrwdb+c8D87z4DwPzvPgPA/O8+A8D87z4DwPzvPgPA/O8+A8D87z4DwPzvPgPA/O8+A8D87z4PcKb+JNvIk38SbexJt4E2/iTbyJN/Em3sSbeBNv4k28GjfGjXFj3Bg3xo1xY9wYN8aNcWPcGDfGjXFj3Bg3xo3rfP6+J0zuCZN7wuSeMLknTO4Jk3vC5J4wuSdM7gmTe8LknjC5J0zuCZN7wuSeMLknYKlYKpaKpWKpWCqWiqViqVgqloqlYqlYKpaKpdIf9Af9QX/QH/QH/UF/0B/0B/1Bf9Af9Af9Qb/Ni+ZF86J50bxoXjQvmhfNi+ZF86J50bxotueg56DnoOeg56DnoOeg56DnoIe///37cr+HTt5DJ++hk/fQyXvo9/4fWktQ2g==",
        "encoding": "base64",
        "path": [
         "positions",
         "compressed_buffer"
        ]
       }
      ],
      "model_module": "k3d",
      "model_module_version": "2.7.0",
      "model_name": "ObjectModel",
      "state": {
       "_view_count": null,
       "_view_module": null,
       "_view_module_version": "",
       "_view_name": null,
       "color": 10075135,
       "colors": {
        "dtype": "uint32",
        "shape": [
         0
        ]
       },
       "compression_level": 0,
       "id": 140588994926672,
       "mesh_detail": 2,
       "model_matrix": {
        "dtype": "float32",
        "shape": [
         4,
         4
        ]
       },
       "name": null,
       "opacity": 1,
       "point_size": 0.1,
       "positions": {
        "dtype": "float32",
        "shape": [
         316,
         3
        ]
       },
       "shader": "3dSpecular",
       "type": "Points",
       "visible": true
      }
     },
     "75a7402755814a1885fa89613b0b4a28": {
      "buffers": [
       {
        "data": "eNot0vlP1gUcwPF3rVar1Wq14vR5Hh4eBOSSQy45fZ7v96spoRIiIqJAHCKH3Pf9cD7fLLMss8yyzLLM0sy01KJIo1BDEQUEfWBrba2ttbbW1sfVD6//4JV2l5X0u62su8fG+nttZN6nkHW/wsYHFLIfVMh5SGXzwyq5j6jkPaqS/5hKweMahU9oFD2pUeyiUeKmsc1do9RDo8xTo9ygUWHUqDRpVJk1qr01aiwatT4adb4a9X4aDf4qDQEqjYEqTUEqzcEqLSEKLaEKrWEKbeEK7RE22iNtdETZ6Iy20hljpStWxC2jO14kJGNPFEnJ9CQn0WNNoteWSK8i1AT6NLE8nr4V8fSvFKvi6E8RTy9lIFWsjmVgjVgbw2CaeCaawXSREcXgepEZiWODyFqCY6PIjsCxSeSE49gstoThyA1DzwtFzxfPLkYvEIWiKAS9WGwNRi8R24LQS0WZKA9Er7gjAH27qBRVi9CrRY0/eq2oE/V+6A2iUTT5ojeLloXoraJNtPugd/yv04LeJbqF3Ru9R/Sa0fvMOPrFgBeOQeEQugnHc2KHicHnxQvG/+wULxoY2CVeEi+L3Qb6XxGvij0L6HtN7BWvG+h9Q+wTbxrouWO/AftbRuxvG+k+YKL7HfGuF10Hveh8z0znIW863rfQ8YGF9sM+YiFtH/rS+pEfrUf8afk4gOajgTR9EkTTp8E0HltMw/FQ6o+HU/9ZBHUnIqn9PIqakzFUfxFL1ak4Kk8lsP10IhVfJlP+lZWyMwqlZ+Xj2RWUnFvJ1q9TKP4mlaKhNRQOpVHwbTr532WQN5xJ7nAWW77PJud8Dpsu5JJ9IZ+sHwrYMFJE5kgJGT+Wsu6nctJHK0kbrWbtxVpWX2wg9VITKZdbWXW5nad+7mL5mB1trA/lygC2KzrLru4g6epOEsd3ET++m6XX9hB7bS/RE/uInNjPkusHCL9+kNAbhwi5cZjgySMETh5l0dQx/KZO4Dt1Ep/p01imz2CePofp5hDGm8MYZs7jOTOCx8wo7rOXcJsdw3V2HNdbE7jcmhTTuNyexfW2U8zj5vwFd+eveDh/w9P5Owvm/sA49yemub8wz/+NZf4f/gXLh0p6",
        "encoding": "base64",
        "path": [
         "color_map",
         "compressed_buffer"
        ]
       },
       {
        "data": "eNpjYBBzZsAACxwwxT44AsUPoIo12AMAbT8Eig==",
        "encoding": "base64",
        "path": [
         "model_matrix",
         "compressed_buffer"
        ]
       },
       {
        "data": "eNqzjS1t6Zsya8HyDXvO3P/0//+n+2f2bFi+YNaUvpbSWDvbuDKQ7PxlG/acvgeSvXcaLhtnaxsPkp05f9n63afufvz//+PdU7vXL5s/c0pvS1m8rX1ieUvv5Bnzlq7defzWu3//3t06vnPt0nkzJve2lCfaOyeXt3RPnDZn0aoth668/PPn5ZVDW1YtmjNtYndzebKTV3pFU2ff5Olzl6zdefLB9+8PTu5cu2Tu9Ml9nU0V6Z6hORUNrZ29E6fOXrR6x9lXr87uWL1o9tSJvZ2tDRXZIamF5TUNzW0d3f1Ay1cePLhi3vTJ/d0dbc31NeUFqbWlJWUVVTW1dfX1tRVZfn45FbX19XW1NVUVZSWldX1VxUXFJSWlJcUFmdGOkpJOMZkFxUBuSXFRSVXf9LrignwgyM1OjfHSYWfX8YpJy87Lzy8oKCiumzGnoTg/Lzc3JystIdRRiZFRyTE0IS0rJzc3L7+kYQ4A4DTE8Q==",
        "encoding": "base64",
        "path": [
         "voxels",
         "compressed_buffer"
        ]
       }
      ],
      "model_module": "k3d",
      "model_module_version": "2.7.0",
      "model_name": "ObjectModel",
      "state": {
       "_view_count": null,
       "_view_module": null,
       "_view_module_version": "",
       "_view_name": null,
       "color_map": {
        "dtype": "uint32",
        "shape": [
         256
        ]
       },
       "compression_level": 0,
       "id": 140200476624208,
       "model_matrix": {
        "dtype": "float32",
        "shape": [
         4,
         4
        ]
       },
       "name": null,
       "opacity": 1,
       "outlines": false,
       "outlines_color": 0,
       "type": "Voxels",
       "visible": true,
       "voxels": {
        "dtype": "uint8",
        "shape": [
         12,
         1,
         30
        ]
       },
       "wireframe": false
      }
     },
     "75d10ce597724583afc613f2175dc080": {
      "model_module": "@jupyter-widgets/base",
      "model_module_version": "1.2.0",
      "model_name": "LayoutModel",
      "state": {}
     },
     "7688fd6c90b8452e9f115343db6ae9e1": {
      "model_module": "@jupyter-widgets/output",
      "model_module_version": "1.0.0",
      "model_name": "OutputModel",
      "state": {
       "layout": "IPY_MODEL_4a53a76c3dbc4b338ffefae948b9cdb2",
       "outputs": [
        {
         "data": {
          "application/vnd.jupyter.widget-view+json": {
           "model_id": "dd7011ea497a4ec1a45ddada3c0ebbe1",
           "version_major": 2,
           "version_minor": 0
          },
          "text/plain": "Plot(antialias=3, axes=['x', 'y', 'z'], axes_helper=1.0, background_color=16777215, camera=[4.5, 4.5, 4.5, 0.0…"
         },
         "metadata": {},
         "output_type": "display_data"
        }
       ]
      }
     },
     "77c209c9e3184628aac2ecaaf39a0791": {
      "model_module": "@jupyter-widgets/base",
      "model_module_version": "1.2.0",
      "model_name": "LayoutModel",
      "state": {}
     },
     "78ada55b730d4abc89b9d62bfdb00f67": {
      "model_module": "@jupyter-widgets/base",
      "model_module_version": "1.2.0",
      "model_name": "LayoutModel",
      "state": {}
     },
     "79a8c0ab1989464abf2a3d5c52cc9d8e": {
      "buffers": [
       {
        "data": "eNoDAAAAAAE=",
        "encoding": "base64",
        "path": [
         "colors",
         "compressed_buffer"
        ]
       },
       {
        "data": "eNpjYGiwZ8AAxIsBAF7EAv0=",
        "encoding": "base64",
        "path": [
         "model_matrix",
         "compressed_buffer"
        ]
       },
       {
        "data": "eNpN18Fx2zAURVHt0EY26AAFAPiVoIN0QFeQ5a8nUgmoKKYcUmelNx7JumcG9oCPx34+vv68Ho9fz8cj2Y39+y+7857BZ9mbXb5fj+vnz89OdmN/f9dnd94z+Cx7s8v87Ph+Xf93ZRf22bPoWfQsehY9i55Fz6Jn0XM3sIN9vgbNQXPQHDQHzUFz0Bw0B81Bc9AcNAfNQfO1l/v103r1V/or/ZX+Sn+lv9Jf6a/0V/or/ZX+Sn+lv9J/7fO8FCwFS8FSsBQsBUvBUrAULAVLwVKwFCwFS8FSsFz7+Oz339/ZdxmvvdjBruzC3s/PTnZjn8Z7d94z+Cx7s0/j3cAO9mIfn/31x/366bu8iTfxJt7Em3gTb+JNvIk38SbexJt4E2/iTbyJN/Em3oa34W14G96Gt+FteBvehrfhbXgb3oa34W14G96Gt+FteBves+PyXnuxg13Zhb2fn53sxj5f7915z+Cz7M0+vXcDO9iLfXz223vv1893396Ot+PteDvejrfj7Xg73o634+14O96Ot+PteDvejrfj7ZznwXkenOfBeR6c58F5HpznwXkenOfBeR6c58F5HpznwXkenOfBeR6c58F5HpznwXke/L/Cm3gTb+JNvIk38SbexJt4E2/iTbyJN/Em3sSbeBNv4t14N96Nd+PdeDfejXfj3Xg33o134914N96Nd+PdeDfejVfj+bvue8XkXjG5V0zuFZN7xeReMblXTO4Vk3vF5F4xuVdM7hWTe8XkXjG5V0zuFZN7BZaKpWKpWCqWiqViqVgqloqlYqlYKpaKpWKpWCr9QX/QH/QH/UF/0B/0B/1Bf9Af9Af9QX/QH/TbvGheNC+aF82L5kXzonnRvGheNC+aF82LZnsOeg56DnoOeg56DnoOeg56Dnr4rvff4f08O3menTzPTp5nJ8+zk+fZyfPse/8D+Xhu+g==",
        "encoding": "base64",
        "path": [
         "positions",
         "compressed_buffer"
        ]
       }
      ],
      "model_module": "k3d",
      "model_module_version": "2.7.0",
      "model_name": "ObjectModel",
      "state": {
       "_view_count": null,
       "_view_module": null,
       "_view_module_version": "",
       "_view_name": null,
       "color": 10075135,
       "colors": {
        "dtype": "uint32",
        "shape": [
         0
        ]
       },
       "compression_level": 0,
       "id": 139917028190864,
       "mesh_detail": 2,
       "model_matrix": {
        "dtype": "float32",
        "shape": [
         4,
         4
        ]
       },
       "name": null,
       "opacity": 1,
       "point_size": 0.1,
       "positions": {
        "dtype": "float32",
        "shape": [
         324,
         3
        ]
       },
       "shader": "3dSpecular",
       "type": "Points",
       "visible": true
      }
     },
     "79c55aac05814a9cbd2e045636b54cb5": {
      "buffers": [
       {
        "data": "eNrNljsvRFEQx6kUvgLWLss2Xg0R8Qi7m41QkK02otIQz05CImw29mGvhIhEgijQaCWi0/kESq1PISFz5jfJPQpRsIpfc+65c+bMmf/MZOuTddlP1iMZYXcgJRRGJhyj40J+MCmsNmWEXENaWGvOCOWpEaE61y8Ei72O5R7HSrdjqVdgX3l6WMDOfGNaqMwOCWZnO+HY63AU24RqOQzrQT7u4D+1U5kZEjgHiqkxIdjocux0Cmb7MCocHLU6jj10nX3VSkzATrDeJXCO3VP94Xuw3y5gp3IaEcpnjtKFo3gZhnX28R92sMv9iC9xtzhzb84/iQil8xaheBURCtdRx20sjK6zj/+wY/4QFz0XP8gr8oL3I57cC7uFm6iwdxcXtu77hM2HgRCss4//zD/iRR7pueR1VnVC/luea55xL+LP/X2/Vp4mhYXnXAjWfT+xg12Ln+oAP9AvOkVn6IH8JE94J9+v1EsgJF4fQ7Du+4kd7HKO6VDf1+qK1hPqAfFGR+Qz+cT7ESf8ib+9h2CdffyHHexyjr2z1ierdwrrNfdP40TciKPptdbvq3lG3pGHpg/y9K/1gS7VD3SLjtG11ReN96/XF/oC9UXrnN9P/0s9tj5MX/zt/qR90O/T1p/pk8RF4/nj/oy+uLfez+/PX/q0P48wZ3w3jzC3+POIxpdzbJ7SvDAdUc+Zo5ir1I7NU5rXfj8l/9Ep9YR6R11Bv+jkA+JuEsY=",
        "encoding": "base64",
        "path": [
         "colors",
         "compressed_buffer"
        ]
       },
       {
        "data": "eNpjYGiwZ8AAxIsBAF7EAv0=",
        "encoding": "base64",
        "path": [
         "model_matrix",
         "compressed_buffer"
        ]
       },
       {
        "data": "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",
        "encoding": "base64",
        "path": [
         "origins",
         "compressed_buffer"
        ]
       },
       {
        "data": "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",
        "encoding": "base64",
        "path": [
         "vectors",
         "compressed_buffer"
        ]
       }
      ],
      "model_module": "k3d",
      "model_module_version": "2.7.0",
      "model_name": "ObjectModel",
      "state": {
       "_view_count": null,
       "_view_module": null,
       "_view_module_version": "",
       "_view_name": null,
       "colors": {
        "dtype": "uint32",
        "shape": [
         324,
         2
        ]
       },
       "compression_level": 0,
       "head_color": 255,
       "head_size": 30,
       "id": 139917027764496,
       "label_size": 1,
       "labels": [],
       "line_width": 0.01,
       "model_matrix": {
        "dtype": "float32",
        "shape": [
         4,
         4
        ]
       },
       "name": null,
       "origin_color": 255,
       "origins": {
        "dtype": "float32",
        "shape": [
         324,
         3
        ]
       },
       "type": "Vectors",
       "use_head": true,
       "vectors": {
        "dtype": "float32",
        "shape": [
         324,
         3
        ]
       },
       "visible": true
      }
     },
     "80501a90f1e14b579a32d822b9a0b8f6": {
      "model_module": "@jupyter-widgets/base",
      "model_module_version": "1.2.0",
      "model_name": "LayoutModel",
      "state": {}
     },
     "820b139d8bd840ccbaa7be6890a7b9e2": {
      "model_module": "k3d",
      "model_module_version": "2.7.0",
      "model_name": "PlotModel",
      "state": {
       "_backend_version": "2.7.0",
       "_dom_classes": [],
       "_view_count": null,
       "antialias": 3,
       "axes": [
        "x",
        "y",
        "z"
       ],
       "axes_helper": 1,
       "background_color": 16777215,
       "camera": [
        178.34799599823646,
        -268.14699363413894,
        12.7347995741193,
        -0.24999985471367836,
        -0.24999985471367836,
        -5.125000011175871,
        0,
        0,
        1
       ],
       "camera_auto_fit": true,
       "camera_fov": 60,
       "camera_no_pan": false,
       "camera_no_rotate": false,
       "camera_no_zoom": false,
       "clipping_planes": [],
       "colorbar_object_id": -1,
       "fps_meter": false,
       "grid": [
        -1,
        -1,
        -1,
        1,
        1,
        1
       ],
       "grid_auto_fit": true,
       "grid_visible": true,
       "height": 512,
       "layout": "IPY_MODEL_a85593b59da14751926a4a69feeaa9a8",
       "lighting": 1.5,
       "menu_visibility": true,
       "name": null,
       "object_ids": [
        140200476560720
       ],
       "rendering_steps": 1,
       "screenshot": "",
       "screenshot_scale": 2,
       "time": 0,
       "voxel_paint_color": 0
      }
     },
     "8336059d82eb4e208021b29eb3452e16": {
      "model_module": "@jupyter-widgets/output",
      "model_module_version": "1.0.0",
      "model_name": "OutputModel",
      "state": {
       "layout": "IPY_MODEL_85c23a69f57d426e9f537ad649e14f3b",
       "outputs": [
        {
         "data": {
          "application/vnd.jupyter.widget-view+json": {
           "model_id": "963e3ce46aa84d848b85bd3a6ee74831",
           "version_major": 2,
           "version_minor": 0
          },
          "text/plain": "Plot(antialias=3, axes=['x', 'y', 'z'], axes_helper=1.0, background_color=16777215, camera=[4.5, 4.5, 4.5, 0.0…"
         },
         "metadata": {},
         "output_type": "display_data"
        }
       ]
      }
     },
     "83629c81d4ba43b9ad40a021c6516b28": {
      "model_module": "@jupyter-widgets/base",
      "model_module_version": "1.2.0",
      "model_name": "LayoutModel",
      "state": {}
     },
     "855b44b232cb4007a021450f0bcf0202": {
      "model_module": "@jupyter-widgets/base",
      "model_module_version": "1.2.0",
      "model_name": "LayoutModel",
      "state": {}
     },
     "859f5682db6b4e748f50e22776636f52": {
      "model_module": "k3d",
      "model_module_version": "2.7.0",
      "model_name": "PlotModel",
      "state": {
       "_backend_version": "2.7.0",
       "_dom_classes": [],
       "_view_count": null,
       "antialias": 3,
       "axes": [
        "x",
        "y",
        "z"
       ],
       "axes_helper": 1,
       "background_color": 16777215,
       "camera": [
        178.42898958819623,
        -227.02203359415313,
        138.51788803174057,
        -0.24999985471367836,
        -0.24999985471367836,
        -5.125000011175871,
        -0.2296342279650397,
        0.3220730360641529,
        0.9184427476916143
       ],
       "camera_auto_fit": true,
       "camera_fov": 60,
       "camera_no_pan": false,
       "camera_no_rotate": false,
       "camera_no_zoom": false,
       "clipping_planes": [],
       "colorbar_object_id": -1,
       "fps_meter": false,
       "grid": [
        -1,
        -1,
        -1,
        1,
        1,
        1
       ],
       "grid_auto_fit": true,
       "grid_visible": true,
       "height": 512,
       "layout": "IPY_MODEL_e5489e5436ba497eb4d5f8802583eab1",
       "lighting": 1.5,
       "menu_visibility": true,
       "name": null,
       "object_ids": [
        140589028786320
       ],
       "rendering_steps": 1,
       "screenshot": "",
       "screenshot_scale": 2,
       "time": 0,
       "voxel_paint_color": 0
      }
     },
     "85c23a69f57d426e9f537ad649e14f3b": {
      "model_module": "@jupyter-widgets/base",
      "model_module_version": "1.2.0",
      "model_name": "LayoutModel",
      "state": {}
     },
     "85c76fb7811e48a3b7aa8b8fe3491768": {
      "model_module": "@jupyter-widgets/output",
      "model_module_version": "1.0.0",
      "model_name": "OutputModel",
      "state": {
       "layout": "IPY_MODEL_b8bd0ac2e66246688a2ac193ffeb20df",
       "outputs": [
        {
         "data": {
          "application/vnd.jupyter.widget-view+json": {
           "model_id": "ce0a36e8c1424ed8987ee535ab1fe2f5",
           "version_major": 2,
           "version_minor": 0
          },
          "text/plain": "Plot(antialias=3, axes=['x', 'y', 'z'], axes_helper=1.0, background_color=16777215, camera=[4.5, 4.5, 4.5, 0.0…"
         },
         "metadata": {},
         "output_type": "display_data"
        }
       ]
      }
     },
     "862cdaa029e54d919bcad90c4d9fae02": {
      "model_module": "@jupyter-widgets/base",
      "model_module_version": "1.2.0",
      "model_name": "LayoutModel",
      "state": {}
     },
     "8713bc91c88342859dffc6dc66a81a19": {
      "model_module": "@jupyter-widgets/base",
      "model_module_version": "1.2.0",
      "model_name": "LayoutModel",
      "state": {}
     },
     "8885a73a9312465cbcd3e67f2866f370": {
      "model_module": "@jupyter-widgets/base",
      "model_module_version": "1.2.0",
      "model_name": "LayoutModel",
      "state": {}
     },
     "8a32ae1c3a9a4cdca0f7f4956627aeec": {
      "model_module": "k3d",
      "model_module_version": "2.7.0",
      "model_name": "PlotModel",
      "state": {
       "_backend_version": "2.7.0",
       "_dom_classes": [],
       "_view_count": null,
       "antialias": 3,
       "axes": [
        "x",
        "y",
        "z"
       ],
       "axes_helper": 1,
       "background_color": 16777215,
       "camera": [
        51.17688689702412,
        -110.63372502110543,
        2.405583924727268,
        0.055828094482421875,
        -0.005649685859680176,
        -5.275280952453613,
        -0.013064463932895894,
        0.0022530963225017675,
        0.9999121178079141
       ],
       "camera_auto_fit": true,
       "camera_fov": 60,
       "camera_no_pan": false,
       "camera_no_rotate": false,
       "camera_no_zoom": false,
       "clipping_planes": [],
       "colorbar_object_id": -1,
       "fps_meter": false,
       "grid": [
        -1,
        -1,
        -1,
        1,
        1,
        1
       ],
       "grid_auto_fit": true,
       "grid_visible": true,
       "height": 512,
       "layout": "IPY_MODEL_b47783e9a86e475fa7bd12032aaf6e72",
       "lighting": 1.5,
       "menu_visibility": true,
       "name": null,
       "object_ids": [
        140588995134480,
        140589028951696
       ],
       "rendering_steps": 1,
       "screenshot": "",
       "screenshot_scale": 2,
       "time": 0,
       "voxel_paint_color": 0
      }
     },
     "8abb02f2cbe240e18fd4c20be00103e2": {
      "buffers": [
       {
        "data": "eNq7PcOEwcbnOUPCOnUG/iMfGda69DF8/PCGAQB5NApc",
        "encoding": "base64",
        "path": [
         "color_map",
         "compressed_buffer"
        ]
       },
       {
        "data": "eNpjYBBzZsAA2MQ+ODIwLDiAKtZgDwBXFgQD",
        "encoding": "base64",
        "path": [
         "model_matrix",
         "compressed_buffer"
        ]
       },
       {
        "data": "eNrtwQEJAAAAAiDq/+iGpCYAAAAAAADAiwIAAHBpRUM4QQ==",
        "encoding": "base64",
        "path": [
         "voxels",
         "compressed_buffer"
        ]
       }
      ],
      "model_module": "k3d",
      "model_module_version": "2.7.0",
      "model_name": "ObjectModel",
      "state": {
       "_view_count": null,
       "_view_module": null,
       "_view_module_version": "",
       "_view_name": null,
       "color_map": {
        "dtype": "uint32",
        "shape": [
         6
        ]
       },
       "compression_level": 0,
       "id": 140606012431760,
       "model_matrix": {
        "dtype": "float32",
        "shape": [
         4,
         4
        ]
       },
       "name": null,
       "opacity": 1,
       "outlines": false,
       "outlines_color": 0,
       "type": "Voxels",
       "visible": true,
       "voxels": {
        "dtype": "uint8",
        "shape": [
         12,
         30,
         30
        ]
       },
       "wireframe": false
      }
     },
     "8b5f641e61a547f78cb9edab3f7f5a1b": {
      "model_module": "@jupyter-widgets/base",
      "model_module_version": "1.2.0",
      "model_name": "LayoutModel",
      "state": {}
     },
     "8c00285e719643c79acc997e0443a500": {
      "model_module": "k3d",
      "model_module_version": "2.7.0",
      "model_name": "PlotModel",
      "state": {
       "_backend_version": "2.7.0",
       "_dom_classes": [],
       "_view_count": null,
       "antialias": 3,
       "axes": [
        "x",
        "y",
        "z"
       ],
       "axes_helper": 1,
       "background_color": 16777215,
       "camera": [
        71.01377668359218,
        -95.51342565792875,
        34.418183678548566,
        0,
        -0.07161712646484375,
        -7,
        -0.19566438413513046,
        0.1981166406043093,
        0.9604505429727671
       ],
       "camera_auto_fit": true,
       "camera_fov": 60,
       "camera_no_pan": false,
       "camera_no_rotate": false,
       "camera_no_zoom": false,
       "clipping_planes": [],
       "colorbar_object_id": -1,
       "fps_meter": false,
       "grid": [
        -1,
        -1,
        -1,
        1,
        1,
        1
       ],
       "grid_auto_fit": true,
       "grid_visible": true,
       "height": 512,
       "layout": "IPY_MODEL_6cb12226492f4daa9437b390928f9db9",
       "lighting": 1.5,
       "menu_visibility": true,
       "name": null,
       "object_ids": [
        140588994656080,
        140588995134224
       ],
       "rendering_steps": 1,
       "screenshot": "",
       "screenshot_scale": 2,
       "time": 0,
       "voxel_paint_color": 0
      }
     },
     "8c4074275f0249c8b79a505203f4d941": {
      "model_module": "@jupyter-widgets/output",
      "model_module_version": "1.0.0",
      "model_name": "OutputModel",
      "state": {
       "layout": "IPY_MODEL_47448cdc8fac492e91b33d88af203f92",
       "outputs": [
        {
         "data": {
          "application/vnd.jupyter.widget-view+json": {
           "model_id": "2fee0cba57d143d99ad91dff1774a425",
           "version_major": 2,
           "version_minor": 0
          },
          "text/plain": "Plot(antialias=3, axes=['x', 'y', 'z'], axes_helper=1.0, background_color=16777215, camera=[4.5, 4.5, 4.5, 0.0…"
         },
         "metadata": {},
         "output_type": "display_data"
        }
       ]
      }
     },
     "8cb159be28154695831fd491d572f798": {
      "buffers": [
       {
        "data": "eNq9lk1rU1EQhusv6Zf5MClE/AHiQiRdNAQUcSHdiAgKCvUjm7RpGhoaSC5WXbiqa8VAFwoiCIIigiBoCLiI2forBMuceQbOhMuFCl08i5ycM3fOzLwzpzruzVWPWBu1hf7+ojAYLEX0nywItz/Xhdyfv8LlHw0h2SwGHpUCGyuBB+WY+yuBRimwXRDufbwknJu8EpKtQoBz2N/NCYPHi0L/6UIE60n3dAA7D8sBtVOcvo9IOrkA+9Qv7PYO5oXOy2WhPcxHsL73Yl7oPwsk7XwAu/oduyf30v+JN3aabyrCxocLwq0vV4UbX69HsM4+zmEHu+aHxoW427r6y7nWYUm486kmrH+7KdRGLWF13I2o/2wK7OMcdrBLfMkvdURd2f/qJ/HkXtjFj/O/nguV34dCefo24uxkKLCPc9jBLvm2vChV1Qn1b/Wrdca9iD/3936dmb4T+O395TfnsINd6hAdoDfTr+oUnaEH6pM6IU/Ehe9f+35X2HmdEzjHuvefOGKX/aZD7QO+r5B34o2OqGfqyccF+1dOXYzAXx9P7GCX71ie1Q/f747rH354//D7f/0jjsQ1Lb/kxdcdeWQ//rLu9UKdpOZX64y6ow5tDmidUrdZ+vDxTNNNmj6sv9D/VafoFh17fRPvrP7i9ZKm29T+wlxgLmmfm5mnzD39P6sfkyffj/Ejsx+7OWVzwc3PE5tPmhebk34+q7/EEztZ85k6NH0xZ9x8nnkfuDltcdE6y3yP0K+xQ37VDve0uOMXc4Z3k39P8c5Cb2rfz1PqH53OvO+0r6BfdPIPRWCL5g==",
        "encoding": "base64",
        "path": [
         "colors",
         "compressed_buffer"
        ]
       },
       {
        "data": "eNpjYGiwZ8AAxIsBAF7EAv0=",
        "encoding": "base64",
        "path": [
         "model_matrix",
         "compressed_buffer"
        ]
       },
       {
        "data": "eNodl3twVdUZxSFGQsgLhTFEKFQNTeOrzgDGQPe5d2/SdEAMUyCAJDxKa506PBxrMFIgFUgwBopIKSRxcCC0UAtICwWMMPfuHSSZYGnHIFAfVaamr6FqSSfohNqu3/0rl+Gec/b5vrV+a93l337Dz9q+OVR2/txM7lvnl63cHAYvbjGdFzJ9396mUPDgdfPojpcT7WX6nDtg7nUh7o6+EOp/N2CeOTHXHqp6IeQ9+h9z9Ow+2/ZmY9jUddRs8R/ah5obw/o51hSU9vuO768Nw+K7zawP2n3upR+HVWszopLMOv/3C6vDP/ZmRS2fZvr/Rs+GzILcaOD0nkRLRW3IeCAnuqsrEe/OfiaM/l92tG9gjl0xY1W4ODsnKi7eZ4tm14S/2Kwo/+Sf7X3vPB0acodEj4/NdlXjnw6Xl71uavJKwru3Lw2lTZtMcVpBeOzqkrA6PyPqH9/vB3ctDpNG5US/72j3jRmLwj0fZkTTP1/n571fHV6blhbNHjfM31tYFQ7/87ppOPfLREPegnDH4j5T3HgqvrN5fqib1GeaWmfZZ8O8MHvhdXOqdq/9JDk3rNo/OOo7/L59aurcsKxnSLT8/izX1lEZ8ouzo+Mbvu5uPF8ZMtsyost133I15ZXBjv6J4a/+nfo8pbAkHDhXFm47d1P0s5sKwtTY1HBfaXbUMLLfr/iKCz84dHNU0dLub58bD//+bp9p3LXO146OheazvWbTR5l+fWRC3S2XTeEt+xOZWd8MB1t6zOc5b8SLfjg5TGvtMVunfcf6taVhZe8l0129x45c8VBY9sXHpnn6ezbrs5JQdf8182rFMPfX2pLwiyU3R6/tKnJvPVwSvro0O9K5HOfjbJqrY77MlnfSu6Xei+/qmtT3j+cUhBv5XwvlvQNm0KB+3582PviVveZMWbuvnnBXqJnRbVoOrfVp794Rnpt42qR/OdSPODgulG8/Yr63ri1xdeLYsGX7QXOk6vV46YNjQv3pg+Zfc2bazjtHh8I3j5gnX3rFHv6yIFzLPW1OZP3JDt5UEOYN6jbZV4e6XxUVhEcW9ho933EOzqBZOmbKPKUFhybQA3qRblKaYVfaWWpfzECzSM2B++m+qXvOHN7vH/84I2w+dN48eWu7H3rrkHBy6zGT7FvjZ+5JD39LP2BeHDnU33ZPWtj5VqvJbtidGPvUoPD2pztN3oyT8c8euOFXTdxlxnQ+Yrd0fOHnTXjZDBuz20594rpfXXTAjCq7ZH+7o9/XPH/M6DmO5/Eszc8xR2YoLTg0gR6kZYem0bN85vAbXsN/8qHHg/hDPvF4BG1Kox59snPt3rN35qc5embI83WO1BmaR7T7K3/o8f5Mq6nNX+Mf6/ij39ix1QxMHuInXuz2F4bXm+or2xKlJWf9iKb1ZtzC43HblfAXh28wL62cbiedP+WvdNabHaNa7Ymt7b4r7UWj+1nuyz01P8ccmaF04dAH2pDGHVpP6TxjkcOr+FT8cHAEhohbbrn4Bbtgjxjk4Q9sECM8fMCX8qfHm+hduvdoHu1IQx79MHvtIDV/zqizps65wqzxH31jlz/+o3ozuSfdn/nNNp8Tf84cW7Axkfdek7/4xEaztOxYfML8DX7JnHrza19u539Q50feud7oOsv1XKuZWWbH3KQRh1bQibTv8AD6l48dfsbL4pCDR7BIjHSwEk6KzQ5Gw2e4K/562AsXxUcPG2GS2OThEl6X5z1+xzfyj8c76E76S2mP/WhPqR1xdr1D6vxHt6X78xVT/NvX2szV6orElFN3+yl3v2MWffJqfEdFlt9/5ZLR/1u+x3c0G8uMmI90YdEH2pAPHH7AC/K3w+d4XKxyMAteibUO5sJb5YAjD8gC5Y8jh8ggMkfZkyR3yARlQ5JcgMfichImwznxLgnrYIbYkYQbeE7eS+I7tCmNJtEne9P+kuyOd9K7JXmvusoFicLpP02mVZVH+hvn33zWDGxqFpqD9m/RARqQ9i0eQP/yusPz+F0Mc7AMjonHDi7DZOWJI1fIFGWdI/PIO2WsI2vJWfJWn2N8Jg/1nRjfIYt0bYxrYbzuGeOe8FLPivEseKMzxDgDvtTZYpwNzerMMc7MPvUuMd6Fd9U7xnhH/vLOfNZMLPtmJpqVRevMSjO0+JwZarYWrjFbzdzBa2auXTiyh11oR47sZEfanSPX2Z126ugT7JSuoV1bdk0XkAYsGiCHpQ2LNsg3acaiGbJCWrJoCdZKYxaNwSRpz6I9/CpNWjSJlqVVi1bZM+/Ge6VmoL0yB/4fTfMdecHiZ7wgj1hYhkfkHQu78Y485cgkPCWvOfIVr8mDjn6AB+VNR3fBm/KsozPhWXqWvGzxMj1IHrd4nA4i71u8T7aLCRYmkJNihYUV5IwYYmEIPBZbLGyBVWKOhTn4mHfg/Gic/bE79o920QCzwbfMh+tgFteKgRZew0Cx0ZJPsFHMdOQuzBRLHR0Cloqxjg4EY8VeRz+DvWKyoxfCZDqmWG1hNR1QDLcwnP4ltlvYTq8R8y3MpyMoCyxZQMYqIywZQRYpOyzZAac5K+eEYeyJHeFvNIo+0T7+RP/oAjahDWYGl5kb9yOTuKeyz5LBZJ8y0dEtyERlpaMnkZXKUEfPI0OVrY4OSrYqcx3dl8yl8yqLLVlM31RGWzKaHqfstmQ3nUiZbsl0OoWy3pL1ZC/n4AzkEjtg/jAb/aE9eIb38B1ehzv4HR/AXLyARsgbdML8yFpmyHPoFjxL3cbRmeg26jyO/kfnURdy9Fe6kDqSo1vTkejR6k6O7kQ/VadydCq6nrqWo2vRlbgv96RTMEdmSN6iIfRDFuEfvAOnYQfcgGFwE47hbzIDj6N98hL9owu6AtpgfnQjZsjz6XycQV3U0V/pouqojv5NR+U3gbqro7vStdVpHZ2W3so1fJ/exyyYA/2I3bN3ugO6R/PkKp7H72QOvIN18BjWw2RYRc7BK3xMxuNlNE6/QedogT6HHpglPZV5ci46N2fTbwTHbwZ+I/BbgX/zmd7Nu/Fe9FZ2xr7od2gUfdJ98CfepBfAJrhEZsJlmEyekElkCqwlj+EtHKKLwCI8Sg/Dp2iZ3ome0QJ9Gj0wV34bMFs6NbpBM3RPfIJH6GUwAj7QWeAjbCTPyQZygawjF8k7coBOQBbASPoQnIQfdEEYgs/ovniNzosP8SB9EAbBH7oS/IW99Aiyh9whY8ldcpb8oXOQQbCZvgWf4RZdE3b9HyBz1us=",
        "encoding": "base64",
        "path": [
         "origins",
         "compressed_buffer"
        ]
       },
       {
        "data": "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",
        "encoding": "base64",
        "path": [
         "vectors",
         "compressed_buffer"
        ]
       }
      ],
      "model_module": "k3d",
      "model_module_version": "2.7.0",
      "model_name": "ObjectModel",
      "state": {
       "_view_count": null,
       "_view_module": null,
       "_view_module_version": "",
       "_view_name": null,
       "colors": {
        "dtype": "uint32",
        "shape": [
         324,
         2
        ]
       },
       "compression_level": 0,
       "head_color": 255,
       "head_size": 30,
       "id": 139916227804112,
       "label_size": 1,
       "labels": [],
       "line_width": 0.01,
       "model_matrix": {
        "dtype": "float32",
        "shape": [
         4,
         4
        ]
       },
       "name": null,
       "origin_color": 255,
       "origins": {
        "dtype": "float32",
        "shape": [
         324,
         3
        ]
       },
       "type": "Vectors",
       "use_head": true,
       "vectors": {
        "dtype": "float32",
        "shape": [
         324,
         3
        ]
       },
       "visible": true
      }
     },
     "8cb176998c71420b859f7bf346c4c68c": {
      "model_module": "@jupyter-widgets/base",
      "model_module_version": "1.2.0",
      "model_name": "LayoutModel",
      "state": {}
     },
     "8d31201a0db74c47860b819e14afadc1": {
      "model_module": "@jupyter-widgets/base",
      "model_module_version": "1.2.0",
      "model_name": "LayoutModel",
      "state": {}
     },
     "8f141ec161ae4b19a04a566841887124": {
      "model_module": "@jupyter-widgets/base",
      "model_module_version": "1.2.0",
      "model_name": "LayoutModel",
      "state": {}
     },
     "908d919f74e4470ca3871ee796f190a4": {
      "buffers": [
       {
        "data": "eNqt1ctLlFEcxvHa9hdIgeOo4y0vGWZkRYukWpWhVIskISJpYVdvqZmOkzoz72RXiO5FN8uI7pSboBu2KIMIyugi1aY/oE1QPOd8D7yviwlq8Vl0Oud3fs97zhzjKxdPi/+R2lZi7MuV5OGQDJ4y9p3PkuiVHNl7vUA67pTLztElsvnpGlk9vlvmTIxIxuRHiXz/5cM482ped8qmZ+uEuuzDvvRBX/RJ3+QgV3zVIoO820uM/5x37sSwpMvLPNZR55/z2lxT8xYb/bmSLm/PSL503i6TXaOLpfFJndSOt0rF+8uSMflBpuY148xjHXWoyz5/ndfmIBd5EzVGamexMZAjLu/JTOk/F5K+y9nSM5InnbdKpfnhQtnyuEbWvtwmC96dkZlf3kgwL+PMYx11qMs+7Esf9EWfLq/NkdpRLORM1lVJqnm2EcgbP54pA2dDErsQlt6rEem+USTt9+ZJ06MVsuHFRln6dkiyPj2X8LefPowzj3XUoS77sC990Bd9Jg9lictrc5HTW18pqfZCYzBHkgezJH4sJNwXvmfsUrb0XotI180SaXlQJZxP3atm4T2a9fWHD+PMYx11qMs+sYthcedq+6JP+iYHuVzOzeXGnnyDvAfCkjgSEpfb3pvgeUeHc4VzaLs/X+ifdzf0ecyHceaxjjrUDZ4nfdAXfdK3y9tVYJCztcjozTPsPfC8bGE99yRxNCQu/4lMGTgdkuD583trv1shDWMNPowzj3XUoS77uHy2D/ryhsKG7dvdZ3K1FImXCot7v2MRg/fNficvkW3Yeqzz9ltDAdTlO3cWiNdQ4eO+P/tQN1iPffh/+rB9uX3omxw2F+u5/25dX8SIWvw7lgbz+J4dhUZTqSRqq2RXzgof915uLTVYR53g/sFzCe4f6Jtc5OT+kH9K3z1pdOcbnBO/D5uTdyJaVS31M5b5MO7VVwrrXB3qsk+6fgLfiVzufbXvu/udk5f1e/ON7gDeN3tPU21Fhv17x/vAuXaVLZe66dU+jDMv1VhuUIe67MO+wX7ok75tDnLxvv8G7Ku15g==",
        "encoding": "base64",
        "path": [
         "colors",
         "compressed_buffer"
        ]
       },
       {
        "data": "eNpjYGiwZ8AAxIsBAF7EAv0=",
        "encoding": "base64",
        "path": [
         "model_matrix",
         "compressed_buffer"
        ]
       },
       {
        "data": "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",
        "encoding": "base64",
        "path": [
         "origins",
         "compressed_buffer"
        ]
       },
       {
        "data": "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",
        "encoding": "base64",
        "path": [
         "vectors",
         "compressed_buffer"
        ]
       }
      ],
      "model_module": "k3d",
      "model_module_version": "2.7.0",
      "model_name": "ObjectModel",
      "state": {
       "_view_count": null,
       "_view_module": null,
       "_view_module_version": "",
       "_view_name": null,
       "colors": {
        "dtype": "uint32",
        "shape": [
         360,
         2
        ]
       },
       "compression_level": 0,
       "head_color": 255,
       "head_size": 20,
       "id": 140588995134480,
       "label_size": 1,
       "labels": [],
       "line_width": 0.01,
       "model_matrix": {
        "dtype": "float32",
        "shape": [
         4,
         4
        ]
       },
       "name": null,
       "origin_color": 255,
       "origins": {
        "dtype": "float32",
        "shape": [
         360,
         3
        ]
       },
       "type": "Vectors",
       "use_head": true,
       "vectors": {
        "dtype": "float32",
        "shape": [
         360,
         3
        ]
       },
       "visible": true
      }
     },
     "90b3172eaf6c4ba195a8af2d78327b19": {
      "model_module": "@jupyter-widgets/base",
      "model_module_version": "1.2.0",
      "model_name": "LayoutModel",
      "state": {}
     },
     "91c7c0d038144071aed76b42389f27c6": {
      "model_module": "k3d",
      "model_module_version": "2.7.0",
      "model_name": "PlotModel",
      "state": {
       "_backend_version": "2.7.0",
       "_dom_classes": [],
       "_view_count": null,
       "antialias": 3,
       "axes": [
        "x",
        "y",
        "z"
       ],
       "axes_helper": 1,
       "background_color": 16777215,
       "camera": [
        16.717141206058937,
        -101.11646300783045,
        3.1287954090229295,
        -0.24999985471367836,
        0,
        -5.125000011175871,
        -0.04295492832634059,
        0.01798945759381606,
        0.9989150382029303
       ],
       "camera_auto_fit": true,
       "camera_fov": 60,
       "camera_no_pan": false,
       "camera_no_rotate": false,
       "camera_no_zoom": false,
       "clipping_planes": [],
       "colorbar_object_id": -1,
       "fps_meter": false,
       "grid": [
        -1,
        -1,
        -1,
        1,
        1,
        1
       ],
       "grid_auto_fit": true,
       "grid_visible": true,
       "height": 512,
       "layout": "IPY_MODEL_77c209c9e3184628aac2ecaaf39a0791",
       "lighting": 1.5,
       "menu_visibility": true,
       "name": null,
       "object_ids": [
        140589028909264
       ],
       "rendering_steps": 1,
       "screenshot": "",
       "screenshot_scale": 2,
       "time": 0,
       "voxel_paint_color": 0
      }
     },
     "91fde964a7ba48e3b86f185a01aeda14": {
      "model_module": "@jupyter-widgets/output",
      "model_module_version": "1.0.0",
      "model_name": "OutputModel",
      "state": {
       "layout": "IPY_MODEL_d505231ee50842af84196c188ad1a44a",
       "outputs": [
        {
         "data": {
          "application/vnd.jupyter.widget-view+json": {
           "model_id": "0ab49ed311cc494788ebd5b823264d91",
           "version_major": 2,
           "version_minor": 0
          },
          "text/plain": "Plot(antialias=3, axes=['x', 'y', 'z'], axes_helper=1.0, background_color=16777215, camera=[4.5, 4.5, 4.5, 0.0…"
         },
         "metadata": {},
         "output_type": "display_data"
        }
       ]
      }
     },
     "920ceb6e740f44e4af00c9e6ded73de6": {
      "buffers": [
       {
        "data": "eNq7PcOEwcbnOUPCOnUG/iMfGda69DF8/PCGAQB5NApc",
        "encoding": "base64",
        "path": [
         "color_map",
         "compressed_buffer"
        ]
       },
       {
        "data": "eNpjYBBzZsAA2MQ+ODIwLDiAKtZgDwBXFgQD",
        "encoding": "base64",
        "path": [
         "model_matrix",
         "compressed_buffer"
        ]
       },
       {
        "data": "eNrtwUEJAAAIADHO/qFt4F/YVocJAAAAAAAAAAAAgOcWggEqMg==",
        "encoding": "base64",
        "path": [
         "voxels",
         "compressed_buffer"
        ]
       }
      ],
      "model_module": "k3d",
      "model_module_version": "2.7.0",
      "model_name": "ObjectModel",
      "state": {
       "_view_count": null,
       "_view_module": null,
       "_view_module_version": "",
       "_view_name": null,
       "color_map": {
        "dtype": "uint32",
        "shape": [
         6
        ]
       },
       "compression_level": 0,
       "id": 140200476560720,
       "model_matrix": {
        "dtype": "float32",
        "shape": [
         4,
         4
        ]
       },
       "name": null,
       "opacity": 1,
       "outlines": false,
       "outlines_color": 0,
       "type": "Voxels",
       "visible": true,
       "voxels": {
        "dtype": "uint8",
        "shape": [
         12,
         30,
         30
        ]
       },
       "wireframe": false
      }
     },
     "92fada7517f74208b046ef060f3edcff": {
      "model_module": "@jupyter-widgets/base",
      "model_module_version": "1.2.0",
      "model_name": "LayoutModel",
      "state": {}
     },
     "958985782f0d4508a2060136f2cb8252": {
      "model_module": "@jupyter-widgets/output",
      "model_module_version": "1.0.0",
      "model_name": "OutputModel",
      "state": {
       "layout": "IPY_MODEL_90b3172eaf6c4ba195a8af2d78327b19",
       "outputs": [
        {
         "data": {
          "application/vnd.jupyter.widget-view+json": {
           "model_id": "07750d8e14464e60b7af1b10ace02c62",
           "version_major": 2,
           "version_minor": 0
          },
          "text/plain": "Plot(antialias=3, axes=['x', 'y', 'z'], axes_helper=1.0, background_color=16777215, camera=[4.5, 4.5, 4.5, 0.0…"
         },
         "metadata": {},
         "output_type": "display_data"
        }
       ]
      }
     },
     "963e3ce46aa84d848b85bd3a6ee74831": {
      "model_module": "k3d",
      "model_module_version": "2.7.0",
      "model_name": "PlotModel",
      "state": {
       "_backend_version": "2.7.0",
       "_dom_classes": [],
       "_view_count": null,
       "antialias": 3,
       "axes": [
        "x",
        "y",
        "z"
       ],
       "axes_helper": 1,
       "background_color": 16777215,
       "camera": [
        165.21211505602588,
        -220.24873347478115,
        36.99126626209822,
        -0.24999985471367836,
        -0.24999985471367836,
        -5.125000011175871,
        -0.04918948996990864,
        0.08343544637348604,
        0.9952984076973885
       ],
       "camera_auto_fit": true,
       "camera_fov": 60,
       "camera_no_pan": false,
       "camera_no_rotate": false,
       "camera_no_zoom": false,
       "clipping_planes": [],
       "colorbar_object_id": -1,
       "fps_meter": false,
       "grid": [
        -1,
        -1,
        -1,
        1,
        1,
        1
       ],
       "grid_auto_fit": true,
       "grid_visible": true,
       "height": 512,
       "layout": "IPY_MODEL_72098d532a53446fb2b9b8b276aaa556",
       "lighting": 1.5,
       "menu_visibility": true,
       "name": null,
       "object_ids": [
        140588994925840
       ],
       "rendering_steps": 1,
       "screenshot": "",
       "screenshot_scale": 2,
       "time": 0,
       "voxel_paint_color": 0
      }
     },
     "9770b8c931ea4b24b483c663be352cb4": {
      "buffers": [
       {
        "data": "eNq7PcOEAQAFoAGo",
        "encoding": "base64",
        "path": [
         "color_map",
         "compressed_buffer"
        ]
       },
       {
        "data": "eNpjYBBzZsAA2MQ+ODIwLDiAKtZgDwBXFgQD",
        "encoding": "base64",
        "path": [
         "model_matrix",
         "compressed_buffer"
        ]
       },
       {
        "data": "eNrt0zEOwCAMBEHu/59OEyGhILtAVJlrtwPPGHN5N77LsjKuOZuVceakymVNipxU+aDmZ7v3ks0PHt1Gc3XNxTbX3klplDHIIIMMMsgggwwyyCCDDDLIIIMMMsgggwwyyCCDDDLIIIMMMsgggwwyyCCDDDLI4C2DD1n0IZE=",
        "encoding": "base64",
        "path": [
         "voxels",
         "compressed_buffer"
        ]
       }
      ],
      "model_module": "k3d",
      "model_module_version": "2.7.0",
      "model_name": "ObjectModel",
      "state": {
       "_view_count": null,
       "_view_module": null,
       "_view_module_version": "",
       "_view_name": null,
       "color_map": {
        "dtype": "uint32",
        "shape": []
       },
       "compression_level": 0,
       "id": 140605247163600,
       "model_matrix": {
        "dtype": "float32",
        "shape": [
         4,
         4
        ]
       },
       "name": null,
       "opacity": 1,
       "outlines": false,
       "outlines_color": 0,
       "type": "Voxels",
       "visible": true,
       "voxels": {
        "dtype": "uint8",
        "shape": [
         12,
         30,
         30
        ]
       },
       "wireframe": false
      }
     },
     "9a38969fefda4f818deda60742405aa4": {
      "model_module": "@jupyter-widgets/output",
      "model_module_version": "1.0.0",
      "model_name": "OutputModel",
      "state": {
       "layout": "IPY_MODEL_d644054da957460e873fe394aa0c06a0",
       "outputs": [
        {
         "data": {
          "application/vnd.jupyter.widget-view+json": {
           "model_id": "699f8a8d202f4cdb8d6ee467dfc6815d",
           "version_major": 2,
           "version_minor": 0
          },
          "text/plain": "Plot(antialias=3, axes=['x', 'y', 'z'], axes_helper=1.0, background_color=16777215, camera=[4.5, 4.5, 4.5, 0.0…"
         },
         "metadata": {},
         "output_type": "display_data"
        }
       ]
      }
     },
     "9b4cc62d3b8e460cae8fae0ae08f9888": {
      "model_module": "@jupyter-widgets/base",
      "model_module_version": "1.2.0",
      "model_name": "LayoutModel",
      "state": {}
     },
     "9b4f4b26c6624735b60be7e291a34cd2": {
      "model_module": "@jupyter-widgets/base",
      "model_module_version": "1.2.0",
      "model_name": "LayoutModel",
      "state": {}
     },
     "9bf5cc0719624e6f92d2128bffb65ffe": {
      "buffers": [
       {
        "data": "eNoDAAAAAAE=",
        "encoding": "base64",
        "path": [
         "colors",
         "compressed_buffer"
        ]
       },
       {
        "data": "eNpjYGiwZ8AAxIsBAF7EAv0=",
        "encoding": "base64",
        "path": [
         "model_matrix",
         "compressed_buffer"
        ]
       },
       {
        "data": "eNpN18Fx6jAUhlF2qkQdqABJtxJ1kA78KnjLWw+hBFWUGGI4K/4FTr4zo2Hk2y2/b//+P263+/12a+yvO7vznfHZyS6/n8ff3t+fnezG/v37n935zuBZ9maX+dnx+7n+dmUX9tmz6Fn0LHoWPYueRc+iZ9HzbmAH+/wMmoPmoDloDpqD5qA5aA6ag+agOWgOmoPmay/349V69Vf6K/2V/kp/pb/SX+mv9Ff6K/2V/kp/pb/Sf+3zvBQsBUvBUrAULAVLwVKwFCwFS8FSsBQsBUvBUrBc+3A/Xn2X69rBruzCPj+vnezG/rqzO98ZPMve7NP1bmAHe7GPz37+ruT3x5gYE2NiTIyJMTEmxsSYGBNjYkyMiTExJsbEmBjzMrofr6bL2/A2vA1vw9vwNrwNb8Pb8Da8DW/D2/A2vA1vw9vwNrwN79lxea+92MGu7MI+vddOdmN/3dmd7wyeZW/26X03sIO92MdnP73v/Xj977e34+14O96Ot+PteDvejrfj7Xg73o634+14O96Ot+PteDvneXCeB+d5cJ4H53lwngfneXCeB+d5cJ4H53lwngfneXCeB+d5cJ4H53lwngfneXCeB79XeBNv4k28iTfxJt7Em3gTb+JNvIk38SbexJt4E2/i1bgxbowb48a4MW6MG+PGuDFujBvjxrgxbowb48a4MW5c5/Pve8LknjC5J0zuCZN7wuSeMLknTO4Jk3vC5J4wuSdM7gmTe8LknjC5J0zuCZN7ApaKpWKpWCqWiqViqVgqloqlYqlYKpaKpWKpWCr9QX/QH/QH/UF/0B/0B/1Bf9Af9Af9QX/QH/TbvGheNC+aF82L5kXzonnRvGheNC+aF82LZnsOeg56DnoOeg56DnoOeg56Dnr4+8/fl/d76OQ9dPIeOnkPnbyHPvcPNxwVLQ==",
        "encoding": "base64",
        "path": [
         "origins",
         "compressed_buffer"
        ]
       },
       {
        "data": "eNrtxjENAAAIwLBJw78qPjyQtFfrTO7u7u7u7u5Pvr35TwE=",
        "encoding": "base64",
        "path": [
         "vectors",
         "compressed_buffer"
        ]
       }
      ],
      "model_module": "k3d",
      "model_module_version": "2.7.0",
      "model_name": "ObjectModel",
      "state": {
       "_view_count": null,
       "_view_module": null,
       "_view_module_version": "",
       "_view_name": null,
       "colors": {
        "dtype": "uint32",
        "shape": [
         0
        ]
       },
       "compression_level": 0,
       "head_color": 255,
       "head_size": 30,
       "id": 140588994656080,
       "label_size": 1,
       "labels": [],
       "line_width": 0.01,
       "model_matrix": {
        "dtype": "float32",
        "shape": [
         4,
         4
        ]
       },
       "name": null,
       "origin_color": 255,
       "origins": {
        "dtype": "float32",
        "shape": [
         316,
         3
        ]
       },
       "type": "Vectors",
       "use_head": true,
       "vectors": {
        "dtype": "float32",
        "shape": [
         316,
         3
        ]
       },
       "visible": true
      }
     },
     "a0dc80dc0864476ba680f60c1df9479c": {
      "model_module": "@jupyter-widgets/base",
      "model_module_version": "1.2.0",
      "model_name": "LayoutModel",
      "state": {}
     },
     "a1019e299c6f41c6bf700c9f77616b39": {
      "buffers": [
       {
        "data": "eNoDAAAAAAE=",
        "encoding": "base64",
        "path": [
         "colors",
         "compressed_buffer"
        ]
       },
       {
        "data": "eNpjYGiwZ8AAxIsBAF7EAv0=",
        "encoding": "base64",
        "path": [
         "model_matrix",
         "compressed_buffer"
        ]
       },
       {
        "data": "eNpN0uGJwzAMgNGMolXsXxrHg2QIjdJ2Io1wZ4rTFzj6EYzz0Om6+n1d9+e6Xq/rKjro/TzvB+fppuP/d533718XHfR+Fvcv7l/c/5yZv0778/07hsSQGBJDYkgMiSExJIbEcHpbAk/gCTyBJ/AEnsATeAJP4Ak8pxe9/z/728d5Oumg9+/pooPez/N+cJ5uejuf79KL3s7CWTgLZ+EsnIWzcBbOwlk4C2fhLJyFM3AGzsAZOANn4AycgTNwBs7AGTgD5+nb/ny/ccynkw56m08XHfR5jvk5Tze9zc936UXf9ud77zPnwZwHcx7MeTDnwZwHcx7MeTDnwZwHcx7MeTDnwZwHO4y5MBfmwlyYC3NhLsyFuTAX5sJcmAtzYW7MjbkxN+bG3Jgbc2NuzI25MTfmxqxtn3t2YLIDkx2Y7MBkByY7MNmByQ5MdmCyA5MdmOzA/NkSW2JLbIktsSW2xJbYEltiS2yJTcPCsDAsDAvDwrAwLAwLw8LgnTd33tx5c+e3/wBRoE5Z",
        "encoding": "base64",
        "path": [
         "origins",
         "compressed_buffer"
        ]
       },
       {
        "data": "eNpjYIADB4ZR9ih7lD3KHmWPskfZo+wBYgMAaMEtwQ==",
        "encoding": "base64",
        "path": [
         "vectors",
         "compressed_buffer"
        ]
       }
      ],
      "model_module": "k3d",
      "model_module_version": "2.7.0",
      "model_name": "ObjectModel",
      "state": {
       "_view_count": null,
       "_view_module": null,
       "_view_module_version": "",
       "_view_name": null,
       "colors": {
        "dtype": "uint32",
        "shape": [
         0
        ]
       },
       "compression_level": 0,
       "head_color": 255,
       "head_size": 30,
       "id": 140588994710992,
       "label_size": 1,
       "labels": [],
       "line_width": 0.01,
       "model_matrix": {
        "dtype": "float32",
        "shape": [
         4,
         4
        ]
       },
       "name": null,
       "origin_color": 255,
       "origins": {
        "dtype": "float32",
        "shape": [
         183,
         3
        ]
       },
       "type": "Vectors",
       "use_head": true,
       "vectors": {
        "dtype": "float32",
        "shape": [
         183,
         3
        ]
       },
       "visible": true
      }
     },
     "a1ab53c1842e4296977c8e86074eb862": {
      "model_module": "@jupyter-widgets/base",
      "model_module_version": "1.2.0",
      "model_name": "LayoutModel",
      "state": {}
     },
     "a3614b8718de4c71b2d3f37c29cba5e1": {
      "model_module": "@jupyter-widgets/output",
      "model_module_version": "1.0.0",
      "model_name": "OutputModel",
      "state": {
       "layout": "IPY_MODEL_83629c81d4ba43b9ad40a021c6516b28",
       "outputs": [
        {
         "data": {
          "application/vnd.jupyter.widget-view+json": {
           "model_id": "859f5682db6b4e748f50e22776636f52",
           "version_major": 2,
           "version_minor": 0
          },
          "text/plain": "Plot(antialias=3, axes=['x', 'y', 'z'], axes_helper=1.0, background_color=16777215, camera=[4.5, 4.5, 4.5, 0.0…"
         },
         "metadata": {},
         "output_type": "display_data"
        }
       ]
      }
     },
     "a5c305d06fe041e7b0a52ab1dcda68cb": {
      "buffers": [
       {
        "data": "eNoDAAAAAAE=",
        "encoding": "base64",
        "path": [
         "colors",
         "compressed_buffer"
        ]
       },
       {
        "data": "eNpjYGiwZ8AAxIsBAF7EAv0=",
        "encoding": "base64",
        "path": [
         "model_matrix",
         "compressed_buffer"
        ]
       },
       {
        "data": "eNpN18Fx2zAURVHtUAk6QAEAfiXoIB0wFWT51yklVgmoKKZkUmfFt5Dse2YwGvDxyK/H7z/Px+Nvfzwa+9c/ducz47OTXb6fx8/eX5+d7Mb+/vuf3fnM4LvszS7zs+P7uX52ZRf22bPoWfQsehY9i55Fz6Jn0XM3sIN9PoPmoDloDpqD5qA5aA6ag+agOWgOmoPmoPnay/18t179lf5Kf6W/0l/pr/RX+iv9lf5Kf6W/0l/pr/Rf+zwvBUvBUrAULAVLwVKwFCwFS8FSsBQsBUvBUrAULNc+3M933+W6drAru7DP57WT3din696dzwy+y97s03U3sIO92Mdnv35X8utjTIyJMTEmxsSYGBNjYkyMiTExJsbEmBgTY2JMjHkZ3c930+VteBvehrfhbXgb3oa34W14G96Gt+FteBvehrfhbXgb3ob37Li8117sYFd2YZ/eaye7sc/nvTufGXyXvdmn925gB3uxj89+ee/9fP/v29vxdrwdb8fb8Xa8HW/H2/F2vB1vx9vxdrwdb8fb8Xa8nfM8OM+D8zw4z4PzPDjPg/M8OM+D8zw4z4PzPDjPg/M8OM+D8zw4z4PzPDjPg/M8OM+D3yu8iTfxJt7Em3gTb+JNvIk38SbexJt4E2/iTbyJN/Fq3Bg3xo1xY9wYN8aNcWPcGDfGjXFj3Bg3xo1xY9wYN67z+/c9YXJPmNwTJveEyT1hck+Y3BMm94TJPWFyT5jcEyb3hMk9YXJPmNwTJveEyT0BS8VSsVQsFUvFUrFULBVLxVKxVCwVS8VSsVQslf6gP+gP+oP+oD/oD/qD/qA/6A/6g/6gP+gP+m1eNC+aF82L5kXzonnRvGheNC+aF82L5kWzPQc9Bz0HPQc9Bz0HPQc9Bz0HPfz91+/L/R46eQ+dvIdO3kMn76Gv/R/ZkE+e",
        "encoding": "base64",
        "path": [
         "positions",
         "compressed_buffer"
        ]
       }
      ],
      "model_module": "k3d",
      "model_module_version": "2.7.0",
      "model_name": "ObjectModel",
      "state": {
       "_view_count": null,
       "_view_module": null,
       "_view_module_version": "",
       "_view_name": null,
       "color": 10075135,
       "colors": {
        "dtype": "uint32",
        "shape": [
         0
        ]
       },
       "compression_level": 0,
       "id": 140588994927952,
       "mesh_detail": 2,
       "model_matrix": {
        "dtype": "float32",
        "shape": [
         4,
         4
        ]
       },
       "name": null,
       "opacity": 1,
       "point_size": 0.1,
       "positions": {
        "dtype": "float32",
        "shape": [
         316,
         3
        ]
       },
       "shader": "3dSpecular",
       "type": "Points",
       "visible": true
      }
     },
     "a79babc0fd254e35a3c75debea5c9a32": {
      "model_module": "k3d",
      "model_module_version": "2.7.0",
      "model_name": "PlotModel",
      "state": {
       "_backend_version": "2.7.0",
       "_dom_classes": [],
       "_view_count": null,
       "antialias": 3,
       "axes": [
        "x",
        "y",
        "z"
       ],
       "axes_helper": 1,
       "background_color": 16777215,
       "camera": [
        169.97839265893376,
        -254.90409335241432,
        5.808600717614713,
        0.0156402587890625,
        0.040035247802734375,
        -11.187674522399902,
        0,
        0,
        1
       ],
       "camera_auto_fit": true,
       "camera_fov": 60,
       "camera_no_pan": false,
       "camera_no_rotate": false,
       "camera_no_zoom": false,
       "clipping_planes": [],
       "colorbar_object_id": -1,
       "fps_meter": false,
       "grid": [
        -1,
        -1,
        -1,
        1,
        1,
        1
       ],
       "grid_auto_fit": true,
       "grid_visible": true,
       "height": 512,
       "layout": "IPY_MODEL_2506e25699404c28be8e6f7cf031ecb9",
       "lighting": 1.5,
       "menu_visibility": true,
       "name": null,
       "object_ids": [
        140588994902992,
        140588994903120
       ],
       "rendering_steps": 1,
       "screenshot": "",
       "screenshot_scale": 2,
       "time": 0,
       "voxel_paint_color": 0
      }
     },
     "a85593b59da14751926a4a69feeaa9a8": {
      "model_module": "@jupyter-widgets/base",
      "model_module_version": "1.2.0",
      "model_name": "LayoutModel",
      "state": {}
     },
     "abd73d2eecf041458ffb54ff50b2e5ec": {
      "buffers": [
       {
        "data": "eNoDAAAAAAE=",
        "encoding": "base64",
        "path": [
         "colors",
         "compressed_buffer"
        ]
       },
       {
        "data": "eNpjYGiwZ8AAxIsBAF7EAv0=",
        "encoding": "base64",
        "path": [
         "model_matrix",
         "compressed_buffer"
        ]
       },
       {
        "data": "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",
        "encoding": "base64",
        "path": [
         "positions",
         "compressed_buffer"
        ]
       }
      ],
      "model_module": "k3d",
      "model_module_version": "2.7.0",
      "model_name": "ObjectModel",
      "state": {
       "_view_count": null,
       "_view_module": null,
       "_view_module_version": "",
       "_view_name": null,
       "color": 10075135,
       "colors": {
        "dtype": "uint32",
        "shape": [
         0
        ]
       },
       "compression_level": 0,
       "id": 139916630771728,
       "mesh_detail": 2,
       "model_matrix": {
        "dtype": "float32",
        "shape": [
         4,
         4
        ]
       },
       "name": null,
       "opacity": 1,
       "point_size": 0.1,
       "positions": {
        "dtype": "float32",
        "shape": [
         750,
         3
        ]
       },
       "shader": "3dSpecular",
       "type": "Points",
       "visible": true
      }
     },
     "ace8dc1137b44d9c936b1028919da348": {
      "model_module": "@jupyter-widgets/base",
      "model_module_version": "1.2.0",
      "model_name": "LayoutModel",
      "state": {}
     },
     "afc2641933c649fd8666cfb872a13574": {
      "model_module": "@jupyter-widgets/base",
      "model_module_version": "1.2.0",
      "model_name": "LayoutModel",
      "state": {}
     },
     "b055995ebb9b43e08bf2c2d711a940c5": {
      "model_module": "k3d",
      "model_module_version": "2.7.0",
      "model_name": "PlotModel",
      "state": {
       "_backend_version": "2.7.0",
       "_dom_classes": [],
       "_view_count": null,
       "antialias": 3,
       "axes": [
        "x",
        "y",
        "z"
       ],
       "axes_helper": 1,
       "background_color": 16777215,
       "camera": [
        178.20951271487635,
        -267.6892675272504,
        12.735951223096084,
        -0.14999938197433949,
        -0.14999938197433949,
        -5.099999986588955,
        0,
        0,
        1
       ],
       "camera_auto_fit": true,
       "camera_fov": 60,
       "camera_no_pan": false,
       "camera_no_rotate": false,
       "camera_no_zoom": false,
       "clipping_planes": [],
       "colorbar_object_id": -1,
       "fps_meter": false,
       "grid": [
        -1,
        -1,
        -1,
        1,
        1,
        1
       ],
       "grid_auto_fit": true,
       "grid_visible": true,
       "height": 512,
       "layout": "IPY_MODEL_8f141ec161ae4b19a04a566841887124",
       "lighting": 1.5,
       "menu_visibility": true,
       "name": null,
       "object_ids": [
        140277429706256
       ],
       "rendering_steps": 1,
       "screenshot": "",
       "screenshot_scale": 2,
       "time": 0,
       "voxel_paint_color": 0
      }
     },
     "b1632d900a35457b9648c4febc0a400a": {
      "model_module": "k3d",
      "model_module_version": "2.7.0",
      "model_name": "PlotModel",
      "state": {
       "_backend_version": "2.7.0",
       "_dom_classes": [],
       "_view_count": null,
       "antialias": 3,
       "axes": [
        "x",
        "y",
        "z"
       ],
       "axes_helper": 1,
       "background_color": 16777215,
       "camera": [
        2.8778826572598577,
        -4.316823985889787,
        0.28778826572598526,
        0,
        0,
        0,
        0,
        0,
        1
       ],
       "camera_auto_fit": true,
       "camera_fov": 60,
       "camera_no_pan": false,
       "camera_no_rotate": false,
       "camera_no_zoom": false,
       "clipping_planes": [],
       "colorbar_object_id": -1,
       "fps_meter": false,
       "grid": [
        -1,
        -1,
        -1,
        1,
        1,
        1
       ],
       "grid_auto_fit": true,
       "grid_visible": true,
       "height": 512,
       "layout": "IPY_MODEL_8b5f641e61a547f78cb9edab3f7f5a1b",
       "lighting": 1.5,
       "menu_visibility": true,
       "name": null,
       "object_ids": [],
       "rendering_steps": 1,
       "screenshot": "",
       "screenshot_scale": 2,
       "time": 0,
       "voxel_paint_color": 0
      }
     },
     "b1e6f7857da94baf97f46b04310361ec": {
      "model_module": "@jupyter-widgets/base",
      "model_module_version": "1.2.0",
      "model_name": "LayoutModel",
      "state": {}
     },
     "b1fe4cbd175146109d78a620f83b3aa0": {
      "buffers": [
       {
        "data": "eNoDAAAAAAE=",
        "encoding": "base64",
        "path": [
         "colors",
         "compressed_buffer"
        ]
       },
       {
        "data": "eNpjYGiwZ8AAxIsBAF7EAv0=",
        "encoding": "base64",
        "path": [
         "model_matrix",
         "compressed_buffer"
        ]
       },
       {
        "data": "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",
        "encoding": "base64",
        "path": [
         "origins",
         "compressed_buffer"
        ]
       },
       {
        "data": "eNrtxjENAAAIA7A5w38CnjhwQdqryZnuiru7u7u7u7u7u7u7u7u7u7v70y9jvrzi",
        "encoding": "base64",
        "path": [
         "vectors",
         "compressed_buffer"
        ]
       }
      ],
      "model_module": "k3d",
      "model_module_version": "2.7.0",
      "model_name": "ObjectModel",
      "state": {
       "_view_count": null,
       "_view_module": null,
       "_view_module_version": "",
       "_view_name": null,
       "colors": {
        "dtype": "uint32",
        "shape": [
         0
        ]
       },
       "compression_level": 0,
       "head_color": 255,
       "head_size": 10,
       "id": 139917088544464,
       "label_size": 1,
       "labels": [],
       "line_width": 0.01,
       "model_matrix": {
        "dtype": "float32",
        "shape": [
         4,
         4
        ]
       },
       "name": null,
       "origin_color": 255,
       "origins": {
        "dtype": "float32",
        "shape": [
         750,
         3
        ]
       },
       "type": "Vectors",
       "use_head": true,
       "vectors": {
        "dtype": "float32",
        "shape": [
         750,
         3
        ]
       },
       "visible": true
      }
     },
     "b240501225154b2db02887f59ff32012": {
      "model_module": "@jupyter-widgets/base",
      "model_module_version": "1.2.0",
      "model_name": "LayoutModel",
      "state": {}
     },
     "b250df8afa304327bdde7c6a03fc9882": {
      "buffers": [
       {
        "data": "eNoDAAAAAAE=",
        "encoding": "base64",
        "path": [
         "colors",
         "compressed_buffer"
        ]
       },
       {
        "data": "eNpjYGiwZ8AAxIsBAF7EAv0=",
        "encoding": "base64",
        "path": [
         "model_matrix",
         "compressed_buffer"
        ]
       },
       {
        "data": "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",
        "encoding": "base64",
        "path": [
         "positions",
         "compressed_buffer"
        ]
       }
      ],
      "model_module": "k3d",
      "model_module_version": "2.7.0",
      "model_name": "ObjectModel",
      "state": {
       "_view_count": null,
       "_view_module": null,
       "_view_module_version": "",
       "_view_name": null,
       "color": 10075135,
       "colors": {
        "dtype": "uint32",
        "shape": [
         0
        ]
       },
       "compression_level": 0,
       "id": 140589028952464,
       "mesh_detail": 2,
       "model_matrix": {
        "dtype": "float32",
        "shape": [
         4,
         4
        ]
       },
       "name": null,
       "opacity": 1,
       "point_size": 0.1,
       "positions": {
        "dtype": "float32",
        "shape": [
         716,
         3
        ]
       },
       "shader": "3dSpecular",
       "type": "Points",
       "visible": true
      }
     },
     "b2d95acbb434479cb9a8b68909885de9": {
      "model_module": "@jupyter-widgets/output",
      "model_module_version": "1.0.0",
      "model_name": "OutputModel",
      "state": {
       "layout": "IPY_MODEL_dfa11d34108f46e2a82e8f052148fdd3",
       "outputs": [
        {
         "data": {
          "application/vnd.jupyter.widget-view+json": {
           "model_id": "db2bfe1194794d24b8c014d995dca9d2",
           "version_major": 2,
           "version_minor": 0
          },
          "text/plain": "Plot(antialias=3, axes=['x', 'y', 'z'], axes_helper=1.0, background_color=16777215, camera=[4.5, 4.5, 4.5, 0.0…"
         },
         "metadata": {},
         "output_type": "display_data"
        }
       ]
      }
     },
     "b3bb9d7635ea48fd9bb6891583ffdb89": {
      "model_module": "@jupyter-widgets/base",
      "model_module_version": "1.2.0",
      "model_name": "LayoutModel",
      "state": {}
     },
     "b3c5e11aa20f4c1da7e4cd261f7e1a84": {
      "model_module": "@jupyter-widgets/output",
      "model_module_version": "1.0.0",
      "model_name": "OutputModel",
      "state": {
       "layout": "IPY_MODEL_27f640a73f0c4ec5bb72e1f6008d3a2b",
       "outputs": [
        {
         "data": {
          "application/vnd.jupyter.widget-view+json": {
           "model_id": "6f4116288cef4a798110a22716bcc5c0",
           "version_major": 2,
           "version_minor": 0
          },
          "text/plain": "Plot(antialias=3, axes=['x', 'y', 'z'], axes_helper=1.0, background_color=16777215, camera=[4.5, 4.5, 4.5, 0.0…"
         },
         "metadata": {},
         "output_type": "display_data"
        }
       ]
      }
     },
     "b47783e9a86e475fa7bd12032aaf6e72": {
      "model_module": "@jupyter-widgets/base",
      "model_module_version": "1.2.0",
      "model_name": "LayoutModel",
      "state": {}
     },
     "b495fd96c86c45c1a532f16e37013ed0": {
      "model_module": "@jupyter-widgets/base",
      "model_module_version": "1.2.0",
      "model_name": "LayoutModel",
      "state": {}
     },
     "b4b3846b5c274690a64b47b9ab53e1a8": {
      "model_module": "@jupyter-widgets/base",
      "model_module_version": "1.2.0",
      "model_name": "LayoutModel",
      "state": {}
     },
     "b56e1471d69d4bb0a86f5810dafdb035": {
      "model_module": "k3d",
      "model_module_version": "2.7.0",
      "model_name": "PlotModel",
      "state": {
       "_backend_version": "2.7.0",
       "_dom_classes": [],
       "_view_count": null,
       "antialias": 3,
       "axes": [
        "x",
        "y",
        "z"
       ],
       "axes_helper": 1,
       "background_color": 16777215,
       "camera": [
        61.87183075266763,
        -64.3061702421626,
        7.335959219791199,
        0,
        -0.02387237548828125,
        -5,
        -0.04066796631226535,
        0.07446508704368897,
        0.9963940321617759
       ],
       "camera_auto_fit": true,
       "camera_fov": 60,
       "camera_no_pan": false,
       "camera_no_rotate": false,
       "camera_no_zoom": false,
       "clipping_planes": [],
       "colorbar_object_id": -1,
       "fps_meter": false,
       "grid": [
        -1,
        -1,
        -1,
        1,
        1,
        1
       ],
       "grid_auto_fit": true,
       "grid_visible": true,
       "height": 512,
       "layout": "IPY_MODEL_47d391c3e4b44c249b34ec53312cb4bb",
       "lighting": 1.5,
       "menu_visibility": true,
       "name": null,
       "object_ids": [
        140590021504912,
        140588994926224
       ],
       "rendering_steps": 1,
       "screenshot": "",
       "screenshot_scale": 2,
       "time": 0,
       "voxel_paint_color": 0
      }
     },
     "b6216633d746495699777dbe04da4c2a": {
      "model_module": "@jupyter-widgets/base",
      "model_module_version": "1.2.0",
      "model_name": "LayoutModel",
      "state": {}
     },
     "b84222223ec74e7199bcd9e0f173041f": {
      "model_module": "@jupyter-widgets/output",
      "model_module_version": "1.0.0",
      "model_name": "OutputModel",
      "state": {
       "layout": "IPY_MODEL_2c3d865a8d9040d0ac2cfea14c920271",
       "outputs": [
        {
         "data": {
          "application/vnd.jupyter.widget-view+json": {
           "model_id": "08f21fcef47c4706ac299db766c2998d",
           "version_major": 2,
           "version_minor": 0
          },
          "text/plain": "Plot(antialias=3, axes=['x', 'y', 'z'], axes_helper=1.0, background_color=16777215, camera=[4.5, 4.5, 4.5, 0.0…"
         },
         "metadata": {},
         "output_type": "display_data"
        }
       ]
      }
     },
     "b8bd0ac2e66246688a2ac193ffeb20df": {
      "model_module": "@jupyter-widgets/base",
      "model_module_version": "1.2.0",
      "model_name": "LayoutModel",
      "state": {}
     },
     "b9687abeff1e43e6bbf9461a0f60ccdb": {
      "model_module": "@jupyter-widgets/base",
      "model_module_version": "1.2.0",
      "model_name": "LayoutModel",
      "state": {}
     },
     "bbe895b66b1e45c6b0ae1ccfd41744ff": {
      "model_module": "@jupyter-widgets/base",
      "model_module_version": "1.2.0",
      "model_name": "LayoutModel",
      "state": {}
     },
     "bd7298c629a04651bbabc2f073061501": {
      "buffers": [
       {
        "data": "eNq9lk0rhGEUhillZ2NhZ3xnUD6TFCuMhJVSEwsixEIhhoWvfMzwIgspRdnYWfoB/oIf4VcoOudcp57Hwsosrs30vuc573nu+z6TLR8pyf6wWJkR1lOjAStVylxFRjjqGxbyY4NCMt8tXC11KqvtISsdykKXUJgYEI77h4TpsmFhty0jJDO9gtfbbFW2W5RcWtk1dlqUrVZluVNIZnuFXHpUmCodCric6hf8nL20ctiknDYo5/VCUgi5yhtnDQrvUcfqcg7fST9+7kabctSkWL0kqVOua5WbCH6357wP6lDXzmG+zJ35eL/2HvUub2uEi/uUUHioFvKPqQB+5zne877ox87hftEReuDefI72Pd7HXUo4f1LOnpWTl7oAfuc53qPOr/uy+aBndI5eXVfRvfC9nHPw2izk3nqEtffxAH7nOe/P6vi80J3pHn9lzaf40X2F/k2P6IJ7YR5xX5Mf+wFxn7xHHeriB/ejzS/OD/e/+dS9Y/pFP9xb3Ffj51dA3CfvUcd9gT/JCesjzjXvz54ren/kV9Qfc/R8YM7k0H/fL7mGrkxn6A4deu6Tz6bbf/cH/sWX5lN8i499fsXOE8sxco2c871W7Ly1nCf32QPF3j/sPfbgn/uXeuRavH/JIfLyj/0b73/68T3I/kFX6B+fkif4Ed3bOdwv8+U7mbvvOfYK+R3/X6Ke+Qs9oyN0jh/jXCM/8Ok3MyHrlw==",
        "encoding": "base64",
        "path": [
         "colors",
         "compressed_buffer"
        ]
       },
       {
        "data": "eNpjYGiwZ8AAxIsBAF7EAv0=",
        "encoding": "base64",
        "path": [
         "model_matrix",
         "compressed_buffer"
        ]
       },
       {
        "data": "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",
        "encoding": "base64",
        "path": [
         "origins",
         "compressed_buffer"
        ]
       },
       {
        "data": "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",
        "encoding": "base64",
        "path": [
         "vectors",
         "compressed_buffer"
        ]
       }
      ],
      "model_module": "k3d",
      "model_module_version": "2.7.0",
      "model_name": "ObjectModel",
      "state": {
       "_view_count": null,
       "_view_module": null,
       "_view_module_version": "",
       "_view_name": null,
       "colors": {
        "dtype": "uint32",
        "shape": [
         316,
         2
        ]
       },
       "compression_level": 0,
       "head_color": 255,
       "head_size": 30,
       "id": 140588994902992,
       "label_size": 1,
       "labels": [],
       "line_width": 0.01,
       "model_matrix": {
        "dtype": "float32",
        "shape": [
         4,
         4
        ]
       },
       "name": null,
       "origin_color": 255,
       "origins": {
        "dtype": "float32",
        "shape": [
         316,
         3
        ]
       },
       "type": "Vectors",
       "use_head": true,
       "vectors": {
        "dtype": "float32",
        "shape": [
         316,
         3
        ]
       },
       "visible": true
      }
     },
     "bd90055d2bd1420f91da43b3bc1e4353": {
      "buffers": [
       {
        "data": "eNoDAAAAAAE=",
        "encoding": "base64",
        "path": [
         "colors",
         "compressed_buffer"
        ]
       },
       {
        "data": "eNpjYGiwZ8AAxIsBAF7EAv0=",
        "encoding": "base64",
        "path": [
         "model_matrix",
         "compressed_buffer"
        ]
       },
       {
        "data": "eNpN18Fx2zoUhlHt0EY26AAFALiVoIN0wFSQ5a3nSSWgomfaIXlW+hei/Z0ZjAZ8vfL9+vP383r9er9ejf37P3bnO+PZyS5fn8e/vd/PTnZjf/39Z3e+M3iWvdllPju+Pte/XdmFffYsehY9i55Fz6Jn0bPoWfTcDexgn59Bc9AcNAfNQXPQHDQHzUFz0Bw0B81Bc9B87eX+/LRe/ZX+Sn+lv9Jf6a/0V/or/ZX+Sn+lv9Jf6a/0X/s8LwVLwVKwFCwFS8FSsBQsBUvBUrAULAVLwVKwFCzXPtyfn77Lde1gV3Zh7/ezk93Yp+vene8MnmVv9um6G9jBXuzj2d+/K/l+jIkxMSbGxJgYE2NiTIyJMTEmxsSYGBNjYkyMiTEvo/vz03R5G96Gt+FteBvehrfhbXgb3oa34W14G96Gt+FteBvehrfhPTsu77UXO9iVXdj7/exkN/b5ee/OdwbPsjf79N4N7GAv9vHsb++9Pz//+/Z2vB1vx9vxdrwdb8fb8Xa8HW/H2/F2vB1vx9vxdrwdb+c8D87z4DwPzvPgPA/O8+A8D87z4DwPzvPgPA/O8+A8D87z4DwPzvPgPA/O8+A8D87z4PcKb+JNvIk38SbexJt4E2/iTbyJN/Em3sSbeBNv4k28GjfGjXFj3Bg3xo1xY9wYN8aNcWPcGDfGjXFj3Bg3xo3rfP6+J0zuCZN7wuSeMLknTO4Jk3vC5J4wuSdM7gmTe8LknjC5J0zuCZN7wuSeMLknYKlYKpaKpWKpWCqWiqViqVgqloqlYqlYKpaKpdIf9Af9QX/QH/QH/UF/0B/0B/1Bf9Af9Af9Qb/Ni+ZF86J50bxoXjQvmhfNi+ZF86J50bxotueg56DnoOeg56DnoOeg56DnoIe///37cr+HTt5DJ++hk/fQyXvo9/4fWktQ2g==",
        "encoding": "base64",
        "path": [
         "positions",
         "compressed_buffer"
        ]
       }
      ],
      "model_module": "k3d",
      "model_module_version": "2.7.0",
      "model_name": "ObjectModel",
      "state": {
       "_view_count": null,
       "_view_module": null,
       "_view_module_version": "",
       "_view_name": null,
       "color": 10075135,
       "colors": {
        "dtype": "uint32",
        "shape": [
         0
        ]
       },
       "compression_level": 0,
       "id": 140588994728848,
       "mesh_detail": 2,
       "model_matrix": {
        "dtype": "float32",
        "shape": [
         4,
         4
        ]
       },
       "name": null,
       "opacity": 1,
       "point_size": 0.1,
       "positions": {
        "dtype": "float32",
        "shape": [
         316,
         3
        ]
       },
       "shader": "3dSpecular",
       "type": "Points",
       "visible": true
      }
     },
     "be7b092320ec4b0a985c98c9a0eb1ead": {
      "buffers": [
       {
        "data": "eNoDAAAAAAE=",
        "encoding": "base64",
        "path": [
         "colors",
         "compressed_buffer"
        ]
       },
       {
        "data": "eNpjYGiwZ8AAxIsBAF7EAv0=",
        "encoding": "base64",
        "path": [
         "model_matrix",
         "compressed_buffer"
        ]
       },
       {
        "data": "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",
        "encoding": "base64",
        "path": [
         "positions",
         "compressed_buffer"
        ]
       }
      ],
      "model_module": "k3d",
      "model_module_version": "2.7.0",
      "model_name": "ObjectModel",
      "state": {
       "_view_count": null,
       "_view_module": null,
       "_view_module_version": "",
       "_view_name": null,
       "color": 10075135,
       "colors": {
        "dtype": "uint32",
        "shape": [
         0
        ]
       },
       "compression_level": 0,
       "id": 140278294939792,
       "mesh_detail": 2,
       "model_matrix": {
        "dtype": "float32",
        "shape": [
         4,
         4
        ]
       },
       "name": null,
       "opacity": 1,
       "point_size": 0.1,
       "positions": {
        "dtype": "float32",
        "shape": [
         750,
         3
        ]
       },
       "shader": "3dSpecular",
       "type": "Points",
       "visible": true
      }
     },
     "bf20f2c6129a4f55b9041896244afc55": {
      "model_module": "@jupyter-widgets/base",
      "model_module_version": "1.2.0",
      "model_name": "LayoutModel",
      "state": {}
     },
     "bf77e3cb5e2d44a78a3167ddc405f8ba": {
      "buffers": [
       {
        "data": "eNqtljsvg1EYx/kYHaTp4BIRoiFsRJDYDGJhb1gEg1ujMdTQwc7OIJEQ1CWIQQyiI4OIpHH7ChaJ+Of8mrxPc5xUO/yG97znfZ//ea4n9vZeF/vl9Uk0FAsiXrwTrCc+vsTIw7qYKEyJmethMXfZH2H+ok/wzL7J+5QYetwQjZ/fouXlXEzfjIrZqwGxcNYrFk97/oR9fMd/ks+7AjuQuh0X7F866a4pnBs72EUP79Fdtc18VwTrD/yL3/FP2fee/y7nk2LluDMC6xDSiV3yiHwoi4PV456xmz5sF6sHbSKz3ypYTx91CO+5HNgln8lz8tUXH86LnbW9JpHdSYjcVjxCdjsh2Mc5fPqwi46YqVPyh/z36nP+wH5uMy42Ms0RWEc/3/niil10oIu+Qf379HF+4oaf0DNWPxihpNPtI+4lPwb00dcg5D/+i51K9XGukD78ZPttxfEl70LxdXnw3/iSh6H6sPVaqg/y0NaH088+6sqnz9YHdUsdB/u604cd/EHciDvr3no1z9ilr9HnyvqtB9tPff021K9tv6XvMwfsfLXzo9p5xH/JHzuHmYu8r/X85Xx2/to5XOv7Bv7FDn4nH+x9yd6T7H2JfCaPyHPbb+lrtk5/AIdTk74=",
        "encoding": "base64",
        "path": [
         "colors",
         "compressed_buffer"
        ]
       },
       {
        "data": "eNpjYGiwZ8AAxIsBAF7EAv0=",
        "encoding": "base64",
        "path": [
         "model_matrix",
         "compressed_buffer"
        ]
       },
       {
        "data": "eNodl31sleUZxhttGbgBVTOTFRCGq5XIAvtkUJtzPw84VoToBgKdYgGxMaPoxoHAmqJM1I0NmjGhFqiF85ZSSkfZGFME5JznmfIVWJHC/ACGgoIxyMjGgpg4d/3OX23DOe/7PPd9Xb/rYvzKJeG9xxpi76Mv2qQHi8JvHm2I02Y2WccDU7OjulfG9MC19sLsE3bb/JVx94i1NvIPM93x/Sti0U+a7MDZTvdqbkX8dFWjLSu9FirG/iq++XGzlXTtDu9+sjQe2N9ic++qD3f2WhoH3pGxgoLC8GCfp+NNv82YLftRdlH5knh3e8ZWtZ20wdX1cdz2jJXlZrrFHXXxiTUZe2trp5vc88t4eljGKvtdcLfWLI4t3S02ZXOxf//qophuabbj/UfHc1tq4vMjG+1nXSXxWLYmri1bZ59MvBbG/GtOLHt2o516fXcoKpoTV6QzttfXh6k3z47nHkhszlcLw7tFs+LrTyY299B92Z5e1XFTbWKXPjphh4sfic+lEyu/WO3mfPfh+EV9YncM6XRDpz8U+1QllnnsQ1d0uSq+VZuxjyqL/elZVXH93I226OpwX/Cd6fHQlXXWd94EP2Li9Ng1qtH4qb/zv+8uHR0vnK2Mk2/caKP/WhK/NLwyLnwqY1VHr4VHnx4fX2tIbMeQPWHo734YK7Yk1jy/PtTWjos1mxJbPagw7B87Nr6xPrHw8aTsvact7luVWGPBCTvSkYo/fjGxcdWPuDNzK+KFrYld6b3VXfrFPXH5nxLrfum8m/bBmNizLbGJFf398vvHxF83JjZq3HA/NT06zmrImM7lOR9n01w982W23El3y9+Lz+o7+c9vu14S+/z+7tg0LbEDIz8Nx64Mi+muxKY+sSfs++Ku2NCZ2Pb2+rCl+854Q3Nix8sKw19WlcY/672XFkzKfvPi0LhhTWIL9vXYiIavx/PrEru1aYY7WDw4PrM5sWU/73DLbrg93qK7zF5/ztXNHBhTO/WZtn7+74cGxL0vJ6b3e87BGTRLz0yZp7Tg0QR6QC/STV4z7Eo7y++LGWgW+TnwPD03/8wZDddDY3nfWK33fmv13rC46itxsO6yc9eSUFJ8U/z8cGK7VheGky294+PnE6u6PCE7pKIoDv5yqx2c1WNtC2+MS4tbre6lh9w9Ewpi438SW/Nhu7OB/wufv53Yy7e/5050fBbidu2uvK/nfbxL8/PMkRlKCx5NoAdp2aNp9CyfefyG1/CEvBHwBXqULgOaZM/ad2DXzEyzC8yNd+rd+ffOf+G18Fz9P8O2mNgbHzwVBlx9J2wY0GqnvlcUFpz9RxgwrdXKj1Zmhw/pDuU7Wu3J0h57/+LhULGr1dpLf+qWN/8tHKrRHQ9udv++lgtTylpNz3M8l2dqZp7ZMTdpwaMJ9CBde/SNtuVLjz/xppjhYQfcgCviS4AtMEAsCHAA/8mHAQ+ia+k7oG00Iq0EdMKMNev8nDmXzpc/2/ODngmv3NIads3bZH+83jvMu7AhzKhts51fm5z9LL0mbP1Bu/V8402791RDSPt2+2/bFHfmnWfD5YVtpu85vs93NSfHvJiVtODRBHqQxj1aR+fyq8e3eFa88XAH5oiFHibCQ3HXjxd/YS9MFVsDXIV/4mCAgbBHDArwB0/L2wFf4w/5JOAR9CWdBTTGTrSb/F44u+6QP/+mY31DV6/7w7Ap7VbXP53td+X74e3HO+1I5xHrHFQazizsNP2743N8RrNxzIj5SAsOTaAH6d2jezQvH3v8jJfFJA+b4JKY6mErXBXvPdyH+coWT8aQL+SJciVHpsB+ZUAO/sNd8TcHe+GZuJaDabBBjMjBB7wlj+XwF3qULnNokr1pfzl2x510txz3mr1kaK7uZFOu8dt7TD/zf/O7ZuCYBXPQ/h06QAPSu0P3aF6e9ngbX4tVHmbBK3HXw1/Yq9zw5AfZoUzzZBu5pvz05CgZSpbq9xS/k3v6TIrPkDn6borvwnI9M8Uz4aLeleJdcEVnSHGGvBePVqY4G5rVmVOcmX3qLinuwl11R+OO/OTO/K6ZOPbNTDQrh9aZlWbo8DYz1Gw9/GK2mrmHy8xcu/BkDLvQjjwZyY60O09+szvt1NMV2Ck9Qrt27JrMlwYcGiBvpQ2HNsgxacahGTJBWnJoCaZKYw6NwSFpz6E9/CpNOjSJlqVVh1bZM3fjXsyAvTIH/h1N8xl5weFnvCCPOPiFR+QdD6PxjjzlyR48Ja95chSvyYOeHoAH5U1PR8Gb8qynD+FZOpS87PAyfUced3icriHvO7xPhosJDiaQh2KFgxXkiRjiYAgMFlscbIFVYo6DOfiYO3B+NM7+2B37R7togNngW+bD92AW3xUDHYyGgWKjI4dgo5jpyVeYKZZ6ugIsFWM9XQfGir2eHgZ7xWRP54PJ9Dux2sFqupUY7mA4nUVsd7Cd/BfzHcwnP5UFjiwgc5QRjoyAzZyPs8EtdsNe8DS6RJPoPe/JHflscvAIPTAnWMyseB7ZwzOVcY58JeOUfZ7eQPYpEz0diExUVno6HFmpDPX0SzKUDqtsdWQr/VGZ68hcepmy2JHFdBxltCOj6QjKbkd2k6u8m/eSP8yaOcNmdJbXmLiFx/AXnoYv+Bq9w1Y0jxbIFfTAzMhR5sZ76Aq8S13F04HoKuownj5Hh1G38fRRuo06j6cr03noxepCni5E31RH8nQkupu6k6c70X14Ls+kLzA75kauohV0QubgEzwCj2EEfIBV8BFe4WOyAS+jcXIRnaMFegB6YH50HWbI++lwnEHd0tNH6ZbqnJ4+Teek46uLeroo3Vkd1dNR6aF8h8/T45gFc6D7sG92TUdA32ib/MTb+JpsgWswDe7CdNgLk8gzuIRfyXI8i67pLmgbLdDP0AOzpHcyT85Fh+Zs6vye/wPQ+en+/M3v9Gjuxr3ooeyMfdHd0CWapOPgQzxI/sMg+EM2wl/YS26QPWQHTCV34Sq8oXPAHHxJx8KbaJkeiZ7RAv0YPTBXuj6zpSOjGzRDr8Qb+IL+BQvgAN0EDsJAcpsMgP9kGvlHrsF7sh/mw0J6DzyEGfQ8uIHP6LJ4ja4HX2ALPQi2wlU6ArlCppCfZCoZSrbQJ8gXuEuXgr3/B29YH9Y=",
        "encoding": "base64",
        "path": [
         "origins",
         "compressed_buffer"
        ]
       },
       {
        "data": "eNodl3twVeUVxaEp6LR00qIwTaFaqEFIoAIDCRZyz66gSK3ysPgYRyTSgEZEXnZqq0zbxAiFmDpAyECE8ByRRwRtmtf5vm2BwjCtUgFfjU2FqgUx4DAZbanY9bt/5WZyzznf2Xut31o5fbTFp3xxLP3lDTnJX15s9b7xdPq97ouZNx9p9a1HRsaGRR2Z/EPNPrq7Kh648t2M37rfz9d2xJmxOzP+8l4v29oZq/7ZPzl3vMkrN76fNN92c2ZETavnftKU7KmvL7lzVvRFQ3onHdXPpT16uN8wde2Evr0OpSM7U18x6cFYufZ4Oui2NrdxL8RhW95K1/d42b849jU/2HQ0bb1rj7+wNt+/07UmvXVxgzeW3OnDRtWV3Fi23o/PKfVb5tyTOfWVTV48cKzt+Gxg8lDedv/sP8XW2acts6buD77ptUtJzZCvpkPfafFpP3o1+eRQS9q3O/h1u65Mlo+7Oix8MXqljZ9w6sKAsP0bqdfUPhkvDh0Q3v5bi8/7a1u84/2B4Vx9o1ctyfM3kmtD/547/cilMT7lpv6h14gNPiN50B9+pCn91cY1/ouDSzxn7Fvtnc8u88uvr/L3Ptyc2bP5Uf96yUrPe3pgwk/9bnyete15f/V/99nrrT9tLd+9zS/8+mab+MOYjlm7z8vO5drExu+HBf9t8oojp5LBuQWhZmzwnKKiZFnesNC4Inrjyisywz8dEqY93e4HupbHTY9dF4b3bPZvVZ+M00/kh75P7fTZlaN9UUtBeGpygy/503S/d/Dw8HjXKq9t/Y13LC0MbScq/OdXrPQ3NueHc1UPecPROq8YeTjVuZzzcTbN1Zkvs+Wd9G7Ge/FdXWN8v6iswYf2nGFfftAvHH5ir1/Ku8a21xeGGdWv+KPnv0zKTheEiaWpnzs+L6nscX1omR19y/7nMrN354dDW9r9pTFVsXlefjjz5B/97qUdcXvzkHD77B3e/WGJlzYMC9+u3ODPNz7gz1QWhNy/V/p9n6/wztwRYcGWpT5ozmq/uHdE0POdc3AGzdKZKfOUFhxNoAf0It0YmmFX2pmxL2agWRhz4H66r3HPftVbvXnxZGtfVxCemLXLP/9BoTUcLgijvtvipb0PJvfH0WHQntT3lU9N+rw7LpRPSv3jx0rjS4dvCjUHmvxY7an46bWTwpnHN/qq5rt8xQcTwq7hNX55/DK/PSkKpR+X+px96/3hC4VBz3Gex7M0P2eOzFBacDSBHqTliKbRs3wW8RtewxPyhuEL9ChdGppkz9q3sWtmptkZc+OZerbx3IU/2+o/OTLZBu0aGc7Of8XnVlxO/vHRLWH10Db/XdeGZNufZ4Z9q1K/qrs4vvns/PDej5v8fM7p+EDuglBfW+fzi+cKB/eGYxOrfLEt97MnpgTdz7kv99TMnNkxN2khogn0IF1H9I225cuIP/GmmBFhB9yAK+KLwRYYIBYYHMB/8qHhQXQtfRvaRiPSiqETZqxZG3PmXDqfcbbXrtrk5YXT7WJTdZiWt9tPzr3Gfr9yT1h9Y5t/s3efUNLvo7Bjyn5fsO5fceEd/w4n1/3WB4xa4QfSvUHXOddzreYUmRezkhYimkAP0nhE6+hcfo34Fs+KNxHuwByxMMJEeCjulpwWf2EvTNUwDa7CP3HQYCDsEYMM/uBpedvwNf6QTwyPoC/pzNAYO9FujL1wdr2Dcf6FqfY19h7x52wYPOFlr8hpzzxTXRTr7t7pM/K74tv3F0f93fke39FsnBkxH2khoomsHsqnRnSP5uXjrJ/xspiUZRNcElPbYStcFe/b4T7MV7aUkDHkC3miXDEyBfYrAwz+w13x12AvPBPXDKbBBjHC4APekscMf6FH6dLQJHvT/ozd8U56N+O9JvQa4Gdm5ljjmneifjq/81kzyM6COWj/GXSABqT3BN2jeXk6wdv4WqxKYBa8EncT+At7lRsJ+UF2KNMSso1cU34m5CgZSpbqs/GZ3NN3jO+QObrWuBaW657GPeGinmU8C67oDMYZ8KLOZpwNzerMxpnZp97FeBfeVe+YfV9+8s581kwS9s1MNKsErTMrzTDB28xQs03gF7PVzBO4zMy1i4SMYRfaUUJGsiPtLiG/2Z12mtAV2Ck9Qrs2dk3mSwOGBshbacPQBjkmzRiaIROkJUNLMFUaMzQGh6Q9Q3v4VZrMehYtS6tZPbNn3o33YgbslTnwdzTNd+QFw894QR4x+IVH5B2D0XhHnjKyB0/Ja0aO4jV50OgBeFDeNDoK3pRnE/oQnqVDycuGl+k78rjhcbqGvG94nwwXEwwmkIdihcEK8kQMMRgCg8UWgy2wSszJ8gof8w6cH42zP3bH/tEuGmA2+Jb5cB3M4lox0GA0DBQbjRyCjWKmka8wUyw1ugIsFWONrgNjxV6jh8FeMTmh88Fk+p1YbbCabiWGGwyns4jtBtvJfzHfYD75qSzIZiiZo4zI5g5s5nycDW6xG/aCp9ElmkTveBLNowV4hB6YEyxmVtyP7OGeyjgjX8k4ZZ/RG8g+ZaLRgchEZaXR4chKZajRL8lQOqyy1chW+qMy18hcepmyONvN6DjK6GzPoSMou7M9gVzl2TyX/GHWzBk2ozM0BrfwGP7C0/AFX6N32Irm0QK5gh6YGTnK3HgOXYFnqasYHYiuog5j9Dk6jLqN0UfpNuo8Rlem89CL1YWy3Zi+qY6U7Zx0N3WnbH+j+3Bf7klfYHbMjVxFK+iEzMEneAQewwj4AKvgI7zCx2QDXkbj5CI6Rwv0APTA/Og6zJDn0+E4g7ql0UfpluqcRp+mc9Lx1UWzPZ/urI6a7c/0UK7h+/Q4ZsEc6D7sm13TEdA32iY/8Ta+JlvgGkyDuzAd9sIk8gwu4VeyHM+ia7oL2kYL9DP0wCzpncyTc9GhOZs6v/E/AJ2f7s/vfKZH8268Fz2UnbEvuhu6RJN0HHyIB8l/GAR/yEb4C3vJDbKH7ICp5C5chTd0DpiDL+lYeBMt0yPRM1qgH6MH5krXZ7Z0ZHSDZuiVeANf0L9gARygm8BBGEhukwHwn0wj/8g1eE/2w3xYSO+BhzCDngc38BldFq/R9eALbKEHwVa4SkcgV8gU8pNMJUPJFvoE+QJ36VKw9/8GSaY+",
        "encoding": "base64",
        "path": [
         "vectors",
         "compressed_buffer"
        ]
       }
      ],
      "model_module": "k3d",
      "model_module_version": "2.7.0",
      "model_name": "ObjectModel",
      "state": {
       "_view_count": null,
       "_view_module": null,
       "_view_module_version": "",
       "_view_name": null,
       "colors": {
        "dtype": "uint32",
        "shape": [
         316,
         2
        ]
       },
       "compression_level": 0,
       "head_color": 255,
       "head_size": 30,
       "id": 140200476478800,
       "label_size": 1,
       "labels": [],
       "line_width": 0.01,
       "model_matrix": {
        "dtype": "float32",
        "shape": [
         4,
         4
        ]
       },
       "name": null,
       "origin_color": 255,
       "origins": {
        "dtype": "float32",
        "shape": [
         316,
         3
        ]
       },
       "type": "Vectors",
       "use_head": true,
       "vectors": {
        "dtype": "float32",
        "shape": [
         316,
         3
        ]
       },
       "visible": true
      }
     },
     "c01727ea1735475eaabd5615e26dc9fa": {
      "model_module": "@jupyter-widgets/base",
      "model_module_version": "1.2.0",
      "model_name": "LayoutModel",
      "state": {}
     },
     "c07e4ba26b864c6cb1a6e77351580907": {
      "model_module": "k3d",
      "model_module_version": "2.7.0",
      "model_name": "PlotModel",
      "state": {
       "_backend_version": "2.7.0",
       "_dom_classes": [],
       "_view_count": null,
       "antialias": 3,
       "axes": [
        "x",
        "y",
        "z"
       ],
       "axes_helper": 1,
       "background_color": 16777215,
       "camera": [
        2.8778826572598577,
        -4.316823985889787,
        0.28778826572598526,
        0,
        0,
        0,
        0,
        0,
        1
       ],
       "camera_auto_fit": true,
       "camera_fov": 60,
       "camera_no_pan": false,
       "camera_no_rotate": false,
       "camera_no_zoom": false,
       "clipping_planes": [],
       "colorbar_object_id": -1,
       "fps_meter": false,
       "grid": [
        -1,
        -1,
        -1,
        1,
        1,
        1
       ],
       "grid_auto_fit": true,
       "grid_visible": true,
       "height": 512,
       "layout": "IPY_MODEL_b495fd96c86c45c1a532f16e37013ed0",
       "lighting": 1.5,
       "menu_visibility": true,
       "name": null,
       "object_ids": [],
       "rendering_steps": 1,
       "screenshot": "",
       "screenshot_scale": 2,
       "time": 0,
       "voxel_paint_color": 0
      }
     },
     "c1728e4b96dc46a084034998b1cf6d88": {
      "model_module": "@jupyter-widgets/base",
      "model_module_version": "1.2.0",
      "model_name": "LayoutModel",
      "state": {}
     },
     "c21b3d0cac3844328b9b7ac1991d3710": {
      "buffers": [
       {
        "data": "eNot0vlP1gUcwPF3rVar1Wq14vR5Hh4eBOSSQy45fZ7v96spoRIiIqJAHCKH3Pf9cD7fLLMss8yyzLLM0sy01KJIo1BDEQUEfWBrba2ttbbW1sfVD6//4JV2l5X0u62su8fG+nttZN6nkHW/wsYHFLIfVMh5SGXzwyq5j6jkPaqS/5hKweMahU9oFD2pUeyiUeKmsc1do9RDo8xTo9ygUWHUqDRpVJk1qr01aiwatT4adb4a9X4aDf4qDQEqjYEqTUEqzcEqLSEKLaEKrWEKbeEK7RE22iNtdETZ6Iy20hljpStWxC2jO14kJGNPFEnJ9CQn0WNNoteWSK8i1AT6NLE8nr4V8fSvFKvi6E8RTy9lIFWsjmVgjVgbw2CaeCaawXSREcXgepEZiWODyFqCY6PIjsCxSeSE49gstoThyA1DzwtFzxfPLkYvEIWiKAS9WGwNRi8R24LQS0WZKA9Er7gjAH27qBRVi9CrRY0/eq2oE/V+6A2iUTT5ojeLloXoraJNtPugd/yv04LeJbqF3Ru9R/Sa0fvMOPrFgBeOQeEQugnHc2KHicHnxQvG/+wULxoY2CVeEi+L3Qb6XxGvij0L6HtN7BWvG+h9Q+wTbxrouWO/AftbRuxvG+k+YKL7HfGuF10Hveh8z0znIW863rfQ8YGF9sM+YiFtH/rS+pEfrUf8afk4gOajgTR9EkTTp8E0HltMw/FQ6o+HU/9ZBHUnIqn9PIqakzFUfxFL1ak4Kk8lsP10IhVfJlP+lZWyMwqlZ+Xj2RWUnFvJ1q9TKP4mlaKhNRQOpVHwbTr532WQN5xJ7nAWW77PJud8Dpsu5JJ9IZ+sHwrYMFJE5kgJGT+Wsu6nctJHK0kbrWbtxVpWX2wg9VITKZdbWXW5nad+7mL5mB1trA/lygC2KzrLru4g6epOEsd3ET++m6XX9hB7bS/RE/uInNjPkusHCL9+kNAbhwi5cZjgySMETh5l0dQx/KZO4Dt1Ep/p01imz2CePofp5hDGm8MYZs7jOTOCx8wo7rOXcJsdw3V2HNdbE7jcmhTTuNyexfW2U8zj5vwFd+eveDh/w9P5Owvm/sA49yemub8wz/+NZf4f/gXLh0p6",
        "encoding": "base64",
        "path": [
         "color_map",
         "compressed_buffer"
        ]
       },
       {
        "data": "eNpjYBBzZsAA2MQ+ODIwLDiAKtZgDwBXFgQD",
        "encoding": "base64",
        "path": [
         "model_matrix",
         "compressed_buffer"
        ]
       },
       {
        "data": "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",
        "encoding": "base64",
        "path": [
         "voxels",
         "compressed_buffer"
        ]
       }
      ],
      "model_module": "k3d",
      "model_module_version": "2.7.0",
      "model_name": "ObjectModel",
      "state": {
       "_view_count": null,
       "_view_module": null,
       "_view_module_version": "",
       "_view_name": null,
       "color_map": {
        "dtype": "uint32",
        "shape": [
         256
        ]
       },
       "compression_level": 0,
       "id": 140201469368656,
       "model_matrix": {
        "dtype": "float32",
        "shape": [
         4,
         4
        ]
       },
       "name": null,
       "opacity": 1,
       "outlines": false,
       "outlines_color": 0,
       "type": "Voxels",
       "visible": true,
       "voxels": {
        "dtype": "uint8",
        "shape": [
         12,
         30,
         30
        ]
       },
       "wireframe": false
      }
     },
     "c2cc311fed31481ca4381cd675eeaef2": {
      "buffers": [
       {
        "data": "eNoDAAAAAAE=",
        "encoding": "base64",
        "path": [
         "colors",
         "compressed_buffer"
        ]
       },
       {
        "data": "eNpjYGiwZ8AAxIsBAF7EAv0=",
        "encoding": "base64",
        "path": [
         "model_matrix",
         "compressed_buffer"
        ]
       },
       {
        "data": "eNpN1iFyG0EQhlGVcGNjY+HBmp4gYeHBwoMFh5iYmATnEOJxguYQPkSOkJLKW3pCH9ja2nrgV+92H393j9/PP7vdG32lL/SZPtIH+oXe019/nn2j3+kT/e/z2a928gx9aryTvtFf9P4H30wf6CN9pi/0lX6jP+xvh4nzxHniPHGeOE+cJ84T54nzxHniPHGeOE+cJ84T54nzxHniPHGeOE+cJ84T54nzxHniPHGeOE+cO84d545zx7nj3HHuOHecO84d545zx7nj3HHuOHecO84d545zx7nj3HHuOHecO84d545zx7nj3HEuOBecC84F54JzwbngXHAuOBecC84F54JzwbngXHAuOBecC84F54JzwbngXHAuOBecC84F54JzwTlwDpwD58A5cA6cA+fAOXAOnAPnwDlwDpwD58A5cA6cA+fAOXAOnAPnwDlwDpwD58A5cA6c1+fT+d5X+kKf6SN9oF/oPb053/tGv9MnenO+96udPENvzo930jf6i96cH99MH+gjfaYv9JV+oz/sb4eB88B54DxwHjgPnAfOA+eB88B54DxwHjgPnAfOA+eB88B54DxwHjgPnAfOA+eB88B54DxwHjgPnH/9fjrf+0pf6DN9pA/0C72nN+d73+h3+kRvzvd+tZNn6M358U76Rn/Rm/Pjm+kDfaTP9IW+0m/0h705VJwrzhXninPFueJcca44V5wrzhXninPFueJcca44V5wrzhXninPFueJcca44V5wrzhXninPFubIbyW4ku5HsRrIbyW4ku5HsRrIbyW4ku5HsRrIbyW4ku5HsRrIbyW4ku5HsRrIbyW4ku5HsRrIbyW4ku5HsRrIbyW4k/4M4L5wXzgvnhfPCeeG8cF44L5wXzgvnhfPCeeG8cF44L5wXzgvnhfPCeeG8cF44L5wXzgvnhfPCORp3XeOua9x1jbuucdc17rrGXde46xp3XeOua9x1jbuucdc17rrGXde46xp3XeOua9x1jbuucdc17rrGXde46xp3XeOua9x1jbuucde1/0zhwZc=",
        "encoding": "base64",
        "path": [
         "positions",
         "compressed_buffer"
        ]
       }
      ],
      "model_module": "k3d",
      "model_module_version": "2.7.0",
      "model_name": "ObjectModel",
      "state": {
       "_view_count": null,
       "_view_module": null,
       "_view_module_version": "",
       "_view_name": null,
       "color": 10075135,
       "colors": {
        "dtype": "uint32",
        "shape": [
         0
        ]
       },
       "compression_level": 0,
       "id": 140589028951696,
       "mesh_detail": 2,
       "model_matrix": {
        "dtype": "float32",
        "shape": [
         4,
         4
        ]
       },
       "name": null,
       "opacity": 1,
       "point_size": 0.1,
       "positions": {
        "dtype": "float32",
        "shape": [
         360,
         3
        ]
       },
       "shader": "3dSpecular",
       "type": "Points",
       "visible": true
      }
     },
     "c4c5ec78b96543a6a69c7404631885b5": {
      "buffers": [
       {
        "data": "eNq7PcOEwcbnOUPCOnUG/iMfGda69DF8/PCGAQB5NApc",
        "encoding": "base64",
        "path": [
         "color_map",
         "compressed_buffer"
        ]
       },
       {
        "data": "eNpjYBBzZsAA2MQ+ODIwLDiAKtZgDwBXFgQD",
        "encoding": "base64",
        "path": [
         "model_matrix",
         "compressed_buffer"
        ]
       },
       {
        "data": "eNrtwTERAAAIAKF7+4e2gYMzUIcJAAAAAAAAAAAAAAAA4GUBSkI0vg==",
        "encoding": "base64",
        "path": [
         "voxels",
         "compressed_buffer"
        ]
       }
      ],
      "model_module": "k3d",
      "model_module_version": "2.7.0",
      "model_name": "ObjectModel",
      "state": {
       "_view_count": null,
       "_view_module": null,
       "_view_module_version": "",
       "_view_name": null,
       "color_map": {
        "dtype": "uint32",
        "shape": [
         6
        ]
       },
       "compression_level": 0,
       "id": 140589161691792,
       "model_matrix": {
        "dtype": "float32",
        "shape": [
         4,
         4
        ]
       },
       "name": null,
       "opacity": 1,
       "outlines": false,
       "outlines_color": 0,
       "type": "Voxels",
       "visible": true,
       "voxels": {
        "dtype": "uint8",
        "shape": [
         15,
         30,
         30
        ]
       },
       "wireframe": false
      }
     },
     "c6cd653249054622a191d860b5e755c6": {
      "model_module": "k3d",
      "model_module_version": "2.7.0",
      "model_name": "PlotModel",
      "state": {
       "_backend_version": "2.7.0",
       "_dom_classes": [],
       "_view_count": null,
       "antialias": 3,
       "axes": [
        "x",
        "y",
        "z"
       ],
       "axes_helper": 1,
       "background_color": 16777215,
       "camera": [
        173.18576025775943,
        -259.77864038663915,
        17.459818649105255,
        0,
        0,
        0.1412426233291626,
        0,
        0,
        1
       ],
       "camera_auto_fit": true,
       "camera_fov": 60,
       "camera_no_pan": false,
       "camera_no_rotate": false,
       "camera_no_zoom": false,
       "clipping_planes": [],
       "colorbar_object_id": -1,
       "fps_meter": false,
       "grid": [
        -1,
        -1,
        -1,
        1,
        1,
        1
       ],
       "grid_auto_fit": true,
       "grid_visible": true,
       "height": 512,
       "layout": "IPY_MODEL_b9687abeff1e43e6bbf9461a0f60ccdb",
       "lighting": 1.5,
       "menu_visibility": true,
       "name": null,
       "object_ids": [
        139916227804112,
        139916630772112
       ],
       "rendering_steps": 1,
       "screenshot": "",
       "screenshot_scale": 2,
       "time": 0,
       "voxel_paint_color": 0
      }
     },
     "c70d490666c4454da235e94a0be4be1d": {
      "buffers": [
       {
        "data": "eNqt1ctLlFEcxvHa9hdIgeOo4y0vGWZkRYukWpWhVIskISJpYVdvqZmOkzoz72RXiO5FN8uI7pSboBu2KIMIyugi1aY/oE1QPOd8D7yviwlq8Vl0Oud3fs97zhzjKxdPi/+R2lZi7MuV5OGQDJ4y9p3PkuiVHNl7vUA67pTLztElsvnpGlk9vlvmTIxIxuRHiXz/5cM482ped8qmZ+uEuuzDvvRBX/RJ3+QgV3zVIoO820uM/5x37sSwpMvLPNZR55/z2lxT8xYb/bmSLm/PSL503i6TXaOLpfFJndSOt0rF+8uSMflBpuY148xjHXWoyz5/ndfmIBd5EzVGamexMZAjLu/JTOk/F5K+y9nSM5InnbdKpfnhQtnyuEbWvtwmC96dkZlf3kgwL+PMYx11qMs+7Esf9EWfLq/NkdpRLORM1lVJqnm2EcgbP54pA2dDErsQlt6rEem+USTt9+ZJ06MVsuHFRln6dkiyPj2X8LefPowzj3XUoS77sC990Bd9Jg9lictrc5HTW18pqfZCYzBHkgezJH4sJNwXvmfsUrb0XotI180SaXlQJZxP3atm4T2a9fWHD+PMYx11qMs+sYthcedq+6JP+iYHuVzOzeXGnnyDvAfCkjgSEpfb3pvgeUeHc4VzaLs/X+ifdzf0ecyHceaxjjrUDZ4nfdAXfdK3y9tVYJCztcjozTPsPfC8bGE99yRxNCQu/4lMGTgdkuD583trv1shDWMNPowzj3XUoS77uHy2D/ryhsKG7dvdZ3K1FImXCot7v2MRg/fNficvkW3Yeqzz9ltDAdTlO3cWiNdQ4eO+P/tQN1iPffh/+rB9uX3omxw2F+u5/25dX8SIWvw7lgbz+J4dhUZTqSRqq2RXzgof915uLTVYR53g/sFzCe4f6Jtc5OT+kH9K3z1pdOcbnBO/D5uTdyJaVS31M5b5MO7VVwrrXB3qsk+6fgLfiVzufbXvu/udk5f1e/ON7gDeN3tPU21Fhv17x/vAuXaVLZe66dU+jDMv1VhuUIe67MO+wX7ok75tDnLxvv8G7Ku15g==",
        "encoding": "base64",
        "path": [
         "colors",
         "compressed_buffer"
        ]
       },
       {
        "data": "eNpjYGiwZ8AAxIsBAF7EAv0=",
        "encoding": "base64",
        "path": [
         "model_matrix",
         "compressed_buffer"
        ]
       },
       {
        "data": "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",
        "encoding": "base64",
        "path": [
         "origins",
         "compressed_buffer"
        ]
       },
       {
        "data": "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",
        "encoding": "base64",
        "path": [
         "vectors",
         "compressed_buffer"
        ]
       }
      ],
      "model_module": "k3d",
      "model_module_version": "2.7.0",
      "model_name": "ObjectModel",
      "state": {
       "_view_count": null,
       "_view_module": null,
       "_view_module_version": "",
       "_view_name": null,
       "colors": {
        "dtype": "uint32",
        "shape": [
         360,
         2
        ]
       },
       "compression_level": 0,
       "head_color": 255,
       "head_size": 20,
       "id": 140200476688208,
       "label_size": 1,
       "labels": [],
       "line_width": 0.01,
       "model_matrix": {
        "dtype": "float32",
        "shape": [
         4,
         4
        ]
       },
       "name": null,
       "origin_color": 255,
       "origins": {
        "dtype": "float32",
        "shape": [
         360,
         3
        ]
       },
       "type": "Vectors",
       "use_head": true,
       "vectors": {
        "dtype": "float32",
        "shape": [
         360,
         3
        ]
       },
       "visible": true
      }
     },
     "c7c0afe90f2f45aeb5baf09a6b2a8bd8": {
      "model_module": "@jupyter-widgets/output",
      "model_module_version": "1.0.0",
      "model_name": "OutputModel",
      "state": {
       "layout": "IPY_MODEL_5629f15937574456849fc901a9482cff",
       "outputs": [
        {
         "data": {
          "application/vnd.jupyter.widget-view+json": {
           "model_id": "3537c655ef584804aed3755bb599dd97",
           "version_major": 2,
           "version_minor": 0
          },
          "text/plain": "Plot(antialias=3, axes=['x', 'y', 'z'], axes_helper=1.0, background_color=16777215, camera=[4.5, 4.5, 4.5, 0.0…"
         },
         "metadata": {},
         "output_type": "display_data"
        }
       ]
      }
     },
     "c9f0dd2806b44361a762017815e92f49": {
      "model_module": "k3d",
      "model_module_version": "2.7.0",
      "model_name": "PlotModel",
      "state": {
       "_backend_version": "2.7.0",
       "_dom_classes": [],
       "_view_count": null,
       "antialias": 3,
       "axes": [
        "x",
        "y",
        "z"
       ],
       "axes_helper": 1,
       "background_color": 16777215,
       "camera": [
        136.8488320354827,
        -54.18314770572846,
        81.2213564505474,
        0,
        -0.07161712646484375,
        -7,
        -0.43083228511569494,
        0.17739004519660198,
        0.8848255839243894
       ],
       "camera_auto_fit": true,
       "camera_fov": 60,
       "camera_no_pan": false,
       "camera_no_rotate": false,
       "camera_no_zoom": false,
       "clipping_planes": [],
       "colorbar_object_id": -1,
       "fps_meter": false,
       "grid": [
        -1,
        -1,
        -1,
        1,
        1,
        1
       ],
       "grid_auto_fit": true,
       "grid_visible": true,
       "height": 512,
       "layout": "IPY_MODEL_92fada7517f74208b046ef060f3edcff",
       "lighting": 1.5,
       "menu_visibility": true,
       "name": null,
       "object_ids": [
        140589028951376,
        140589028952464
       ],
       "rendering_steps": 1,
       "screenshot": "",
       "screenshot_scale": 2,
       "time": 0,
       "voxel_paint_color": 0
      }
     },
     "ca2eb4c33cca44d5918e92d9c2873f04": {
      "model_module": "@jupyter-widgets/base",
      "model_module_version": "1.2.0",
      "model_name": "LayoutModel",
      "state": {}
     },
     "cbe5cbb99d9d4cf6bc45b7bdaa28e3c6": {
      "model_module": "k3d",
      "model_module_version": "2.7.0",
      "model_name": "PlotModel",
      "state": {
       "_backend_version": "2.7.0",
       "_dom_classes": [],
       "_view_count": null,
       "antialias": 3,
       "axes": [
        "x",
        "y",
        "z"
       ],
       "axes_helper": 1,
       "background_color": 16777215,
       "camera": [
        178.34799599823646,
        -268.14699363413894,
        12.7347995741193,
        -0.24999985471367836,
        -0.24999985471367836,
        -5.125000011175871,
        0,
        0,
        1
       ],
       "camera_auto_fit": true,
       "camera_fov": 60,
       "camera_no_pan": false,
       "camera_no_rotate": false,
       "camera_no_zoom": false,
       "clipping_planes": [],
       "colorbar_object_id": -1,
       "fps_meter": false,
       "grid": [
        -1,
        -1,
        -1,
        1,
        1,
        1
       ],
       "grid_auto_fit": true,
       "grid_visible": true,
       "height": 512,
       "layout": "IPY_MODEL_78ada55b730d4abc89b9d62bfdb00f67",
       "lighting": 1.5,
       "menu_visibility": true,
       "name": null,
       "object_ids": [
        140201469368656
       ],
       "rendering_steps": 1,
       "screenshot": "",
       "screenshot_scale": 2,
       "time": 0,
       "voxel_paint_color": 0
      }
     },
     "ccd6878f6ea44e0086ab0c98fd3c2773": {
      "buffers": [
       {
        "data": "eNq7PcOEwcbnOUPCOnUG/iMfGda69DF8/PCGAQB5NApc",
        "encoding": "base64",
        "path": [
         "color_map",
         "compressed_buffer"
        ]
       },
       {
        "data": "eNpjYBBzZsAA2MQ+ODIwLDiAKtZgDwBXFgQD",
        "encoding": "base64",
        "path": [
         "model_matrix",
         "compressed_buffer"
        ]
       },
       {
        "data": "eNrtwUERAAAMAqDT/qGNsceABAAAAAAAAAAAAAAAAAAAAAAAAAAAAAAA4IcCAAAAAAAAAAAAAAAcGJygw1E=",
        "encoding": "base64",
        "path": [
         "voxels",
         "compressed_buffer"
        ]
       }
      ],
      "model_module": "k3d",
      "model_module_version": "2.7.0",
      "model_name": "ObjectModel",
      "state": {
       "_view_count": null,
       "_view_module": null,
       "_view_module_version": "",
       "_view_name": null,
       "color_map": {
        "dtype": "uint32",
        "shape": [
         6
        ]
       },
       "compression_level": 0,
       "id": 140277429706256,
       "model_matrix": {
        "dtype": "float32",
        "shape": [
         4,
         4
        ]
       },
       "name": null,
       "opacity": 1,
       "outlines": false,
       "outlines_color": 0,
       "type": "Voxels",
       "visible": true,
       "voxels": {
        "dtype": "uint8",
        "shape": [
         15,
         50,
         50
        ]
       },
       "wireframe": false
      }
     },
     "ccff977319144acf9b14b2103c3605e3": {
      "model_module": "@jupyter-widgets/output",
      "model_module_version": "1.0.0",
      "model_name": "OutputModel",
      "state": {
       "layout": "IPY_MODEL_c1728e4b96dc46a084034998b1cf6d88",
       "outputs": [
        {
         "data": {
          "application/vnd.jupyter.widget-view+json": {
           "model_id": "c07e4ba26b864c6cb1a6e77351580907",
           "version_major": 2,
           "version_minor": 0
          },
          "text/plain": "Plot(antialias=3, axes=['x', 'y', 'z'], axes_helper=1.0, background_color=16777215, camera=[4.5, 4.5, 4.5, 0.0…"
         },
         "metadata": {},
         "output_type": "display_data"
        }
       ]
      }
     },
     "ce0a36e8c1424ed8987ee535ab1fe2f5": {
      "model_module": "k3d",
      "model_module_version": "2.7.0",
      "model_name": "PlotModel",
      "state": {
       "_backend_version": "2.7.0",
       "_dom_classes": [],
       "_view_count": null,
       "antialias": 3,
       "axes": [
        "x",
        "y",
        "z"
       ],
       "axes_helper": 1,
       "background_color": 16777215,
       "camera": [
        122.07507002857488,
        -72.6217474777866,
        94.09422434383941,
        0.0156402587890625,
        0.040035247802734375,
        -11.187674522399902,
        -0.34722652256156217,
        0.4633138762863439,
        0.8153367366127499
       ],
       "camera_auto_fit": true,
       "camera_fov": 60,
       "camera_no_pan": false,
       "camera_no_rotate": false,
       "camera_no_zoom": false,
       "clipping_planes": [],
       "colorbar_object_id": -1,
       "fps_meter": false,
       "grid": [
        -1,
        -1,
        -1,
        1,
        1,
        1
       ],
       "grid_auto_fit": true,
       "grid_visible": true,
       "height": 512,
       "layout": "IPY_MODEL_bf20f2c6129a4f55b9041896244afc55",
       "lighting": 1.5,
       "menu_visibility": true,
       "name": null,
       "object_ids": [
        140588995134160,
        140588994728848
       ],
       "rendering_steps": 1,
       "screenshot": "",
       "screenshot_scale": 2,
       "time": 0,
       "voxel_paint_color": 0
      }
     },
     "d0907662bd854866b64ba886eeb90002": {
      "model_module": "@jupyter-widgets/base",
      "model_module_version": "1.2.0",
      "model_name": "LayoutModel",
      "state": {}
     },
     "d0bebe1b90754d85bded5e0c8dcde1ce": {
      "buffers": [
       {
        "data": "eNq7PcOEAQAFoAGo",
        "encoding": "base64",
        "path": [
         "color_map",
         "compressed_buffer"
        ]
       },
       {
        "data": "eNpjYBBzZsAA2MQ+ODIwLDiAKtZgDwBXFgQD",
        "encoding": "base64",
        "path": [
         "model_matrix",
         "compressed_buffer"
        ]
       },
       {
        "data": "eNrt1jESAjEQA0Hr/58mIzEcaAPXFfTEKDu8vdZenq0vylb7++tN3lYPXk/yoXqwTZJykpSTpJ3Ui6ScJO2kXiTtpF4k7eSWi+jv+pVv98j//Mh7NXhFj7ztg4szuGqDyzm4zgMBTJQxkMxESxORMRzDMRzDieEYjuEYjuEYjuEYjuHEcAzHcAzHcAzHcAzHcGI4hmM4hmM4hmM4hhPDMRzDMRzDMRzDMRzDieEYjuEYjuEYjuEYjuHEcAzHcAzHcAzHcAwnhmM4hmM4hmM4hmM4hhPDMRzDMRzDMRzDMRzDieEYjuEYjuEYjuEYjuEYjuEYjuEYjuEYjuEYTgzHcAzHcAzHcAzHcAwnhmM4hmM4hmM4hmM4hhPDMRzDMRzDMRzDMZwYjuEYjuHua7gHz85zyQ==",
        "encoding": "base64",
        "path": [
         "voxels",
         "compressed_buffer"
        ]
       }
      ],
      "model_module": "k3d",
      "model_module_version": "2.7.0",
      "model_name": "ObjectModel",
      "state": {
       "_view_count": null,
       "_view_module": null,
       "_view_module_version": "",
       "_view_name": null,
       "color_map": {
        "dtype": "uint32",
        "shape": []
       },
       "compression_level": 0,
       "id": 139916095287248,
       "model_matrix": {
        "dtype": "float32",
        "shape": [
         4,
         4
        ]
       },
       "name": null,
       "opacity": 1,
       "outlines": false,
       "outlines_color": 0,
       "type": "Voxels",
       "visible": true,
       "voxels": {
        "dtype": "uint8",
        "shape": [
         15,
         50,
         50
        ]
       },
       "wireframe": false
      }
     },
     "d25a7543ecb14ef5b02e7c01ad8bdf52": {
      "buffers": [
       {
        "data": "eNq9lk0rhGEUhillZ2NhZ3xnUD6TFCuMhJVSEwsixEIhhoWvfMzwIgspRdnYWfoB/oIf4VcoOudcp57Hwsosrs30vuc573nu+z6TLR8pyf6wWJkR1lOjAStVylxFRjjqGxbyY4NCMt8tXC11KqvtISsdykKXUJgYEI77h4TpsmFhty0jJDO9gtfbbFW2W5RcWtk1dlqUrVZluVNIZnuFXHpUmCodCric6hf8nL20ctiknDYo5/VCUgi5yhtnDQrvUcfqcg7fST9+7kabctSkWL0kqVOua5WbCH6357wP6lDXzmG+zJ35eL/2HvUub2uEi/uUUHioFvKPqQB+5zne877ox87hftEReuDefI72Pd7HXUo4f1LOnpWTl7oAfuc53qPOr/uy+aBndI5eXVfRvfC9nHPw2izk3nqEtffxAH7nOe/P6vi80J3pHn9lzaf40X2F/k2P6IJ7YR5xX5Mf+wFxn7xHHeriB/ejzS/OD/e/+dS9Y/pFP9xb3Ffj51dA3CfvUcd9gT/JCesjzjXvz54ren/kV9Qfc/R8YM7k0H/fL7mGrkxn6A4deu6Tz6bbf/cH/sWX5lN8i499fsXOE8sxco2c871W7Ly1nCf32QPF3j/sPfbgn/uXeuRavH/JIfLyj/0b73/68T3I/kFX6B+fkif4Ed3bOdwv8+U7mbvvOfYK+R3/X6Ke+Qs9oyN0jh/jXCM/8Ok3MyHrlw==",
        "encoding": "base64",
        "path": [
         "colors",
         "compressed_buffer"
        ]
       },
       {
        "data": "eNpjYGiwZ8AAxIsBAF7EAv0=",
        "encoding": "base64",
        "path": [
         "model_matrix",
         "compressed_buffer"
        ]
       },
       {
        "data": "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",
        "encoding": "base64",
        "path": [
         "origins",
         "compressed_buffer"
        ]
       },
       {
        "data": "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",
        "encoding": "base64",
        "path": [
         "vectors",
         "compressed_buffer"
        ]
       }
      ],
      "model_module": "k3d",
      "model_module_version": "2.7.0",
      "model_name": "ObjectModel",
      "state": {
       "_view_count": null,
       "_view_module": null,
       "_view_module_version": "",
       "_view_name": null,
       "colors": {
        "dtype": "uint32",
        "shape": [
         316,
         2
        ]
       },
       "compression_level": 0,
       "head_color": 255,
       "head_size": 30,
       "id": 140588995134160,
       "label_size": 1,
       "labels": [],
       "line_width": 0.01,
       "model_matrix": {
        "dtype": "float32",
        "shape": [
         4,
         4
        ]
       },
       "name": null,
       "origin_color": 255,
       "origins": {
        "dtype": "float32",
        "shape": [
         316,
         3
        ]
       },
       "type": "Vectors",
       "use_head": true,
       "vectors": {
        "dtype": "float32",
        "shape": [
         316,
         3
        ]
       },
       "visible": true
      }
     },
     "d283b47763cf42809e8a4aca4537cc87": {
      "model_module": "@jupyter-widgets/output",
      "model_module_version": "1.0.0",
      "model_name": "OutputModel",
      "state": {
       "layout": "IPY_MODEL_68bb2cd83da94701a23831d0a965b4a5",
       "outputs": [
        {
         "data": {
          "application/vnd.jupyter.widget-view+json": {
           "model_id": "578803303f654788b9e18b0b8d44c230",
           "version_major": 2,
           "version_minor": 0
          },
          "text/plain": "Plot(antialias=3, axes=['x', 'y', 'z'], axes_helper=1.0, background_color=16777215, camera=[4.5, 4.5, 4.5, 0.0…"
         },
         "metadata": {},
         "output_type": "display_data"
        }
       ]
      }
     },
     "d35b639f54e444ad933b11d5d99711b6": {
      "buffers": [
       {
        "data": "eNoDAAAAAAE=",
        "encoding": "base64",
        "path": [
         "colors",
         "compressed_buffer"
        ]
       },
       {
        "data": "eNpjYGiwZ8AAxIsBAF7EAv0=",
        "encoding": "base64",
        "path": [
         "model_matrix",
         "compressed_buffer"
        ]
       },
       {
        "data": "eNpN18Fx2zAURVHtUAk6QAEAfiXoIB0wFWT51yklVgmoKKZkUmfFt5Dse2YwGvDxyK/H7z/Px+Nvfzwa+9c/ducz47OTXb6fx8/eX5+d7Mb+/vuf3fnM4LvszS7zs+P7uX52ZRf22bPoWfQsehY9i55Fz6Jn0XM3sIN9PoPmoDloDpqD5qA5aA6ag+agOWgOmoPmoPnay/18t179lf5Kf6W/0l/pr/RX+iv9lf5Kf6W/0l/pr/Rf+zwvBUvBUrAULAVLwVKwFCwFS8FSsBQsBUvBUrAULNc+3M933+W6drAru7DP57WT3din696dzwy+y97s03U3sIO92Mdnv35X8utjTIyJMTEmxsSYGBNjYkyMiTExJsbEmBgTY2JMjHkZ3c930+VteBvehrfhbXgb3oa34W14G96Gt+FteBvehrfhbXgb3ob37Li8117sYFd2YZ/eaye7sc/nvTufGXyXvdmn925gB3uxj89+ee/9fP/v29vxdrwdb8fb8Xa8HW/H2/F2vB1vx9vxdrwdb8fb8Xa8nfM8OM+D8zw4z4PzPDjPg/M8OM+D8zw4z4PzPDjPg/M8OM+D8zw4z4PzPDjPg/M8OM+D3yu8iTfxJt7Em3gTb+JNvIk38SbexJt4E2/iTbyJN/Fq3Bg3xo1xY9wYN8aNcWPcGDfGjXFj3Bg3xo1xY9wYN67z+/c9YXJPmNwTJveEyT1hck+Y3BMm94TJPWFyT5jcEyb3hMk9YXJPmNwTJveEyT0BS8VSsVQsFUvFUrFULBVLxVKxVCwVS8VSsVQslf6gP+gP+oP+oD/oD/qD/qA/6A/6g/6gP+gP+m1eNC+aF82L5kXzonnRvGheNC+aF82L5kWzPQc9Bz0HPQc9Bz0HPQc9Bz0HPfz91+/L/R46eQ+dvIdO3kMn76Gv/R/ZkE+e",
        "encoding": "base64",
        "path": [
         "positions",
         "compressed_buffer"
        ]
       }
      ],
      "model_module": "k3d",
      "model_module_version": "2.7.0",
      "model_name": "ObjectModel",
      "state": {
       "_view_count": null,
       "_view_module": null,
       "_view_module_version": "",
       "_view_name": null,
       "color": 10075135,
       "colors": {
        "dtype": "uint32",
        "shape": [
         0
        ]
       },
       "compression_level": 0,
       "id": 140200946469328,
       "mesh_detail": 2,
       "model_matrix": {
        "dtype": "float32",
        "shape": [
         4,
         4
        ]
       },
       "name": null,
       "opacity": 1,
       "point_size": 0.1,
       "positions": {
        "dtype": "float32",
        "shape": [
         316,
         3
        ]
       },
       "shader": "3dSpecular",
       "type": "Points",
       "visible": true
      }
     },
     "d4c9d99b0e5c4dce9cae160057284fe0": {
      "buffers": [
       {
        "data": "eNoDAAAAAAE=",
        "encoding": "base64",
        "path": [
         "colors",
         "compressed_buffer"
        ]
       },
       {
        "data": "eNpjYGiwZ8AAxIsBAF7EAv0=",
        "encoding": "base64",
        "path": [
         "model_matrix",
         "compressed_buffer"
        ]
       },
       {
        "data": "eNpN18Fx2zAURVHtUAk6QAEAfiXoIB0wFWT51yklVgmoKKZkUmfFt5Dse2YwGvDxyK/H7z/Px+Nvfzwa+9c/ducz47OTXb6fx8/eX5+d7Mb+/vuf3fnM4LvszS7zs+P7uX52ZRf22bPoWfQsehY9i55Fz6Jn0XM3sIN9PoPmoDloDpqD5qA5aA6ag+agOWgOmoPmoPnay/18t179lf5Kf6W/0l/pr/RX+iv9lf5Kf6W/0l/pr/Rf+zwvBUvBUrAULAVLwVKwFCwFS8FSsBQsBUvBUrAULNc+3M933+W6drAru7DP57WT3din696dzwy+y97s03U3sIO92Mdnv35X8utjTIyJMTEmxsSYGBNjYkyMiTExJsbEmBgTY2JMjHkZ3c930+VteBvehrfhbXgb3oa34W14G96Gt+FteBvehrfhbXgb3ob37Li8117sYFd2YZ/eaye7sc/nvTufGXyXvdmn925gB3uxj89+ee/9fP/v29vxdrwdb8fb8Xa8HW/H2/F2vB1vx9vxdrwdb8fb8Xa8nfM8OM+D8zw4z4PzPDjPg/M8OM+D8zw4z4PzPDjPg/M8OM+D8zw4z4PzPDjPg/M8OM+D3yu8iTfxJt7Em3gTb+JNvIk38SbexJt4E2/iTbyJN/Fq3Bg3xo1xY9wYN8aNcWPcGDfGjXFj3Bg3xo1xY9wYN67z+/c9YXJPmNwTJveEyT1hck+Y3BMm94TJPWFyT5jcEyb3hMk9YXJPmNwTJveEyT0BS8VSsVQsFUvFUrFULBVLxVKxVCwVS8VSsVQslf6gP+gP+oP+oD/oD/qD/qA/6A/6g/6gP+gP+m1eNC+aF82L5kXzonnRvGheNC+aF82L5kWzPQc9Bz0HPQc9Bz0HPQc9Bz0HPfz91+/L/R46eQ+dvIdO3kMn76Gv/R/ZkE+e",
        "encoding": "base64",
        "path": [
         "positions",
         "compressed_buffer"
        ]
       }
      ],
      "model_module": "k3d",
      "model_module_version": "2.7.0",
      "model_name": "ObjectModel",
      "state": {
       "_view_count": null,
       "_view_module": null,
       "_view_module_version": "",
       "_view_name": null,
       "color": 10075135,
       "colors": {
        "dtype": "uint32",
        "shape": [
         0
        ]
       },
       "compression_level": 0,
       "id": 140588994900816,
       "mesh_detail": 2,
       "model_matrix": {
        "dtype": "float32",
        "shape": [
         4,
         4
        ]
       },
       "name": null,
       "opacity": 1,
       "point_size": 0.1,
       "positions": {
        "dtype": "float32",
        "shape": [
         316,
         3
        ]
       },
       "shader": "3dSpecular",
       "type": "Points",
       "visible": true
      }
     },
     "d505231ee50842af84196c188ad1a44a": {
      "model_module": "@jupyter-widgets/base",
      "model_module_version": "1.2.0",
      "model_name": "LayoutModel",
      "state": {}
     },
     "d550af68e3564c7e89d0d98ae98fd928": {
      "buffers": [
       {
        "data": "eNqt1ctLlFEcxvHa9hdIgeOo4y0vGWZkRYukWpWhVIskISJpYVdvqZmOkzoz72RXiO5FN8uI7pSboBu2KIMIyugi1aY/oE1QPOd8D7yviwlq8Vl0Oud3fs97zhzjKxdPi/+R2lZi7MuV5OGQDJ4y9p3PkuiVHNl7vUA67pTLztElsvnpGlk9vlvmTIxIxuRHiXz/5cM482ped8qmZ+uEuuzDvvRBX/RJ3+QgV3zVIoO820uM/5x37sSwpMvLPNZR55/z2lxT8xYb/bmSLm/PSL503i6TXaOLpfFJndSOt0rF+8uSMflBpuY148xjHXWoyz5/ndfmIBd5EzVGamexMZAjLu/JTOk/F5K+y9nSM5InnbdKpfnhQtnyuEbWvtwmC96dkZlf3kgwL+PMYx11qMs+7Esf9EWfLq/NkdpRLORM1lVJqnm2EcgbP54pA2dDErsQlt6rEem+USTt9+ZJ06MVsuHFRln6dkiyPj2X8LefPowzj3XUoS77sC990Bd9Jg9lictrc5HTW18pqfZCYzBHkgezJH4sJNwXvmfsUrb0XotI180SaXlQJZxP3atm4T2a9fWHD+PMYx11qMs+sYthcedq+6JP+iYHuVzOzeXGnnyDvAfCkjgSEpfb3pvgeUeHc4VzaLs/X+ifdzf0ecyHceaxjjrUDZ4nfdAXfdK3y9tVYJCztcjozTPsPfC8bGE99yRxNCQu/4lMGTgdkuD583trv1shDWMNPowzj3XUoS77uHy2D/ryhsKG7dvdZ3K1FImXCot7v2MRg/fNficvkW3Yeqzz9ltDAdTlO3cWiNdQ4eO+P/tQN1iPffh/+rB9uX3omxw2F+u5/25dX8SIWvw7lgbz+J4dhUZTqSRqq2RXzgof915uLTVYR53g/sFzCe4f6Jtc5OT+kH9K3z1pdOcbnBO/D5uTdyJaVS31M5b5MO7VVwrrXB3qsk+6fgLfiVzufbXvu/udk5f1e/ON7gDeN3tPU21Fhv17x/vAuXaVLZe66dU+jDMv1VhuUIe67MO+wX7ok75tDnLxvv8G7Ku15g==",
        "encoding": "base64",
        "path": [
         "colors",
         "compressed_buffer"
        ]
       },
       {
        "data": "eNpjYGiwZ8AAxIsBAF7EAv0=",
        "encoding": "base64",
        "path": [
         "model_matrix",
         "compressed_buffer"
        ]
       },
       {
        "data": "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",
        "encoding": "base64",
        "path": [
         "origins",
         "compressed_buffer"
        ]
       },
       {
        "data": "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",
        "encoding": "base64",
        "path": [
         "vectors",
         "compressed_buffer"
        ]
       }
      ],
      "model_module": "k3d",
      "model_module_version": "2.7.0",
      "model_name": "ObjectModel",
      "state": {
       "_view_count": null,
       "_view_module": null,
       "_view_module_version": "",
       "_view_name": null,
       "colors": {
        "dtype": "uint32",
        "shape": [
         360,
         2
        ]
       },
       "compression_level": 0,
       "head_color": 255,
       "head_size": 10,
       "id": 140589028952208,
       "label_size": 1,
       "labels": [],
       "line_width": 0.01,
       "model_matrix": {
        "dtype": "float32",
        "shape": [
         4,
         4
        ]
       },
       "name": null,
       "origin_color": 255,
       "origins": {
        "dtype": "float32",
        "shape": [
         360,
         3
        ]
       },
       "type": "Vectors",
       "use_head": true,
       "vectors": {
        "dtype": "float32",
        "shape": [
         360,
         3
        ]
       },
       "visible": true
      }
     },
     "d644054da957460e873fe394aa0c06a0": {
      "model_module": "@jupyter-widgets/base",
      "model_module_version": "1.2.0",
      "model_name": "LayoutModel",
      "state": {}
     },
     "d68357b2376740578843b74ff726baec": {
      "model_module": "k3d",
      "model_module_version": "2.7.0",
      "model_name": "PlotModel",
      "state": {
       "_backend_version": "2.7.0",
       "_dom_classes": [],
       "_view_count": null,
       "antialias": 3,
       "axes": [
        "x",
        "y",
        "z"
       ],
       "axes_helper": 1,
       "background_color": 16777215,
       "camera": [
        229.555875415294,
        -176.07637944222722,
        136.29524955598936,
        -0.14999938197433949,
        -0.14999938197433949,
        -5.099999986588955,
        -0.2790604729317393,
        0.27396285897418654,
        0.9203638434607279
       ],
       "camera_auto_fit": true,
       "camera_fov": 60,
       "camera_no_pan": false,
       "camera_no_rotate": false,
       "camera_no_zoom": false,
       "clipping_planes": [],
       "colorbar_object_id": -1,
       "fps_meter": false,
       "grid": [
        -1,
        -1,
        -1,
        1,
        1,
        1
       ],
       "grid_auto_fit": true,
       "grid_visible": true,
       "height": 512,
       "layout": "IPY_MODEL_152c8a1c93484368ab0363e3ec50c67a",
       "lighting": 1.5,
       "menu_visibility": true,
       "name": null,
       "object_ids": [
        139917088100816
       ],
       "rendering_steps": 1,
       "screenshot": "",
       "screenshot_scale": 2,
       "time": 0,
       "voxel_paint_color": 0
      }
     },
     "d870797e64414e56a874e70daee81b52": {
      "buffers": [
       {
        "data": "eNoDAAAAAAE=",
        "encoding": "base64",
        "path": [
         "colors",
         "compressed_buffer"
        ]
       },
       {
        "data": "eNpjYGiwZ8AAxIsBAF7EAv0=",
        "encoding": "base64",
        "path": [
         "model_matrix",
         "compressed_buffer"
        ]
       },
       {
        "data": "eNpN1iFyG0EQhlGVcGNjY+HBmp4gYeHBwoMFh5iYmATnEOJxguYQPkSOkJLKW3pCH9ja2nrgV+92H393j9/PP7vdG32lL/SZPtIH+oXe019/nn2j3+kT/e/z2a928gx9aryTvtFf9P4H30wf6CN9pi/0lX6jP+xvh4nzxHniPHGeOE+cJ84T54nzxHniPHGeOE+cJ84T54nzxHniPHGeOE+cJ84T54nzxHniPHGeOE+cO84d545zx7nj3HHuOHecO84d545zx7nj3HHuOHecO84d545zx7nj3HHuOHecO84d545zx7nj3HEuOBecC84F54JzwbngXHAuOBecC84F54JzwbngXHAuOBecC84F54JzwbngXHAuOBecC84F54JzwTlwDpwD58A5cA6cA+fAOXAOnAPnwDlwDpwD58A5cA6cA+fAOXAOnAPnwDlwDpwD58A5cA6c1+fT+d5X+kKf6SN9oF/oPb053/tGv9MnenO+96udPENvzo930jf6i96cH99MH+gjfaYv9JV+oz/sb4eB88B54DxwHjgPnAfOA+eB88B54DxwHjgPnAfOA+eB88B54DxwHjgPnAfOA+eB88B54DxwHjgPnH/9fjrf+0pf6DN9pA/0C72nN+d73+h3+kRvzvd+tZNn6M358U76Rn/Rm/Pjm+kDfaTP9IW+0m/0h705VJwrzhXninPFueJcca44V5wrzhXninPFueJcca44V5wrzhXninPFueJcca44V5wrzhXninPFubIbyW4ku5HsRrIbyW4ku5HsRrIbyW4ku5HsRrIbyW4ku5HsRrIbyW4ku5HsRrIbyW4ku5HsRrIbyW4ku5HsRrIbyW4k/4M4L5wXzgvnhfPCeeG8cF44L5wXzgvnhfPCeeG8cF44L5wXzgvnhfPCeeG8cF44L5wXzgvnhfPCORp3XeOua9x1jbuucdc17rrGXde46xp3XeOua9x1jbuucdc17rrGXde46xp3XeOua9x1jbuucdc17rrGXde46xp3XeOua9x1jbuucde1/0zhwZc=",
        "encoding": "base64",
        "path": [
         "positions",
         "compressed_buffer"
        ]
       }
      ],
      "model_module": "k3d",
      "model_module_version": "2.7.0",
      "model_name": "ObjectModel",
      "state": {
       "_view_count": null,
       "_view_module": null,
       "_view_module_version": "",
       "_view_name": null,
       "color": 10075135,
       "colors": {
        "dtype": "uint32",
        "shape": [
         0
        ]
       },
       "compression_level": 0,
       "id": 140200476623440,
       "mesh_detail": 2,
       "model_matrix": {
        "dtype": "float32",
        "shape": [
         4,
         4
        ]
       },
       "name": null,
       "opacity": 1,
       "point_size": 0.1,
       "positions": {
        "dtype": "float32",
        "shape": [
         360,
         3
        ]
       },
       "shader": "3dSpecular",
       "type": "Points",
       "visible": true
      }
     },
     "d88414b691814e6aa4ed26b4a857dfa5": {
      "model_module": "@jupyter-widgets/output",
      "model_module_version": "1.0.0",
      "model_name": "OutputModel",
      "state": {
       "layout": "IPY_MODEL_b240501225154b2db02887f59ff32012",
       "outputs": [
        {
         "data": {
          "application/vnd.jupyter.widget-view+json": {
           "model_id": "b055995ebb9b43e08bf2c2d711a940c5",
           "version_major": 2,
           "version_minor": 0
          },
          "text/plain": "Plot(antialias=3, axes=['x', 'y', 'z'], axes_helper=1.0, background_color=16777215, camera=[4.5, 4.5, 4.5, 0.0…"
         },
         "metadata": {},
         "output_type": "display_data"
        }
       ]
      }
     },
     "d9b1327c398d42f8b40e0a859afbd24e": {
      "buffers": [
       {
        "data": "eNoDAAAAAAE=",
        "encoding": "base64",
        "path": [
         "colors",
         "compressed_buffer"
        ]
       },
       {
        "data": "eNpjYGiwZ8AAxIsBAF7EAv0=",
        "encoding": "base64",
        "path": [
         "model_matrix",
         "compressed_buffer"
        ]
       },
       {
        "data": "eNpN1iFyG0EQhlGVcGNjY+HBmp4gYeHBwoMFh5iYmATnEOJxguYQPkSOkJLKW3pCH9ja2nrgV+92H393j9/PP7vdG32lL/SZPtIH+oXe019/nn2j3+kT/e/z2a928gx9aryTvtFf9P4H30wf6CN9pi/0lX6jP+xvh4nzxHniPHGeOE+cJ84T54nzxHniPHGeOE+cJ84T54nzxHniPHGeOE+cJ84T54nzxHniPHGeOE+cO84d545zx7nj3HHuOHecO84d545zx7nj3HHuOHecO84d545zx7nj3HHuOHecO84d545zx7nj3HEuOBecC84F54JzwbngXHAuOBecC84F54JzwbngXHAuOBecC84F54JzwbngXHAuOBecC84F54JzwTlwDpwD58A5cA6cA+fAOXAOnAPnwDlwDpwD58A5cA6cA+fAOXAOnAPnwDlwDpwD58A5cA6c1+fT+d5X+kKf6SN9oF/oPb053/tGv9MnenO+96udPENvzo930jf6i96cH99MH+gjfaYv9JV+oz/sb4eB88B54DxwHjgPnAfOA+eB88B54DxwHjgPnAfOA+eB88B54DxwHjgPnAfOA+eB88B54DxwHjgPnH/9fjrf+0pf6DN9pA/0C72nN+d73+h3+kRvzvd+tZNn6M358U76Rn/Rm/Pjm+kDfaTP9IW+0m/0h705VJwrzhXninPFueJcca44V5wrzhXninPFueJcca44V5wrzhXninPFueJcca44V5wrzhXninPFubIbyW4ku5HsRrIbyW4ku5HsRrIbyW4ku5HsRrIbyW4ku5HsRrIbyW4ku5HsRrIbyW4ku5HsRrIbyW4ku5HsRrIbyW4k/4M4L5wXzgvnhfPCeeG8cF44L5wXzgvnhfPCeeG8cF44L5wXzgvnhfPCeeG8cF44L5wXzgvnhfPCORp3XeOua9x1jbuucdc17rrGXde46xp3XeOua9x1jbuucdc17rrGXde46xp3XeOua9x1jbuucdc17rrGXde46xp3XeOua9x1jbuucde1/0zhwZc=",
        "encoding": "base64",
        "path": [
         "positions",
         "compressed_buffer"
        ]
       }
      ],
      "model_module": "k3d",
      "model_module_version": "2.7.0",
      "model_name": "ObjectModel",
      "state": {
       "_view_count": null,
       "_view_module": null,
       "_view_module_version": "",
       "_view_name": null,
       "color": 10075135,
       "colors": {
        "dtype": "uint32",
        "shape": [
         0
        ]
       },
       "compression_level": 0,
       "id": 140588994885392,
       "mesh_detail": 2,
       "model_matrix": {
        "dtype": "float32",
        "shape": [
         4,
         4
        ]
       },
       "name": null,
       "opacity": 1,
       "point_size": 0.1,
       "positions": {
        "dtype": "float32",
        "shape": [
         360,
         3
        ]
       },
       "shader": "3dSpecular",
       "type": "Points",
       "visible": true
      }
     },
     "dab00b7b1cb24575a6d20bd0a9962c64": {
      "model_module": "k3d",
      "model_module_version": "2.7.0",
      "model_name": "PlotModel",
      "state": {
       "_backend_version": "2.7.0",
       "_dom_classes": [],
       "_view_count": null,
       "antialias": 3,
       "axes": [
        "x",
        "y",
        "z"
       ],
       "axes_helper": 1,
       "background_color": 16777215,
       "camera": [
        53.385497881080205,
        -80.4989546286878,
        25.561679857736785,
        0,
        0,
        -5,
        -0.13916723152619134,
        0.2057558824156138,
        0.9686573173835571
       ],
       "camera_auto_fit": true,
       "camera_fov": 60,
       "camera_no_pan": false,
       "camera_no_rotate": false,
       "camera_no_zoom": false,
       "clipping_planes": [],
       "colorbar_object_id": -1,
       "fps_meter": false,
       "grid": [
        -1,
        -1,
        -1,
        1,
        1,
        1
       ],
       "grid_auto_fit": true,
       "grid_visible": true,
       "height": 512,
       "layout": "IPY_MODEL_36d03f9bce584b0ba37e332526ff0a2a",
       "lighting": 1.5,
       "menu_visibility": true,
       "name": null,
       "object_ids": [
        140589028741904,
        140590021502800
       ],
       "rendering_steps": 1,
       "screenshot": "",
       "screenshot_scale": 2,
       "time": 0,
       "voxel_paint_color": 0
      }
     },
     "db28115fc019459fa9c35e3ad1bdbba7": {
      "buffers": [
       {
        "data": "eNoDAAAAAAE=",
        "encoding": "base64",
        "path": [
         "colors",
         "compressed_buffer"
        ]
       },
       {
        "data": "eNpjYGiwZ8AAxIsBAF7EAv0=",
        "encoding": "base64",
        "path": [
         "model_matrix",
         "compressed_buffer"
        ]
       },
       {
        "data": "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",
        "encoding": "base64",
        "path": [
         "positions",
         "compressed_buffer"
        ]
       }
      ],
      "model_module": "k3d",
      "model_module_version": "2.7.0",
      "model_name": "ObjectModel",
      "state": {
       "_view_count": null,
       "_view_module": null,
       "_view_module_version": "",
       "_view_name": null,
       "color": 10075135,
       "colors": {
        "dtype": "uint32",
        "shape": [
         0
        ]
       },
       "compression_level": 0,
       "id": 139917088544720,
       "mesh_detail": 2,
       "model_matrix": {
        "dtype": "float32",
        "shape": [
         4,
         4
        ]
       },
       "name": null,
       "opacity": 1,
       "point_size": 0.1,
       "positions": {
        "dtype": "float32",
        "shape": [
         750,
         3
        ]
       },
       "shader": "3dSpecular",
       "type": "Points",
       "visible": true
      }
     },
     "db2bfe1194794d24b8c014d995dca9d2": {
      "model_module": "k3d",
      "model_module_version": "2.7.0",
      "model_name": "PlotModel",
      "state": {
       "_backend_version": "2.7.0",
       "_dom_classes": [],
       "_view_count": null,
       "antialias": 3,
       "axes": [
        "x",
        "y",
        "z"
       ],
       "axes_helper": 1,
       "background_color": 16777215,
       "camera": [
        125.02855940528727,
        -187.5667119826081,
        7.302856608100859,
        0,
        -0.023872874677181244,
        -5.1999993324279785,
        0,
        0,
        1
       ],
       "camera_auto_fit": true,
       "camera_fov": 60,
       "camera_no_pan": false,
       "camera_no_rotate": false,
       "camera_no_zoom": false,
       "clipping_planes": [],
       "colorbar_object_id": -1,
       "fps_meter": false,
       "grid": [
        -1,
        -1,
        -1,
        1,
        1,
        1
       ],
       "grid_auto_fit": true,
       "grid_visible": true,
       "height": 512,
       "layout": "IPY_MODEL_0001275c15424f5c8b982a81bdfea271",
       "lighting": 1.5,
       "menu_visibility": true,
       "name": null,
       "object_ids": [
        139917088544464,
        139917088544720
       ],
       "rendering_steps": 1,
       "screenshot": "",
       "screenshot_scale": 2,
       "time": 0,
       "voxel_paint_color": 0
      }
     },
     "dbc59137c5e8481ab75ae80969ef7893": {
      "model_module": "@jupyter-widgets/base",
      "model_module_version": "1.2.0",
      "model_name": "LayoutModel",
      "state": {}
     },
     "dc6090230fb44b6cad1273a2e93f570f": {
      "buffers": [
       {
        "data": "eNot0vlP1gUcwPF3rVar1Wq14vR5Hh4eBOSSQy45fZ7v96spoRIiIqJAHCKH3Pf9cD7fLLMss8yyzLLM0sy01KJIo1BDEQUEfWBrba2ttbbW1sfVD6//4JV2l5X0u62su8fG+nttZN6nkHW/wsYHFLIfVMh5SGXzwyq5j6jkPaqS/5hKweMahU9oFD2pUeyiUeKmsc1do9RDo8xTo9ygUWHUqDRpVJk1qr01aiwatT4adb4a9X4aDf4qDQEqjYEqTUEqzcEqLSEKLaEKrWEKbeEK7RE22iNtdETZ6Iy20hljpStWxC2jO14kJGNPFEnJ9CQn0WNNoteWSK8i1AT6NLE8nr4V8fSvFKvi6E8RTy9lIFWsjmVgjVgbw2CaeCaawXSREcXgepEZiWODyFqCY6PIjsCxSeSE49gstoThyA1DzwtFzxfPLkYvEIWiKAS9WGwNRi8R24LQS0WZKA9Er7gjAH27qBRVi9CrRY0/eq2oE/V+6A2iUTT5ojeLloXoraJNtPugd/yv04LeJbqF3Ru9R/Sa0fvMOPrFgBeOQeEQugnHc2KHicHnxQvG/+wULxoY2CVeEi+L3Qb6XxGvij0L6HtN7BWvG+h9Q+wTbxrouWO/AftbRuxvG+k+YKL7HfGuF10Hveh8z0znIW863rfQ8YGF9sM+YiFtH/rS+pEfrUf8afk4gOajgTR9EkTTp8E0HltMw/FQ6o+HU/9ZBHUnIqn9PIqakzFUfxFL1ak4Kk8lsP10IhVfJlP+lZWyMwqlZ+Xj2RWUnFvJ1q9TKP4mlaKhNRQOpVHwbTr532WQN5xJ7nAWW77PJud8Dpsu5JJ9IZ+sHwrYMFJE5kgJGT+Wsu6nctJHK0kbrWbtxVpWX2wg9VITKZdbWXW5nad+7mL5mB1trA/lygC2KzrLru4g6epOEsd3ET++m6XX9hB7bS/RE/uInNjPkusHCL9+kNAbhwi5cZjgySMETh5l0dQx/KZO4Dt1Ep/p01imz2CePofp5hDGm8MYZs7jOTOCx8wo7rOXcJsdw3V2HNdbE7jcmhTTuNyexfW2U8zj5vwFd+eveDh/w9P5Owvm/sA49yemub8wz/+NZf4f/gXLh0p6",
        "encoding": "base64",
        "path": [
         "color_map",
         "compressed_buffer"
        ]
       },
       {
        "data": "eNpjYBBzZsAA2MQ+ODIwLDiAKtZgDwBXFgQD",
        "encoding": "base64",
        "path": [
         "model_matrix",
         "compressed_buffer"
        ]
       },
       {
        "data": "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",
        "encoding": "base64",
        "path": [
         "voxels",
         "compressed_buffer"
        ]
       }
      ],
      "model_module": "k3d",
      "model_module_version": "2.7.0",
      "model_name": "ObjectModel",
      "state": {
       "_view_count": null,
       "_view_module": null,
       "_view_module_version": "",
       "_view_name": null,
       "color_map": {
        "dtype": "uint32",
        "shape": [
         256
        ]
       },
       "compression_level": 0,
       "id": 139917088100816,
       "model_matrix": {
        "dtype": "float32",
        "shape": [
         4,
         4
        ]
       },
       "name": null,
       "opacity": 1,
       "outlines": false,
       "outlines_color": 0,
       "type": "Voxels",
       "visible": true,
       "voxels": {
        "dtype": "uint8",
        "shape": [
         15,
         50,
         50
        ]
       },
       "wireframe": false
      }
     },
     "dcb73e51a7db4417ac8d15fe46701602": {
      "model_module": "@jupyter-widgets/base",
      "model_module_version": "1.2.0",
      "model_name": "LayoutModel",
      "state": {}
     },
     "dd63c50640ca4a69823a6060c77d8969": {
      "model_module": "@jupyter-widgets/output",
      "model_module_version": "1.0.0",
      "model_name": "OutputModel",
      "state": {
       "layout": "IPY_MODEL_de4ddafad4144880bf2c703fb9b79bb6",
       "outputs": [
        {
         "data": {
          "application/vnd.jupyter.widget-view+json": {
           "model_id": "1a144fd8c2d345fd90f9e4eb7fdb39b6",
           "version_major": 2,
           "version_minor": 0
          },
          "text/plain": "Plot(antialias=3, axes=['x', 'y', 'z'], axes_helper=1.0, background_color=16777215, camera=[4.5, 4.5, 4.5, 0.0…"
         },
         "metadata": {},
         "output_type": "display_data"
        }
       ]
      }
     },
     "dd7011ea497a4ec1a45ddada3c0ebbe1": {
      "model_module": "k3d",
      "model_module_version": "2.7.0",
      "model_name": "PlotModel",
      "state": {
       "_backend_version": "2.7.0",
       "_dom_classes": [],
       "_view_count": null,
       "antialias": 3,
       "axes": [
        "x",
        "y",
        "z"
       ],
       "axes_helper": 1,
       "background_color": 16777215,
       "camera": [
        126.542907154493,
        -189.73626827587555,
        7.373426953547554,
        0.055828094482421875,
        -0.005649685859680176,
        -5.275280952453613,
        0,
        0,
        1
       ],
       "camera_auto_fit": true,
       "camera_fov": 60,
       "camera_no_pan": false,
       "camera_no_rotate": false,
       "camera_no_zoom": false,
       "clipping_planes": [],
       "colorbar_object_id": -1,
       "fps_meter": false,
       "grid": [
        -1,
        -1,
        -1,
        1,
        1,
        1
       ],
       "grid_auto_fit": true,
       "grid_visible": true,
       "height": 512,
       "layout": "IPY_MODEL_e245b1edb4de4a16bb3be2c33170d742",
       "lighting": 1.5,
       "menu_visibility": true,
       "name": null,
       "object_ids": [
        140200476688208,
        140200476623440
       ],
       "rendering_steps": 1,
       "screenshot": "",
       "screenshot_scale": 2,
       "time": 0,
       "voxel_paint_color": 0
      }
     },
     "de4ddafad4144880bf2c703fb9b79bb6": {
      "model_module": "@jupyter-widgets/base",
      "model_module_version": "1.2.0",
      "model_name": "LayoutModel",
      "state": {}
     },
     "de672d91042848588ec73ac4945c55d0": {
      "model_module": "k3d",
      "model_module_version": "2.7.0",
      "model_name": "PlotModel",
      "state": {
       "_backend_version": "2.7.0",
       "_dom_classes": [],
       "_view_count": null,
       "antialias": 3,
       "axes": [
        "x",
        "y",
        "z"
       ],
       "axes_helper": 1,
       "background_color": 16777215,
       "camera": [
        151.06034703595026,
        -256.92503767034964,
        4.713389857758957,
        -0.24999985471367836,
        -0.24999985471367836,
        -5.125000011175871,
        0.020700978272213153,
        -0.013805597926643593,
        0.9996903895529153
       ],
       "camera_auto_fit": true,
       "camera_fov": 60,
       "camera_no_pan": false,
       "camera_no_rotate": false,
       "camera_no_zoom": false,
       "clipping_planes": [],
       "colorbar_object_id": -1,
       "fps_meter": false,
       "grid": [
        -1,
        -1,
        -1,
        1,
        1,
        1
       ],
       "grid_auto_fit": true,
       "grid_visible": true,
       "height": 512,
       "layout": "IPY_MODEL_dcb73e51a7db4417ac8d15fe46701602",
       "lighting": 1.5,
       "menu_visibility": true,
       "name": null,
       "object_ids": [
        140589028804048
       ],
       "rendering_steps": 1,
       "screenshot": "",
       "screenshot_scale": 2,
       "time": 0,
       "voxel_paint_color": 0
      }
     },
     "dfa11d34108f46e2a82e8f052148fdd3": {
      "model_module": "@jupyter-widgets/base",
      "model_module_version": "1.2.0",
      "model_name": "LayoutModel",
      "state": {}
     },
     "e05c06fcb45c43f7b0a51b3b36073464": {
      "buffers": [
       {
        "data": "eNqt1r9L1WEUx3H7P4wSCWoI7hRI4FJDQwWFiKSgoBJStERLW2Nbo0vQ0tjSFE1hqBdFuRHRb/UO4dhfEBSHXheeD1xEcHgv3+/znM/5nvM5z/Pt/Hg10vnH+P5acW7/XXF+720xeH74p5jdWSmWuneK+2vXG1bWbzfce3+zYbE7V0z1HhWjv34XdHP93Y3pgt789mKDeMubM0XqX/v0tKCD1FnYWihmdh8UNz4+Key/8vlZg+fW2SeOeohP1z7vfZ96iDf5ZbWY+PaiuPT9ZcPlr88L6+yb7j0sxKWvvnTUR772iUcnfTB2sN6QfrFPHHp05MNH+iefrL94F3++Ls4edIvT/Z1itN9rONPfKuRnnzjZL/nwF597zlfZF99Lh768vL+w96aQl3W+w7rso/7xSSfmNOeJr/hCX+hCPrc+PC70x3P5gx4f0sn5t8736Kc5NTf6kHWjL5+pU1cb5Cu+feKIS4euPNQDx82P7qBukV/W8bj55Zypqzqruz5Yl/3KOso3fQj14Bs6fMVn9Pgwz69h88HnOZ/ysS7nWd2GzYe5HJxv/+dWvTw/6jyhk/OZ8+w7jjpP9FP9nHN5z+jPsPNWX/K8zTnL89Y5Tkc+9PKe1T/7so98kfcPH2Zf6OT5lfcwfe9P+v7N+z3vf/vzf4Gv9C//N/gr79e8Z+moR84TUj//p+jxEZ+nD+jmnP4FIDINhQ==",
        "encoding": "base64",
        "path": [
         "colors",
         "compressed_buffer"
        ]
       },
       {
        "data": "eNpjYGiwZ8AAxIsBAF7EAv0=",
        "encoding": "base64",
        "path": [
         "model_matrix",
         "compressed_buffer"
        ]
       },
       {
        "data": "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",
        "encoding": "base64",
        "path": [
         "origins",
         "compressed_buffer"
        ]
       },
       {
        "data": "eNodl31sluUZxYsBIWOCDhEFJc346qIt1m41lj7vc/GhYVJWIGGbCEKZTlyo6aYTF8Mq4cOWWhUmXVsiEWgFClZbKSB97/e5qCv9iOjGdEunw41GtqHD0ahxG7idn3+1De/7PPd9Xef8zqF3/UG/v/0WHzg+WDztUIvXdsz02quWRpuO7Pa1g9/zTy7NjpZ+1uj7Xlrt59YXRLNLn/Y5WRu9qWdJ1Nlf5bvu2OKHR2Slhm8Kvj/9SFLSVxYayzq9orQ5mXehMVyzt91D/Wgv6O8LbxYd8tz+HH/0/ZNh3OsveN79y/yhhR3h6Tk7PO+Kn3rh6Y5QcXiDNy2s9RF+ImR1lfvLW+p89YoTIfXxHJ9X0uz7lv46fOkFvqn5gE8tmBL+VJZ4vLcrdbjidDQ/k/jS2udTY388J5pakvGi71gy8bsnwq2/6/StHTuTfZc9FF5o92sf/5oPzz8QTi0+5FPfyfHLvY2h8t87vbN5pVc3bwlPxNt9oOZxv+PbT4WBl9f5Dc9v95Hz64M9sdL//MVOj8c3hdTFfL926ICXvHss7O+b7DP3tPrNcztCd/ZAMpR3zGf8Z2P6Z2eOJQU3HffNOb+P+Km/Y35vaAhef+rBePLy34SGaYmfv/nLVP3irpBam3j+5+9lmm6tCt37g/9rSnky8vaFoeW+Dk9NvJTcdLEr/dvHWn3Jmmyvvuax9CsfNfrYv6/2n9w90Nm97hlflnnS3zp0rnPKXT/ygz2N3nimMj3p5DxvO9vkB65+Iz0te7RH59v9zm+WhFk+mPTdedSf6aoO1/9yW9JTmvY9S3qDzpVwPs6muWaYL7PlTrpbzL34rL4T8/kdD2f8+raieM+oljD7XOIVl27L/KH8W2FvX8bHf35LMrTZ0xvKj/qHhYPJ0fUzZjVXverPTZjgWdflFzeu2emlNWV+Re2O4pZltX7s0w3+2i+2FX8x5h4vW7PL207fWDysodB7/rnfJ6wbKLq44uNkxatH/Lnu7vTMzsPJmLrj3tGWG/T+hHNwBs0yw0yZp7SQQRPoAb1IN4Zm2JV2ZuyLGWgWMXPgeXpuzDPXT028cOAb8az5w2ZlZbmX1m6LFpU3FsdrdPfyXyX/aM+Lhh464j79k6T+jyXRhgW7vD/7Hs99+4HoyqEan7Zqo++uWR2NOBX72QUv+fDeuVHuuHF+/vttvmjljGju6OrEL6R9enZdsd6T8D7epfmlmCMzlBZSaAI9SMsxmkbP8lmM3/AanpA3DF+gR+nS0CR71r6NXTMzzS5mbrxT7455b8/4xMfMHR9fVfH16NHXMn7y2bykre7B6MaRx731g3TyysUno/99+qKvGrXYc16sjnIra3z5Wxt9+w+eiq6+Ls//O/agv7FgXRQv/yxpONvhixauivS8hOfyTM0sMDvmJi3EaAI9SNcx+kbb8mWMP/GmmBHDDrgBV8QXgy0wQCwwOID/5EPDg+ha+ja0jUakFUMnzFizNubMuXS+mLNdfiDjL+y2eERPVRSdSXxw78TMsKzK6O1lLZ4ele/RyNzog0lb/dS9m73/3OToyNYPk6yco17U/PNI30v4Pt/VnGLmxaykhRhNoAdpPEbr6Fx+jfEtnhVvDO7AHLHQYCI8FHetV/yFvTBVbDW4Cv/EQYOBsEcMMviDp+Vtw9f4Qz4xPIK+pDNDY+xEuzH2wtl1h5jzf/Rs8IfvfSR+v3xS9Ncb2v2Ha8f62tuvDJV1W3zob1U+4d3pQf+e8Dk+o9mkmBHzkRZiNIEepPcY3aN5+djwM14Wkww2wSUx1WArXBXvDe7DfGWLfZUxyhfyRLliZArsVwYY/Ie74q/BXngmrhlMgw1ihMEHvCWPGf5Cj9KloUn2pv0Zu+NOuptxr7s7Wv0v75yI32vNSfQz4W9+1wyMWTAH7d/QARqQ3g3do3l52vA2vharDGbBK3HX4C/sVW4Y+UF2KNOMbCPXlJ9GjpKhZKl+N34n9/QZ4zNkjr5rfBeW65nGM+Gi3mW8C67oDMYZ8KLOZpwNzerMxpnZp+5i3IW76o7GHfnJnfldMzH2zUw0K0PrzEozNLzNDDVbg1/MVjM3uMzMtQsjY9iFdmRkJDvS7oz8ZnfaqdEV2Ck9Qrs2dk3mSwOGBshbacPQBjkmzRiaIROkJUNLMFUaMzQGh6Q9Q3v4VZo0NImWpVVDq+yZu3EvZsBemQP/jqb5jLxg+BkvyCMGv/CIvGMwGu/IU0b24Cl5zchRvCYPGj0AD8qbRkfBm/Ks0YfwLB1KXja8TN+Rxw2P0zXkfcP7ZLiYYDCBPBQrDFaQJ2KIwRAYLLYYbIFVYo7BHHzMHTg/Gmd/7I79o100wGzwLfPhezCL74qBBqNhoNho5BBsFDONfIWZYqnRFWCpGGt0HRgr9ho9DPaKyUbng8n0O7HaYDXdSgw3GE5nEdsNtpP/Yr7BfPJTWWBkAZmjjDAyAjZzPs4Gt9gNe8HT6BJNonc8iebRAjxCD8wJFjMrnkf28ExlnJGvZJyyz+gNZJ8y0ehAZKKy0uhwZKUy1OiXZCgdVtlqZCv9UZlrZC69TFlsZDEdRxltZDQdQdltZDe5yrt5L/nDrJkzbEZnaAxu4TH8hafhC75G77AVzaMFcgU9MDNylLnxHroC71JXMToQXUUdxuhzdBh1G6OP0m3UeYyuTOehF6sLGV2IvqmOZHQkupu6k9Gd6D48l2fSF5gdcyNX0Qo6IXPwCR6BxzACPsAq+Aiv8DHZgJfROLmIztECPQA9MD+6DjPk/XQ4zqBuafRRuqU6p9Gn6Zx0fHVRo4vSndVRjY5KD+U7fJ4exyyYA92HfbNrOgL6RtvkJ97G12QLXINpcBemw16YRJ7BJfxKluNZdE13QdtogX6GHpglvZN5ci46NGdT5zf+D0Dnp/vzN7/To7kb96KHsjP2RXdDl2iSjoMP8SD5D4PgD9kIf2EvuUH2kB0wldyFq/CGzgFz8CUdC2+iZXokekYL9GP0wFzp+syWjoxu0Ay9Em/gC/oXLIADdBM4CAPJbTIA/pNp5B+5Bu/JfpgPC+k98BBm0PPgBj6jy+I1uh58gS30INgKV+kI5AqZQn6SqWToV9miPkG+wF26FOz9PwGYaTI=",
        "encoding": "base64",
        "path": [
         "vectors",
         "compressed_buffer"
        ]
       }
      ],
      "model_module": "k3d",
      "model_module_version": "2.7.0",
      "model_name": "ObjectModel",
      "state": {
       "_view_count": null,
       "_view_module": null,
       "_view_module_version": "",
       "_view_name": null,
       "colors": {
        "dtype": "uint32",
        "shape": [
         316,
         2
        ]
       },
       "compression_level": 0,
       "head_color": 255,
       "head_size": 30,
       "id": 140589986348880,
       "label_size": 1,
       "labels": [],
       "line_width": 0.01,
       "model_matrix": {
        "dtype": "float32",
        "shape": [
         4,
         4
        ]
       },
       "name": null,
       "origin_color": 255,
       "origins": {
        "dtype": "float32",
        "shape": [
         316,
         3
        ]
       },
       "type": "Vectors",
       "use_head": true,
       "vectors": {
        "dtype": "float32",
        "shape": [
         316,
         3
        ]
       },
       "visible": true
      }
     },
     "e245b1edb4de4a16bb3be2c33170d742": {
      "model_module": "@jupyter-widgets/base",
      "model_module_version": "1.2.0",
      "model_name": "LayoutModel",
      "state": {}
     },
     "e2df83431b7a47439f377e8adbc4d918": {
      "buffers": [
       {
        "data": "eNoDAAAAAAE=",
        "encoding": "base64",
        "path": [
         "colors",
         "compressed_buffer"
        ]
       },
       {
        "data": "eNpjYGiwZ8AAxIsBAF7EAv0=",
        "encoding": "base64",
        "path": [
         "model_matrix",
         "compressed_buffer"
        ]
       },
       {
        "data": "eNpN2LFt5DoUBVBDRTBmzCIIShFjFsEi2IASJtPBL4IFeF2HilAJfwde2Scw5gaGfe8J/Ax+fMw/Hx+vr4+P/z4/Pir5/vzN0Vz4HnLdf/Mkb38/z3/5+vObF3mSK/nd4aTDSYeTDicdTjr8/C7yRd6O3xz+fg46DzoPOg86DzoPOg86DzoPOg86DzoPOg86Dzo/OZDz38/+LydyIG/k967Ors6uzq7Ors6uzq7Ors6uzq7Ors6uzq7Orp8t5ExuX99fz/bG9sb2xvbG9sb2xvbG9sb2xvbG9sb2xvbG9sb2xvbG9sb2xvbG9ic38tsjY5IxyZhkTDImGZOMScYkY5IxyZhkTDImGZOMScYkY5IxyZhkTDImGZMnd/PX9/7HJ+GT8En4JHwSPgmfhE/CJ+GT8En4JHwSPgmfhE/CJ+GT8En4JHwSPgmfJ7//fgSsAlYBq4BVwCpgFbAKWAWsAlYBq4BVwCpgFbAKWAWsAlYBq4BVwCpgFbAKWD15kN93Y8Nww3DDcMNww3DDcMNww3DDcMNww3DDcMNww3DDcMNww3DDcMNww3DDcMNww3DDcMNww/DJp/nre/Pj+eRObuRMTuRA3sjvzycv8iRX8v35m6O58D3kt+fPzyQv8kV+e/50JidyJjdyJw/yaf763vl4LjwXngvPhefCc+G58Fx4LjwXngvPhefCc+G58Fx4LjwXngvPhefCc+G58Fx4LjwXnk9+/z87sZ3YTmwnthPbie3EdmI7sZ3YTmwnthPbie3EdmI7sZ3YTmwnthPbie3EdmI7sZ3YTmwntk9+mb++tz3OFeeKc8W54lxxrjhXnCvOFeeKc8W54lxxrjhXnCvOFeeKc8W54lxxrjhXnCvOFeeKc8W54lxxfu95nJ88yJ3cyJmcyIG8kd/OT17kSa7k+/M3R3Phe8hv55+fSV7ki/x2/ulMTuRMbuROHuST/DJ/fW94nCPOEeeIc8Q54hxxjjhHnCPOEeeIc8Q54hxxjjhHnCPOEeeIc8Q54hxxjjhHnCPOEeeIc8Q56lxwLjgXnAvOBeeCc8G54FxwLjgXnAvOBeeCc8G54FxwLjgXnAvOBeeCc8G54FxwLjgXnAvOBefC3w2cb5xvnG+cb5xvnG+cb5xvnG+cb5xvnG+cb5xvnG+cb5xvnG+cb5xvnG+cb5xvnG+cb5xvnG+cb5xvnN/9fu7gzh3cuYM7d3DnDu7cwZ07uHMHd+7gzh3cuYM7d3DnDu7cwZ07uHMHd+7gzh3cuYM7d3DnDu7cwZ07uHMHd+7gzh3cuYM7d3DnDu78X4fzxHniPHGeOE+cJ84T54nzxHniPHGeOE+cJ84T54nzxHniPHGeOE+cJ84T54nzxHniPHGeOGu7sF3YLmwXtgvbhe3CdmG7sF3YLmwXtgvbhe3CdmG7sF3YLmwXtgvbhe3CdmG7sF3YLmwXnheeF54XnheeF54XnheeF54XnheeF54XnheeF54XnheeF54XnheeF54XnheeF54XnheeF54Xnhee79/x855z8J5z8J5z8J5z8J5z8J5z8J5z8J5z8J5z8J5z8J5z8J5z8J5z8J5z8J5z8J5z8J5z8J5z8J5z8J5z8J5z8J5z8J5z8J5z8J5z8J5z8J6DYcAwYBgwDBgGDAOGAcOAYcAwYBgwDBgGDAOGAcOAYcAwYBgwDBgGDAOGAcOAYcBQq4RVwiphlbBKWCWsElYJq4RVwiphlbBKWCWsElYJq4RVwiphlbBKWCWsElYJn4xPxifjk/HJ+GR8Mj4Zn4xPxifjk/HJ+GR8Mj4Zn4xPxifjk/HJ+GR8Mj6aNEwaJg2ThknDpGHSMGmYNEwaJg2ThknDpGHSMGmYNEwaJg2ThknDxO2d7Z3tne2d7Z3tne2d7Z3tne2d7Z3tne2d7Z3tne2d7Z3tne2d7e4a7BrsGuwa7BrsGuwa7BrsGuwa7BrsGuwa7BrsGuyy80nnk84nnU86n3Q+6XzS+aTzSeeTziedTzqfdLbDiw4vOrzo8KLDiw4vOrzo8J3/B+yt+WE=",
        "encoding": "base64",
        "path": [
         "positions",
         "compressed_buffer"
        ]
       }
      ],
      "model_module": "k3d",
      "model_module_version": "2.7.0",
      "model_name": "ObjectModel",
      "state": {
       "_view_count": null,
       "_view_module": null,
       "_view_module_version": "",
       "_view_name": null,
       "color": 10075135,
       "colors": {
        "dtype": "uint32",
        "shape": [
         0
        ]
       },
       "compression_level": 0,
       "id": 140201517984912,
       "mesh_detail": 2,
       "model_matrix": {
        "dtype": "float32",
        "shape": [
         4,
         4
        ]
       },
       "name": null,
       "opacity": 1,
       "point_size": 0.1,
       "positions": {
        "dtype": "float32",
        "shape": [
         716,
         3
        ]
       },
       "shader": "3dSpecular",
       "type": "Points",
       "visible": true
      }
     },
     "e3d61839997f47ba811a15c216c0e48e": {
      "model_module": "k3d",
      "model_module_version": "2.7.0",
      "model_name": "PlotModel",
      "state": {
       "_backend_version": "2.7.0",
       "_dom_classes": [],
       "_view_count": null,
       "antialias": 3,
       "axes": [
        "x",
        "y",
        "z"
       ],
       "axes_helper": 1,
       "background_color": 16777215,
       "camera": [
        178.34799599823646,
        -268.14699363413894,
        12.7347995741193,
        -0.24999985471367836,
        -0.24999985471367836,
        -5.125000011175871,
        0,
        0,
        1
       ],
       "camera_auto_fit": true,
       "camera_fov": 60,
       "camera_no_pan": false,
       "camera_no_rotate": false,
       "camera_no_zoom": false,
       "clipping_planes": [],
       "colorbar_object_id": -1,
       "fps_meter": false,
       "grid": [
        -1,
        -1,
        -1,
        1,
        1,
        1
       ],
       "grid_auto_fit": true,
       "grid_visible": true,
       "height": 512,
       "layout": "IPY_MODEL_b4b3846b5c274690a64b47b9ab53e1a8",
       "lighting": 1.5,
       "menu_visibility": true,
       "name": null,
       "object_ids": [
        140605247163600
       ],
       "rendering_steps": 1,
       "screenshot": "",
       "screenshot_scale": 2,
       "time": 0,
       "voxel_paint_color": 0
      }
     },
     "e52a778a872b4defaea24c95644f91df": {
      "buffers": [
       {
        "data": "eNoDAAAAAAE=",
        "encoding": "base64",
        "path": [
         "colors",
         "compressed_buffer"
        ]
       },
       {
        "data": "eNpjYGiwZ8AAxIsBAF7EAv0=",
        "encoding": "base64",
        "path": [
         "model_matrix",
         "compressed_buffer"
        ]
       },
       {
        "data": "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",
        "encoding": "base64",
        "path": [
         "positions",
         "compressed_buffer"
        ]
       }
      ],
      "model_module": "k3d",
      "model_module_version": "2.7.0",
      "model_name": "ObjectModel",
      "state": {
       "_view_count": null,
       "_view_module": null,
       "_view_module_version": "",
       "_view_name": null,
       "color": 10075135,
       "colors": {
        "dtype": "uint32",
        "shape": [
         0
        ]
       },
       "compression_level": 0,
       "id": 140590021504528,
       "mesh_detail": 2,
       "model_matrix": {
        "dtype": "float32",
        "shape": [
         4,
         4
        ]
       },
       "name": null,
       "opacity": 1,
       "point_size": 0.1,
       "positions": {
        "dtype": "float32",
        "shape": [
         716,
         3
        ]
       },
       "shader": "3dSpecular",
       "type": "Points",
       "visible": true
      }
     },
     "e5489e5436ba497eb4d5f8802583eab1": {
      "model_module": "@jupyter-widgets/base",
      "model_module_version": "1.2.0",
      "model_name": "LayoutModel",
      "state": {}
     },
     "e718c54609ad48fd852bc12dc1a8ad31": {
      "buffers": [
       {
        "data": "eNoDAAAAAAE=",
        "encoding": "base64",
        "path": [
         "colors",
         "compressed_buffer"
        ]
       },
       {
        "data": "eNpjYGiwZ8AAxIsBAF7EAv0=",
        "encoding": "base64",
        "path": [
         "model_matrix",
         "compressed_buffer"
        ]
       },
       {
        "data": "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",
        "encoding": "base64",
        "path": [
         "origins",
         "compressed_buffer"
        ]
       },
       {
        "data": "eNrtxiEBAAAIwLBHo38qHAWwm1qdyd3d3d3d3d3d3d3d3d3d3d3fXypnswE=",
        "encoding": "base64",
        "path": [
         "vectors",
         "compressed_buffer"
        ]
       }
      ],
      "model_module": "k3d",
      "model_module_version": "2.7.0",
      "model_name": "ObjectModel",
      "state": {
       "_view_count": null,
       "_view_module": null,
       "_view_module_version": "",
       "_view_name": null,
       "colors": {
        "dtype": "uint32",
        "shape": [
         0
        ]
       },
       "compression_level": 0,
       "head_color": 255,
       "head_size": 1,
       "id": 140589028741904,
       "label_size": 1,
       "labels": [],
       "line_width": 0.01,
       "model_matrix": {
        "dtype": "float32",
        "shape": [
         4,
         4
        ]
       },
       "name": null,
       "origin_color": 255,
       "origins": {
        "dtype": "float32",
        "shape": [
         716,
         3
        ]
       },
       "type": "Vectors",
       "use_head": true,
       "vectors": {
        "dtype": "float32",
        "shape": [
         716,
         3
        ]
       },
       "visible": true
      }
     },
     "e765fbd4de9c42ef975ee4bbcb44d882": {
      "buffers": [
       {
        "data": "eNoDAAAAAAE=",
        "encoding": "base64",
        "path": [
         "colors",
         "compressed_buffer"
        ]
       },
       {
        "data": "eNpjYGiwZ8AAxIsBAF7EAv0=",
        "encoding": "base64",
        "path": [
         "model_matrix",
         "compressed_buffer"
        ]
       },
       {
        "data": "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",
        "encoding": "base64",
        "path": [
         "origins",
         "compressed_buffer"
        ]
       },
       {
        "data": "eNrtxiEBAAAIwLBHo38qHAWwm1qdyd3d3d3d3d3d3d3d3d3d3d3fXypnswE=",
        "encoding": "base64",
        "path": [
         "vectors",
         "compressed_buffer"
        ]
       }
      ],
      "model_module": "k3d",
      "model_module_version": "2.7.0",
      "model_name": "ObjectModel",
      "state": {
       "_view_count": null,
       "_view_module": null,
       "_view_module_version": "",
       "_view_name": null,
       "colors": {
        "dtype": "uint32",
        "shape": [
         0
        ]
       },
       "compression_level": 0,
       "head_color": 255,
       "head_size": 30,
       "id": 140201469803600,
       "label_size": 1,
       "labels": [],
       "line_width": 0.01,
       "model_matrix": {
        "dtype": "float32",
        "shape": [
         4,
         4
        ]
       },
       "name": null,
       "origin_color": 255,
       "origins": {
        "dtype": "float32",
        "shape": [
         716,
         3
        ]
       },
       "type": "Vectors",
       "use_head": true,
       "vectors": {
        "dtype": "float32",
        "shape": [
         716,
         3
        ]
       },
       "visible": true
      }
     },
     "e7c199958651457596d848bce75e4b61": {
      "model_module": "@jupyter-widgets/base",
      "model_module_version": "1.2.0",
      "model_name": "LayoutModel",
      "state": {}
     },
     "e818e67c1b7d493aacbae9808168a66b": {
      "model_module": "@jupyter-widgets/output",
      "model_module_version": "1.0.0",
      "model_name": "OutputModel",
      "state": {
       "layout": "IPY_MODEL_8d31201a0db74c47860b819e14afadc1",
       "outputs": [
        {
         "data": {
          "application/vnd.jupyter.widget-view+json": {
           "model_id": "3773feef62df4f7786d67b253cfdf2fa",
           "version_major": 2,
           "version_minor": 0
          },
          "text/plain": "Plot(antialias=3, axes=['x', 'y', 'z'], axes_helper=1.0, background_color=16777215, camera=[4.5, 4.5, 4.5, 0.0…"
         },
         "metadata": {},
         "output_type": "display_data"
        }
       ]
      }
     },
     "e8befa819fb94b829fbc5770c9212f64": {
      "buffers": [
       {
        "data": "eNqtljsvg1EYx/kYHaTp4BIRoiFsRJDYDGJhb1gEg1ujMdTQwc7OIJEQ1CWIQQyiI4OIpHH7ChaJ+Of8mrxPc5xUO/yG97znfZ//ea4n9vZeF/vl9Uk0FAsiXrwTrCc+vsTIw7qYKEyJmethMXfZH2H+ok/wzL7J+5QYetwQjZ/fouXlXEzfjIrZqwGxcNYrFk97/oR9fMd/ks+7AjuQuh0X7F866a4pnBs72EUP79Fdtc18VwTrD/yL3/FP2fee/y7nk2LluDMC6xDSiV3yiHwoi4PV456xmz5sF6sHbSKz3ypYTx91CO+5HNgln8lz8tUXH86LnbW9JpHdSYjcVjxCdjsh2Mc5fPqwi46YqVPyh/z36nP+wH5uMy42Ms0RWEc/3/niil10oIu+Qf379HF+4oaf0DNWPxihpNPtI+4lPwb00dcg5D/+i51K9XGukD78ZPttxfEl70LxdXnw3/iSh6H6sPVaqg/y0NaH088+6sqnz9YHdUsdB/u604cd/EHciDvr3no1z9ilr9HnyvqtB9tPff021K9tv6XvMwfsfLXzo9p5xH/JHzuHmYu8r/X85Xx2/to5XOv7Bv7FDn4nH+x9yd6T7H2JfCaPyHPbb+lrtk5/AIdTk74=",
        "encoding": "base64",
        "path": [
         "colors",
         "compressed_buffer"
        ]
       },
       {
        "data": "eNpjYGiwZ8AAxIsBAF7EAv0=",
        "encoding": "base64",
        "path": [
         "model_matrix",
         "compressed_buffer"
        ]
       },
       {
        "data": "eNodl31sleUZxhttGbgBVTOTFRCGq5XIAvtkUJtzPw84VoToBgKdYgGxMaPoxoHAmqJM1I0NmjGhFqiF85ZSSkfZGFME5JznmfIVWJHC/ACGgoIxyMjGgpg4d/3OX23DOe/7PPd9Xb/rYvzKJeG9xxpi76Mv2qQHi8JvHm2I02Y2WccDU7OjulfG9MC19sLsE3bb/JVx94i1NvIPM93x/Sti0U+a7MDZTvdqbkX8dFWjLSu9FirG/iq++XGzlXTtDu9+sjQe2N9ic++qD3f2WhoH3pGxgoLC8GCfp+NNv82YLftRdlH5knh3e8ZWtZ20wdX1cdz2jJXlZrrFHXXxiTUZe2trp5vc88t4eljGKvtdcLfWLI4t3S02ZXOxf//qophuabbj/UfHc1tq4vMjG+1nXSXxWLYmri1bZ59MvBbG/GtOLHt2o516fXcoKpoTV6QzttfXh6k3z47nHkhszlcLw7tFs+LrTyY299B92Z5e1XFTbWKXPjphh4sfic+lEyu/WO3mfPfh+EV9YncM6XRDpz8U+1QllnnsQ1d0uSq+VZuxjyqL/elZVXH93I226OpwX/Cd6fHQlXXWd94EP2Li9Ng1qtH4qb/zv+8uHR0vnK2Mk2/caKP/WhK/NLwyLnwqY1VHr4VHnx4fX2tIbMeQPWHo734YK7Yk1jy/PtTWjos1mxJbPagw7B87Nr6xPrHw8aTsvact7luVWGPBCTvSkYo/fjGxcdWPuDNzK+KFrYld6b3VXfrFPXH5nxLrfum8m/bBmNizLbGJFf398vvHxF83JjZq3HA/NT06zmrImM7lOR9n01w982W23El3y9+Lz+o7+c9vu14S+/z+7tg0LbEDIz8Nx64Mi+muxKY+sSfs++Ku2NCZ2Pb2+rCl+854Q3Nix8sKw19WlcY/672XFkzKfvPi0LhhTWIL9vXYiIavx/PrEru1aYY7WDw4PrM5sWU/73DLbrg93qK7zF5/ztXNHBhTO/WZtn7+74cGxL0vJ6b3e87BGTRLz0yZp7Tg0QR6QC/STV4z7Eo7y++LGWgW+TnwPD03/8wZDddDY3nfWK33fmv13rC46itxsO6yc9eSUFJ8U/z8cGK7VheGky294+PnE6u6PCE7pKIoDv5yqx2c1WNtC2+MS4tbre6lh9w9Ewpi438SW/Nhu7OB/wufv53Yy7e/5050fBbidu2uvK/nfbxL8/PMkRlKCx5NoAdp2aNp9CyfefyG1/CEvBHwBXqULgOaZM/ad2DXzEyzC8yNd+rd+ffOf+G18Fz9P8O2mNgbHzwVBlx9J2wY0GqnvlcUFpz9RxgwrdXKj1Zmhw/pDuU7Wu3J0h57/+LhULGr1dpLf+qWN/8tHKrRHQ9udv++lgtTylpNz3M8l2dqZp7ZMTdpwaMJ9CBde/SNtuVLjz/xppjhYQfcgCviS4AtMEAsCHAA/8mHAQ+ia+k7oG00Iq0EdMKMNev8nDmXzpc/2/ODngmv3NIads3bZH+83jvMu7AhzKhts51fm5z9LL0mbP1Bu/V8402791RDSPt2+2/bFHfmnWfD5YVtpu85vs93NSfHvJiVtODRBHqQxj1aR+fyq8e3eFa88XAH5oiFHibCQ3HXjxd/YS9MFVsDXIV/4mCAgbBHDArwB0/L2wFf4w/5JOAR9CWdBTTGTrSb/F44u+6QP/+mY31DV6/7w7Ap7VbXP53td+X74e3HO+1I5xHrHFQazizsNP2743N8RrNxzIj5SAsOTaAH6d2jezQvH3v8jJfFJA+b4JKY6mErXBXvPdyH+coWT8aQL+SJciVHpsB+ZUAO/sNd8TcHe+GZuJaDabBBjMjBB7wlj+XwF3qULnNokr1pfzl2x510txz3mr1kaK7uZFOu8dt7TD/zf/O7ZuCYBXPQ/h06QAPSu0P3aF6e9ngbX4tVHmbBK3HXw1/Yq9zw5AfZoUzzZBu5pvz05CgZSpbq9xS/k3v6TIrPkDn6borvwnI9M8Uz4aLeleJdcEVnSHGGvBePVqY4G5rVmVOcmX3qLinuwl11R+OO/OTO/K6ZOPbNTDQrh9aZlWbo8DYz1Gw9/GK2mrmHy8xcu/BkDLvQjjwZyY60O09+szvt1NMV2Ck9Qrt27JrMlwYcGiBvpQ2HNsgxacahGTJBWnJoCaZKYw6NwSFpz6E9/CpNOjSJlqVVh1bZM3fjXsyAvTIH/h1N8xl5weFnvCCPOPiFR+QdD6PxjjzlyR48Ja95chSvyYOeHoAH5U1PR8Gb8qynD+FZOpS87PAyfUced3icriHvO7xPhosJDiaQh2KFgxXkiRjiYAgMFlscbIFVYo6DOfiYO3B+NM7+2B37R7togNngW+bD92AW3xUDHYyGgWKjI4dgo5jpyVeYKZZ6ugIsFWM9XQfGir2eHgZ7xWRP54PJ9Dux2sFqupUY7mA4nUVsd7Cd/BfzHcwnP5UFjiwgc5QRjoyAzZyPs8EtdsNe8DS6RJPoPe/JHflscvAIPTAnWMyseB7ZwzOVcY58JeOUfZ7eQPYpEz0diExUVno6HFmpDPX0SzKUDqtsdWQr/VGZ68hcepmy2JHFdBxltCOj6QjKbkd2k6u8m/eSP8yaOcNmdJbXmLiFx/AXnoYv+Bq9w1Y0jxbIFfTAzMhR5sZ76Aq8S13F04HoKuownj5Hh1G38fRRuo06j6cr03noxepCni5E31RH8nQkupu6k6c70X14Ls+kLzA75kauohV0QubgEzwCj2EEfIBV8BFe4WOyAS+jcXIRnaMFegB6YH50HWbI++lwnEHd0tNH6ZbqnJ4+Teek46uLeroo3Vkd1dNR6aF8h8/T45gFc6D7sG92TUdA32ib/MTb+JpsgWswDe7CdNgLk8gzuIRfyXI8i67pLmgbLdDP0AOzpHcyT85Fh+Zs6vye/wPQ+en+/M3v9Gjuxr3ooeyMfdHd0CWapOPgQzxI/sMg+EM2wl/YS26QPWQHTCV34Sq8oXPAHHxJx8KbaJkeiZ7RAv0YPTBXuj6zpSOjGzRDr8Qb+IL+BQvgAN0EDsJAcpsMgP9kGvlHrsF7sh/mw0J6DzyEGfQ8uIHP6LJ4ja4HX2ALPQi2wlU6ArlCppCfZCoZSrbQJ8gXuEuXgr3/B29YH9Y=",
        "encoding": "base64",
        "path": [
         "origins",
         "compressed_buffer"
        ]
       },
       {
        "data": "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",
        "encoding": "base64",
        "path": [
         "vectors",
         "compressed_buffer"
        ]
       }
      ],
      "model_module": "k3d",
      "model_module_version": "2.7.0",
      "model_name": "ObjectModel",
      "state": {
       "_view_count": null,
       "_view_module": null,
       "_view_module_version": "",
       "_view_name": null,
       "colors": {
        "dtype": "uint32",
        "shape": [
         316,
         2
        ]
       },
       "compression_level": 0,
       "head_color": 255,
       "head_size": 30,
       "id": 140588994900048,
       "label_size": 1,
       "labels": [],
       "line_width": 0.01,
       "model_matrix": {
        "dtype": "float32",
        "shape": [
         4,
         4
        ]
       },
       "name": null,
       "origin_color": 255,
       "origins": {
        "dtype": "float32",
        "shape": [
         316,
         3
        ]
       },
       "type": "Vectors",
       "use_head": true,
       "vectors": {
        "dtype": "float32",
        "shape": [
         316,
         3
        ]
       },
       "visible": true
      }
     },
     "ed0e751d5c4b4f0d89aab990bc47d75c": {
      "model_module": "@jupyter-widgets/base",
      "model_module_version": "1.2.0",
      "model_name": "LayoutModel",
      "state": {}
     },
     "ed75f62662b543a8b932f554cf48ae22": {
      "model_module": "@jupyter-widgets/output",
      "model_module_version": "1.0.0",
      "model_name": "OutputModel",
      "state": {
       "layout": "IPY_MODEL_11e90551d9cb4b6ca51e0c35bb3469b0",
       "outputs": [
        {
         "data": {
          "application/vnd.jupyter.widget-view+json": {
           "model_id": "3348077157db4c2a92e663f6551430e9",
           "version_major": 2,
           "version_minor": 0
          },
          "text/plain": "Plot(antialias=3, axes=['x', 'y', 'z'], axes_helper=1.0, background_color=16777215, camera=[4.5, 4.5, 4.5, 0.0…"
         },
         "metadata": {},
         "output_type": "display_data"
        }
       ]
      }
     },
     "ee4b1f0375ae47cf81acaf49585dac8e": {
      "model_module": "@jupyter-widgets/output",
      "model_module_version": "1.0.0",
      "model_name": "OutputModel",
      "state": {
       "layout": "IPY_MODEL_b3bb9d7635ea48fd9bb6891583ffdb89",
       "outputs": [
        {
         "data": {
          "application/vnd.jupyter.widget-view+json": {
           "model_id": "fc95cd19fc984e09b6c2f245d159052f",
           "version_major": 2,
           "version_minor": 0
          },
          "text/plain": "Plot(antialias=3, axes=['x', 'y', 'z'], axes_helper=1.0, background_color=16777215, camera=[4.5, 4.5, 4.5, 0.0…"
         },
         "metadata": {},
         "output_type": "display_data"
        }
       ]
      }
     },
     "eed680773148487ea5891715656abcf6": {
      "buffers": [
       {
        "data": "eNqt1ctLlFEcxvHa9hdIgeOo4y0vGWZkRYukWpWhVIskISJpYVdvqZmOkzoz72RXiO5FN8uI7pSboBu2KIMIyugi1aY/oE1QPOd8D7yviwlq8Vl0Oud3fs97zhzjKxdPi/+R2lZi7MuV5OGQDJ4y9p3PkuiVHNl7vUA67pTLztElsvnpGlk9vlvmTIxIxuRHiXz/5cM482ped8qmZ+uEuuzDvvRBX/RJ3+QgV3zVIoO820uM/5x37sSwpMvLPNZR55/z2lxT8xYb/bmSLm/PSL503i6TXaOLpfFJndSOt0rF+8uSMflBpuY148xjHXWoyz5/ndfmIBd5EzVGamexMZAjLu/JTOk/F5K+y9nSM5InnbdKpfnhQtnyuEbWvtwmC96dkZlf3kgwL+PMYx11qMs+7Esf9EWfLq/NkdpRLORM1lVJqnm2EcgbP54pA2dDErsQlt6rEem+USTt9+ZJ06MVsuHFRln6dkiyPj2X8LefPowzj3XUoS77sC990Bd9Jg9lictrc5HTW18pqfZCYzBHkgezJH4sJNwXvmfsUrb0XotI180SaXlQJZxP3atm4T2a9fWHD+PMYx11qMs+sYthcedq+6JP+iYHuVzOzeXGnnyDvAfCkjgSEpfb3pvgeUeHc4VzaLs/X+ifdzf0ecyHceaxjjrUDZ4nfdAXfdK3y9tVYJCztcjozTPsPfC8bGE99yRxNCQu/4lMGTgdkuD583trv1shDWMNPowzj3XUoS77uHy2D/ryhsKG7dvdZ3K1FImXCot7v2MRg/fNficvkW3Yeqzz9ltDAdTlO3cWiNdQ4eO+P/tQN1iPffh/+rB9uX3omxw2F+u5/25dX8SIWvw7lgbz+J4dhUZTqSRqq2RXzgof915uLTVYR53g/sFzCe4f6Jtc5OT+kH9K3z1pdOcbnBO/D5uTdyJaVS31M5b5MO7VVwrrXB3qsk+6fgLfiVzufbXvu/udk5f1e/ON7gDeN3tPU21Fhv17x/vAuXaVLZe66dU+jDMv1VhuUIe67MO+wX7ok75tDnLxvv8G7Ku15g==",
        "encoding": "base64",
        "path": [
         "colors",
         "compressed_buffer"
        ]
       },
       {
        "data": "eNpjYGiwZ8AAxIsBAF7EAv0=",
        "encoding": "base64",
        "path": [
         "model_matrix",
         "compressed_buffer"
        ]
       },
       {
        "data": "eNoVlndYz90bx5OdvqXMsj0Kj5LZ074/n0NGGsh8kIzIyGj4JSO0RZukMkqFKJJS8r0/50g0Vd+GUtIgCdWjPX/573Wd6/zxfr2vc933eX8ikE17E43BuwOolLMXu/xaQPHaIGqh5MyMdr5BIe4afa52hGkgQ9mA67RXcyubOA1x66xg2rR8BdvukIa3XIMpzNVg85VfYnZpML06agqLSknFFQtvUI+SESw8OhU1g2/QzZO+UBFNwfszQ+hh/TTKT01C1Q8hNGhIIC23f4Qj396kRvYbKSkKxplfQ6npQLcw0sgK/UeG04xfUwXp3B/ihVnh9E6IPudjulL/D4d1D+Mtr0iD1qhw+uPbNr5+2DaQ1IfSk8nX+PBt7rAj8yY9d1HMV8tdg7PlIfSkVD0v1RQGobNDaHrMSJJgfheibtyg4eIpJG7DPVimcYPuf6dBohfGwPYPwbQ2YwVZmfQQagcdF73cSorXx4PVoPvB6CNkQXIilPlfp4FezkT90wswHOxqR4IXsdv7HGyMgmj97UByuj4Udh0OoMMlAUxeJR2Lk89S0yJPVnanEuM3XaCvX5xjx9NqMPH5RTo66xDLHFaNakGXqEfxZqY18ROWznShpiU8K3n8EQ1dXKhlpjq7PKocT5S40LRHSux17gfsU3OlS84PZ/ZrSjHwmiuNtq+hJ9cUYek0N+qTlEJd03PRQOJGP8f50Y1rBYxGd5p4yZQWXYlG10oPusawTej8YY9KQ7xokMYk4UFOvVj1nRe91qXHpYwQGfzhr6uH8vLWf0P64B3fns18VowbTKvyoGeKA/lNzyJBoO5UelcaP/RbIpgUu9E9iXW87yUxuM5wo6UOI8g+xXQQrrvSXldlsoW9hSfqrrTDcyEZU5UFrwZdVl4iRGFpHpBBxwsntxA5lULwG3Q/vu0wuXSmBIICL9EmnfMkxroMchMv0sfyXsR7VjFkDXZYPTqQ7Gt9CS/fnaWK8wLYcfUPqIGbaMdMT3bUthlHZm6jDivOssqnbbj63A6qYWzNErNa0W3BLhpovok5hvyHLXoWdK05x05fbMalAxY0bbUas4n6hTujdtPpGpPZ6Ec/0GyjJdUaNYw1f23AG7P20EmRVfS8xhfUVt9Lv49NpmKvCoz03UerzXzoqas5uNXCivaHGtGFhfF4NeggvZ/TJKxVdcZ1dYfo3M8KQqxPtXiX+xFavFiP8+/bY/CHvc4P4Q+HGYPw5RCVlG7kHWbfhGPBB2lJhj9/bFgqvN9jRef1pvBdl3LgY8A+unZGDf9yTik80dhLs5WHk8tOlTDzrz3UdoYSkb1TDT8GM2dOVSdnCupg/qDLEkWeZGbVw5p+CzpcajOJaPwOG3QtaMQ3a7JT7hfIzd9FHQvOkrevmmCU0w56co8nqen6DrPebqMN+wJIbU4hyGRuon85+rMqjTrc2qpGRxz2YNom3XigdxEdn+7ECqQH0Np/KW3HAyzpXD8OUV1OX+FG1pDbiyPma1LHNAO2sr0bves06ZyEv9nrvk5c5vEPHXJ7Ivvt045nF2nRgEvSzFz+N9p1adHKlAqa5PQTTbq1qfrORPpgdB12GutSxwZvqusrQQ0ZfZoUt4pODkrCQC2gj3S/CzNl3HBxOE83jZQVzrt8Fl+xWUFPjNXjLN/cNvjDFnYD3JvU4yC5xdPbgWZ82b5H0KEDlN705SedzIYHsvq0xS6Zl+EqQcFMlzb8W8Ufv14Pz3u06dSooUSh9CeM6NaiNuGTiFt9C2gOZo4KXEBmf2yFqe7/UOIO5OzGDrhbo0mdHcyJZkQXLFXVpGr7D5K+1B5Qmr188G2fIfc8e8H2ylK64LEHGfOlA8o6FtG4JH8SdLcaRrWrUfU3fmyCQQOuthlOFZ66M4fCHpyxbjRN406zS0oD2BQ1hrKFVkzWoh+9FET0mcoG1iTpxTl9Inpjuj6rmtaD92LlqPqE+UxhXheaGMrTByMnMJV77aj0RZ62t0mxlRN+Y/mdsXQLK6ONj3+iqY8CHXf9KX3VV4fWGYo0/ZAXVTMswQqr8VTDltCqWWmo6jqRFolrhfmhV9B0tBK982WoYHv5m3jI0inUVEGf6yv8bPCH59zu4YrNr8JbGSVa2b+O3xIgBhe3ifT2yqu8nEEZ9B0YTyPTE/lln+tB+60iLT9ZwV/km+HWYAY2TZqYm7fBpcFsIDORZIR0wrA6earcPZ+o1nfD0RXyVKNRn5g974XP9+VoXOUGstyoH0y6RDSmyIqoPhqAPbIiuqnkNKkeJ8UdvD2G0lZ3onOhFxpXjKbew/wJ79oAsQeG0zVyfizath4LL6QJ/u1ubHJpKzqefC0kiv/Hcivb8N2Rt4LF3X3sk2UrZuZmCo5+Zkw+4j+M2Jst+LnpssDvzXgwOEewOTuXRcg34dHYXGGJ3TjGsn+gc2aeECrpp3PSG3DKhHxB+XUJnWzzBZ8mFAiWKXH0WsYnlH4vEd6nulOdZAlGxZQIu731aawF4ie/cqF09keh9+s1HJ9TJShG/sDn5V3iHyu/CFt1gatIUYU/jGHtXNzVByCTXSUEpK7mD9XkQ6VPudD88DI/6nsNGESXCGlfn/J5lY0wMk8ibD9UxielNsPJpwVCorcUuRryG0Tj8oXnx8cTw+NtYJyRJ1zYMY+IUtohOzpXiDPWI0W0A6T8Bx1XrCdPX3VCy/ZsQUz2kw3pXbCYZQqW6x1JzZluaNn5Vnii5U7Kojph6+7XQqSxH3G+8x30rNKEZHNf9l9MJf6nZiFI6buxaLs6rB51SBCvOsWmldWgUeUx4a+/9rKlaz+jrJ2t0C9ryhIVPmFIm70gGtBmncsqcEHrKeF0mwozdixHHeYomP1SYMm3PqBWqJOwvrCHLjlagkoJZ4UjuRK6KFCCmrrOgnl+LPV3e4+z9S4K/h9daHjzO4ywdhFY9j/UYkwadnq4C1na7wU/pzBUtfAWDnu/RAW7YbhMJUBIn8pz1+1d4Q8f//2Lkz6VAzGm3oL7AcKnzfwMj865C7FiDz74/hdw3OciaFTG8TakHrZrXxRwcHkHP6mHBk1noaClj5/yth7I47NCUZkieZBbD8VBTkJnuirZW1cPV1IchbEvdMhjlW+w49spwfyZKVFL+AZXv9gLVil7iX5sA5zeZSsU5p0i1n3fYS09Jkw/40aCDzVCeJ21kO3jS45/rIXqr7uE0WE+7OG1TJyZ4Y3F3q5MJz4TezOuo+M3e3bi+RuUKwjDLemWLLKX4kK9u2j4yJitmomonnEPk8O0mEJ3Gqakx6B9wBx21PAlFjg9RBfvsWxGZgquUHmMbaIuWrvjBe7qjsfeUQV0/Yck9Jv3DC1GPKArehKxoSwJNfsv0Cf9T3GDyUu8Fr2Y+s+IRZlVFPWiBGHzpyB8mJCNr+u34t+rasWW02vwjbUeN122CP6wy9pabntdI+SpZqO/jB4/1KIODBQpbglz5fNoBdzUe4nizFh+ApRClyQJe1ZK+AtHJTBb5Rmq/ermHd/ng1l7PNr+q0Bsxr0HhRmPUXeNClEenQf7Tj7EhwbapDkiF0qTYlDWwIQ4tOTCPwn38MSaPURO6T0Yz7yLjy0dyAf1Apj7KAxlX7uSkMcSUAq+jp/zfci9wT1otNMbpSN9mHJ+Hm5eHA7lQa5s75Ac1JSNAosuezZ3+Vvsi4+CmQWWbOyi1/hE5x6EJhqzG7qDfzCjCLC6q8Xc5ojRzu4O2AXNYdL30zC94hZ4DvbcG/ASPT3C4bpMF43PSMUm+zDYP6SAWqun4vL0ULDpuE/Lg1MwpjgU9D9foMvMX2CGSzh0zVtMl9x5hj2hEZB2QizMCLiNySrxMP6+OtZtG4JEMwu0t3Bc+4IG+MOdNrXc1dQuCBweBxtG6/Gaz37CfqUIyA535b121oLmunC4khPLa3R9BKsXoTBnjYSPKSiBxqeh8Lylm5+6UgKVB8Mgf6cCaazOh6PnwuHHOhXScug9hBbdguiV2kT7dR4IR+/AsdUm5FtHHiwwjADRlj3EfEE+6Gjeg6m2DiTuQiGUxEbBXzmupDSrGD4NjQJW6kN+SUrBqCMMxtn6snDrBvzcdYDr2u3GerS+4+l1J7j7nqdYZsxXnGFix3Hb9jK3C7U4+7Mdt2eZKfNfVo0ed+24tCk6rCa8CqW07bjjY1TZvMuf8Ea9LSczRJFNKqzEY+9suYG2Hmq2vRKP/LbldjZLqHJ/BQ4LtuP0f8bSydYV+HOiA3ez2oVGnyxHBwNHbt3uf2jgDAk2hZznDDYPzsTSZIw74sbZrYlAr4Xzsf2nDxexzoi7mhwOf1h3egtnpd8AFivcuBOLVvCd4na4uP88pz3Jk7+6vx3mzHLkiufH84fP/QYy3IFb4lvCL7jTDEGX7TjJvH4+dvsv2NVgy8FvRfIl6QfYoC1XVKVKmh81QsMnW87jgw7x1GqE2YvsuBeVpuTmwUaQvmHH5TfvJXnbfsCJYjtOTfF/xHvBL/iXs+OMb7kR0eVmmKV9ghv72JdEyTQBn3mAUzT2Y4Vb27FMg3IWuu7sqH0Pfl/9lrMFRzbueRfqx2dyOmP2s7HiDnSyy+LyasyYr1k7Hr6ZxQVk6LLLG9vQMDiL+ztxLlsW0Yqlg+dzH4xjOKMVndKyuLDVA3RS7G+0HZvNbTEspWoyv1H9RTYHq+JpS2QLlrbmcL/0PKjZs59oTt5zreMM6LSManzgIOH0ysqEw5tfoZlnOTf0wQdUVtZA5SW1nEfGOq77sSn84RF5PVzNz2xwPlPObWlby4e0/4Ioawl3P8Kbjw3vAi+t95xHcgJvZtUL537mcGcmlPPKyb2wICGbOyGRIq+29ILCmGxOLX48CanoAePkLE7l5jyi49wDgdeyuKoAPdK6tQee+WdxkSHrica5HtgQlMXpx+8nL0S9EHI0i9tc6EgmqfTBnJhM7uA5d2IyvR/W6b/l5l72IxbenRAwlXIL5/qzkFmduE5mFL91qgeTkpIS0q3G8DbDnZh80wAGF8nykflWrNVkAD23ifhN0RvY4W/9WOgs4jd66rMT9/px6BURn2g/nzkd6MfmEBEvd2gCi1Tqx4FkEb973xAWfLsP/f8T8TNel9Olz3qxfacc3yVOoPFh3ag5RZ7Pi7pMO9e3YcWxsby5/0q6oPArpooVeTWjL0LtdTHqW0zkB751opbhP+i3Rpk3LTDhhiyUgz/8bJM0P1PhKUzZNZHnp67nO9ZUgU6aIv9ppC9vfqEFvh8ZyxtpJ/GksRN2TpbnV96p5NfN74XV/8rxtSHS5EBsH3Q0ifg4h4nEbn8/WD4X8QmWf5OilH7QDBbxZdsNiHR5P0z1EvG2ezaStOp+eHhWxFf87wC5/bsfRm8W8QdvOhEZrQEIyJfl2yw8SHZPP5RajuFDrfyJ7K928B82iv8/rIzaJA==",
        "encoding": "base64",
        "path": [
         "origins",
         "compressed_buffer"
        ]
       },
       {
        "data": "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",
        "encoding": "base64",
        "path": [
         "vectors",
         "compressed_buffer"
        ]
       }
      ],
      "model_module": "k3d",
      "model_module_version": "2.7.0",
      "model_name": "ObjectModel",
      "state": {
       "_view_count": null,
       "_view_module": null,
       "_view_module_version": "",
       "_view_name": null,
       "colors": {
        "dtype": "uint32",
        "shape": [
         360,
         2
        ]
       },
       "compression_level": 0,
       "head_color": 255,
       "head_size": 30,
       "id": 140588994710672,
       "label_size": 1,
       "labels": [],
       "line_width": 0.01,
       "model_matrix": {
        "dtype": "float32",
        "shape": [
         4,
         4
        ]
       },
       "name": null,
       "origin_color": 255,
       "origins": {
        "dtype": "float32",
        "shape": [
         360,
         3
        ]
       },
       "type": "Vectors",
       "use_head": true,
       "vectors": {
        "dtype": "float32",
        "shape": [
         360,
         3
        ]
       },
       "visible": true
      }
     },
     "ef66f2dcf8f4499f9cd713ea1834b33a": {
      "model_module": "@jupyter-widgets/output",
      "model_module_version": "1.0.0",
      "model_name": "OutputModel",
      "state": {
       "layout": "IPY_MODEL_05c75eee92c14f28a0e38c2602b74086",
       "outputs": [
        {
         "data": {
          "application/vnd.jupyter.widget-view+json": {
           "model_id": "154befb9bb11468c8a86ba61c5331ab2",
           "version_major": 2,
           "version_minor": 0
          },
          "text/plain": "Plot(antialias=3, axes=['x', 'y', 'z'], axes_helper=1.0, background_color=16777215, camera=[4.5, 4.5, 4.5, 0.0…"
         },
         "metadata": {},
         "output_type": "display_data"
        }
       ]
      }
     },
     "f09454e2390345ba9a2958efdcf52af7": {
      "model_module": "@jupyter-widgets/output",
      "model_module_version": "1.0.0",
      "model_name": "OutputModel",
      "state": {
       "layout": "IPY_MODEL_b1e6f7857da94baf97f46b04310361ec",
       "outputs": [
        {
         "data": {
          "application/vnd.jupyter.widget-view+json": {
           "model_id": "23d3f4db9cae440e9e510c4fc7f4d46f",
           "version_major": 2,
           "version_minor": 0
          },
          "text/plain": "Plot(antialias=3, axes=['x', 'y', 'z'], axes_helper=1.0, background_color=16777215, camera=[4.5, 4.5, 4.5, 0.0…"
         },
         "metadata": {},
         "output_type": "display_data"
        }
       ]
      }
     },
     "f0a853c484f34ebfac918d842ee0e2ab": {
      "model_module": "@jupyter-widgets/output",
      "model_module_version": "1.0.0",
      "model_name": "OutputModel",
      "state": {
       "layout": "IPY_MODEL_6710b5fd96f542488078e1f08db947d3",
       "outputs": [
        {
         "data": {
          "application/vnd.jupyter.widget-view+json": {
           "model_id": "8c00285e719643c79acc997e0443a500",
           "version_major": 2,
           "version_minor": 0
          },
          "text/plain": "Plot(antialias=3, axes=['x', 'y', 'z'], axes_helper=1.0, background_color=16777215, camera=[4.5, 4.5, 4.5, 0.0…"
         },
         "metadata": {},
         "output_type": "display_data"
        }
       ]
      }
     },
     "f37f6410958f4ea89d4ba523db51053b": {
      "model_module": "@jupyter-widgets/base",
      "model_module_version": "1.2.0",
      "model_name": "LayoutModel",
      "state": {}
     },
     "f4098c39f5a945c8820082e5fdb92bfa": {
      "model_module": "k3d",
      "model_module_version": "2.7.0",
      "model_name": "PlotModel",
      "state": {
       "_backend_version": "2.7.0",
       "_dom_classes": [],
       "_view_count": null,
       "antialias": 3,
       "axes": [
        "x",
        "y",
        "z"
       ],
       "axes_helper": 1,
       "background_color": 16777215,
       "camera": [
        172.06643792849223,
        -258.1712740192032,
        10.206643792849373,
        0,
        -0.07161712646484375,
        -7,
        0,
        0,
        1
       ],
       "camera_auto_fit": true,
       "camera_fov": 60,
       "camera_no_pan": false,
       "camera_no_rotate": false,
       "camera_no_zoom": false,
       "clipping_planes": [],
       "colorbar_object_id": -1,
       "fps_meter": false,
       "grid": [
        -1,
        -1,
        -1,
        1,
        1,
        1
       ],
       "grid_auto_fit": true,
       "grid_visible": true,
       "height": 512,
       "layout": "IPY_MODEL_e7c199958651457596d848bce75e4b61",
       "lighting": 1.5,
       "menu_visibility": true,
       "name": null,
       "object_ids": [
        140201469803600,
        140201517984912
       ],
       "rendering_steps": 1,
       "screenshot": "",
       "screenshot_scale": 2,
       "time": 0,
       "voxel_paint_color": 0
      }
     },
     "f45c1fe42e3f4faca89bc9c7f90cb3f2": {
      "model_module": "k3d",
      "model_module_version": "2.7.0",
      "model_name": "PlotModel",
      "state": {
       "_backend_version": "2.7.0",
       "_dom_classes": [],
       "_view_count": null,
       "antialias": 3,
       "axes": [
        "x",
        "y",
        "z"
       ],
       "axes_helper": 1,
       "background_color": 16777215,
       "camera": [
        178.34799599823646,
        -268.14699363413894,
        12.7347995741193,
        -0.24999985471367836,
        -0.24999985471367836,
        -5.125000011175871,
        0,
        0,
        1
       ],
       "camera_auto_fit": true,
       "camera_fov": 60,
       "camera_no_pan": false,
       "camera_no_rotate": false,
       "camera_no_zoom": false,
       "clipping_planes": [],
       "colorbar_object_id": -1,
       "fps_meter": false,
       "grid": [
        -1,
        -1,
        -1,
        1,
        1,
        1
       ],
       "grid_auto_fit": true,
       "grid_visible": true,
       "height": 512,
       "layout": "IPY_MODEL_2ce6e26310b34c179df2ad51a354eb3d",
       "lighting": 1.5,
       "menu_visibility": true,
       "name": null,
       "object_ids": [
        140201425806928
       ],
       "rendering_steps": 1,
       "screenshot": "",
       "screenshot_scale": 2,
       "time": 0,
       "voxel_paint_color": 0
      }
     },
     "f91aaf7eec5a4e6490cd17698dbf8c75": {
      "buffers": [
       {
        "data": "eNoDAAAAAAE=",
        "encoding": "base64",
        "path": [
         "colors",
         "compressed_buffer"
        ]
       },
       {
        "data": "eNpjYGiwZ8AAxIsBAF7EAv0=",
        "encoding": "base64",
        "path": [
         "model_matrix",
         "compressed_buffer"
        ]
       },
       {
        "data": "eNpN17Fx4zAURVFlqAQdoAAAvxJ04A64FWz44y1FVgmoaE3JlE6kF4j2PTMYDXi75fftz9/H7fbvfrs19ted3fnO+Oxkl5/P43fv789OdmP//P3P7nxn8Cx7s8v87Pj5XL+7sgv77Fn0LHoWPYueRc+iZ9Gz6Hk3sIN9fgbNQXPQHDQHzUFz0Bw0B81Bc9AcNAfNQfO1l/vxar36K/2V/kp/pb/SX+mv9Ff6K/2V/kp/pb/SX+m/9nleCpaCpWApWAqWgqVgKVgKloKlYClYCpaCpWApWK59uB+vvst17WBXdmGfn9dOdmN/3dmd7wyeZW/26Xo3sIO92MdnP39X8vtjTIyJMTEmxsSYGBNjYkyMiTExJsbEmBgTY2JMjHkZ3Y9X0+VteBvehrfhbXgb3oa34W14G96Gt+FteBvehrfhbXgb3ob37Li8117sYFd2YZ/eaye7sb/u7M53Bs+yN/v0vhvYwV7s47Of3vd+vP7329vxdrwdb8fb8Xa8HW/H2/F2vB1vx9vxdrwdb8fb8Xa8nfM8OM+D8zw4z4PzPDjPg/M8OM+D8zw4z4PzPDjPg/M8OM+D8zw4z4PzPDjPg/M8OM+D3yu8iTfxJt7Em3gTb+JNvIk38SbexJt4E2/iTbyJN/Fq3Bg3xo1xY9wYN8aNcWPcGDfGjXFj3Bg3xo1xY9wYN67z+fc9YXJPmNwTJveEyT1hck+Y3BMm94TJPWFyT5jcEyb3hMk9YXJPmNwTJveEyT0BS8VSsVQsFUvFUrFULBVLxVKxVCwVS8VSsVQslf6gP+gP+oP+oD/oD/qD/qA/6A/6g/6gP+gP+m1eNC+aF82L5kXzonnRvGheNC+aF82L5kWzPQc9Bz0HPQc9Bz0HPQc9Bz0HPfz95+/L+z108h46eQ+dvIdO3kOf+z84AO2e",
        "encoding": "base64",
        "path": [
         "positions",
         "compressed_buffer"
        ]
       }
      ],
      "model_module": "k3d",
      "model_module_version": "2.7.0",
      "model_name": "ObjectModel",
      "state": {
       "_view_count": null,
       "_view_module": null,
       "_view_module_version": "",
       "_view_name": null,
       "color": 10075135,
       "colors": {
        "dtype": "uint32",
        "shape": [
         0
        ]
       },
       "compression_level": 0,
       "id": 140588994926224,
       "mesh_detail": 2,
       "model_matrix": {
        "dtype": "float32",
        "shape": [
         4,
         4
        ]
       },
       "name": null,
       "opacity": 1,
       "point_size": 0.1,
       "positions": {
        "dtype": "float32",
        "shape": [
         316,
         3
        ]
       },
       "shader": "3dSpecular",
       "type": "Points",
       "visible": true
      }
     },
     "f9b0b86d427a4591aa6985a64f233b02": {
      "model_module": "@jupyter-widgets/base",
      "model_module_version": "1.2.0",
      "model_name": "LayoutModel",
      "state": {}
     },
     "fc95cd19fc984e09b6c2f245d159052f": {
      "model_module": "k3d",
      "model_module_version": "2.7.0",
      "model_name": "PlotModel",
      "state": {
       "_backend_version": "2.7.0",
       "_dom_classes": [],
       "_view_count": null,
       "antialias": 3,
       "axes": [
        "x",
        "y",
        "z"
       ],
       "axes_helper": 1,
       "background_color": 16777215,
       "camera": [
        170.8545803372398,
        -256.21837486987334,
        14.001339429063911,
        0.0156402587890625,
        0.040035247802734375,
        -3.082554578781128,
        0,
        0,
        1
       ],
       "camera_auto_fit": true,
       "camera_fov": 60,
       "camera_no_pan": false,
       "camera_no_rotate": false,
       "camera_no_zoom": false,
       "clipping_planes": [],
       "colorbar_object_id": -1,
       "fps_meter": false,
       "grid": [
        -1,
        -1,
        -1,
        1,
        1,
        1
       ],
       "grid_auto_fit": true,
       "grid_visible": true,
       "height": 512,
       "layout": "IPY_MODEL_75d10ce597724583afc613f2175dc080",
       "lighting": 1.5,
       "menu_visibility": true,
       "name": null,
       "object_ids": [
        140200609455760,
        140200946469520,
        140200476478800,
        140200946469328
       ],
       "rendering_steps": 1,
       "screenshot": "",
       "screenshot_scale": 2,
       "time": 0,
       "voxel_paint_color": 0
      }
     },
     "ff85f7cb4d614f539570fb781bb9f80a": {
      "buffers": [
       {
        "data": "eNq7PcOEwcbnOUPCOnUG/iMfGda69DF8/PCGAQB5NApc",
        "encoding": "base64",
        "path": [
         "color_map",
         "compressed_buffer"
        ]
       },
       {
        "data": "eNpjYBBzZsAA2MQ+ODIwLDiAKtZgDwBXFgQD",
        "encoding": "base64",
        "path": [
         "model_matrix",
         "compressed_buffer"
        ]
       },
       {
        "data": "eNrtwQEJAAAAAiDq/+iGpCYAAAAAAADAiwIAAHBpRUM4QQ==",
        "encoding": "base64",
        "path": [
         "voxels",
         "compressed_buffer"
        ]
       }
      ],
      "model_module": "k3d",
      "model_module_version": "2.7.0",
      "model_name": "ObjectModel",
      "state": {
       "_view_count": null,
       "_view_module": null,
       "_view_module_version": "",
       "_view_name": null,
       "color_map": {
        "dtype": "uint32",
        "shape": [
         6
        ]
       },
       "compression_level": 0,
       "id": 140200476560848,
       "model_matrix": {
        "dtype": "float32",
        "shape": [
         4,
         4
        ]
       },
       "name": null,
       "opacity": 1,
       "outlines": false,
       "outlines_color": 0,
       "type": "Voxels",
       "visible": true,
       "voxels": {
        "dtype": "uint8",
        "shape": [
         12,
         30,
         30
        ]
       },
       "wireframe": false
      }
     },
     "ffbd1ab6b7ff4b17a5f585d163310695": {
      "model_module": "k3d",
      "model_module_version": "2.7.0",
      "model_name": "PlotModel",
      "state": {
       "_backend_version": "2.7.0",
       "_dom_classes": [],
       "_view_count": null,
       "antialias": 3,
       "axes": [
        "x",
        "y",
        "z"
       ],
       "axes_helper": 1,
       "background_color": 16777215,
       "camera": [
        178.20951271487635,
        -267.6892675272504,
        12.735951223096272,
        -0.14999938197433949,
        -0.14999938197433949,
        -5.099999986588955,
        0,
        0,
        1
       ],
       "camera_auto_fit": true,
       "camera_fov": 60,
       "camera_no_pan": false,
       "camera_no_rotate": false,
       "camera_no_zoom": false,
       "clipping_planes": [],
       "colorbar_object_id": -1,
       "fps_meter": false,
       "grid": [
        -1,
        -1,
        -1,
        1,
        1,
        1
       ],
       "grid_auto_fit": true,
       "grid_visible": true,
       "height": 512,
       "layout": "IPY_MODEL_ace8dc1137b44d9c936b1028919da348",
       "lighting": 1.5,
       "menu_visibility": true,
       "name": null,
       "object_ids": [
        140278294940688
       ],
       "rendering_steps": 1,
       "screenshot": "",
       "screenshot_scale": 2,
       "time": 0,
       "voxel_paint_color": 0
      }
     }
    },
    "version_major": 2,
    "version_minor": 0
   }
  }
 },
 "nbformat": 4,
 "nbformat_minor": 2
}
